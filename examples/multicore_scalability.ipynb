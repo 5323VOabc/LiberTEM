{
 "cells": [
  {
   "cell_type": "code",
   "execution_count": 1,
   "metadata": {},
   "outputs": [],
   "source": [
    "%matplotlib nbagg"
   ]
  },
  {
   "cell_type": "code",
   "execution_count": 2,
   "metadata": {},
   "outputs": [],
   "source": [
    "import os\n",
    "os.environ[\"OMP_NUM_THREADS\"] = \"1\"\n",
    "os.environ[\"OPENBLAS_NUM_THREADS\"] = \"1\""
   ]
  },
  {
   "cell_type": "markdown",
   "metadata": {},
   "source": [
    "Hardware information:\n",
    "```\n",
    "Model name:          Intel(R) Xeon(R) CPU E3-1505M v5 @ 2.80GHz\n",
    "Thread(s) per core:  2\n",
    "Core(s) per socket:  4\n",
    "Socket(s):           1\n",
    "L1d cache:           32K\n",
    "L1i cache:           32K\n",
    "L2 cache:            256K\n",
    "L3 cache:            8192K\n",
    "```"
   ]
  },
  {
   "cell_type": "code",
   "execution_count": 42,
   "metadata": {},
   "outputs": [
    {
     "name": "stdout",
     "output_type": "stream",
     "text": [
      "blas_mkl_info:\n",
      "  NOT AVAILABLE\n",
      "blis_info:\n",
      "  NOT AVAILABLE\n",
      "openblas_info:\n",
      "    libraries = ['openblas', 'openblas']\n",
      "    library_dirs = ['/usr/lib/x86_64-linux-gnu']\n",
      "    language = c\n",
      "    define_macros = [('HAVE_CBLAS', None)]\n",
      "blas_opt_info:\n",
      "    libraries = ['openblas', 'openblas']\n",
      "    library_dirs = ['/usr/lib/x86_64-linux-gnu']\n",
      "    language = c\n",
      "    define_macros = [('HAVE_CBLAS', None)]\n",
      "lapack_mkl_info:\n",
      "  NOT AVAILABLE\n",
      "openblas_lapack_info:\n",
      "    libraries = ['openblas', 'openblas']\n",
      "    library_dirs = ['/usr/lib/x86_64-linux-gnu']\n",
      "    language = c\n",
      "    define_macros = [('HAVE_CBLAS', None)]\n",
      "lapack_opt_info:\n",
      "    libraries = ['openblas', 'openblas']\n",
      "    library_dirs = ['/usr/lib/x86_64-linux-gnu']\n",
      "    language = c\n",
      "    define_macros = [('HAVE_CBLAS', None)]\n"
     ]
    }
   ],
   "source": [
    "import numpy as np\n",
    "np.show_config()"
   ]
  },
  {
   "cell_type": "markdown",
   "metadata": {},
   "source": [
    "OpenBLAS version:\n",
    "```\n",
    "$ dpkg -l libopenblas-base\n",
    "ii  libopenblas-base:amd64   0.2.20+ds-4       amd64             Optimized BLAS (linear algebra) library (shared libra\n",
    "```"
   ]
  },
  {
   "cell_type": "code",
   "execution_count": 3,
   "metadata": {},
   "outputs": [
    {
     "name": "stderr",
     "output_type": "stream",
     "text": [
      "/home/clausen/.virtualenvs/libertem/lib/python3.6/site-packages/h5py/__init__.py:36: FutureWarning: Conversion of the second argument of issubdtype from `float` to `np.floating` is deprecated. In future, it will be treated as `np.float64 == np.dtype(float).type`.\n",
      "  from ._conv import register_converters as _register_converters\n"
     ]
    }
   ],
   "source": [
    "import gc\n",
    "import time\n",
    "import seaborn\n",
    "import pandas as pd\n",
    "import matplotlib.pyplot as plt\n",
    "from libertem.dataset.hdf5 import H5DataSet\n",
    "from libertem.dataset.hdfs import BinaryHDFSDataSet\n",
    "from libertem.executor.dask import DaskJobExecutor\n",
    "from libertem.job.masks import ApplyMasksJob"
   ]
  },
  {
   "cell_type": "code",
   "execution_count": 4,
   "metadata": {},
   "outputs": [],
   "source": [
    "def make_masks(n=5, shape=(128, 128)):\n",
    "    masks=[\n",
    "        np.random.randn(*shape)\n",
    "        for i in range(n)\n",
    "    ]\n",
    "    return masks"
   ]
  },
  {
   "cell_type": "code",
   "execution_count": 5,
   "metadata": {},
   "outputs": [],
   "source": [
    "executor = DaskJobExecutor.make_local(cluster_kwargs={\"threads_per_worker\": 1, \"n_workers\": 1})\n",
    "\n",
    "masks = make_masks(n=16)\n",
    "\n",
    "def process_with_params(num_masks, stackheight):\n",
    "    ds = BinaryHDFSDataSet(index_path=\"test/index.json\", host='localhost', port=8020, stackheight=stackheight)\n",
    "    job = ApplyMasksJob(dataset=ds, masks=masks[:num_masks])\n",
    "    for result in executor.run_job(job):\n",
    "        for tile in result:\n",
    "            pass\n",
    "    # TODO: ds.close()"
   ]
  },
  {
   "cell_type": "code",
   "execution_count": 7,
   "metadata": {},
   "outputs": [
    {
     "name": "stdout",
     "output_type": "stream",
     "text": [
      "CPU times: user 239 ms, sys: 20.6 ms, total: 259 ms\n",
      "Wall time: 1.62 s\n"
     ]
    }
   ],
   "source": [
    "%time process_with_params(num_masks=1, stackheight=8)"
   ]
  },
  {
   "cell_type": "code",
   "execution_count": 8,
   "metadata": {
    "scrolled": true
   },
   "outputs": [
    {
     "name": "stdout",
     "output_type": "stream",
     "text": [
      "{'num_masks': 1, 'n_workers': 1, 'stackheight': 4, 'time': 2.5112760066986084}\n",
      "{'num_masks': 1, 'n_workers': 1, 'stackheight': 4, 'time': 2.5613961219787598}\n",
      "{'num_masks': 1, 'n_workers': 1, 'stackheight': 4, 'time': 2.5959901809692383}\n",
      "{'num_masks': 1, 'n_workers': 1, 'stackheight': 8, 'time': 2.420463800430298}\n",
      "{'num_masks': 1, 'n_workers': 1, 'stackheight': 8, 'time': 2.3649823665618896}\n",
      "{'num_masks': 1, 'n_workers': 1, 'stackheight': 8, 'time': 2.351158618927002}\n",
      "{'num_masks': 2, 'n_workers': 1, 'stackheight': 4, 'time': 2.878171920776367}\n",
      "{'num_masks': 2, 'n_workers': 1, 'stackheight': 4, 'time': 2.8866357803344727}\n",
      "{'num_masks': 2, 'n_workers': 1, 'stackheight': 4, 'time': 2.8992886543273926}\n",
      "{'num_masks': 2, 'n_workers': 1, 'stackheight': 8, 'time': 2.6457021236419678}\n",
      "{'num_masks': 2, 'n_workers': 1, 'stackheight': 8, 'time': 2.6181726455688477}\n",
      "{'num_masks': 2, 'n_workers': 1, 'stackheight': 8, 'time': 2.6292998790740967}\n",
      "{'num_masks': 4, 'n_workers': 1, 'stackheight': 4, 'time': 3.154675006866455}\n",
      "{'num_masks': 4, 'n_workers': 1, 'stackheight': 4, 'time': 3.125880718231201}\n",
      "{'num_masks': 4, 'n_workers': 1, 'stackheight': 4, 'time': 3.1513311862945557}\n",
      "{'num_masks': 4, 'n_workers': 1, 'stackheight': 8, 'time': 2.9344844818115234}\n",
      "{'num_masks': 4, 'n_workers': 1, 'stackheight': 8, 'time': 2.944772243499756}\n",
      "{'num_masks': 4, 'n_workers': 1, 'stackheight': 8, 'time': 2.979701280593872}\n",
      "{'num_masks': 8, 'n_workers': 1, 'stackheight': 4, 'time': 4.2800562381744385}\n",
      "{'num_masks': 8, 'n_workers': 1, 'stackheight': 4, 'time': 4.176568031311035}\n",
      "{'num_masks': 8, 'n_workers': 1, 'stackheight': 4, 'time': 4.194193601608276}\n",
      "{'num_masks': 8, 'n_workers': 1, 'stackheight': 8, 'time': 3.5071680545806885}\n",
      "{'num_masks': 8, 'n_workers': 1, 'stackheight': 8, 'time': 3.4936885833740234}\n",
      "{'num_masks': 8, 'n_workers': 1, 'stackheight': 8, 'time': 3.4992153644561768}\n",
      "{'num_masks': 16, 'n_workers': 1, 'stackheight': 4, 'time': 5.806363582611084}\n",
      "{'num_masks': 16, 'n_workers': 1, 'stackheight': 4, 'time': 5.836693048477173}\n",
      "{'num_masks': 16, 'n_workers': 1, 'stackheight': 4, 'time': 5.829324960708618}\n",
      "{'num_masks': 16, 'n_workers': 1, 'stackheight': 8, 'time': 4.42797064781189}\n",
      "{'num_masks': 16, 'n_workers': 1, 'stackheight': 8, 'time': 4.427600622177124}\n",
      "{'num_masks': 16, 'n_workers': 1, 'stackheight': 8, 'time': 4.393860340118408}\n",
      "{'num_masks': 1, 'n_workers': 2, 'stackheight': 4, 'time': 1.5199766159057617}\n",
      "{'num_masks': 1, 'n_workers': 2, 'stackheight': 4, 'time': 1.4486057758331299}\n",
      "{'num_masks': 1, 'n_workers': 2, 'stackheight': 4, 'time': 1.4511222839355469}\n",
      "{'num_masks': 1, 'n_workers': 2, 'stackheight': 8, 'time': 1.3387947082519531}\n",
      "{'num_masks': 1, 'n_workers': 2, 'stackheight': 8, 'time': 1.3453285694122314}\n",
      "{'num_masks': 1, 'n_workers': 2, 'stackheight': 8, 'time': 1.3337247371673584}\n",
      "{'num_masks': 2, 'n_workers': 2, 'stackheight': 4, 'time': 1.6519839763641357}\n",
      "{'num_masks': 2, 'n_workers': 2, 'stackheight': 4, 'time': 1.6059901714324951}\n",
      "{'num_masks': 2, 'n_workers': 2, 'stackheight': 4, 'time': 1.6474547386169434}\n",
      "{'num_masks': 2, 'n_workers': 2, 'stackheight': 8, 'time': 1.4713375568389893}\n",
      "{'num_masks': 2, 'n_workers': 2, 'stackheight': 8, 'time': 1.482283115386963}\n",
      "{'num_masks': 2, 'n_workers': 2, 'stackheight': 8, 'time': 1.4740915298461914}\n",
      "{'num_masks': 4, 'n_workers': 2, 'stackheight': 4, 'time': 1.8034744262695312}\n",
      "{'num_masks': 4, 'n_workers': 2, 'stackheight': 4, 'time': 1.7805168628692627}\n",
      "{'num_masks': 4, 'n_workers': 2, 'stackheight': 4, 'time': 1.7950637340545654}\n",
      "{'num_masks': 4, 'n_workers': 2, 'stackheight': 8, 'time': 1.6159107685089111}\n",
      "{'num_masks': 4, 'n_workers': 2, 'stackheight': 8, 'time': 1.5967433452606201}\n",
      "{'num_masks': 4, 'n_workers': 2, 'stackheight': 8, 'time': 1.6501727104187012}\n",
      "{'num_masks': 8, 'n_workers': 2, 'stackheight': 4, 'time': 2.390608310699463}\n",
      "{'num_masks': 8, 'n_workers': 2, 'stackheight': 4, 'time': 2.3328161239624023}\n",
      "{'num_masks': 8, 'n_workers': 2, 'stackheight': 4, 'time': 2.408318042755127}\n",
      "{'num_masks': 8, 'n_workers': 2, 'stackheight': 8, 'time': 1.9445304870605469}\n",
      "{'num_masks': 8, 'n_workers': 2, 'stackheight': 8, 'time': 2.089545249938965}\n",
      "{'num_masks': 8, 'n_workers': 2, 'stackheight': 8, 'time': 2.0023856163024902}\n",
      "{'num_masks': 16, 'n_workers': 2, 'stackheight': 4, 'time': 3.386032819747925}\n",
      "{'num_masks': 16, 'n_workers': 2, 'stackheight': 4, 'time': 3.2985453605651855}\n",
      "{'num_masks': 16, 'n_workers': 2, 'stackheight': 4, 'time': 3.327176809310913}\n",
      "{'num_masks': 16, 'n_workers': 2, 'stackheight': 8, 'time': 2.532360315322876}\n"
     ]
    },
    {
     "name": "stderr",
     "output_type": "stream",
     "text": [
      "distributed.utils_perf - WARNING - full garbage collections took 10% CPU time recently (threshold: 10%)\n"
     ]
    },
    {
     "name": "stdout",
     "output_type": "stream",
     "text": [
      "{'num_masks': 16, 'n_workers': 2, 'stackheight': 8, 'time': 2.544952869415283}\n",
      "{'num_masks': 16, 'n_workers': 2, 'stackheight': 8, 'time': 2.5448381900787354}\n"
     ]
    },
    {
     "name": "stderr",
     "output_type": "stream",
     "text": [
      "distributed.utils_perf - WARNING - full garbage collections took 10% CPU time recently (threshold: 10%)\n",
      "distributed.utils_perf - WARNING - full garbage collections took 10% CPU time recently (threshold: 10%)\n",
      "distributed.utils_perf - WARNING - full garbage collections took 10% CPU time recently (threshold: 10%)\n"
     ]
    },
    {
     "name": "stdout",
     "output_type": "stream",
     "text": [
      "{'num_masks': 1, 'n_workers': 3, 'stackheight': 4, 'time': 1.2036759853363037}\n"
     ]
    },
    {
     "name": "stderr",
     "output_type": "stream",
     "text": [
      "distributed.utils_perf - WARNING - full garbage collections took 10% CPU time recently (threshold: 10%)\n",
      "distributed.utils_perf - WARNING - full garbage collections took 10% CPU time recently (threshold: 10%)\n"
     ]
    },
    {
     "name": "stdout",
     "output_type": "stream",
     "text": [
      "{'num_masks': 1, 'n_workers': 3, 'stackheight': 4, 'time': 1.1363344192504883}\n"
     ]
    },
    {
     "name": "stderr",
     "output_type": "stream",
     "text": [
      "distributed.utils_perf - WARNING - full garbage collections took 10% CPU time recently (threshold: 10%)\n",
      "distributed.utils_perf - WARNING - full garbage collections took 10% CPU time recently (threshold: 10%)\n"
     ]
    },
    {
     "name": "stdout",
     "output_type": "stream",
     "text": [
      "{'num_masks': 1, 'n_workers': 3, 'stackheight': 4, 'time': 1.1512782573699951}\n"
     ]
    },
    {
     "name": "stderr",
     "output_type": "stream",
     "text": [
      "distributed.utils_perf - WARNING - full garbage collections took 10% CPU time recently (threshold: 10%)\n"
     ]
    },
    {
     "name": "stdout",
     "output_type": "stream",
     "text": [
      "{'num_masks': 1, 'n_workers': 3, 'stackheight': 8, 'time': 1.1155593395233154}\n"
     ]
    },
    {
     "name": "stderr",
     "output_type": "stream",
     "text": [
      "distributed.utils_perf - WARNING - full garbage collections took 10% CPU time recently (threshold: 10%)\n"
     ]
    },
    {
     "name": "stdout",
     "output_type": "stream",
     "text": [
      "{'num_masks': 1, 'n_workers': 3, 'stackheight': 8, 'time': 1.0951638221740723}\n"
     ]
    },
    {
     "name": "stderr",
     "output_type": "stream",
     "text": [
      "distributed.utils_perf - WARNING - full garbage collections took 10% CPU time recently (threshold: 10%)\n"
     ]
    },
    {
     "name": "stdout",
     "output_type": "stream",
     "text": [
      "{'num_masks': 1, 'n_workers': 3, 'stackheight': 8, 'time': 1.1112749576568604}\n"
     ]
    },
    {
     "name": "stderr",
     "output_type": "stream",
     "text": [
      "distributed.utils_perf - WARNING - full garbage collections took 10% CPU time recently (threshold: 10%)\n",
      "distributed.utils_perf - WARNING - full garbage collections took 10% CPU time recently (threshold: 10%)\n"
     ]
    },
    {
     "name": "stdout",
     "output_type": "stream",
     "text": [
      "{'num_masks': 2, 'n_workers': 3, 'stackheight': 4, 'time': 1.2624213695526123}\n"
     ]
    },
    {
     "name": "stderr",
     "output_type": "stream",
     "text": [
      "distributed.utils_perf - WARNING - full garbage collections took 10% CPU time recently (threshold: 10%)\n",
      "distributed.utils_perf - WARNING - full garbage collections took 10% CPU time recently (threshold: 10%)\n"
     ]
    },
    {
     "name": "stdout",
     "output_type": "stream",
     "text": [
      "{'num_masks': 2, 'n_workers': 3, 'stackheight': 4, 'time': 1.3265480995178223}\n"
     ]
    },
    {
     "name": "stderr",
     "output_type": "stream",
     "text": [
      "distributed.utils_perf - WARNING - full garbage collections took 10% CPU time recently (threshold: 10%)\n",
      "distributed.utils_perf - WARNING - full garbage collections took 10% CPU time recently (threshold: 10%)\n"
     ]
    },
    {
     "name": "stdout",
     "output_type": "stream",
     "text": [
      "{'num_masks': 2, 'n_workers': 3, 'stackheight': 4, 'time': 1.3262715339660645}\n"
     ]
    },
    {
     "name": "stderr",
     "output_type": "stream",
     "text": [
      "distributed.utils_perf - WARNING - full garbage collections took 10% CPU time recently (threshold: 10%)\n"
     ]
    },
    {
     "name": "stdout",
     "output_type": "stream",
     "text": [
      "{'num_masks': 2, 'n_workers': 3, 'stackheight': 8, 'time': 1.2039587497711182}\n"
     ]
    },
    {
     "name": "stderr",
     "output_type": "stream",
     "text": [
      "distributed.utils_perf - WARNING - full garbage collections took 10% CPU time recently (threshold: 10%)\n"
     ]
    },
    {
     "name": "stdout",
     "output_type": "stream",
     "text": [
      "{'num_masks': 2, 'n_workers': 3, 'stackheight': 8, 'time': 1.2509346008300781}\n"
     ]
    },
    {
     "name": "stderr",
     "output_type": "stream",
     "text": [
      "distributed.utils_perf - WARNING - full garbage collections took 10% CPU time recently (threshold: 10%)\n"
     ]
    },
    {
     "name": "stdout",
     "output_type": "stream",
     "text": [
      "{'num_masks': 2, 'n_workers': 3, 'stackheight': 8, 'time': 1.2447514533996582}\n"
     ]
    },
    {
     "name": "stderr",
     "output_type": "stream",
     "text": [
      "distributed.utils_perf - WARNING - full garbage collections took 10% CPU time recently (threshold: 10%)\n",
      "distributed.utils_perf - WARNING - full garbage collections took 10% CPU time recently (threshold: 10%)\n"
     ]
    },
    {
     "name": "stdout",
     "output_type": "stream",
     "text": [
      "{'num_masks': 4, 'n_workers': 3, 'stackheight': 4, 'time': 1.442671298980713}\n"
     ]
    },
    {
     "name": "stderr",
     "output_type": "stream",
     "text": [
      "distributed.utils_perf - WARNING - full garbage collections took 10% CPU time recently (threshold: 10%)\n",
      "distributed.utils_perf - WARNING - full garbage collections took 10% CPU time recently (threshold: 10%)\n"
     ]
    },
    {
     "name": "stdout",
     "output_type": "stream",
     "text": [
      "{'num_masks': 4, 'n_workers': 3, 'stackheight': 4, 'time': 1.4463541507720947}\n"
     ]
    },
    {
     "name": "stderr",
     "output_type": "stream",
     "text": [
      "distributed.utils_perf - WARNING - full garbage collections took 10% CPU time recently (threshold: 10%)\n",
      "distributed.utils_perf - WARNING - full garbage collections took 10% CPU time recently (threshold: 10%)\n"
     ]
    },
    {
     "name": "stdout",
     "output_type": "stream",
     "text": [
      "{'num_masks': 4, 'n_workers': 3, 'stackheight': 4, 'time': 1.4263036251068115}\n"
     ]
    },
    {
     "name": "stderr",
     "output_type": "stream",
     "text": [
      "distributed.utils_perf - WARNING - full garbage collections took 10% CPU time recently (threshold: 10%)\n"
     ]
    },
    {
     "name": "stdout",
     "output_type": "stream",
     "text": [
      "{'num_masks': 4, 'n_workers': 3, 'stackheight': 8, 'time': 1.3725650310516357}\n"
     ]
    },
    {
     "name": "stderr",
     "output_type": "stream",
     "text": [
      "distributed.utils_perf - WARNING - full garbage collections took 10% CPU time recently (threshold: 10%)\n"
     ]
    },
    {
     "name": "stdout",
     "output_type": "stream",
     "text": [
      "{'num_masks': 4, 'n_workers': 3, 'stackheight': 8, 'time': 1.3312547206878662}\n"
     ]
    },
    {
     "name": "stderr",
     "output_type": "stream",
     "text": [
      "distributed.utils_perf - WARNING - full garbage collections took 10% CPU time recently (threshold: 10%)\n"
     ]
    },
    {
     "name": "stdout",
     "output_type": "stream",
     "text": [
      "{'num_masks': 4, 'n_workers': 3, 'stackheight': 8, 'time': 1.331780195236206}\n"
     ]
    },
    {
     "name": "stderr",
     "output_type": "stream",
     "text": [
      "distributed.utils_perf - WARNING - full garbage collections took 10% CPU time recently (threshold: 10%)\n",
      "distributed.utils_perf - WARNING - full garbage collections took 10% CPU time recently (threshold: 10%)\n"
     ]
    },
    {
     "name": "stdout",
     "output_type": "stream",
     "text": [
      "{'num_masks': 8, 'n_workers': 3, 'stackheight': 4, 'time': 1.8667521476745605}\n"
     ]
    },
    {
     "name": "stderr",
     "output_type": "stream",
     "text": [
      "distributed.utils_perf - WARNING - full garbage collections took 10% CPU time recently (threshold: 10%)\n",
      "distributed.utils_perf - WARNING - full garbage collections took 10% CPU time recently (threshold: 10%)\n"
     ]
    },
    {
     "name": "stdout",
     "output_type": "stream",
     "text": [
      "{'num_masks': 8, 'n_workers': 3, 'stackheight': 4, 'time': 1.9053680896759033}\n"
     ]
    },
    {
     "name": "stderr",
     "output_type": "stream",
     "text": [
      "distributed.utils_perf - WARNING - full garbage collections took 10% CPU time recently (threshold: 10%)\n",
      "distributed.utils_perf - WARNING - full garbage collections took 10% CPU time recently (threshold: 10%)\n"
     ]
    },
    {
     "name": "stdout",
     "output_type": "stream",
     "text": [
      "{'num_masks': 8, 'n_workers': 3, 'stackheight': 4, 'time': 1.8356788158416748}\n"
     ]
    },
    {
     "name": "stderr",
     "output_type": "stream",
     "text": [
      "distributed.utils_perf - WARNING - full garbage collections took 10% CPU time recently (threshold: 10%)\n"
     ]
    },
    {
     "name": "stdout",
     "output_type": "stream",
     "text": [
      "{'num_masks': 8, 'n_workers': 3, 'stackheight': 8, 'time': 1.5969922542572021}\n"
     ]
    },
    {
     "name": "stderr",
     "output_type": "stream",
     "text": [
      "distributed.utils_perf - WARNING - full garbage collections took 10% CPU time recently (threshold: 10%)\n"
     ]
    },
    {
     "name": "stdout",
     "output_type": "stream",
     "text": [
      "{'num_masks': 8, 'n_workers': 3, 'stackheight': 8, 'time': 1.5633680820465088}\n"
     ]
    },
    {
     "name": "stderr",
     "output_type": "stream",
     "text": [
      "distributed.utils_perf - WARNING - full garbage collections took 10% CPU time recently (threshold: 10%)\n"
     ]
    },
    {
     "name": "stdout",
     "output_type": "stream",
     "text": [
      "{'num_masks': 8, 'n_workers': 3, 'stackheight': 8, 'time': 1.5516297817230225}\n"
     ]
    },
    {
     "name": "stderr",
     "output_type": "stream",
     "text": [
      "distributed.utils_perf - WARNING - full garbage collections took 10% CPU time recently (threshold: 10%)\n",
      "distributed.utils_perf - WARNING - full garbage collections took 10% CPU time recently (threshold: 10%)\n"
     ]
    },
    {
     "name": "stdout",
     "output_type": "stream",
     "text": [
      "{'num_masks': 16, 'n_workers': 3, 'stackheight': 4, 'time': 2.595517635345459}\n"
     ]
    },
    {
     "name": "stderr",
     "output_type": "stream",
     "text": [
      "distributed.utils_perf - WARNING - full garbage collections took 10% CPU time recently (threshold: 10%)\n",
      "distributed.utils_perf - WARNING - full garbage collections took 10% CPU time recently (threshold: 10%)\n"
     ]
    },
    {
     "name": "stdout",
     "output_type": "stream",
     "text": [
      "{'num_masks': 16, 'n_workers': 3, 'stackheight': 4, 'time': 2.606764793395996}\n"
     ]
    },
    {
     "name": "stderr",
     "output_type": "stream",
     "text": [
      "distributed.utils_perf - WARNING - full garbage collections took 10% CPU time recently (threshold: 10%)\n",
      "distributed.utils_perf - WARNING - full garbage collections took 10% CPU time recently (threshold: 10%)\n"
     ]
    },
    {
     "name": "stdout",
     "output_type": "stream",
     "text": [
      "{'num_masks': 16, 'n_workers': 3, 'stackheight': 4, 'time': 2.621882915496826}\n"
     ]
    },
    {
     "name": "stderr",
     "output_type": "stream",
     "text": [
      "distributed.utils_perf - WARNING - full garbage collections took 10% CPU time recently (threshold: 10%)\n"
     ]
    },
    {
     "name": "stdout",
     "output_type": "stream",
     "text": [
      "{'num_masks': 16, 'n_workers': 3, 'stackheight': 8, 'time': 2.0675206184387207}\n"
     ]
    },
    {
     "name": "stderr",
     "output_type": "stream",
     "text": [
      "distributed.utils_perf - WARNING - full garbage collections took 10% CPU time recently (threshold: 10%)\n"
     ]
    },
    {
     "name": "stdout",
     "output_type": "stream",
     "text": [
      "{'num_masks': 16, 'n_workers': 3, 'stackheight': 8, 'time': 2.019901752471924}\n",
      "{'num_masks': 16, 'n_workers': 3, 'stackheight': 8, 'time': 2.0107345581054688}\n"
     ]
    },
    {
     "name": "stderr",
     "output_type": "stream",
     "text": [
      "distributed.utils_perf - WARNING - full garbage collections took 10% CPU time recently (threshold: 10%)\n",
      "distributed.utils_perf - WARNING - full garbage collections took 10% CPU time recently (threshold: 10%)\n",
      "distributed.utils_perf - WARNING - full garbage collections took 10% CPU time recently (threshold: 10%)\n"
     ]
    },
    {
     "name": "stdout",
     "output_type": "stream",
     "text": [
      "{'num_masks': 1, 'n_workers': 4, 'stackheight': 4, 'time': 0.9980835914611816}\n"
     ]
    },
    {
     "name": "stderr",
     "output_type": "stream",
     "text": [
      "distributed.utils_perf - WARNING - full garbage collections took 10% CPU time recently (threshold: 10%)\n",
      "distributed.utils_perf - WARNING - full garbage collections took 10% CPU time recently (threshold: 10%)\n"
     ]
    },
    {
     "name": "stdout",
     "output_type": "stream",
     "text": [
      "{'num_masks': 1, 'n_workers': 4, 'stackheight': 4, 'time': 0.9350800514221191}\n"
     ]
    },
    {
     "name": "stderr",
     "output_type": "stream",
     "text": [
      "distributed.utils_perf - WARNING - full garbage collections took 10% CPU time recently (threshold: 10%)\n",
      "distributed.utils_perf - WARNING - full garbage collections took 10% CPU time recently (threshold: 10%)\n"
     ]
    },
    {
     "name": "stdout",
     "output_type": "stream",
     "text": [
      "{'num_masks': 1, 'n_workers': 4, 'stackheight': 4, 'time': 0.8916676044464111}\n"
     ]
    },
    {
     "name": "stderr",
     "output_type": "stream",
     "text": [
      "distributed.utils_perf - WARNING - full garbage collections took 10% CPU time recently (threshold: 10%)\n"
     ]
    },
    {
     "name": "stdout",
     "output_type": "stream",
     "text": [
      "{'num_masks': 1, 'n_workers': 4, 'stackheight': 8, 'time': 0.9107894897460938}\n"
     ]
    },
    {
     "name": "stderr",
     "output_type": "stream",
     "text": [
      "distributed.utils_perf - WARNING - full garbage collections took 10% CPU time recently (threshold: 10%)\n"
     ]
    },
    {
     "name": "stdout",
     "output_type": "stream",
     "text": [
      "{'num_masks': 1, 'n_workers': 4, 'stackheight': 8, 'time': 0.9632112979888916}\n"
     ]
    },
    {
     "name": "stderr",
     "output_type": "stream",
     "text": [
      "distributed.utils_perf - WARNING - full garbage collections took 10% CPU time recently (threshold: 10%)\n"
     ]
    },
    {
     "name": "stdout",
     "output_type": "stream",
     "text": [
      "{'num_masks': 1, 'n_workers': 4, 'stackheight': 8, 'time': 0.9009594917297363}\n"
     ]
    },
    {
     "name": "stderr",
     "output_type": "stream",
     "text": [
      "distributed.utils_perf - WARNING - full garbage collections took 10% CPU time recently (threshold: 10%)\n",
      "distributed.utils_perf - WARNING - full garbage collections took 10% CPU time recently (threshold: 10%)\n"
     ]
    },
    {
     "name": "stdout",
     "output_type": "stream",
     "text": [
      "{'num_masks': 2, 'n_workers': 4, 'stackheight': 4, 'time': 1.0732672214508057}\n"
     ]
    },
    {
     "name": "stderr",
     "output_type": "stream",
     "text": [
      "distributed.utils_perf - WARNING - full garbage collections took 10% CPU time recently (threshold: 10%)\n",
      "distributed.utils_perf - WARNING - full garbage collections took 10% CPU time recently (threshold: 10%)\n"
     ]
    },
    {
     "name": "stdout",
     "output_type": "stream",
     "text": [
      "{'num_masks': 2, 'n_workers': 4, 'stackheight': 4, 'time': 1.0983057022094727}\n"
     ]
    },
    {
     "name": "stderr",
     "output_type": "stream",
     "text": [
      "distributed.utils_perf - WARNING - full garbage collections took 10% CPU time recently (threshold: 10%)\n",
      "distributed.utils_perf - WARNING - full garbage collections took 10% CPU time recently (threshold: 10%)\n"
     ]
    },
    {
     "name": "stdout",
     "output_type": "stream",
     "text": [
      "{'num_masks': 2, 'n_workers': 4, 'stackheight': 4, 'time': 1.0649113655090332}\n"
     ]
    },
    {
     "name": "stderr",
     "output_type": "stream",
     "text": [
      "distributed.utils_perf - WARNING - full garbage collections took 10% CPU time recently (threshold: 10%)\n"
     ]
    },
    {
     "name": "stdout",
     "output_type": "stream",
     "text": [
      "{'num_masks': 2, 'n_workers': 4, 'stackheight': 8, 'time': 1.0390803813934326}\n"
     ]
    },
    {
     "name": "stderr",
     "output_type": "stream",
     "text": [
      "distributed.utils_perf - WARNING - full garbage collections took 10% CPU time recently (threshold: 10%)\n"
     ]
    },
    {
     "name": "stdout",
     "output_type": "stream",
     "text": [
      "{'num_masks': 2, 'n_workers': 4, 'stackheight': 8, 'time': 1.0317926406860352}\n"
     ]
    },
    {
     "name": "stderr",
     "output_type": "stream",
     "text": [
      "distributed.utils_perf - WARNING - full garbage collections took 10% CPU time recently (threshold: 10%)\n"
     ]
    },
    {
     "name": "stdout",
     "output_type": "stream",
     "text": [
      "{'num_masks': 2, 'n_workers': 4, 'stackheight': 8, 'time': 1.0391876697540283}\n"
     ]
    },
    {
     "name": "stderr",
     "output_type": "stream",
     "text": [
      "distributed.utils_perf - WARNING - full garbage collections took 10% CPU time recently (threshold: 10%)\n",
      "distributed.utils_perf - WARNING - full garbage collections took 10% CPU time recently (threshold: 10%)\n"
     ]
    },
    {
     "name": "stdout",
     "output_type": "stream",
     "text": [
      "{'num_masks': 4, 'n_workers': 4, 'stackheight': 4, 'time': 1.1935505867004395}\n"
     ]
    },
    {
     "name": "stderr",
     "output_type": "stream",
     "text": [
      "distributed.utils_perf - WARNING - full garbage collections took 10% CPU time recently (threshold: 10%)\n",
      "distributed.utils_perf - WARNING - full garbage collections took 10% CPU time recently (threshold: 10%)\n"
     ]
    },
    {
     "name": "stdout",
     "output_type": "stream",
     "text": [
      "{'num_masks': 4, 'n_workers': 4, 'stackheight': 4, 'time': 1.192150354385376}\n"
     ]
    },
    {
     "name": "stderr",
     "output_type": "stream",
     "text": [
      "distributed.utils_perf - WARNING - full garbage collections took 10% CPU time recently (threshold: 10%)\n",
      "distributed.utils_perf - WARNING - full garbage collections took 11% CPU time recently (threshold: 10%)\n"
     ]
    },
    {
     "name": "stdout",
     "output_type": "stream",
     "text": [
      "{'num_masks': 4, 'n_workers': 4, 'stackheight': 4, 'time': 1.1724622249603271}\n"
     ]
    },
    {
     "name": "stderr",
     "output_type": "stream",
     "text": [
      "distributed.utils_perf - WARNING - full garbage collections took 11% CPU time recently (threshold: 10%)\n"
     ]
    },
    {
     "name": "stdout",
     "output_type": "stream",
     "text": [
      "{'num_masks': 4, 'n_workers': 4, 'stackheight': 8, 'time': 1.1366534233093262}\n"
     ]
    },
    {
     "name": "stderr",
     "output_type": "stream",
     "text": [
      "distributed.utils_perf - WARNING - full garbage collections took 11% CPU time recently (threshold: 10%)\n"
     ]
    },
    {
     "name": "stdout",
     "output_type": "stream",
     "text": [
      "{'num_masks': 4, 'n_workers': 4, 'stackheight': 8, 'time': 1.1047635078430176}\n"
     ]
    },
    {
     "name": "stderr",
     "output_type": "stream",
     "text": [
      "distributed.utils_perf - WARNING - full garbage collections took 10% CPU time recently (threshold: 10%)\n"
     ]
    },
    {
     "name": "stdout",
     "output_type": "stream",
     "text": [
      "{'num_masks': 4, 'n_workers': 4, 'stackheight': 8, 'time': 1.1142487525939941}\n"
     ]
    },
    {
     "name": "stderr",
     "output_type": "stream",
     "text": [
      "distributed.utils_perf - WARNING - full garbage collections took 10% CPU time recently (threshold: 10%)\n",
      "distributed.utils_perf - WARNING - full garbage collections took 11% CPU time recently (threshold: 10%)\n"
     ]
    },
    {
     "name": "stdout",
     "output_type": "stream",
     "text": [
      "{'num_masks': 8, 'n_workers': 4, 'stackheight': 4, 'time': 1.6213817596435547}\n"
     ]
    },
    {
     "name": "stderr",
     "output_type": "stream",
     "text": [
      "distributed.utils_perf - WARNING - full garbage collections took 11% CPU time recently (threshold: 10%)\n",
      "distributed.utils_perf - WARNING - full garbage collections took 11% CPU time recently (threshold: 10%)\n"
     ]
    },
    {
     "name": "stdout",
     "output_type": "stream",
     "text": [
      "{'num_masks': 8, 'n_workers': 4, 'stackheight': 4, 'time': 1.5825762748718262}\n"
     ]
    },
    {
     "name": "stderr",
     "output_type": "stream",
     "text": [
      "distributed.utils_perf - WARNING - full garbage collections took 11% CPU time recently (threshold: 10%)\n",
      "distributed.utils_perf - WARNING - full garbage collections took 11% CPU time recently (threshold: 10%)\n"
     ]
    },
    {
     "name": "stdout",
     "output_type": "stream",
     "text": [
      "{'num_masks': 8, 'n_workers': 4, 'stackheight': 4, 'time': 1.5970854759216309}\n"
     ]
    },
    {
     "name": "stderr",
     "output_type": "stream",
     "text": [
      "distributed.utils_perf - WARNING - full garbage collections took 11% CPU time recently (threshold: 10%)\n"
     ]
    },
    {
     "name": "stdout",
     "output_type": "stream",
     "text": [
      "{'num_masks': 8, 'n_workers': 4, 'stackheight': 8, 'time': 1.4367742538452148}\n"
     ]
    },
    {
     "name": "stderr",
     "output_type": "stream",
     "text": [
      "distributed.utils_perf - WARNING - full garbage collections took 11% CPU time recently (threshold: 10%)\n"
     ]
    },
    {
     "name": "stdout",
     "output_type": "stream",
     "text": [
      "{'num_masks': 8, 'n_workers': 4, 'stackheight': 8, 'time': 1.4390180110931396}\n"
     ]
    },
    {
     "name": "stderr",
     "output_type": "stream",
     "text": [
      "distributed.utils_perf - WARNING - full garbage collections took 11% CPU time recently (threshold: 10%)\n"
     ]
    },
    {
     "name": "stdout",
     "output_type": "stream",
     "text": [
      "{'num_masks': 8, 'n_workers': 4, 'stackheight': 8, 'time': 1.4196033477783203}\n"
     ]
    },
    {
     "name": "stderr",
     "output_type": "stream",
     "text": [
      "distributed.utils_perf - WARNING - full garbage collections took 11% CPU time recently (threshold: 10%)\n",
      "distributed.utils_perf - WARNING - full garbage collections took 11% CPU time recently (threshold: 10%)\n"
     ]
    },
    {
     "name": "stdout",
     "output_type": "stream",
     "text": [
      "{'num_masks': 16, 'n_workers': 4, 'stackheight': 4, 'time': 2.307116985321045}\n"
     ]
    },
    {
     "name": "stderr",
     "output_type": "stream",
     "text": [
      "distributed.utils_perf - WARNING - full garbage collections took 11% CPU time recently (threshold: 10%)\n",
      "distributed.utils_perf - WARNING - full garbage collections took 11% CPU time recently (threshold: 10%)\n"
     ]
    },
    {
     "name": "stdout",
     "output_type": "stream",
     "text": [
      "{'num_masks': 16, 'n_workers': 4, 'stackheight': 4, 'time': 2.254056930541992}\n"
     ]
    },
    {
     "name": "stderr",
     "output_type": "stream",
     "text": [
      "distributed.utils_perf - WARNING - full garbage collections took 11% CPU time recently (threshold: 10%)\n",
      "distributed.utils_perf - WARNING - full garbage collections took 11% CPU time recently (threshold: 10%)\n"
     ]
    },
    {
     "name": "stdout",
     "output_type": "stream",
     "text": [
      "{'num_masks': 16, 'n_workers': 4, 'stackheight': 4, 'time': 2.2935190200805664}\n"
     ]
    },
    {
     "name": "stderr",
     "output_type": "stream",
     "text": [
      "distributed.utils_perf - WARNING - full garbage collections took 11% CPU time recently (threshold: 10%)\n"
     ]
    },
    {
     "name": "stdout",
     "output_type": "stream",
     "text": [
      "{'num_masks': 16, 'n_workers': 4, 'stackheight': 8, 'time': 1.820397138595581}\n"
     ]
    },
    {
     "name": "stderr",
     "output_type": "stream",
     "text": [
      "distributed.utils_perf - WARNING - full garbage collections took 11% CPU time recently (threshold: 10%)\n"
     ]
    },
    {
     "name": "stdout",
     "output_type": "stream",
     "text": [
      "{'num_masks': 16, 'n_workers': 4, 'stackheight': 8, 'time': 1.8649015426635742}\n",
      "{'num_masks': 16, 'n_workers': 4, 'stackheight': 8, 'time': 1.8247950077056885}\n"
     ]
    },
    {
     "name": "stderr",
     "output_type": "stream",
     "text": [
      "distributed.utils_perf - WARNING - full garbage collections took 11% CPU time recently (threshold: 10%)\n",
      "distributed.utils_perf - WARNING - full garbage collections took 11% CPU time recently (threshold: 10%)\n",
      "distributed.utils_perf - WARNING - full garbage collections took 11% CPU time recently (threshold: 10%)\n"
     ]
    },
    {
     "name": "stdout",
     "output_type": "stream",
     "text": [
      "{'num_masks': 1, 'n_workers': 5, 'stackheight': 4, 'time': 0.9349429607391357}\n"
     ]
    },
    {
     "name": "stderr",
     "output_type": "stream",
     "text": [
      "distributed.utils_perf - WARNING - full garbage collections took 11% CPU time recently (threshold: 10%)\n",
      "distributed.utils_perf - WARNING - full garbage collections took 11% CPU time recently (threshold: 10%)\n"
     ]
    },
    {
     "name": "stdout",
     "output_type": "stream",
     "text": [
      "{'num_masks': 1, 'n_workers': 5, 'stackheight': 4, 'time': 0.9144699573516846}\n"
     ]
    },
    {
     "name": "stderr",
     "output_type": "stream",
     "text": [
      "distributed.utils_perf - WARNING - full garbage collections took 11% CPU time recently (threshold: 10%)\n",
      "distributed.utils_perf - WARNING - full garbage collections took 11% CPU time recently (threshold: 10%)\n"
     ]
    },
    {
     "name": "stdout",
     "output_type": "stream",
     "text": [
      "{'num_masks': 1, 'n_workers': 5, 'stackheight': 4, 'time': 0.9334630966186523}\n"
     ]
    },
    {
     "name": "stderr",
     "output_type": "stream",
     "text": [
      "distributed.utils_perf - WARNING - full garbage collections took 11% CPU time recently (threshold: 10%)\n"
     ]
    },
    {
     "name": "stdout",
     "output_type": "stream",
     "text": [
      "{'num_masks': 1, 'n_workers': 5, 'stackheight': 8, 'time': 0.9758989810943604}\n"
     ]
    },
    {
     "name": "stderr",
     "output_type": "stream",
     "text": [
      "distributed.utils_perf - WARNING - full garbage collections took 11% CPU time recently (threshold: 10%)\n"
     ]
    },
    {
     "name": "stdout",
     "output_type": "stream",
     "text": [
      "{'num_masks': 1, 'n_workers': 5, 'stackheight': 8, 'time': 0.9715332984924316}\n"
     ]
    },
    {
     "name": "stderr",
     "output_type": "stream",
     "text": [
      "distributed.utils_perf - WARNING - full garbage collections took 11% CPU time recently (threshold: 10%)\n"
     ]
    },
    {
     "name": "stdout",
     "output_type": "stream",
     "text": [
      "{'num_masks': 1, 'n_workers': 5, 'stackheight': 8, 'time': 0.969557523727417}\n"
     ]
    },
    {
     "name": "stderr",
     "output_type": "stream",
     "text": [
      "distributed.utils_perf - WARNING - full garbage collections took 11% CPU time recently (threshold: 10%)\n",
      "distributed.utils_perf - WARNING - full garbage collections took 11% CPU time recently (threshold: 10%)\n"
     ]
    },
    {
     "name": "stdout",
     "output_type": "stream",
     "text": [
      "{'num_masks': 2, 'n_workers': 5, 'stackheight': 4, 'time': 1.0604312419891357}\n"
     ]
    },
    {
     "name": "stderr",
     "output_type": "stream",
     "text": [
      "distributed.utils_perf - WARNING - full garbage collections took 11% CPU time recently (threshold: 10%)\n",
      "distributed.utils_perf - WARNING - full garbage collections took 11% CPU time recently (threshold: 10%)\n"
     ]
    },
    {
     "name": "stdout",
     "output_type": "stream",
     "text": [
      "{'num_masks': 2, 'n_workers': 5, 'stackheight': 4, 'time': 1.0673742294311523}\n"
     ]
    },
    {
     "name": "stderr",
     "output_type": "stream",
     "text": [
      "distributed.utils_perf - WARNING - full garbage collections took 11% CPU time recently (threshold: 10%)\n",
      "distributed.utils_perf - WARNING - full garbage collections took 11% CPU time recently (threshold: 10%)\n"
     ]
    },
    {
     "name": "stdout",
     "output_type": "stream",
     "text": [
      "{'num_masks': 2, 'n_workers': 5, 'stackheight': 4, 'time': 1.0764439105987549}\n"
     ]
    },
    {
     "name": "stderr",
     "output_type": "stream",
     "text": [
      "distributed.utils_perf - WARNING - full garbage collections took 11% CPU time recently (threshold: 10%)\n"
     ]
    },
    {
     "name": "stdout",
     "output_type": "stream",
     "text": [
      "{'num_masks': 2, 'n_workers': 5, 'stackheight': 8, 'time': 1.113729476928711}\n"
     ]
    },
    {
     "name": "stderr",
     "output_type": "stream",
     "text": [
      "distributed.utils_perf - WARNING - full garbage collections took 11% CPU time recently (threshold: 10%)\n"
     ]
    },
    {
     "name": "stdout",
     "output_type": "stream",
     "text": [
      "{'num_masks': 2, 'n_workers': 5, 'stackheight': 8, 'time': 1.079054594039917}\n"
     ]
    },
    {
     "name": "stderr",
     "output_type": "stream",
     "text": [
      "distributed.utils_perf - WARNING - full garbage collections took 11% CPU time recently (threshold: 10%)\n"
     ]
    },
    {
     "name": "stdout",
     "output_type": "stream",
     "text": [
      "{'num_masks': 2, 'n_workers': 5, 'stackheight': 8, 'time': 1.0303030014038086}\n"
     ]
    },
    {
     "name": "stderr",
     "output_type": "stream",
     "text": [
      "distributed.utils_perf - WARNING - full garbage collections took 11% CPU time recently (threshold: 10%)\n",
      "distributed.utils_perf - WARNING - full garbage collections took 11% CPU time recently (threshold: 10%)\n"
     ]
    },
    {
     "name": "stdout",
     "output_type": "stream",
     "text": [
      "{'num_masks': 4, 'n_workers': 5, 'stackheight': 4, 'time': 1.1794087886810303}\n"
     ]
    },
    {
     "name": "stderr",
     "output_type": "stream",
     "text": [
      "distributed.utils_perf - WARNING - full garbage collections took 11% CPU time recently (threshold: 10%)\n",
      "distributed.utils_perf - WARNING - full garbage collections took 11% CPU time recently (threshold: 10%)\n"
     ]
    },
    {
     "name": "stdout",
     "output_type": "stream",
     "text": [
      "{'num_masks': 4, 'n_workers': 5, 'stackheight': 4, 'time': 1.200568437576294}\n"
     ]
    },
    {
     "name": "stderr",
     "output_type": "stream",
     "text": [
      "distributed.utils_perf - WARNING - full garbage collections took 11% CPU time recently (threshold: 10%)\n",
      "distributed.utils_perf - WARNING - full garbage collections took 11% CPU time recently (threshold: 10%)\n"
     ]
    },
    {
     "name": "stdout",
     "output_type": "stream",
     "text": [
      "{'num_masks': 4, 'n_workers': 5, 'stackheight': 4, 'time': 1.1913506984710693}\n"
     ]
    },
    {
     "name": "stderr",
     "output_type": "stream",
     "text": [
      "distributed.utils_perf - WARNING - full garbage collections took 11% CPU time recently (threshold: 10%)\n"
     ]
    },
    {
     "name": "stdout",
     "output_type": "stream",
     "text": [
      "{'num_masks': 4, 'n_workers': 5, 'stackheight': 8, 'time': 1.2199811935424805}\n"
     ]
    },
    {
     "name": "stderr",
     "output_type": "stream",
     "text": [
      "distributed.utils_perf - WARNING - full garbage collections took 11% CPU time recently (threshold: 10%)\n"
     ]
    },
    {
     "name": "stdout",
     "output_type": "stream",
     "text": [
      "{'num_masks': 4, 'n_workers': 5, 'stackheight': 8, 'time': 1.2001862525939941}\n"
     ]
    },
    {
     "name": "stderr",
     "output_type": "stream",
     "text": [
      "distributed.utils_perf - WARNING - full garbage collections took 11% CPU time recently (threshold: 10%)\n"
     ]
    },
    {
     "name": "stdout",
     "output_type": "stream",
     "text": [
      "{'num_masks': 4, 'n_workers': 5, 'stackheight': 8, 'time': 1.2120156288146973}\n"
     ]
    },
    {
     "name": "stderr",
     "output_type": "stream",
     "text": [
      "distributed.utils_perf - WARNING - full garbage collections took 11% CPU time recently (threshold: 10%)\n",
      "distributed.utils_perf - WARNING - full garbage collections took 11% CPU time recently (threshold: 10%)\n"
     ]
    },
    {
     "name": "stdout",
     "output_type": "stream",
     "text": [
      "{'num_masks': 8, 'n_workers': 5, 'stackheight': 4, 'time': 1.6462655067443848}\n"
     ]
    },
    {
     "name": "stderr",
     "output_type": "stream",
     "text": [
      "distributed.utils_perf - WARNING - full garbage collections took 11% CPU time recently (threshold: 10%)\n",
      "distributed.utils_perf - WARNING - full garbage collections took 11% CPU time recently (threshold: 10%)\n"
     ]
    },
    {
     "name": "stdout",
     "output_type": "stream",
     "text": [
      "{'num_masks': 8, 'n_workers': 5, 'stackheight': 4, 'time': 1.7587614059448242}\n"
     ]
    },
    {
     "name": "stderr",
     "output_type": "stream",
     "text": [
      "distributed.utils_perf - WARNING - full garbage collections took 11% CPU time recently (threshold: 10%)\n",
      "distributed.utils_perf - WARNING - full garbage collections took 11% CPU time recently (threshold: 10%)\n"
     ]
    },
    {
     "name": "stdout",
     "output_type": "stream",
     "text": [
      "{'num_masks': 8, 'n_workers': 5, 'stackheight': 4, 'time': 1.889784812927246}\n"
     ]
    },
    {
     "name": "stderr",
     "output_type": "stream",
     "text": [
      "distributed.utils_perf - WARNING - full garbage collections took 11% CPU time recently (threshold: 10%)\n"
     ]
    },
    {
     "name": "stdout",
     "output_type": "stream",
     "text": [
      "{'num_masks': 8, 'n_workers': 5, 'stackheight': 8, 'time': 1.5535550117492676}\n"
     ]
    },
    {
     "name": "stderr",
     "output_type": "stream",
     "text": [
      "distributed.utils_perf - WARNING - full garbage collections took 11% CPU time recently (threshold: 10%)\n"
     ]
    },
    {
     "name": "stdout",
     "output_type": "stream",
     "text": [
      "{'num_masks': 8, 'n_workers': 5, 'stackheight': 8, 'time': 1.5784122943878174}\n"
     ]
    },
    {
     "name": "stderr",
     "output_type": "stream",
     "text": [
      "distributed.utils_perf - WARNING - full garbage collections took 11% CPU time recently (threshold: 10%)\n"
     ]
    },
    {
     "name": "stdout",
     "output_type": "stream",
     "text": [
      "{'num_masks': 8, 'n_workers': 5, 'stackheight': 8, 'time': 1.5212745666503906}\n"
     ]
    },
    {
     "name": "stderr",
     "output_type": "stream",
     "text": [
      "distributed.utils_perf - WARNING - full garbage collections took 11% CPU time recently (threshold: 10%)\n",
      "distributed.utils_perf - WARNING - full garbage collections took 11% CPU time recently (threshold: 10%)\n"
     ]
    },
    {
     "name": "stdout",
     "output_type": "stream",
     "text": [
      "{'num_masks': 16, 'n_workers': 5, 'stackheight': 4, 'time': 2.3988656997680664}\n"
     ]
    },
    {
     "name": "stderr",
     "output_type": "stream",
     "text": [
      "distributed.utils_perf - WARNING - full garbage collections took 11% CPU time recently (threshold: 10%)\n",
      "distributed.utils_perf - WARNING - full garbage collections took 10% CPU time recently (threshold: 10%)\n"
     ]
    },
    {
     "name": "stdout",
     "output_type": "stream",
     "text": [
      "{'num_masks': 16, 'n_workers': 5, 'stackheight': 4, 'time': 2.3910412788391113}\n"
     ]
    },
    {
     "name": "stderr",
     "output_type": "stream",
     "text": [
      "distributed.utils_perf - WARNING - full garbage collections took 10% CPU time recently (threshold: 10%)\n",
      "distributed.utils_perf - WARNING - full garbage collections took 10% CPU time recently (threshold: 10%)\n"
     ]
    },
    {
     "name": "stdout",
     "output_type": "stream",
     "text": [
      "{'num_masks': 16, 'n_workers': 5, 'stackheight': 4, 'time': 2.394200086593628}\n"
     ]
    },
    {
     "name": "stderr",
     "output_type": "stream",
     "text": [
      "distributed.utils_perf - WARNING - full garbage collections took 10% CPU time recently (threshold: 10%)\n"
     ]
    },
    {
     "name": "stdout",
     "output_type": "stream",
     "text": [
      "{'num_masks': 16, 'n_workers': 5, 'stackheight': 8, 'time': 1.9639606475830078}\n"
     ]
    },
    {
     "name": "stderr",
     "output_type": "stream",
     "text": [
      "distributed.utils_perf - WARNING - full garbage collections took 10% CPU time recently (threshold: 10%)\n"
     ]
    },
    {
     "name": "stdout",
     "output_type": "stream",
     "text": [
      "{'num_masks': 16, 'n_workers': 5, 'stackheight': 8, 'time': 1.9071331024169922}\n"
     ]
    },
    {
     "name": "stderr",
     "output_type": "stream",
     "text": [
      "distributed.utils_perf - WARNING - full garbage collections took 10% CPU time recently (threshold: 10%)\n"
     ]
    },
    {
     "name": "stdout",
     "output_type": "stream",
     "text": [
      "{'num_masks': 16, 'n_workers': 5, 'stackheight': 8, 'time': 1.9174916744232178}\n"
     ]
    },
    {
     "name": "stderr",
     "output_type": "stream",
     "text": [
      "distributed.utils_perf - WARNING - full garbage collections took 10% CPU time recently (threshold: 10%)\n",
      "distributed.utils_perf - WARNING - full garbage collections took 10% CPU time recently (threshold: 10%)\n"
     ]
    },
    {
     "name": "stdout",
     "output_type": "stream",
     "text": [
      "{'num_masks': 1, 'n_workers': 6, 'stackheight': 4, 'time': 0.9312148094177246}\n"
     ]
    },
    {
     "name": "stderr",
     "output_type": "stream",
     "text": [
      "distributed.utils_perf - WARNING - full garbage collections took 10% CPU time recently (threshold: 10%)\n",
      "distributed.utils_perf - WARNING - full garbage collections took 10% CPU time recently (threshold: 10%)\n"
     ]
    },
    {
     "name": "stdout",
     "output_type": "stream",
     "text": [
      "{'num_masks': 1, 'n_workers': 6, 'stackheight': 4, 'time': 0.8767313957214355}\n"
     ]
    },
    {
     "name": "stderr",
     "output_type": "stream",
     "text": [
      "distributed.utils_perf - WARNING - full garbage collections took 10% CPU time recently (threshold: 10%)\n",
      "distributed.utils_perf - WARNING - full garbage collections took 11% CPU time recently (threshold: 10%)\n"
     ]
    },
    {
     "name": "stdout",
     "output_type": "stream",
     "text": [
      "{'num_masks': 1, 'n_workers': 6, 'stackheight': 4, 'time': 0.8634798526763916}\n"
     ]
    },
    {
     "name": "stderr",
     "output_type": "stream",
     "text": [
      "distributed.utils_perf - WARNING - full garbage collections took 11% CPU time recently (threshold: 10%)\n"
     ]
    },
    {
     "name": "stdout",
     "output_type": "stream",
     "text": [
      "{'num_masks': 1, 'n_workers': 6, 'stackheight': 8, 'time': 0.9668080806732178}\n"
     ]
    },
    {
     "name": "stderr",
     "output_type": "stream",
     "text": [
      "distributed.utils_perf - WARNING - full garbage collections took 11% CPU time recently (threshold: 10%)\n"
     ]
    },
    {
     "name": "stdout",
     "output_type": "stream",
     "text": [
      "{'num_masks': 1, 'n_workers': 6, 'stackheight': 8, 'time': 1.0159235000610352}\n"
     ]
    },
    {
     "name": "stderr",
     "output_type": "stream",
     "text": [
      "distributed.utils_perf - WARNING - full garbage collections took 11% CPU time recently (threshold: 10%)\n"
     ]
    },
    {
     "name": "stdout",
     "output_type": "stream",
     "text": [
      "{'num_masks': 1, 'n_workers': 6, 'stackheight': 8, 'time': 1.007472038269043}\n"
     ]
    },
    {
     "name": "stderr",
     "output_type": "stream",
     "text": [
      "distributed.utils_perf - WARNING - full garbage collections took 11% CPU time recently (threshold: 10%)\n",
      "distributed.utils_perf - WARNING - full garbage collections took 11% CPU time recently (threshold: 10%)\n"
     ]
    },
    {
     "name": "stdout",
     "output_type": "stream",
     "text": [
      "{'num_masks': 2, 'n_workers': 6, 'stackheight': 4, 'time': 0.9958155155181885}\n"
     ]
    },
    {
     "name": "stderr",
     "output_type": "stream",
     "text": [
      "distributed.utils_perf - WARNING - full garbage collections took 11% CPU time recently (threshold: 10%)\n",
      "distributed.utils_perf - WARNING - full garbage collections took 11% CPU time recently (threshold: 10%)\n"
     ]
    },
    {
     "name": "stdout",
     "output_type": "stream",
     "text": [
      "{'num_masks': 2, 'n_workers': 6, 'stackheight': 4, 'time': 1.015453577041626}\n"
     ]
    },
    {
     "name": "stderr",
     "output_type": "stream",
     "text": [
      "distributed.utils_perf - WARNING - full garbage collections took 11% CPU time recently (threshold: 10%)\n",
      "distributed.utils_perf - WARNING - full garbage collections took 11% CPU time recently (threshold: 10%)\n"
     ]
    },
    {
     "name": "stdout",
     "output_type": "stream",
     "text": [
      "{'num_masks': 2, 'n_workers': 6, 'stackheight': 4, 'time': 1.0404062271118164}\n"
     ]
    },
    {
     "name": "stderr",
     "output_type": "stream",
     "text": [
      "distributed.utils_perf - WARNING - full garbage collections took 11% CPU time recently (threshold: 10%)\n"
     ]
    },
    {
     "name": "stdout",
     "output_type": "stream",
     "text": [
      "{'num_masks': 2, 'n_workers': 6, 'stackheight': 8, 'time': 1.0775542259216309}\n"
     ]
    },
    {
     "name": "stderr",
     "output_type": "stream",
     "text": [
      "distributed.utils_perf - WARNING - full garbage collections took 11% CPU time recently (threshold: 10%)\n"
     ]
    },
    {
     "name": "stdout",
     "output_type": "stream",
     "text": [
      "{'num_masks': 2, 'n_workers': 6, 'stackheight': 8, 'time': 1.0414693355560303}\n"
     ]
    },
    {
     "name": "stderr",
     "output_type": "stream",
     "text": [
      "distributed.utils_perf - WARNING - full garbage collections took 11% CPU time recently (threshold: 10%)\n"
     ]
    },
    {
     "name": "stdout",
     "output_type": "stream",
     "text": [
      "{'num_masks': 2, 'n_workers': 6, 'stackheight': 8, 'time': 1.0526361465454102}\n"
     ]
    },
    {
     "name": "stderr",
     "output_type": "stream",
     "text": [
      "distributed.utils_perf - WARNING - full garbage collections took 11% CPU time recently (threshold: 10%)\n",
      "distributed.utils_perf - WARNING - full garbage collections took 11% CPU time recently (threshold: 10%)\n"
     ]
    },
    {
     "name": "stdout",
     "output_type": "stream",
     "text": [
      "{'num_masks': 4, 'n_workers': 6, 'stackheight': 4, 'time': 1.1476850509643555}\n"
     ]
    },
    {
     "name": "stderr",
     "output_type": "stream",
     "text": [
      "distributed.utils_perf - WARNING - full garbage collections took 11% CPU time recently (threshold: 10%)\n",
      "distributed.utils_perf - WARNING - full garbage collections took 11% CPU time recently (threshold: 10%)\n"
     ]
    },
    {
     "name": "stdout",
     "output_type": "stream",
     "text": [
      "{'num_masks': 4, 'n_workers': 6, 'stackheight': 4, 'time': 1.1742117404937744}\n"
     ]
    },
    {
     "name": "stderr",
     "output_type": "stream",
     "text": [
      "distributed.utils_perf - WARNING - full garbage collections took 11% CPU time recently (threshold: 10%)\n",
      "distributed.utils_perf - WARNING - full garbage collections took 11% CPU time recently (threshold: 10%)\n"
     ]
    },
    {
     "name": "stdout",
     "output_type": "stream",
     "text": [
      "{'num_masks': 4, 'n_workers': 6, 'stackheight': 4, 'time': 1.1380398273468018}\n"
     ]
    },
    {
     "name": "stderr",
     "output_type": "stream",
     "text": [
      "distributed.utils_perf - WARNING - full garbage collections took 11% CPU time recently (threshold: 10%)\n"
     ]
    },
    {
     "name": "stdout",
     "output_type": "stream",
     "text": [
      "{'num_masks': 4, 'n_workers': 6, 'stackheight': 8, 'time': 1.1951086521148682}\n"
     ]
    },
    {
     "name": "stderr",
     "output_type": "stream",
     "text": [
      "distributed.utils_perf - WARNING - full garbage collections took 11% CPU time recently (threshold: 10%)\n"
     ]
    },
    {
     "name": "stdout",
     "output_type": "stream",
     "text": [
      "{'num_masks': 4, 'n_workers': 6, 'stackheight': 8, 'time': 1.1945340633392334}\n"
     ]
    },
    {
     "name": "stderr",
     "output_type": "stream",
     "text": [
      "distributed.utils_perf - WARNING - full garbage collections took 11% CPU time recently (threshold: 10%)\n"
     ]
    },
    {
     "name": "stdout",
     "output_type": "stream",
     "text": [
      "{'num_masks': 4, 'n_workers': 6, 'stackheight': 8, 'time': 1.186863660812378}\n"
     ]
    },
    {
     "name": "stderr",
     "output_type": "stream",
     "text": [
      "distributed.utils_perf - WARNING - full garbage collections took 11% CPU time recently (threshold: 10%)\n",
      "distributed.utils_perf - WARNING - full garbage collections took 11% CPU time recently (threshold: 10%)\n"
     ]
    },
    {
     "name": "stdout",
     "output_type": "stream",
     "text": [
      "{'num_masks': 8, 'n_workers': 6, 'stackheight': 4, 'time': 1.5705106258392334}\n"
     ]
    },
    {
     "name": "stderr",
     "output_type": "stream",
     "text": [
      "distributed.utils_perf - WARNING - full garbage collections took 11% CPU time recently (threshold: 10%)\n",
      "distributed.utils_perf - WARNING - full garbage collections took 11% CPU time recently (threshold: 10%)\n"
     ]
    },
    {
     "name": "stdout",
     "output_type": "stream",
     "text": [
      "{'num_masks': 8, 'n_workers': 6, 'stackheight': 4, 'time': 1.5532844066619873}\n"
     ]
    },
    {
     "name": "stderr",
     "output_type": "stream",
     "text": [
      "distributed.utils_perf - WARNING - full garbage collections took 11% CPU time recently (threshold: 10%)\n",
      "distributed.utils_perf - WARNING - full garbage collections took 12% CPU time recently (threshold: 10%)\n"
     ]
    },
    {
     "name": "stdout",
     "output_type": "stream",
     "text": [
      "{'num_masks': 8, 'n_workers': 6, 'stackheight': 4, 'time': 1.556854009628296}\n"
     ]
    },
    {
     "name": "stderr",
     "output_type": "stream",
     "text": [
      "distributed.utils_perf - WARNING - full garbage collections took 12% CPU time recently (threshold: 10%)\n"
     ]
    },
    {
     "name": "stdout",
     "output_type": "stream",
     "text": [
      "{'num_masks': 8, 'n_workers': 6, 'stackheight': 8, 'time': 1.4548301696777344}\n"
     ]
    },
    {
     "name": "stderr",
     "output_type": "stream",
     "text": [
      "distributed.utils_perf - WARNING - full garbage collections took 11% CPU time recently (threshold: 10%)\n"
     ]
    },
    {
     "name": "stdout",
     "output_type": "stream",
     "text": [
      "{'num_masks': 8, 'n_workers': 6, 'stackheight': 8, 'time': 1.4755699634552002}\n"
     ]
    },
    {
     "name": "stderr",
     "output_type": "stream",
     "text": [
      "distributed.utils_perf - WARNING - full garbage collections took 12% CPU time recently (threshold: 10%)\n"
     ]
    },
    {
     "name": "stdout",
     "output_type": "stream",
     "text": [
      "{'num_masks': 8, 'n_workers': 6, 'stackheight': 8, 'time': 1.4596021175384521}\n"
     ]
    },
    {
     "name": "stderr",
     "output_type": "stream",
     "text": [
      "distributed.utils_perf - WARNING - full garbage collections took 12% CPU time recently (threshold: 10%)\n",
      "distributed.utils_perf - WARNING - full garbage collections took 12% CPU time recently (threshold: 10%)\n"
     ]
    },
    {
     "name": "stdout",
     "output_type": "stream",
     "text": [
      "{'num_masks': 16, 'n_workers': 6, 'stackheight': 4, 'time': 2.2562568187713623}\n"
     ]
    },
    {
     "name": "stderr",
     "output_type": "stream",
     "text": [
      "distributed.utils_perf - WARNING - full garbage collections took 12% CPU time recently (threshold: 10%)\n",
      "distributed.utils_perf - WARNING - full garbage collections took 12% CPU time recently (threshold: 10%)\n"
     ]
    },
    {
     "name": "stdout",
     "output_type": "stream",
     "text": [
      "{'num_masks': 16, 'n_workers': 6, 'stackheight': 4, 'time': 2.245389699935913}\n"
     ]
    },
    {
     "name": "stderr",
     "output_type": "stream",
     "text": [
      "distributed.utils_perf - WARNING - full garbage collections took 12% CPU time recently (threshold: 10%)\n",
      "distributed.utils_perf - WARNING - full garbage collections took 12% CPU time recently (threshold: 10%)\n"
     ]
    },
    {
     "name": "stdout",
     "output_type": "stream",
     "text": [
      "{'num_masks': 16, 'n_workers': 6, 'stackheight': 4, 'time': 2.2430388927459717}\n"
     ]
    },
    {
     "name": "stderr",
     "output_type": "stream",
     "text": [
      "distributed.utils_perf - WARNING - full garbage collections took 12% CPU time recently (threshold: 10%)\n"
     ]
    },
    {
     "name": "stdout",
     "output_type": "stream",
     "text": [
      "{'num_masks': 16, 'n_workers': 6, 'stackheight': 8, 'time': 1.902099609375}\n"
     ]
    },
    {
     "name": "stderr",
     "output_type": "stream",
     "text": [
      "distributed.utils_perf - WARNING - full garbage collections took 12% CPU time recently (threshold: 10%)\n"
     ]
    },
    {
     "name": "stdout",
     "output_type": "stream",
     "text": [
      "{'num_masks': 16, 'n_workers': 6, 'stackheight': 8, 'time': 1.9135661125183105}\n",
      "{'num_masks': 16, 'n_workers': 6, 'stackheight': 8, 'time': 1.8907086849212646}\n"
     ]
    },
    {
     "name": "stderr",
     "output_type": "stream",
     "text": [
      "distributed.utils_perf - WARNING - full garbage collections took 12% CPU time recently (threshold: 10%)\n",
      "distributed.utils_perf - WARNING - full garbage collections took 12% CPU time recently (threshold: 10%)\n",
      "distributed.utils_perf - WARNING - full garbage collections took 12% CPU time recently (threshold: 10%)\n"
     ]
    },
    {
     "name": "stdout",
     "output_type": "stream",
     "text": [
      "{'num_masks': 1, 'n_workers': 7, 'stackheight': 4, 'time': 0.8899514675140381}\n"
     ]
    },
    {
     "name": "stderr",
     "output_type": "stream",
     "text": [
      "distributed.utils_perf - WARNING - full garbage collections took 12% CPU time recently (threshold: 10%)\n",
      "distributed.utils_perf - WARNING - full garbage collections took 12% CPU time recently (threshold: 10%)\n"
     ]
    },
    {
     "name": "stdout",
     "output_type": "stream",
     "text": [
      "{'num_masks': 1, 'n_workers': 7, 'stackheight': 4, 'time': 0.8782327175140381}\n"
     ]
    },
    {
     "name": "stderr",
     "output_type": "stream",
     "text": [
      "distributed.utils_perf - WARNING - full garbage collections took 12% CPU time recently (threshold: 10%)\n",
      "distributed.utils_perf - WARNING - full garbage collections took 12% CPU time recently (threshold: 10%)\n"
     ]
    },
    {
     "name": "stdout",
     "output_type": "stream",
     "text": [
      "{'num_masks': 1, 'n_workers': 7, 'stackheight': 4, 'time': 0.8922662734985352}\n"
     ]
    },
    {
     "name": "stderr",
     "output_type": "stream",
     "text": [
      "distributed.utils_perf - WARNING - full garbage collections took 12% CPU time recently (threshold: 10%)\n"
     ]
    },
    {
     "name": "stdout",
     "output_type": "stream",
     "text": [
      "{'num_masks': 1, 'n_workers': 7, 'stackheight': 8, 'time': 1.0545687675476074}\n"
     ]
    },
    {
     "name": "stderr",
     "output_type": "stream",
     "text": [
      "distributed.utils_perf - WARNING - full garbage collections took 12% CPU time recently (threshold: 10%)\n"
     ]
    },
    {
     "name": "stdout",
     "output_type": "stream",
     "text": [
      "{'num_masks': 1, 'n_workers': 7, 'stackheight': 8, 'time': 1.0675270557403564}\n"
     ]
    },
    {
     "name": "stderr",
     "output_type": "stream",
     "text": [
      "distributed.utils_perf - WARNING - full garbage collections took 12% CPU time recently (threshold: 10%)\n"
     ]
    },
    {
     "name": "stdout",
     "output_type": "stream",
     "text": [
      "{'num_masks': 1, 'n_workers': 7, 'stackheight': 8, 'time': 1.0573515892028809}\n"
     ]
    },
    {
     "name": "stderr",
     "output_type": "stream",
     "text": [
      "distributed.utils_perf - WARNING - full garbage collections took 12% CPU time recently (threshold: 10%)\n",
      "distributed.utils_perf - WARNING - full garbage collections took 12% CPU time recently (threshold: 10%)\n"
     ]
    },
    {
     "name": "stdout",
     "output_type": "stream",
     "text": [
      "{'num_masks': 2, 'n_workers': 7, 'stackheight': 4, 'time': 1.0407378673553467}\n"
     ]
    },
    {
     "name": "stderr",
     "output_type": "stream",
     "text": [
      "distributed.utils_perf - WARNING - full garbage collections took 12% CPU time recently (threshold: 10%)\n",
      "distributed.utils_perf - WARNING - full garbage collections took 12% CPU time recently (threshold: 10%)\n"
     ]
    },
    {
     "name": "stdout",
     "output_type": "stream",
     "text": [
      "{'num_masks': 2, 'n_workers': 7, 'stackheight': 4, 'time': 1.0740008354187012}\n"
     ]
    },
    {
     "name": "stderr",
     "output_type": "stream",
     "text": [
      "distributed.utils_perf - WARNING - full garbage collections took 12% CPU time recently (threshold: 10%)\n",
      "distributed.utils_perf - WARNING - full garbage collections took 12% CPU time recently (threshold: 10%)\n"
     ]
    },
    {
     "name": "stdout",
     "output_type": "stream",
     "text": [
      "{'num_masks': 2, 'n_workers': 7, 'stackheight': 4, 'time': 1.0056254863739014}\n"
     ]
    },
    {
     "name": "stderr",
     "output_type": "stream",
     "text": [
      "distributed.utils_perf - WARNING - full garbage collections took 12% CPU time recently (threshold: 10%)\n"
     ]
    },
    {
     "name": "stdout",
     "output_type": "stream",
     "text": [
      "{'num_masks': 2, 'n_workers': 7, 'stackheight': 8, 'time': 1.156961441040039}\n"
     ]
    },
    {
     "name": "stderr",
     "output_type": "stream",
     "text": [
      "distributed.utils_perf - WARNING - full garbage collections took 12% CPU time recently (threshold: 10%)\n"
     ]
    },
    {
     "name": "stdout",
     "output_type": "stream",
     "text": [
      "{'num_masks': 2, 'n_workers': 7, 'stackheight': 8, 'time': 1.1564338207244873}\n"
     ]
    },
    {
     "name": "stderr",
     "output_type": "stream",
     "text": [
      "distributed.utils_perf - WARNING - full garbage collections took 12% CPU time recently (threshold: 10%)\n"
     ]
    },
    {
     "name": "stdout",
     "output_type": "stream",
     "text": [
      "{'num_masks': 2, 'n_workers': 7, 'stackheight': 8, 'time': 1.1846308708190918}\n"
     ]
    },
    {
     "name": "stderr",
     "output_type": "stream",
     "text": [
      "distributed.utils_perf - WARNING - full garbage collections took 12% CPU time recently (threshold: 10%)\n",
      "distributed.utils_perf - WARNING - full garbage collections took 12% CPU time recently (threshold: 10%)\n"
     ]
    },
    {
     "name": "stdout",
     "output_type": "stream",
     "text": [
      "{'num_masks': 4, 'n_workers': 7, 'stackheight': 4, 'time': 1.2178928852081299}\n"
     ]
    },
    {
     "name": "stderr",
     "output_type": "stream",
     "text": [
      "distributed.utils_perf - WARNING - full garbage collections took 12% CPU time recently (threshold: 10%)\n",
      "distributed.utils_perf - WARNING - full garbage collections took 12% CPU time recently (threshold: 10%)\n"
     ]
    },
    {
     "name": "stdout",
     "output_type": "stream",
     "text": [
      "{'num_masks': 4, 'n_workers': 7, 'stackheight': 4, 'time': 1.2060291767120361}\n"
     ]
    },
    {
     "name": "stderr",
     "output_type": "stream",
     "text": [
      "distributed.utils_perf - WARNING - full garbage collections took 12% CPU time recently (threshold: 10%)\n",
      "distributed.utils_perf - WARNING - full garbage collections took 12% CPU time recently (threshold: 10%)\n"
     ]
    },
    {
     "name": "stdout",
     "output_type": "stream",
     "text": [
      "{'num_masks': 4, 'n_workers': 7, 'stackheight': 4, 'time': 1.2240064144134521}\n"
     ]
    },
    {
     "name": "stderr",
     "output_type": "stream",
     "text": [
      "distributed.utils_perf - WARNING - full garbage collections took 12% CPU time recently (threshold: 10%)\n"
     ]
    },
    {
     "name": "stdout",
     "output_type": "stream",
     "text": [
      "{'num_masks': 4, 'n_workers': 7, 'stackheight': 8, 'time': 1.2851452827453613}\n"
     ]
    },
    {
     "name": "stderr",
     "output_type": "stream",
     "text": [
      "distributed.utils_perf - WARNING - full garbage collections took 12% CPU time recently (threshold: 10%)\n"
     ]
    },
    {
     "name": "stdout",
     "output_type": "stream",
     "text": [
      "{'num_masks': 4, 'n_workers': 7, 'stackheight': 8, 'time': 1.261902093887329}\n"
     ]
    },
    {
     "name": "stderr",
     "output_type": "stream",
     "text": [
      "distributed.utils_perf - WARNING - full garbage collections took 12% CPU time recently (threshold: 10%)\n"
     ]
    },
    {
     "name": "stdout",
     "output_type": "stream",
     "text": [
      "{'num_masks': 4, 'n_workers': 7, 'stackheight': 8, 'time': 1.2912931442260742}\n"
     ]
    },
    {
     "name": "stderr",
     "output_type": "stream",
     "text": [
      "distributed.utils_perf - WARNING - full garbage collections took 12% CPU time recently (threshold: 10%)\n",
      "distributed.utils_perf - WARNING - full garbage collections took 12% CPU time recently (threshold: 10%)\n"
     ]
    },
    {
     "name": "stdout",
     "output_type": "stream",
     "text": [
      "{'num_masks': 8, 'n_workers': 7, 'stackheight': 4, 'time': 1.6545565128326416}\n"
     ]
    },
    {
     "name": "stderr",
     "output_type": "stream",
     "text": [
      "distributed.utils_perf - WARNING - full garbage collections took 12% CPU time recently (threshold: 10%)\n",
      "distributed.utils_perf - WARNING - full garbage collections took 12% CPU time recently (threshold: 10%)\n"
     ]
    },
    {
     "name": "stdout",
     "output_type": "stream",
     "text": [
      "{'num_masks': 8, 'n_workers': 7, 'stackheight': 4, 'time': 1.6198246479034424}\n"
     ]
    },
    {
     "name": "stderr",
     "output_type": "stream",
     "text": [
      "distributed.utils_perf - WARNING - full garbage collections took 12% CPU time recently (threshold: 10%)\n",
      "distributed.utils_perf - WARNING - full garbage collections took 11% CPU time recently (threshold: 10%)\n"
     ]
    },
    {
     "name": "stdout",
     "output_type": "stream",
     "text": [
      "{'num_masks': 8, 'n_workers': 7, 'stackheight': 4, 'time': 1.6233844757080078}\n"
     ]
    },
    {
     "name": "stderr",
     "output_type": "stream",
     "text": [
      "distributed.utils_perf - WARNING - full garbage collections took 11% CPU time recently (threshold: 10%)\n"
     ]
    },
    {
     "name": "stdout",
     "output_type": "stream",
     "text": [
      "{'num_masks': 8, 'n_workers': 7, 'stackheight': 8, 'time': 1.5473732948303223}\n"
     ]
    },
    {
     "name": "stderr",
     "output_type": "stream",
     "text": [
      "distributed.utils_perf - WARNING - full garbage collections took 11% CPU time recently (threshold: 10%)\n"
     ]
    },
    {
     "name": "stdout",
     "output_type": "stream",
     "text": [
      "{'num_masks': 8, 'n_workers': 7, 'stackheight': 8, 'time': 1.5405793190002441}\n"
     ]
    },
    {
     "name": "stderr",
     "output_type": "stream",
     "text": [
      "distributed.utils_perf - WARNING - full garbage collections took 11% CPU time recently (threshold: 10%)\n"
     ]
    },
    {
     "name": "stdout",
     "output_type": "stream",
     "text": [
      "{'num_masks': 8, 'n_workers': 7, 'stackheight': 8, 'time': 1.5518462657928467}\n"
     ]
    },
    {
     "name": "stderr",
     "output_type": "stream",
     "text": [
      "distributed.utils_perf - WARNING - full garbage collections took 11% CPU time recently (threshold: 10%)\n",
      "distributed.utils_perf - WARNING - full garbage collections took 11% CPU time recently (threshold: 10%)\n"
     ]
    },
    {
     "name": "stdout",
     "output_type": "stream",
     "text": [
      "{'num_masks': 16, 'n_workers': 7, 'stackheight': 4, 'time': 2.385782480239868}\n"
     ]
    },
    {
     "name": "stderr",
     "output_type": "stream",
     "text": [
      "distributed.utils_perf - WARNING - full garbage collections took 11% CPU time recently (threshold: 10%)\n",
      "distributed.utils_perf - WARNING - full garbage collections took 11% CPU time recently (threshold: 10%)\n"
     ]
    },
    {
     "name": "stdout",
     "output_type": "stream",
     "text": [
      "{'num_masks': 16, 'n_workers': 7, 'stackheight': 4, 'time': 2.3855881690979004}\n"
     ]
    },
    {
     "name": "stderr",
     "output_type": "stream",
     "text": [
      "distributed.utils_perf - WARNING - full garbage collections took 11% CPU time recently (threshold: 10%)\n",
      "distributed.utils_perf - WARNING - full garbage collections took 11% CPU time recently (threshold: 10%)\n"
     ]
    },
    {
     "name": "stdout",
     "output_type": "stream",
     "text": [
      "{'num_masks': 16, 'n_workers': 7, 'stackheight': 4, 'time': 2.3713905811309814}\n"
     ]
    },
    {
     "name": "stderr",
     "output_type": "stream",
     "text": [
      "distributed.utils_perf - WARNING - full garbage collections took 11% CPU time recently (threshold: 10%)\n"
     ]
    },
    {
     "name": "stdout",
     "output_type": "stream",
     "text": [
      "{'num_masks': 16, 'n_workers': 7, 'stackheight': 8, 'time': 1.949530839920044}\n"
     ]
    },
    {
     "name": "stderr",
     "output_type": "stream",
     "text": [
      "distributed.utils_perf - WARNING - full garbage collections took 11% CPU time recently (threshold: 10%)\n"
     ]
    },
    {
     "name": "stdout",
     "output_type": "stream",
     "text": [
      "{'num_masks': 16, 'n_workers': 7, 'stackheight': 8, 'time': 1.964827060699463}\n"
     ]
    },
    {
     "name": "stderr",
     "output_type": "stream",
     "text": [
      "distributed.utils_perf - WARNING - full garbage collections took 11% CPU time recently (threshold: 10%)\n"
     ]
    },
    {
     "name": "stdout",
     "output_type": "stream",
     "text": [
      "{'num_masks': 16, 'n_workers': 7, 'stackheight': 8, 'time': 1.976611852645874}\n"
     ]
    },
    {
     "name": "stderr",
     "output_type": "stream",
     "text": [
      "distributed.utils_perf - WARNING - full garbage collections took 11% CPU time recently (threshold: 10%)\n",
      "distributed.utils_perf - WARNING - full garbage collections took 11% CPU time recently (threshold: 10%)\n"
     ]
    },
    {
     "name": "stdout",
     "output_type": "stream",
     "text": [
      "{'num_masks': 1, 'n_workers': 8, 'stackheight': 4, 'time': 0.906982421875}\n"
     ]
    },
    {
     "name": "stderr",
     "output_type": "stream",
     "text": [
      "distributed.utils_perf - WARNING - full garbage collections took 11% CPU time recently (threshold: 10%)\n",
      "distributed.utils_perf - WARNING - full garbage collections took 12% CPU time recently (threshold: 10%)\n"
     ]
    },
    {
     "name": "stdout",
     "output_type": "stream",
     "text": [
      "{'num_masks': 1, 'n_workers': 8, 'stackheight': 4, 'time': 0.8815670013427734}\n"
     ]
    },
    {
     "name": "stderr",
     "output_type": "stream",
     "text": [
      "distributed.utils_perf - WARNING - full garbage collections took 12% CPU time recently (threshold: 10%)\n",
      "distributed.utils_perf - WARNING - full garbage collections took 12% CPU time recently (threshold: 10%)\n"
     ]
    },
    {
     "name": "stdout",
     "output_type": "stream",
     "text": [
      "{'num_masks': 1, 'n_workers': 8, 'stackheight': 4, 'time': 0.8777029514312744}\n"
     ]
    },
    {
     "name": "stderr",
     "output_type": "stream",
     "text": [
      "distributed.utils_perf - WARNING - full garbage collections took 12% CPU time recently (threshold: 10%)\n"
     ]
    },
    {
     "name": "stdout",
     "output_type": "stream",
     "text": [
      "{'num_masks': 1, 'n_workers': 8, 'stackheight': 8, 'time': 1.1010119915008545}\n"
     ]
    },
    {
     "name": "stderr",
     "output_type": "stream",
     "text": [
      "distributed.utils_perf - WARNING - full garbage collections took 12% CPU time recently (threshold: 10%)\n"
     ]
    },
    {
     "name": "stdout",
     "output_type": "stream",
     "text": [
      "{'num_masks': 1, 'n_workers': 8, 'stackheight': 8, 'time': 1.1013965606689453}\n"
     ]
    },
    {
     "name": "stderr",
     "output_type": "stream",
     "text": [
      "distributed.utils_perf - WARNING - full garbage collections took 12% CPU time recently (threshold: 10%)\n"
     ]
    },
    {
     "name": "stdout",
     "output_type": "stream",
     "text": [
      "{'num_masks': 1, 'n_workers': 8, 'stackheight': 8, 'time': 1.105865478515625}\n"
     ]
    },
    {
     "name": "stderr",
     "output_type": "stream",
     "text": [
      "distributed.utils_perf - WARNING - full garbage collections took 12% CPU time recently (threshold: 10%)\n",
      "distributed.utils_perf - WARNING - full garbage collections took 12% CPU time recently (threshold: 10%)\n"
     ]
    },
    {
     "name": "stdout",
     "output_type": "stream",
     "text": [
      "{'num_masks': 2, 'n_workers': 8, 'stackheight': 4, 'time': 1.0139100551605225}\n"
     ]
    },
    {
     "name": "stderr",
     "output_type": "stream",
     "text": [
      "distributed.utils_perf - WARNING - full garbage collections took 12% CPU time recently (threshold: 10%)\n",
      "distributed.utils_perf - WARNING - full garbage collections took 11% CPU time recently (threshold: 10%)\n"
     ]
    },
    {
     "name": "stdout",
     "output_type": "stream",
     "text": [
      "{'num_masks': 2, 'n_workers': 8, 'stackheight': 4, 'time': 1.0227627754211426}\n"
     ]
    },
    {
     "name": "stderr",
     "output_type": "stream",
     "text": [
      "distributed.utils_perf - WARNING - full garbage collections took 11% CPU time recently (threshold: 10%)\n",
      "distributed.utils_perf - WARNING - full garbage collections took 12% CPU time recently (threshold: 10%)\n"
     ]
    },
    {
     "name": "stdout",
     "output_type": "stream",
     "text": [
      "{'num_masks': 2, 'n_workers': 8, 'stackheight': 4, 'time': 1.0315349102020264}\n"
     ]
    },
    {
     "name": "stderr",
     "output_type": "stream",
     "text": [
      "distributed.utils_perf - WARNING - full garbage collections took 12% CPU time recently (threshold: 10%)\n"
     ]
    },
    {
     "name": "stdout",
     "output_type": "stream",
     "text": [
      "{'num_masks': 2, 'n_workers': 8, 'stackheight': 8, 'time': 1.1893503665924072}\n"
     ]
    },
    {
     "name": "stderr",
     "output_type": "stream",
     "text": [
      "distributed.utils_perf - WARNING - full garbage collections took 12% CPU time recently (threshold: 10%)\n"
     ]
    },
    {
     "name": "stdout",
     "output_type": "stream",
     "text": [
      "{'num_masks': 2, 'n_workers': 8, 'stackheight': 8, 'time': 1.1892495155334473}\n"
     ]
    },
    {
     "name": "stderr",
     "output_type": "stream",
     "text": [
      "distributed.utils_perf - WARNING - full garbage collections took 12% CPU time recently (threshold: 10%)\n"
     ]
    },
    {
     "name": "stdout",
     "output_type": "stream",
     "text": [
      "{'num_masks': 2, 'n_workers': 8, 'stackheight': 8, 'time': 1.1840863227844238}\n"
     ]
    },
    {
     "name": "stderr",
     "output_type": "stream",
     "text": [
      "distributed.utils_perf - WARNING - full garbage collections took 12% CPU time recently (threshold: 10%)\n",
      "distributed.utils_perf - WARNING - full garbage collections took 12% CPU time recently (threshold: 10%)\n"
     ]
    },
    {
     "name": "stdout",
     "output_type": "stream",
     "text": [
      "{'num_masks': 4, 'n_workers': 8, 'stackheight': 4, 'time': 1.223146915435791}\n"
     ]
    },
    {
     "name": "stderr",
     "output_type": "stream",
     "text": [
      "distributed.utils_perf - WARNING - full garbage collections took 12% CPU time recently (threshold: 10%)\n",
      "distributed.utils_perf - WARNING - full garbage collections took 12% CPU time recently (threshold: 10%)\n"
     ]
    },
    {
     "name": "stdout",
     "output_type": "stream",
     "text": [
      "{'num_masks': 4, 'n_workers': 8, 'stackheight': 4, 'time': 1.2217884063720703}\n"
     ]
    },
    {
     "name": "stderr",
     "output_type": "stream",
     "text": [
      "distributed.utils_perf - WARNING - full garbage collections took 12% CPU time recently (threshold: 10%)\n",
      "distributed.utils_perf - WARNING - full garbage collections took 12% CPU time recently (threshold: 10%)\n"
     ]
    },
    {
     "name": "stdout",
     "output_type": "stream",
     "text": [
      "{'num_masks': 4, 'n_workers': 8, 'stackheight': 4, 'time': 1.2014107704162598}\n"
     ]
    },
    {
     "name": "stderr",
     "output_type": "stream",
     "text": [
      "distributed.utils_perf - WARNING - full garbage collections took 12% CPU time recently (threshold: 10%)\n"
     ]
    },
    {
     "name": "stdout",
     "output_type": "stream",
     "text": [
      "{'num_masks': 4, 'n_workers': 8, 'stackheight': 8, 'time': 1.2969427108764648}\n"
     ]
    },
    {
     "name": "stderr",
     "output_type": "stream",
     "text": [
      "distributed.utils_perf - WARNING - full garbage collections took 12% CPU time recently (threshold: 10%)\n"
     ]
    },
    {
     "name": "stdout",
     "output_type": "stream",
     "text": [
      "{'num_masks': 4, 'n_workers': 8, 'stackheight': 8, 'time': 1.3140571117401123}\n"
     ]
    },
    {
     "name": "stderr",
     "output_type": "stream",
     "text": [
      "distributed.utils_perf - WARNING - full garbage collections took 12% CPU time recently (threshold: 10%)\n"
     ]
    },
    {
     "name": "stdout",
     "output_type": "stream",
     "text": [
      "{'num_masks': 4, 'n_workers': 8, 'stackheight': 8, 'time': 1.3077242374420166}\n"
     ]
    },
    {
     "name": "stderr",
     "output_type": "stream",
     "text": [
      "distributed.utils_perf - WARNING - full garbage collections took 12% CPU time recently (threshold: 10%)\n",
      "distributed.utils_perf - WARNING - full garbage collections took 12% CPU time recently (threshold: 10%)\n"
     ]
    },
    {
     "name": "stdout",
     "output_type": "stream",
     "text": [
      "{'num_masks': 8, 'n_workers': 8, 'stackheight': 4, 'time': 1.6270990371704102}\n"
     ]
    },
    {
     "name": "stderr",
     "output_type": "stream",
     "text": [
      "distributed.utils_perf - WARNING - full garbage collections took 12% CPU time recently (threshold: 10%)\n",
      "distributed.utils_perf - WARNING - full garbage collections took 12% CPU time recently (threshold: 10%)\n"
     ]
    },
    {
     "name": "stdout",
     "output_type": "stream",
     "text": [
      "{'num_masks': 8, 'n_workers': 8, 'stackheight': 4, 'time': 1.6362223625183105}\n"
     ]
    },
    {
     "name": "stderr",
     "output_type": "stream",
     "text": [
      "distributed.utils_perf - WARNING - full garbage collections took 12% CPU time recently (threshold: 10%)\n",
      "distributed.utils_perf - WARNING - full garbage collections took 12% CPU time recently (threshold: 10%)\n"
     ]
    },
    {
     "name": "stdout",
     "output_type": "stream",
     "text": [
      "{'num_masks': 8, 'n_workers': 8, 'stackheight': 4, 'time': 1.654430627822876}\n"
     ]
    },
    {
     "name": "stderr",
     "output_type": "stream",
     "text": [
      "distributed.utils_perf - WARNING - full garbage collections took 12% CPU time recently (threshold: 10%)\n"
     ]
    },
    {
     "name": "stdout",
     "output_type": "stream",
     "text": [
      "{'num_masks': 8, 'n_workers': 8, 'stackheight': 8, 'time': 1.567718267440796}\n"
     ]
    },
    {
     "name": "stderr",
     "output_type": "stream",
     "text": [
      "distributed.utils_perf - WARNING - full garbage collections took 12% CPU time recently (threshold: 10%)\n"
     ]
    },
    {
     "name": "stdout",
     "output_type": "stream",
     "text": [
      "{'num_masks': 8, 'n_workers': 8, 'stackheight': 8, 'time': 1.559797763824463}\n"
     ]
    },
    {
     "name": "stderr",
     "output_type": "stream",
     "text": [
      "distributed.utils_perf - WARNING - full garbage collections took 12% CPU time recently (threshold: 10%)\n"
     ]
    },
    {
     "name": "stdout",
     "output_type": "stream",
     "text": [
      "{'num_masks': 8, 'n_workers': 8, 'stackheight': 8, 'time': 1.5709733963012695}\n"
     ]
    },
    {
     "name": "stderr",
     "output_type": "stream",
     "text": [
      "distributed.utils_perf - WARNING - full garbage collections took 12% CPU time recently (threshold: 10%)\n",
      "distributed.utils_perf - WARNING - full garbage collections took 12% CPU time recently (threshold: 10%)\n"
     ]
    },
    {
     "name": "stdout",
     "output_type": "stream",
     "text": [
      "{'num_masks': 16, 'n_workers': 8, 'stackheight': 4, 'time': 2.3754947185516357}\n"
     ]
    },
    {
     "name": "stderr",
     "output_type": "stream",
     "text": [
      "distributed.utils_perf - WARNING - full garbage collections took 12% CPU time recently (threshold: 10%)\n",
      "distributed.utils_perf - WARNING - full garbage collections took 12% CPU time recently (threshold: 10%)\n"
     ]
    },
    {
     "name": "stdout",
     "output_type": "stream",
     "text": [
      "{'num_masks': 16, 'n_workers': 8, 'stackheight': 4, 'time': 2.366716146469116}\n"
     ]
    },
    {
     "name": "stderr",
     "output_type": "stream",
     "text": [
      "distributed.utils_perf - WARNING - full garbage collections took 12% CPU time recently (threshold: 10%)\n",
      "distributed.utils_perf - WARNING - full garbage collections took 12% CPU time recently (threshold: 10%)\n"
     ]
    },
    {
     "name": "stdout",
     "output_type": "stream",
     "text": [
      "{'num_masks': 16, 'n_workers': 8, 'stackheight': 4, 'time': 2.360646963119507}\n"
     ]
    },
    {
     "name": "stderr",
     "output_type": "stream",
     "text": [
      "distributed.utils_perf - WARNING - full garbage collections took 12% CPU time recently (threshold: 10%)\n"
     ]
    },
    {
     "name": "stdout",
     "output_type": "stream",
     "text": [
      "{'num_masks': 16, 'n_workers': 8, 'stackheight': 8, 'time': 2.0625336170196533}\n"
     ]
    },
    {
     "name": "stderr",
     "output_type": "stream",
     "text": [
      "distributed.utils_perf - WARNING - full garbage collections took 12% CPU time recently (threshold: 10%)\n"
     ]
    },
    {
     "name": "stdout",
     "output_type": "stream",
     "text": [
      "{'num_masks': 16, 'n_workers': 8, 'stackheight': 8, 'time': 1.9741969108581543}\n",
      "{'num_masks': 16, 'n_workers': 8, 'stackheight': 8, 'time': 2.0062460899353027}\n"
     ]
    }
   ],
   "source": [
    "results = []\n",
    "for n_workers in range(1, 9):\n",
    "    cluster = executor.client.cluster\n",
    "    cluster.scale_up(n_workers, ncores=1)\n",
    "    for num_masks in [1, 2, 4, 8, 16]:\n",
    "        for stackheight in [4, 8]:\n",
    "            for repeat in range(3):\n",
    "                gc.collect()\n",
    "                t0 = time.time()\n",
    "                process_with_params(num_masks=num_masks + 1, stackheight=stackheight)\n",
    "                t1 = time.time()\n",
    "                result = {\n",
    "                    \"num_masks\": num_masks,\n",
    "                    \"n_workers\": n_workers,\n",
    "                    \"stackheight\": stackheight,\n",
    "                    \"time\": t1 - t0,\n",
    "                }\n",
    "                results.append(result)\n",
    "                print(result)"
   ]
  },
  {
   "cell_type": "code",
   "execution_count": 10,
   "metadata": {},
   "outputs": [],
   "source": [
    "df = pd.DataFrame(results)"
   ]
  },
  {
   "cell_type": "code",
   "execution_count": 11,
   "metadata": {},
   "outputs": [
    {
     "data": {
      "application/javascript": [
       "/* Put everything inside the global mpl namespace */\n",
       "window.mpl = {};\n",
       "\n",
       "\n",
       "mpl.get_websocket_type = function() {\n",
       "    if (typeof(WebSocket) !== 'undefined') {\n",
       "        return WebSocket;\n",
       "    } else if (typeof(MozWebSocket) !== 'undefined') {\n",
       "        return MozWebSocket;\n",
       "    } else {\n",
       "        alert('Your browser does not have WebSocket support.' +\n",
       "              'Please try Chrome, Safari or Firefox ≥ 6. ' +\n",
       "              'Firefox 4 and 5 are also supported but you ' +\n",
       "              'have to enable WebSockets in about:config.');\n",
       "    };\n",
       "}\n",
       "\n",
       "mpl.figure = function(figure_id, websocket, ondownload, parent_element) {\n",
       "    this.id = figure_id;\n",
       "\n",
       "    this.ws = websocket;\n",
       "\n",
       "    this.supports_binary = (this.ws.binaryType != undefined);\n",
       "\n",
       "    if (!this.supports_binary) {\n",
       "        var warnings = document.getElementById(\"mpl-warnings\");\n",
       "        if (warnings) {\n",
       "            warnings.style.display = 'block';\n",
       "            warnings.textContent = (\n",
       "                \"This browser does not support binary websocket messages. \" +\n",
       "                    \"Performance may be slow.\");\n",
       "        }\n",
       "    }\n",
       "\n",
       "    this.imageObj = new Image();\n",
       "\n",
       "    this.context = undefined;\n",
       "    this.message = undefined;\n",
       "    this.canvas = undefined;\n",
       "    this.rubberband_canvas = undefined;\n",
       "    this.rubberband_context = undefined;\n",
       "    this.format_dropdown = undefined;\n",
       "\n",
       "    this.image_mode = 'full';\n",
       "\n",
       "    this.root = $('<div/>');\n",
       "    this._root_extra_style(this.root)\n",
       "    this.root.attr('style', 'display: inline-block');\n",
       "\n",
       "    $(parent_element).append(this.root);\n",
       "\n",
       "    this._init_header(this);\n",
       "    this._init_canvas(this);\n",
       "    this._init_toolbar(this);\n",
       "\n",
       "    var fig = this;\n",
       "\n",
       "    this.waiting = false;\n",
       "\n",
       "    this.ws.onopen =  function () {\n",
       "            fig.send_message(\"supports_binary\", {value: fig.supports_binary});\n",
       "            fig.send_message(\"send_image_mode\", {});\n",
       "            if (mpl.ratio != 1) {\n",
       "                fig.send_message(\"set_dpi_ratio\", {'dpi_ratio': mpl.ratio});\n",
       "            }\n",
       "            fig.send_message(\"refresh\", {});\n",
       "        }\n",
       "\n",
       "    this.imageObj.onload = function() {\n",
       "            if (fig.image_mode == 'full') {\n",
       "                // Full images could contain transparency (where diff images\n",
       "                // almost always do), so we need to clear the canvas so that\n",
       "                // there is no ghosting.\n",
       "                fig.context.clearRect(0, 0, fig.canvas.width, fig.canvas.height);\n",
       "            }\n",
       "            fig.context.drawImage(fig.imageObj, 0, 0);\n",
       "        };\n",
       "\n",
       "    this.imageObj.onunload = function() {\n",
       "        fig.ws.close();\n",
       "    }\n",
       "\n",
       "    this.ws.onmessage = this._make_on_message_function(this);\n",
       "\n",
       "    this.ondownload = ondownload;\n",
       "}\n",
       "\n",
       "mpl.figure.prototype._init_header = function() {\n",
       "    var titlebar = $(\n",
       "        '<div class=\"ui-dialog-titlebar ui-widget-header ui-corner-all ' +\n",
       "        'ui-helper-clearfix\"/>');\n",
       "    var titletext = $(\n",
       "        '<div class=\"ui-dialog-title\" style=\"width: 100%; ' +\n",
       "        'text-align: center; padding: 3px;\"/>');\n",
       "    titlebar.append(titletext)\n",
       "    this.root.append(titlebar);\n",
       "    this.header = titletext[0];\n",
       "}\n",
       "\n",
       "\n",
       "\n",
       "mpl.figure.prototype._canvas_extra_style = function(canvas_div) {\n",
       "\n",
       "}\n",
       "\n",
       "\n",
       "mpl.figure.prototype._root_extra_style = function(canvas_div) {\n",
       "\n",
       "}\n",
       "\n",
       "mpl.figure.prototype._init_canvas = function() {\n",
       "    var fig = this;\n",
       "\n",
       "    var canvas_div = $('<div/>');\n",
       "\n",
       "    canvas_div.attr('style', 'position: relative; clear: both; outline: 0');\n",
       "\n",
       "    function canvas_keyboard_event(event) {\n",
       "        return fig.key_event(event, event['data']);\n",
       "    }\n",
       "\n",
       "    canvas_div.keydown('key_press', canvas_keyboard_event);\n",
       "    canvas_div.keyup('key_release', canvas_keyboard_event);\n",
       "    this.canvas_div = canvas_div\n",
       "    this._canvas_extra_style(canvas_div)\n",
       "    this.root.append(canvas_div);\n",
       "\n",
       "    var canvas = $('<canvas/>');\n",
       "    canvas.addClass('mpl-canvas');\n",
       "    canvas.attr('style', \"left: 0; top: 0; z-index: 0; outline: 0\")\n",
       "\n",
       "    this.canvas = canvas[0];\n",
       "    this.context = canvas[0].getContext(\"2d\");\n",
       "\n",
       "    var backingStore = this.context.backingStorePixelRatio ||\n",
       "\tthis.context.webkitBackingStorePixelRatio ||\n",
       "\tthis.context.mozBackingStorePixelRatio ||\n",
       "\tthis.context.msBackingStorePixelRatio ||\n",
       "\tthis.context.oBackingStorePixelRatio ||\n",
       "\tthis.context.backingStorePixelRatio || 1;\n",
       "\n",
       "    mpl.ratio = (window.devicePixelRatio || 1) / backingStore;\n",
       "\n",
       "    var rubberband = $('<canvas/>');\n",
       "    rubberband.attr('style', \"position: absolute; left: 0; top: 0; z-index: 1;\")\n",
       "\n",
       "    var pass_mouse_events = true;\n",
       "\n",
       "    canvas_div.resizable({\n",
       "        start: function(event, ui) {\n",
       "            pass_mouse_events = false;\n",
       "        },\n",
       "        resize: function(event, ui) {\n",
       "            fig.request_resize(ui.size.width, ui.size.height);\n",
       "        },\n",
       "        stop: function(event, ui) {\n",
       "            pass_mouse_events = true;\n",
       "            fig.request_resize(ui.size.width, ui.size.height);\n",
       "        },\n",
       "    });\n",
       "\n",
       "    function mouse_event_fn(event) {\n",
       "        if (pass_mouse_events)\n",
       "            return fig.mouse_event(event, event['data']);\n",
       "    }\n",
       "\n",
       "    rubberband.mousedown('button_press', mouse_event_fn);\n",
       "    rubberband.mouseup('button_release', mouse_event_fn);\n",
       "    // Throttle sequential mouse events to 1 every 20ms.\n",
       "    rubberband.mousemove('motion_notify', mouse_event_fn);\n",
       "\n",
       "    rubberband.mouseenter('figure_enter', mouse_event_fn);\n",
       "    rubberband.mouseleave('figure_leave', mouse_event_fn);\n",
       "\n",
       "    canvas_div.on(\"wheel\", function (event) {\n",
       "        event = event.originalEvent;\n",
       "        event['data'] = 'scroll'\n",
       "        if (event.deltaY < 0) {\n",
       "            event.step = 1;\n",
       "        } else {\n",
       "            event.step = -1;\n",
       "        }\n",
       "        mouse_event_fn(event);\n",
       "    });\n",
       "\n",
       "    canvas_div.append(canvas);\n",
       "    canvas_div.append(rubberband);\n",
       "\n",
       "    this.rubberband = rubberband;\n",
       "    this.rubberband_canvas = rubberband[0];\n",
       "    this.rubberband_context = rubberband[0].getContext(\"2d\");\n",
       "    this.rubberband_context.strokeStyle = \"#000000\";\n",
       "\n",
       "    this._resize_canvas = function(width, height) {\n",
       "        // Keep the size of the canvas, canvas container, and rubber band\n",
       "        // canvas in synch.\n",
       "        canvas_div.css('width', width)\n",
       "        canvas_div.css('height', height)\n",
       "\n",
       "        canvas.attr('width', width * mpl.ratio);\n",
       "        canvas.attr('height', height * mpl.ratio);\n",
       "        canvas.attr('style', 'width: ' + width + 'px; height: ' + height + 'px;');\n",
       "\n",
       "        rubberband.attr('width', width);\n",
       "        rubberband.attr('height', height);\n",
       "    }\n",
       "\n",
       "    // Set the figure to an initial 600x600px, this will subsequently be updated\n",
       "    // upon first draw.\n",
       "    this._resize_canvas(600, 600);\n",
       "\n",
       "    // Disable right mouse context menu.\n",
       "    $(this.rubberband_canvas).bind(\"contextmenu\",function(e){\n",
       "        return false;\n",
       "    });\n",
       "\n",
       "    function set_focus () {\n",
       "        canvas.focus();\n",
       "        canvas_div.focus();\n",
       "    }\n",
       "\n",
       "    window.setTimeout(set_focus, 100);\n",
       "}\n",
       "\n",
       "mpl.figure.prototype._init_toolbar = function() {\n",
       "    var fig = this;\n",
       "\n",
       "    var nav_element = $('<div/>')\n",
       "    nav_element.attr('style', 'width: 100%');\n",
       "    this.root.append(nav_element);\n",
       "\n",
       "    // Define a callback function for later on.\n",
       "    function toolbar_event(event) {\n",
       "        return fig.toolbar_button_onclick(event['data']);\n",
       "    }\n",
       "    function toolbar_mouse_event(event) {\n",
       "        return fig.toolbar_button_onmouseover(event['data']);\n",
       "    }\n",
       "\n",
       "    for(var toolbar_ind in mpl.toolbar_items) {\n",
       "        var name = mpl.toolbar_items[toolbar_ind][0];\n",
       "        var tooltip = mpl.toolbar_items[toolbar_ind][1];\n",
       "        var image = mpl.toolbar_items[toolbar_ind][2];\n",
       "        var method_name = mpl.toolbar_items[toolbar_ind][3];\n",
       "\n",
       "        if (!name) {\n",
       "            // put a spacer in here.\n",
       "            continue;\n",
       "        }\n",
       "        var button = $('<button/>');\n",
       "        button.addClass('ui-button ui-widget ui-state-default ui-corner-all ' +\n",
       "                        'ui-button-icon-only');\n",
       "        button.attr('role', 'button');\n",
       "        button.attr('aria-disabled', 'false');\n",
       "        button.click(method_name, toolbar_event);\n",
       "        button.mouseover(tooltip, toolbar_mouse_event);\n",
       "\n",
       "        var icon_img = $('<span/>');\n",
       "        icon_img.addClass('ui-button-icon-primary ui-icon');\n",
       "        icon_img.addClass(image);\n",
       "        icon_img.addClass('ui-corner-all');\n",
       "\n",
       "        var tooltip_span = $('<span/>');\n",
       "        tooltip_span.addClass('ui-button-text');\n",
       "        tooltip_span.html(tooltip);\n",
       "\n",
       "        button.append(icon_img);\n",
       "        button.append(tooltip_span);\n",
       "\n",
       "        nav_element.append(button);\n",
       "    }\n",
       "\n",
       "    var fmt_picker_span = $('<span/>');\n",
       "\n",
       "    var fmt_picker = $('<select/>');\n",
       "    fmt_picker.addClass('mpl-toolbar-option ui-widget ui-widget-content');\n",
       "    fmt_picker_span.append(fmt_picker);\n",
       "    nav_element.append(fmt_picker_span);\n",
       "    this.format_dropdown = fmt_picker[0];\n",
       "\n",
       "    for (var ind in mpl.extensions) {\n",
       "        var fmt = mpl.extensions[ind];\n",
       "        var option = $(\n",
       "            '<option/>', {selected: fmt === mpl.default_extension}).html(fmt);\n",
       "        fmt_picker.append(option)\n",
       "    }\n",
       "\n",
       "    // Add hover states to the ui-buttons\n",
       "    $( \".ui-button\" ).hover(\n",
       "        function() { $(this).addClass(\"ui-state-hover\");},\n",
       "        function() { $(this).removeClass(\"ui-state-hover\");}\n",
       "    );\n",
       "\n",
       "    var status_bar = $('<span class=\"mpl-message\"/>');\n",
       "    nav_element.append(status_bar);\n",
       "    this.message = status_bar[0];\n",
       "}\n",
       "\n",
       "mpl.figure.prototype.request_resize = function(x_pixels, y_pixels) {\n",
       "    // Request matplotlib to resize the figure. Matplotlib will then trigger a resize in the client,\n",
       "    // which will in turn request a refresh of the image.\n",
       "    this.send_message('resize', {'width': x_pixels, 'height': y_pixels});\n",
       "}\n",
       "\n",
       "mpl.figure.prototype.send_message = function(type, properties) {\n",
       "    properties['type'] = type;\n",
       "    properties['figure_id'] = this.id;\n",
       "    this.ws.send(JSON.stringify(properties));\n",
       "}\n",
       "\n",
       "mpl.figure.prototype.send_draw_message = function() {\n",
       "    if (!this.waiting) {\n",
       "        this.waiting = true;\n",
       "        this.ws.send(JSON.stringify({type: \"draw\", figure_id: this.id}));\n",
       "    }\n",
       "}\n",
       "\n",
       "\n",
       "mpl.figure.prototype.handle_save = function(fig, msg) {\n",
       "    var format_dropdown = fig.format_dropdown;\n",
       "    var format = format_dropdown.options[format_dropdown.selectedIndex].value;\n",
       "    fig.ondownload(fig, format);\n",
       "}\n",
       "\n",
       "\n",
       "mpl.figure.prototype.handle_resize = function(fig, msg) {\n",
       "    var size = msg['size'];\n",
       "    if (size[0] != fig.canvas.width || size[1] != fig.canvas.height) {\n",
       "        fig._resize_canvas(size[0], size[1]);\n",
       "        fig.send_message(\"refresh\", {});\n",
       "    };\n",
       "}\n",
       "\n",
       "mpl.figure.prototype.handle_rubberband = function(fig, msg) {\n",
       "    var x0 = msg['x0'] / mpl.ratio;\n",
       "    var y0 = (fig.canvas.height - msg['y0']) / mpl.ratio;\n",
       "    var x1 = msg['x1'] / mpl.ratio;\n",
       "    var y1 = (fig.canvas.height - msg['y1']) / mpl.ratio;\n",
       "    x0 = Math.floor(x0) + 0.5;\n",
       "    y0 = Math.floor(y0) + 0.5;\n",
       "    x1 = Math.floor(x1) + 0.5;\n",
       "    y1 = Math.floor(y1) + 0.5;\n",
       "    var min_x = Math.min(x0, x1);\n",
       "    var min_y = Math.min(y0, y1);\n",
       "    var width = Math.abs(x1 - x0);\n",
       "    var height = Math.abs(y1 - y0);\n",
       "\n",
       "    fig.rubberband_context.clearRect(\n",
       "        0, 0, fig.canvas.width, fig.canvas.height);\n",
       "\n",
       "    fig.rubberband_context.strokeRect(min_x, min_y, width, height);\n",
       "}\n",
       "\n",
       "mpl.figure.prototype.handle_figure_label = function(fig, msg) {\n",
       "    // Updates the figure title.\n",
       "    fig.header.textContent = msg['label'];\n",
       "}\n",
       "\n",
       "mpl.figure.prototype.handle_cursor = function(fig, msg) {\n",
       "    var cursor = msg['cursor'];\n",
       "    switch(cursor)\n",
       "    {\n",
       "    case 0:\n",
       "        cursor = 'pointer';\n",
       "        break;\n",
       "    case 1:\n",
       "        cursor = 'default';\n",
       "        break;\n",
       "    case 2:\n",
       "        cursor = 'crosshair';\n",
       "        break;\n",
       "    case 3:\n",
       "        cursor = 'move';\n",
       "        break;\n",
       "    }\n",
       "    fig.rubberband_canvas.style.cursor = cursor;\n",
       "}\n",
       "\n",
       "mpl.figure.prototype.handle_message = function(fig, msg) {\n",
       "    fig.message.textContent = msg['message'];\n",
       "}\n",
       "\n",
       "mpl.figure.prototype.handle_draw = function(fig, msg) {\n",
       "    // Request the server to send over a new figure.\n",
       "    fig.send_draw_message();\n",
       "}\n",
       "\n",
       "mpl.figure.prototype.handle_image_mode = function(fig, msg) {\n",
       "    fig.image_mode = msg['mode'];\n",
       "}\n",
       "\n",
       "mpl.figure.prototype.updated_canvas_event = function() {\n",
       "    // Called whenever the canvas gets updated.\n",
       "    this.send_message(\"ack\", {});\n",
       "}\n",
       "\n",
       "// A function to construct a web socket function for onmessage handling.\n",
       "// Called in the figure constructor.\n",
       "mpl.figure.prototype._make_on_message_function = function(fig) {\n",
       "    return function socket_on_message(evt) {\n",
       "        if (evt.data instanceof Blob) {\n",
       "            /* FIXME: We get \"Resource interpreted as Image but\n",
       "             * transferred with MIME type text/plain:\" errors on\n",
       "             * Chrome.  But how to set the MIME type?  It doesn't seem\n",
       "             * to be part of the websocket stream */\n",
       "            evt.data.type = \"image/png\";\n",
       "\n",
       "            /* Free the memory for the previous frames */\n",
       "            if (fig.imageObj.src) {\n",
       "                (window.URL || window.webkitURL).revokeObjectURL(\n",
       "                    fig.imageObj.src);\n",
       "            }\n",
       "\n",
       "            fig.imageObj.src = (window.URL || window.webkitURL).createObjectURL(\n",
       "                evt.data);\n",
       "            fig.updated_canvas_event();\n",
       "            fig.waiting = false;\n",
       "            return;\n",
       "        }\n",
       "        else if (typeof evt.data === 'string' && evt.data.slice(0, 21) == \"data:image/png;base64\") {\n",
       "            fig.imageObj.src = evt.data;\n",
       "            fig.updated_canvas_event();\n",
       "            fig.waiting = false;\n",
       "            return;\n",
       "        }\n",
       "\n",
       "        var msg = JSON.parse(evt.data);\n",
       "        var msg_type = msg['type'];\n",
       "\n",
       "        // Call the  \"handle_{type}\" callback, which takes\n",
       "        // the figure and JSON message as its only arguments.\n",
       "        try {\n",
       "            var callback = fig[\"handle_\" + msg_type];\n",
       "        } catch (e) {\n",
       "            console.log(\"No handler for the '\" + msg_type + \"' message type: \", msg);\n",
       "            return;\n",
       "        }\n",
       "\n",
       "        if (callback) {\n",
       "            try {\n",
       "                // console.log(\"Handling '\" + msg_type + \"' message: \", msg);\n",
       "                callback(fig, msg);\n",
       "            } catch (e) {\n",
       "                console.log(\"Exception inside the 'handler_\" + msg_type + \"' callback:\", e, e.stack, msg);\n",
       "            }\n",
       "        }\n",
       "    };\n",
       "}\n",
       "\n",
       "// from http://stackoverflow.com/questions/1114465/getting-mouse-location-in-canvas\n",
       "mpl.findpos = function(e) {\n",
       "    //this section is from http://www.quirksmode.org/js/events_properties.html\n",
       "    var targ;\n",
       "    if (!e)\n",
       "        e = window.event;\n",
       "    if (e.target)\n",
       "        targ = e.target;\n",
       "    else if (e.srcElement)\n",
       "        targ = e.srcElement;\n",
       "    if (targ.nodeType == 3) // defeat Safari bug\n",
       "        targ = targ.parentNode;\n",
       "\n",
       "    // jQuery normalizes the pageX and pageY\n",
       "    // pageX,Y are the mouse positions relative to the document\n",
       "    // offset() returns the position of the element relative to the document\n",
       "    var x = e.pageX - $(targ).offset().left;\n",
       "    var y = e.pageY - $(targ).offset().top;\n",
       "\n",
       "    return {\"x\": x, \"y\": y};\n",
       "};\n",
       "\n",
       "/*\n",
       " * return a copy of an object with only non-object keys\n",
       " * we need this to avoid circular references\n",
       " * http://stackoverflow.com/a/24161582/3208463\n",
       " */\n",
       "function simpleKeys (original) {\n",
       "  return Object.keys(original).reduce(function (obj, key) {\n",
       "    if (typeof original[key] !== 'object')\n",
       "        obj[key] = original[key]\n",
       "    return obj;\n",
       "  }, {});\n",
       "}\n",
       "\n",
       "mpl.figure.prototype.mouse_event = function(event, name) {\n",
       "    var canvas_pos = mpl.findpos(event)\n",
       "\n",
       "    if (name === 'button_press')\n",
       "    {\n",
       "        this.canvas.focus();\n",
       "        this.canvas_div.focus();\n",
       "    }\n",
       "\n",
       "    var x = canvas_pos.x * mpl.ratio;\n",
       "    var y = canvas_pos.y * mpl.ratio;\n",
       "\n",
       "    this.send_message(name, {x: x, y: y, button: event.button,\n",
       "                             step: event.step,\n",
       "                             guiEvent: simpleKeys(event)});\n",
       "\n",
       "    /* This prevents the web browser from automatically changing to\n",
       "     * the text insertion cursor when the button is pressed.  We want\n",
       "     * to control all of the cursor setting manually through the\n",
       "     * 'cursor' event from matplotlib */\n",
       "    event.preventDefault();\n",
       "    return false;\n",
       "}\n",
       "\n",
       "mpl.figure.prototype._key_event_extra = function(event, name) {\n",
       "    // Handle any extra behaviour associated with a key event\n",
       "}\n",
       "\n",
       "mpl.figure.prototype.key_event = function(event, name) {\n",
       "\n",
       "    // Prevent repeat events\n",
       "    if (name == 'key_press')\n",
       "    {\n",
       "        if (event.which === this._key)\n",
       "            return;\n",
       "        else\n",
       "            this._key = event.which;\n",
       "    }\n",
       "    if (name == 'key_release')\n",
       "        this._key = null;\n",
       "\n",
       "    var value = '';\n",
       "    if (event.ctrlKey && event.which != 17)\n",
       "        value += \"ctrl+\";\n",
       "    if (event.altKey && event.which != 18)\n",
       "        value += \"alt+\";\n",
       "    if (event.shiftKey && event.which != 16)\n",
       "        value += \"shift+\";\n",
       "\n",
       "    value += 'k';\n",
       "    value += event.which.toString();\n",
       "\n",
       "    this._key_event_extra(event, name);\n",
       "\n",
       "    this.send_message(name, {key: value,\n",
       "                             guiEvent: simpleKeys(event)});\n",
       "    return false;\n",
       "}\n",
       "\n",
       "mpl.figure.prototype.toolbar_button_onclick = function(name) {\n",
       "    if (name == 'download') {\n",
       "        this.handle_save(this, null);\n",
       "    } else {\n",
       "        this.send_message(\"toolbar_button\", {name: name});\n",
       "    }\n",
       "};\n",
       "\n",
       "mpl.figure.prototype.toolbar_button_onmouseover = function(tooltip) {\n",
       "    this.message.textContent = tooltip;\n",
       "};\n",
       "mpl.toolbar_items = [[\"Home\", \"Reset original view\", \"fa fa-home icon-home\", \"home\"], [\"Back\", \"Back to  previous view\", \"fa fa-arrow-left icon-arrow-left\", \"back\"], [\"Forward\", \"Forward to next view\", \"fa fa-arrow-right icon-arrow-right\", \"forward\"], [\"\", \"\", \"\", \"\"], [\"Pan\", \"Pan axes with left mouse, zoom with right\", \"fa fa-arrows icon-move\", \"pan\"], [\"Zoom\", \"Zoom to rectangle\", \"fa fa-square-o icon-check-empty\", \"zoom\"], [\"\", \"\", \"\", \"\"], [\"Download\", \"Download plot\", \"fa fa-floppy-o icon-save\", \"download\"]];\n",
       "\n",
       "mpl.extensions = [\"eps\", \"jpeg\", \"pdf\", \"png\", \"ps\", \"raw\", \"svg\", \"tif\"];\n",
       "\n",
       "mpl.default_extension = \"png\";var comm_websocket_adapter = function(comm) {\n",
       "    // Create a \"websocket\"-like object which calls the given IPython comm\n",
       "    // object with the appropriate methods. Currently this is a non binary\n",
       "    // socket, so there is still some room for performance tuning.\n",
       "    var ws = {};\n",
       "\n",
       "    ws.close = function() {\n",
       "        comm.close()\n",
       "    };\n",
       "    ws.send = function(m) {\n",
       "        //console.log('sending', m);\n",
       "        comm.send(m);\n",
       "    };\n",
       "    // Register the callback with on_msg.\n",
       "    comm.on_msg(function(msg) {\n",
       "        //console.log('receiving', msg['content']['data'], msg);\n",
       "        // Pass the mpl event to the overridden (by mpl) onmessage function.\n",
       "        ws.onmessage(msg['content']['data'])\n",
       "    });\n",
       "    return ws;\n",
       "}\n",
       "\n",
       "mpl.mpl_figure_comm = function(comm, msg) {\n",
       "    // This is the function which gets called when the mpl process\n",
       "    // starts-up an IPython Comm through the \"matplotlib\" channel.\n",
       "\n",
       "    var id = msg.content.data.id;\n",
       "    // Get hold of the div created by the display call when the Comm\n",
       "    // socket was opened in Python.\n",
       "    var element = $(\"#\" + id);\n",
       "    var ws_proxy = comm_websocket_adapter(comm)\n",
       "\n",
       "    function ondownload(figure, format) {\n",
       "        window.open(figure.imageObj.src);\n",
       "    }\n",
       "\n",
       "    var fig = new mpl.figure(id, ws_proxy,\n",
       "                           ondownload,\n",
       "                           element.get(0));\n",
       "\n",
       "    // Call onopen now - mpl needs it, as it is assuming we've passed it a real\n",
       "    // web socket which is closed, not our websocket->open comm proxy.\n",
       "    ws_proxy.onopen();\n",
       "\n",
       "    fig.parent_element = element.get(0);\n",
       "    fig.cell_info = mpl.find_output_cell(\"<div id='\" + id + \"'></div>\");\n",
       "    if (!fig.cell_info) {\n",
       "        console.error(\"Failed to find cell for figure\", id, fig);\n",
       "        return;\n",
       "    }\n",
       "\n",
       "    var output_index = fig.cell_info[2]\n",
       "    var cell = fig.cell_info[0];\n",
       "\n",
       "};\n",
       "\n",
       "mpl.figure.prototype.handle_close = function(fig, msg) {\n",
       "    var width = fig.canvas.width/mpl.ratio\n",
       "    fig.root.unbind('remove')\n",
       "\n",
       "    // Update the output cell to use the data from the current canvas.\n",
       "    fig.push_to_output();\n",
       "    var dataURL = fig.canvas.toDataURL();\n",
       "    // Re-enable the keyboard manager in IPython - without this line, in FF,\n",
       "    // the notebook keyboard shortcuts fail.\n",
       "    IPython.keyboard_manager.enable()\n",
       "    $(fig.parent_element).html('<img src=\"' + dataURL + '\" width=\"' + width + '\">');\n",
       "    fig.close_ws(fig, msg);\n",
       "}\n",
       "\n",
       "mpl.figure.prototype.close_ws = function(fig, msg){\n",
       "    fig.send_message('closing', msg);\n",
       "    // fig.ws.close()\n",
       "}\n",
       "\n",
       "mpl.figure.prototype.push_to_output = function(remove_interactive) {\n",
       "    // Turn the data on the canvas into data in the output cell.\n",
       "    var width = this.canvas.width/mpl.ratio\n",
       "    var dataURL = this.canvas.toDataURL();\n",
       "    this.cell_info[1]['text/html'] = '<img src=\"' + dataURL + '\" width=\"' + width + '\">';\n",
       "}\n",
       "\n",
       "mpl.figure.prototype.updated_canvas_event = function() {\n",
       "    // Tell IPython that the notebook contents must change.\n",
       "    IPython.notebook.set_dirty(true);\n",
       "    this.send_message(\"ack\", {});\n",
       "    var fig = this;\n",
       "    // Wait a second, then push the new image to the DOM so\n",
       "    // that it is saved nicely (might be nice to debounce this).\n",
       "    setTimeout(function () { fig.push_to_output() }, 1000);\n",
       "}\n",
       "\n",
       "mpl.figure.prototype._init_toolbar = function() {\n",
       "    var fig = this;\n",
       "\n",
       "    var nav_element = $('<div/>')\n",
       "    nav_element.attr('style', 'width: 100%');\n",
       "    this.root.append(nav_element);\n",
       "\n",
       "    // Define a callback function for later on.\n",
       "    function toolbar_event(event) {\n",
       "        return fig.toolbar_button_onclick(event['data']);\n",
       "    }\n",
       "    function toolbar_mouse_event(event) {\n",
       "        return fig.toolbar_button_onmouseover(event['data']);\n",
       "    }\n",
       "\n",
       "    for(var toolbar_ind in mpl.toolbar_items){\n",
       "        var name = mpl.toolbar_items[toolbar_ind][0];\n",
       "        var tooltip = mpl.toolbar_items[toolbar_ind][1];\n",
       "        var image = mpl.toolbar_items[toolbar_ind][2];\n",
       "        var method_name = mpl.toolbar_items[toolbar_ind][3];\n",
       "\n",
       "        if (!name) { continue; };\n",
       "\n",
       "        var button = $('<button class=\"btn btn-default\" href=\"#\" title=\"' + name + '\"><i class=\"fa ' + image + ' fa-lg\"></i></button>');\n",
       "        button.click(method_name, toolbar_event);\n",
       "        button.mouseover(tooltip, toolbar_mouse_event);\n",
       "        nav_element.append(button);\n",
       "    }\n",
       "\n",
       "    // Add the status bar.\n",
       "    var status_bar = $('<span class=\"mpl-message\" style=\"text-align:right; float: right;\"/>');\n",
       "    nav_element.append(status_bar);\n",
       "    this.message = status_bar[0];\n",
       "\n",
       "    // Add the close button to the window.\n",
       "    var buttongrp = $('<div class=\"btn-group inline pull-right\"></div>');\n",
       "    var button = $('<button class=\"btn btn-mini btn-primary\" href=\"#\" title=\"Stop Interaction\"><i class=\"fa fa-power-off icon-remove icon-large\"></i></button>');\n",
       "    button.click(function (evt) { fig.handle_close(fig, {}); } );\n",
       "    button.mouseover('Stop Interaction', toolbar_mouse_event);\n",
       "    buttongrp.append(button);\n",
       "    var titlebar = this.root.find($('.ui-dialog-titlebar'));\n",
       "    titlebar.prepend(buttongrp);\n",
       "}\n",
       "\n",
       "mpl.figure.prototype._root_extra_style = function(el){\n",
       "    var fig = this\n",
       "    el.on(\"remove\", function(){\n",
       "\tfig.close_ws(fig, {});\n",
       "    });\n",
       "}\n",
       "\n",
       "mpl.figure.prototype._canvas_extra_style = function(el){\n",
       "    // this is important to make the div 'focusable\n",
       "    el.attr('tabindex', 0)\n",
       "    // reach out to IPython and tell the keyboard manager to turn it's self\n",
       "    // off when our div gets focus\n",
       "\n",
       "    // location in version 3\n",
       "    if (IPython.notebook.keyboard_manager) {\n",
       "        IPython.notebook.keyboard_manager.register_events(el);\n",
       "    }\n",
       "    else {\n",
       "        // location in version 2\n",
       "        IPython.keyboard_manager.register_events(el);\n",
       "    }\n",
       "\n",
       "}\n",
       "\n",
       "mpl.figure.prototype._key_event_extra = function(event, name) {\n",
       "    var manager = IPython.notebook.keyboard_manager;\n",
       "    if (!manager)\n",
       "        manager = IPython.keyboard_manager;\n",
       "\n",
       "    // Check for shift+enter\n",
       "    if (event.shiftKey && event.which == 13) {\n",
       "        this.canvas_div.blur();\n",
       "        event.shiftKey = false;\n",
       "        // Send a \"J\" for go to next cell\n",
       "        event.which = 74;\n",
       "        event.keyCode = 74;\n",
       "        manager.command_mode();\n",
       "        manager.handle_keydown(event);\n",
       "    }\n",
       "}\n",
       "\n",
       "mpl.figure.prototype.handle_save = function(fig, msg) {\n",
       "    fig.ondownload(fig, null);\n",
       "}\n",
       "\n",
       "\n",
       "mpl.find_output_cell = function(html_output) {\n",
       "    // Return the cell and output element which can be found *uniquely* in the notebook.\n",
       "    // Note - this is a bit hacky, but it is done because the \"notebook_saving.Notebook\"\n",
       "    // IPython event is triggered only after the cells have been serialised, which for\n",
       "    // our purposes (turning an active figure into a static one), is too late.\n",
       "    var cells = IPython.notebook.get_cells();\n",
       "    var ncells = cells.length;\n",
       "    for (var i=0; i<ncells; i++) {\n",
       "        var cell = cells[i];\n",
       "        if (cell.cell_type === 'code'){\n",
       "            for (var j=0; j<cell.output_area.outputs.length; j++) {\n",
       "                var data = cell.output_area.outputs[j];\n",
       "                if (data.data) {\n",
       "                    // IPython >= 3 moved mimebundle to data attribute of output\n",
       "                    data = data.data;\n",
       "                }\n",
       "                if (data['text/html'] == html_output) {\n",
       "                    return [cell, data, j];\n",
       "                }\n",
       "            }\n",
       "        }\n",
       "    }\n",
       "}\n",
       "\n",
       "// Register the function which deals with the matplotlib target/channel.\n",
       "// The kernel may be null if the page has been refreshed.\n",
       "if (IPython.notebook.kernel != null) {\n",
       "    IPython.notebook.kernel.comm_manager.register_target('matplotlib', mpl.mpl_figure_comm);\n",
       "}\n"
      ],
      "text/plain": [
       "<IPython.core.display.Javascript object>"
      ]
     },
     "metadata": {},
     "output_type": "display_data"
    },
    {
     "data": {
      "text/html": [
       "<img src=\"data:image/png;base64,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\" width=\"976\">"
      ],
      "text/plain": [
       "<IPython.core.display.HTML object>"
      ]
     },
     "metadata": {},
     "output_type": "display_data"
    }
   ],
   "source": [
    "table = df.pivot_table(values='time', columns=['stackheight', \"n_workers\"], index=[\"num_masks\"])\n",
    "cmap = \"RdYlGn_r\"\n",
    "seaborn.heatmap(table, annot=True, cmap=cmap, fmt=\".2f\")\n",
    "plt.show()"
   ]
  },
  {
   "cell_type": "code",
   "execution_count": 18,
   "metadata": {
    "scrolled": false
   },
   "outputs": [
    {
     "data": {
      "application/javascript": [
       "/* Put everything inside the global mpl namespace */\n",
       "window.mpl = {};\n",
       "\n",
       "\n",
       "mpl.get_websocket_type = function() {\n",
       "    if (typeof(WebSocket) !== 'undefined') {\n",
       "        return WebSocket;\n",
       "    } else if (typeof(MozWebSocket) !== 'undefined') {\n",
       "        return MozWebSocket;\n",
       "    } else {\n",
       "        alert('Your browser does not have WebSocket support.' +\n",
       "              'Please try Chrome, Safari or Firefox ≥ 6. ' +\n",
       "              'Firefox 4 and 5 are also supported but you ' +\n",
       "              'have to enable WebSockets in about:config.');\n",
       "    };\n",
       "}\n",
       "\n",
       "mpl.figure = function(figure_id, websocket, ondownload, parent_element) {\n",
       "    this.id = figure_id;\n",
       "\n",
       "    this.ws = websocket;\n",
       "\n",
       "    this.supports_binary = (this.ws.binaryType != undefined);\n",
       "\n",
       "    if (!this.supports_binary) {\n",
       "        var warnings = document.getElementById(\"mpl-warnings\");\n",
       "        if (warnings) {\n",
       "            warnings.style.display = 'block';\n",
       "            warnings.textContent = (\n",
       "                \"This browser does not support binary websocket messages. \" +\n",
       "                    \"Performance may be slow.\");\n",
       "        }\n",
       "    }\n",
       "\n",
       "    this.imageObj = new Image();\n",
       "\n",
       "    this.context = undefined;\n",
       "    this.message = undefined;\n",
       "    this.canvas = undefined;\n",
       "    this.rubberband_canvas = undefined;\n",
       "    this.rubberband_context = undefined;\n",
       "    this.format_dropdown = undefined;\n",
       "\n",
       "    this.image_mode = 'full';\n",
       "\n",
       "    this.root = $('<div/>');\n",
       "    this._root_extra_style(this.root)\n",
       "    this.root.attr('style', 'display: inline-block');\n",
       "\n",
       "    $(parent_element).append(this.root);\n",
       "\n",
       "    this._init_header(this);\n",
       "    this._init_canvas(this);\n",
       "    this._init_toolbar(this);\n",
       "\n",
       "    var fig = this;\n",
       "\n",
       "    this.waiting = false;\n",
       "\n",
       "    this.ws.onopen =  function () {\n",
       "            fig.send_message(\"supports_binary\", {value: fig.supports_binary});\n",
       "            fig.send_message(\"send_image_mode\", {});\n",
       "            if (mpl.ratio != 1) {\n",
       "                fig.send_message(\"set_dpi_ratio\", {'dpi_ratio': mpl.ratio});\n",
       "            }\n",
       "            fig.send_message(\"refresh\", {});\n",
       "        }\n",
       "\n",
       "    this.imageObj.onload = function() {\n",
       "            if (fig.image_mode == 'full') {\n",
       "                // Full images could contain transparency (where diff images\n",
       "                // almost always do), so we need to clear the canvas so that\n",
       "                // there is no ghosting.\n",
       "                fig.context.clearRect(0, 0, fig.canvas.width, fig.canvas.height);\n",
       "            }\n",
       "            fig.context.drawImage(fig.imageObj, 0, 0);\n",
       "        };\n",
       "\n",
       "    this.imageObj.onunload = function() {\n",
       "        fig.ws.close();\n",
       "    }\n",
       "\n",
       "    this.ws.onmessage = this._make_on_message_function(this);\n",
       "\n",
       "    this.ondownload = ondownload;\n",
       "}\n",
       "\n",
       "mpl.figure.prototype._init_header = function() {\n",
       "    var titlebar = $(\n",
       "        '<div class=\"ui-dialog-titlebar ui-widget-header ui-corner-all ' +\n",
       "        'ui-helper-clearfix\"/>');\n",
       "    var titletext = $(\n",
       "        '<div class=\"ui-dialog-title\" style=\"width: 100%; ' +\n",
       "        'text-align: center; padding: 3px;\"/>');\n",
       "    titlebar.append(titletext)\n",
       "    this.root.append(titlebar);\n",
       "    this.header = titletext[0];\n",
       "}\n",
       "\n",
       "\n",
       "\n",
       "mpl.figure.prototype._canvas_extra_style = function(canvas_div) {\n",
       "\n",
       "}\n",
       "\n",
       "\n",
       "mpl.figure.prototype._root_extra_style = function(canvas_div) {\n",
       "\n",
       "}\n",
       "\n",
       "mpl.figure.prototype._init_canvas = function() {\n",
       "    var fig = this;\n",
       "\n",
       "    var canvas_div = $('<div/>');\n",
       "\n",
       "    canvas_div.attr('style', 'position: relative; clear: both; outline: 0');\n",
       "\n",
       "    function canvas_keyboard_event(event) {\n",
       "        return fig.key_event(event, event['data']);\n",
       "    }\n",
       "\n",
       "    canvas_div.keydown('key_press', canvas_keyboard_event);\n",
       "    canvas_div.keyup('key_release', canvas_keyboard_event);\n",
       "    this.canvas_div = canvas_div\n",
       "    this._canvas_extra_style(canvas_div)\n",
       "    this.root.append(canvas_div);\n",
       "\n",
       "    var canvas = $('<canvas/>');\n",
       "    canvas.addClass('mpl-canvas');\n",
       "    canvas.attr('style', \"left: 0; top: 0; z-index: 0; outline: 0\")\n",
       "\n",
       "    this.canvas = canvas[0];\n",
       "    this.context = canvas[0].getContext(\"2d\");\n",
       "\n",
       "    var backingStore = this.context.backingStorePixelRatio ||\n",
       "\tthis.context.webkitBackingStorePixelRatio ||\n",
       "\tthis.context.mozBackingStorePixelRatio ||\n",
       "\tthis.context.msBackingStorePixelRatio ||\n",
       "\tthis.context.oBackingStorePixelRatio ||\n",
       "\tthis.context.backingStorePixelRatio || 1;\n",
       "\n",
       "    mpl.ratio = (window.devicePixelRatio || 1) / backingStore;\n",
       "\n",
       "    var rubberband = $('<canvas/>');\n",
       "    rubberband.attr('style', \"position: absolute; left: 0; top: 0; z-index: 1;\")\n",
       "\n",
       "    var pass_mouse_events = true;\n",
       "\n",
       "    canvas_div.resizable({\n",
       "        start: function(event, ui) {\n",
       "            pass_mouse_events = false;\n",
       "        },\n",
       "        resize: function(event, ui) {\n",
       "            fig.request_resize(ui.size.width, ui.size.height);\n",
       "        },\n",
       "        stop: function(event, ui) {\n",
       "            pass_mouse_events = true;\n",
       "            fig.request_resize(ui.size.width, ui.size.height);\n",
       "        },\n",
       "    });\n",
       "\n",
       "    function mouse_event_fn(event) {\n",
       "        if (pass_mouse_events)\n",
       "            return fig.mouse_event(event, event['data']);\n",
       "    }\n",
       "\n",
       "    rubberband.mousedown('button_press', mouse_event_fn);\n",
       "    rubberband.mouseup('button_release', mouse_event_fn);\n",
       "    // Throttle sequential mouse events to 1 every 20ms.\n",
       "    rubberband.mousemove('motion_notify', mouse_event_fn);\n",
       "\n",
       "    rubberband.mouseenter('figure_enter', mouse_event_fn);\n",
       "    rubberband.mouseleave('figure_leave', mouse_event_fn);\n",
       "\n",
       "    canvas_div.on(\"wheel\", function (event) {\n",
       "        event = event.originalEvent;\n",
       "        event['data'] = 'scroll'\n",
       "        if (event.deltaY < 0) {\n",
       "            event.step = 1;\n",
       "        } else {\n",
       "            event.step = -1;\n",
       "        }\n",
       "        mouse_event_fn(event);\n",
       "    });\n",
       "\n",
       "    canvas_div.append(canvas);\n",
       "    canvas_div.append(rubberband);\n",
       "\n",
       "    this.rubberband = rubberband;\n",
       "    this.rubberband_canvas = rubberband[0];\n",
       "    this.rubberband_context = rubberband[0].getContext(\"2d\");\n",
       "    this.rubberband_context.strokeStyle = \"#000000\";\n",
       "\n",
       "    this._resize_canvas = function(width, height) {\n",
       "        // Keep the size of the canvas, canvas container, and rubber band\n",
       "        // canvas in synch.\n",
       "        canvas_div.css('width', width)\n",
       "        canvas_div.css('height', height)\n",
       "\n",
       "        canvas.attr('width', width * mpl.ratio);\n",
       "        canvas.attr('height', height * mpl.ratio);\n",
       "        canvas.attr('style', 'width: ' + width + 'px; height: ' + height + 'px;');\n",
       "\n",
       "        rubberband.attr('width', width);\n",
       "        rubberband.attr('height', height);\n",
       "    }\n",
       "\n",
       "    // Set the figure to an initial 600x600px, this will subsequently be updated\n",
       "    // upon first draw.\n",
       "    this._resize_canvas(600, 600);\n",
       "\n",
       "    // Disable right mouse context menu.\n",
       "    $(this.rubberband_canvas).bind(\"contextmenu\",function(e){\n",
       "        return false;\n",
       "    });\n",
       "\n",
       "    function set_focus () {\n",
       "        canvas.focus();\n",
       "        canvas_div.focus();\n",
       "    }\n",
       "\n",
       "    window.setTimeout(set_focus, 100);\n",
       "}\n",
       "\n",
       "mpl.figure.prototype._init_toolbar = function() {\n",
       "    var fig = this;\n",
       "\n",
       "    var nav_element = $('<div/>')\n",
       "    nav_element.attr('style', 'width: 100%');\n",
       "    this.root.append(nav_element);\n",
       "\n",
       "    // Define a callback function for later on.\n",
       "    function toolbar_event(event) {\n",
       "        return fig.toolbar_button_onclick(event['data']);\n",
       "    }\n",
       "    function toolbar_mouse_event(event) {\n",
       "        return fig.toolbar_button_onmouseover(event['data']);\n",
       "    }\n",
       "\n",
       "    for(var toolbar_ind in mpl.toolbar_items) {\n",
       "        var name = mpl.toolbar_items[toolbar_ind][0];\n",
       "        var tooltip = mpl.toolbar_items[toolbar_ind][1];\n",
       "        var image = mpl.toolbar_items[toolbar_ind][2];\n",
       "        var method_name = mpl.toolbar_items[toolbar_ind][3];\n",
       "\n",
       "        if (!name) {\n",
       "            // put a spacer in here.\n",
       "            continue;\n",
       "        }\n",
       "        var button = $('<button/>');\n",
       "        button.addClass('ui-button ui-widget ui-state-default ui-corner-all ' +\n",
       "                        'ui-button-icon-only');\n",
       "        button.attr('role', 'button');\n",
       "        button.attr('aria-disabled', 'false');\n",
       "        button.click(method_name, toolbar_event);\n",
       "        button.mouseover(tooltip, toolbar_mouse_event);\n",
       "\n",
       "        var icon_img = $('<span/>');\n",
       "        icon_img.addClass('ui-button-icon-primary ui-icon');\n",
       "        icon_img.addClass(image);\n",
       "        icon_img.addClass('ui-corner-all');\n",
       "\n",
       "        var tooltip_span = $('<span/>');\n",
       "        tooltip_span.addClass('ui-button-text');\n",
       "        tooltip_span.html(tooltip);\n",
       "\n",
       "        button.append(icon_img);\n",
       "        button.append(tooltip_span);\n",
       "\n",
       "        nav_element.append(button);\n",
       "    }\n",
       "\n",
       "    var fmt_picker_span = $('<span/>');\n",
       "\n",
       "    var fmt_picker = $('<select/>');\n",
       "    fmt_picker.addClass('mpl-toolbar-option ui-widget ui-widget-content');\n",
       "    fmt_picker_span.append(fmt_picker);\n",
       "    nav_element.append(fmt_picker_span);\n",
       "    this.format_dropdown = fmt_picker[0];\n",
       "\n",
       "    for (var ind in mpl.extensions) {\n",
       "        var fmt = mpl.extensions[ind];\n",
       "        var option = $(\n",
       "            '<option/>', {selected: fmt === mpl.default_extension}).html(fmt);\n",
       "        fmt_picker.append(option)\n",
       "    }\n",
       "\n",
       "    // Add hover states to the ui-buttons\n",
       "    $( \".ui-button\" ).hover(\n",
       "        function() { $(this).addClass(\"ui-state-hover\");},\n",
       "        function() { $(this).removeClass(\"ui-state-hover\");}\n",
       "    );\n",
       "\n",
       "    var status_bar = $('<span class=\"mpl-message\"/>');\n",
       "    nav_element.append(status_bar);\n",
       "    this.message = status_bar[0];\n",
       "}\n",
       "\n",
       "mpl.figure.prototype.request_resize = function(x_pixels, y_pixels) {\n",
       "    // Request matplotlib to resize the figure. Matplotlib will then trigger a resize in the client,\n",
       "    // which will in turn request a refresh of the image.\n",
       "    this.send_message('resize', {'width': x_pixels, 'height': y_pixels});\n",
       "}\n",
       "\n",
       "mpl.figure.prototype.send_message = function(type, properties) {\n",
       "    properties['type'] = type;\n",
       "    properties['figure_id'] = this.id;\n",
       "    this.ws.send(JSON.stringify(properties));\n",
       "}\n",
       "\n",
       "mpl.figure.prototype.send_draw_message = function() {\n",
       "    if (!this.waiting) {\n",
       "        this.waiting = true;\n",
       "        this.ws.send(JSON.stringify({type: \"draw\", figure_id: this.id}));\n",
       "    }\n",
       "}\n",
       "\n",
       "\n",
       "mpl.figure.prototype.handle_save = function(fig, msg) {\n",
       "    var format_dropdown = fig.format_dropdown;\n",
       "    var format = format_dropdown.options[format_dropdown.selectedIndex].value;\n",
       "    fig.ondownload(fig, format);\n",
       "}\n",
       "\n",
       "\n",
       "mpl.figure.prototype.handle_resize = function(fig, msg) {\n",
       "    var size = msg['size'];\n",
       "    if (size[0] != fig.canvas.width || size[1] != fig.canvas.height) {\n",
       "        fig._resize_canvas(size[0], size[1]);\n",
       "        fig.send_message(\"refresh\", {});\n",
       "    };\n",
       "}\n",
       "\n",
       "mpl.figure.prototype.handle_rubberband = function(fig, msg) {\n",
       "    var x0 = msg['x0'] / mpl.ratio;\n",
       "    var y0 = (fig.canvas.height - msg['y0']) / mpl.ratio;\n",
       "    var x1 = msg['x1'] / mpl.ratio;\n",
       "    var y1 = (fig.canvas.height - msg['y1']) / mpl.ratio;\n",
       "    x0 = Math.floor(x0) + 0.5;\n",
       "    y0 = Math.floor(y0) + 0.5;\n",
       "    x1 = Math.floor(x1) + 0.5;\n",
       "    y1 = Math.floor(y1) + 0.5;\n",
       "    var min_x = Math.min(x0, x1);\n",
       "    var min_y = Math.min(y0, y1);\n",
       "    var width = Math.abs(x1 - x0);\n",
       "    var height = Math.abs(y1 - y0);\n",
       "\n",
       "    fig.rubberband_context.clearRect(\n",
       "        0, 0, fig.canvas.width, fig.canvas.height);\n",
       "\n",
       "    fig.rubberband_context.strokeRect(min_x, min_y, width, height);\n",
       "}\n",
       "\n",
       "mpl.figure.prototype.handle_figure_label = function(fig, msg) {\n",
       "    // Updates the figure title.\n",
       "    fig.header.textContent = msg['label'];\n",
       "}\n",
       "\n",
       "mpl.figure.prototype.handle_cursor = function(fig, msg) {\n",
       "    var cursor = msg['cursor'];\n",
       "    switch(cursor)\n",
       "    {\n",
       "    case 0:\n",
       "        cursor = 'pointer';\n",
       "        break;\n",
       "    case 1:\n",
       "        cursor = 'default';\n",
       "        break;\n",
       "    case 2:\n",
       "        cursor = 'crosshair';\n",
       "        break;\n",
       "    case 3:\n",
       "        cursor = 'move';\n",
       "        break;\n",
       "    }\n",
       "    fig.rubberband_canvas.style.cursor = cursor;\n",
       "}\n",
       "\n",
       "mpl.figure.prototype.handle_message = function(fig, msg) {\n",
       "    fig.message.textContent = msg['message'];\n",
       "}\n",
       "\n",
       "mpl.figure.prototype.handle_draw = function(fig, msg) {\n",
       "    // Request the server to send over a new figure.\n",
       "    fig.send_draw_message();\n",
       "}\n",
       "\n",
       "mpl.figure.prototype.handle_image_mode = function(fig, msg) {\n",
       "    fig.image_mode = msg['mode'];\n",
       "}\n",
       "\n",
       "mpl.figure.prototype.updated_canvas_event = function() {\n",
       "    // Called whenever the canvas gets updated.\n",
       "    this.send_message(\"ack\", {});\n",
       "}\n",
       "\n",
       "// A function to construct a web socket function for onmessage handling.\n",
       "// Called in the figure constructor.\n",
       "mpl.figure.prototype._make_on_message_function = function(fig) {\n",
       "    return function socket_on_message(evt) {\n",
       "        if (evt.data instanceof Blob) {\n",
       "            /* FIXME: We get \"Resource interpreted as Image but\n",
       "             * transferred with MIME type text/plain:\" errors on\n",
       "             * Chrome.  But how to set the MIME type?  It doesn't seem\n",
       "             * to be part of the websocket stream */\n",
       "            evt.data.type = \"image/png\";\n",
       "\n",
       "            /* Free the memory for the previous frames */\n",
       "            if (fig.imageObj.src) {\n",
       "                (window.URL || window.webkitURL).revokeObjectURL(\n",
       "                    fig.imageObj.src);\n",
       "            }\n",
       "\n",
       "            fig.imageObj.src = (window.URL || window.webkitURL).createObjectURL(\n",
       "                evt.data);\n",
       "            fig.updated_canvas_event();\n",
       "            fig.waiting = false;\n",
       "            return;\n",
       "        }\n",
       "        else if (typeof evt.data === 'string' && evt.data.slice(0, 21) == \"data:image/png;base64\") {\n",
       "            fig.imageObj.src = evt.data;\n",
       "            fig.updated_canvas_event();\n",
       "            fig.waiting = false;\n",
       "            return;\n",
       "        }\n",
       "\n",
       "        var msg = JSON.parse(evt.data);\n",
       "        var msg_type = msg['type'];\n",
       "\n",
       "        // Call the  \"handle_{type}\" callback, which takes\n",
       "        // the figure and JSON message as its only arguments.\n",
       "        try {\n",
       "            var callback = fig[\"handle_\" + msg_type];\n",
       "        } catch (e) {\n",
       "            console.log(\"No handler for the '\" + msg_type + \"' message type: \", msg);\n",
       "            return;\n",
       "        }\n",
       "\n",
       "        if (callback) {\n",
       "            try {\n",
       "                // console.log(\"Handling '\" + msg_type + \"' message: \", msg);\n",
       "                callback(fig, msg);\n",
       "            } catch (e) {\n",
       "                console.log(\"Exception inside the 'handler_\" + msg_type + \"' callback:\", e, e.stack, msg);\n",
       "            }\n",
       "        }\n",
       "    };\n",
       "}\n",
       "\n",
       "// from http://stackoverflow.com/questions/1114465/getting-mouse-location-in-canvas\n",
       "mpl.findpos = function(e) {\n",
       "    //this section is from http://www.quirksmode.org/js/events_properties.html\n",
       "    var targ;\n",
       "    if (!e)\n",
       "        e = window.event;\n",
       "    if (e.target)\n",
       "        targ = e.target;\n",
       "    else if (e.srcElement)\n",
       "        targ = e.srcElement;\n",
       "    if (targ.nodeType == 3) // defeat Safari bug\n",
       "        targ = targ.parentNode;\n",
       "\n",
       "    // jQuery normalizes the pageX and pageY\n",
       "    // pageX,Y are the mouse positions relative to the document\n",
       "    // offset() returns the position of the element relative to the document\n",
       "    var x = e.pageX - $(targ).offset().left;\n",
       "    var y = e.pageY - $(targ).offset().top;\n",
       "\n",
       "    return {\"x\": x, \"y\": y};\n",
       "};\n",
       "\n",
       "/*\n",
       " * return a copy of an object with only non-object keys\n",
       " * we need this to avoid circular references\n",
       " * http://stackoverflow.com/a/24161582/3208463\n",
       " */\n",
       "function simpleKeys (original) {\n",
       "  return Object.keys(original).reduce(function (obj, key) {\n",
       "    if (typeof original[key] !== 'object')\n",
       "        obj[key] = original[key]\n",
       "    return obj;\n",
       "  }, {});\n",
       "}\n",
       "\n",
       "mpl.figure.prototype.mouse_event = function(event, name) {\n",
       "    var canvas_pos = mpl.findpos(event)\n",
       "\n",
       "    if (name === 'button_press')\n",
       "    {\n",
       "        this.canvas.focus();\n",
       "        this.canvas_div.focus();\n",
       "    }\n",
       "\n",
       "    var x = canvas_pos.x * mpl.ratio;\n",
       "    var y = canvas_pos.y * mpl.ratio;\n",
       "\n",
       "    this.send_message(name, {x: x, y: y, button: event.button,\n",
       "                             step: event.step,\n",
       "                             guiEvent: simpleKeys(event)});\n",
       "\n",
       "    /* This prevents the web browser from automatically changing to\n",
       "     * the text insertion cursor when the button is pressed.  We want\n",
       "     * to control all of the cursor setting manually through the\n",
       "     * 'cursor' event from matplotlib */\n",
       "    event.preventDefault();\n",
       "    return false;\n",
       "}\n",
       "\n",
       "mpl.figure.prototype._key_event_extra = function(event, name) {\n",
       "    // Handle any extra behaviour associated with a key event\n",
       "}\n",
       "\n",
       "mpl.figure.prototype.key_event = function(event, name) {\n",
       "\n",
       "    // Prevent repeat events\n",
       "    if (name == 'key_press')\n",
       "    {\n",
       "        if (event.which === this._key)\n",
       "            return;\n",
       "        else\n",
       "            this._key = event.which;\n",
       "    }\n",
       "    if (name == 'key_release')\n",
       "        this._key = null;\n",
       "\n",
       "    var value = '';\n",
       "    if (event.ctrlKey && event.which != 17)\n",
       "        value += \"ctrl+\";\n",
       "    if (event.altKey && event.which != 18)\n",
       "        value += \"alt+\";\n",
       "    if (event.shiftKey && event.which != 16)\n",
       "        value += \"shift+\";\n",
       "\n",
       "    value += 'k';\n",
       "    value += event.which.toString();\n",
       "\n",
       "    this._key_event_extra(event, name);\n",
       "\n",
       "    this.send_message(name, {key: value,\n",
       "                             guiEvent: simpleKeys(event)});\n",
       "    return false;\n",
       "}\n",
       "\n",
       "mpl.figure.prototype.toolbar_button_onclick = function(name) {\n",
       "    if (name == 'download') {\n",
       "        this.handle_save(this, null);\n",
       "    } else {\n",
       "        this.send_message(\"toolbar_button\", {name: name});\n",
       "    }\n",
       "};\n",
       "\n",
       "mpl.figure.prototype.toolbar_button_onmouseover = function(tooltip) {\n",
       "    this.message.textContent = tooltip;\n",
       "};\n",
       "mpl.toolbar_items = [[\"Home\", \"Reset original view\", \"fa fa-home icon-home\", \"home\"], [\"Back\", \"Back to  previous view\", \"fa fa-arrow-left icon-arrow-left\", \"back\"], [\"Forward\", \"Forward to next view\", \"fa fa-arrow-right icon-arrow-right\", \"forward\"], [\"\", \"\", \"\", \"\"], [\"Pan\", \"Pan axes with left mouse, zoom with right\", \"fa fa-arrows icon-move\", \"pan\"], [\"Zoom\", \"Zoom to rectangle\", \"fa fa-square-o icon-check-empty\", \"zoom\"], [\"\", \"\", \"\", \"\"], [\"Download\", \"Download plot\", \"fa fa-floppy-o icon-save\", \"download\"]];\n",
       "\n",
       "mpl.extensions = [\"eps\", \"jpeg\", \"pdf\", \"png\", \"ps\", \"raw\", \"svg\", \"tif\"];\n",
       "\n",
       "mpl.default_extension = \"png\";var comm_websocket_adapter = function(comm) {\n",
       "    // Create a \"websocket\"-like object which calls the given IPython comm\n",
       "    // object with the appropriate methods. Currently this is a non binary\n",
       "    // socket, so there is still some room for performance tuning.\n",
       "    var ws = {};\n",
       "\n",
       "    ws.close = function() {\n",
       "        comm.close()\n",
       "    };\n",
       "    ws.send = function(m) {\n",
       "        //console.log('sending', m);\n",
       "        comm.send(m);\n",
       "    };\n",
       "    // Register the callback with on_msg.\n",
       "    comm.on_msg(function(msg) {\n",
       "        //console.log('receiving', msg['content']['data'], msg);\n",
       "        // Pass the mpl event to the overridden (by mpl) onmessage function.\n",
       "        ws.onmessage(msg['content']['data'])\n",
       "    });\n",
       "    return ws;\n",
       "}\n",
       "\n",
       "mpl.mpl_figure_comm = function(comm, msg) {\n",
       "    // This is the function which gets called when the mpl process\n",
       "    // starts-up an IPython Comm through the \"matplotlib\" channel.\n",
       "\n",
       "    var id = msg.content.data.id;\n",
       "    // Get hold of the div created by the display call when the Comm\n",
       "    // socket was opened in Python.\n",
       "    var element = $(\"#\" + id);\n",
       "    var ws_proxy = comm_websocket_adapter(comm)\n",
       "\n",
       "    function ondownload(figure, format) {\n",
       "        window.open(figure.imageObj.src);\n",
       "    }\n",
       "\n",
       "    var fig = new mpl.figure(id, ws_proxy,\n",
       "                           ondownload,\n",
       "                           element.get(0));\n",
       "\n",
       "    // Call onopen now - mpl needs it, as it is assuming we've passed it a real\n",
       "    // web socket which is closed, not our websocket->open comm proxy.\n",
       "    ws_proxy.onopen();\n",
       "\n",
       "    fig.parent_element = element.get(0);\n",
       "    fig.cell_info = mpl.find_output_cell(\"<div id='\" + id + \"'></div>\");\n",
       "    if (!fig.cell_info) {\n",
       "        console.error(\"Failed to find cell for figure\", id, fig);\n",
       "        return;\n",
       "    }\n",
       "\n",
       "    var output_index = fig.cell_info[2]\n",
       "    var cell = fig.cell_info[0];\n",
       "\n",
       "};\n",
       "\n",
       "mpl.figure.prototype.handle_close = function(fig, msg) {\n",
       "    var width = fig.canvas.width/mpl.ratio\n",
       "    fig.root.unbind('remove')\n",
       "\n",
       "    // Update the output cell to use the data from the current canvas.\n",
       "    fig.push_to_output();\n",
       "    var dataURL = fig.canvas.toDataURL();\n",
       "    // Re-enable the keyboard manager in IPython - without this line, in FF,\n",
       "    // the notebook keyboard shortcuts fail.\n",
       "    IPython.keyboard_manager.enable()\n",
       "    $(fig.parent_element).html('<img src=\"' + dataURL + '\" width=\"' + width + '\">');\n",
       "    fig.close_ws(fig, msg);\n",
       "}\n",
       "\n",
       "mpl.figure.prototype.close_ws = function(fig, msg){\n",
       "    fig.send_message('closing', msg);\n",
       "    // fig.ws.close()\n",
       "}\n",
       "\n",
       "mpl.figure.prototype.push_to_output = function(remove_interactive) {\n",
       "    // Turn the data on the canvas into data in the output cell.\n",
       "    var width = this.canvas.width/mpl.ratio\n",
       "    var dataURL = this.canvas.toDataURL();\n",
       "    this.cell_info[1]['text/html'] = '<img src=\"' + dataURL + '\" width=\"' + width + '\">';\n",
       "}\n",
       "\n",
       "mpl.figure.prototype.updated_canvas_event = function() {\n",
       "    // Tell IPython that the notebook contents must change.\n",
       "    IPython.notebook.set_dirty(true);\n",
       "    this.send_message(\"ack\", {});\n",
       "    var fig = this;\n",
       "    // Wait a second, then push the new image to the DOM so\n",
       "    // that it is saved nicely (might be nice to debounce this).\n",
       "    setTimeout(function () { fig.push_to_output() }, 1000);\n",
       "}\n",
       "\n",
       "mpl.figure.prototype._init_toolbar = function() {\n",
       "    var fig = this;\n",
       "\n",
       "    var nav_element = $('<div/>')\n",
       "    nav_element.attr('style', 'width: 100%');\n",
       "    this.root.append(nav_element);\n",
       "\n",
       "    // Define a callback function for later on.\n",
       "    function toolbar_event(event) {\n",
       "        return fig.toolbar_button_onclick(event['data']);\n",
       "    }\n",
       "    function toolbar_mouse_event(event) {\n",
       "        return fig.toolbar_button_onmouseover(event['data']);\n",
       "    }\n",
       "\n",
       "    for(var toolbar_ind in mpl.toolbar_items){\n",
       "        var name = mpl.toolbar_items[toolbar_ind][0];\n",
       "        var tooltip = mpl.toolbar_items[toolbar_ind][1];\n",
       "        var image = mpl.toolbar_items[toolbar_ind][2];\n",
       "        var method_name = mpl.toolbar_items[toolbar_ind][3];\n",
       "\n",
       "        if (!name) { continue; };\n",
       "\n",
       "        var button = $('<button class=\"btn btn-default\" href=\"#\" title=\"' + name + '\"><i class=\"fa ' + image + ' fa-lg\"></i></button>');\n",
       "        button.click(method_name, toolbar_event);\n",
       "        button.mouseover(tooltip, toolbar_mouse_event);\n",
       "        nav_element.append(button);\n",
       "    }\n",
       "\n",
       "    // Add the status bar.\n",
       "    var status_bar = $('<span class=\"mpl-message\" style=\"text-align:right; float: right;\"/>');\n",
       "    nav_element.append(status_bar);\n",
       "    this.message = status_bar[0];\n",
       "\n",
       "    // Add the close button to the window.\n",
       "    var buttongrp = $('<div class=\"btn-group inline pull-right\"></div>');\n",
       "    var button = $('<button class=\"btn btn-mini btn-primary\" href=\"#\" title=\"Stop Interaction\"><i class=\"fa fa-power-off icon-remove icon-large\"></i></button>');\n",
       "    button.click(function (evt) { fig.handle_close(fig, {}); } );\n",
       "    button.mouseover('Stop Interaction', toolbar_mouse_event);\n",
       "    buttongrp.append(button);\n",
       "    var titlebar = this.root.find($('.ui-dialog-titlebar'));\n",
       "    titlebar.prepend(buttongrp);\n",
       "}\n",
       "\n",
       "mpl.figure.prototype._root_extra_style = function(el){\n",
       "    var fig = this\n",
       "    el.on(\"remove\", function(){\n",
       "\tfig.close_ws(fig, {});\n",
       "    });\n",
       "}\n",
       "\n",
       "mpl.figure.prototype._canvas_extra_style = function(el){\n",
       "    // this is important to make the div 'focusable\n",
       "    el.attr('tabindex', 0)\n",
       "    // reach out to IPython and tell the keyboard manager to turn it's self\n",
       "    // off when our div gets focus\n",
       "\n",
       "    // location in version 3\n",
       "    if (IPython.notebook.keyboard_manager) {\n",
       "        IPython.notebook.keyboard_manager.register_events(el);\n",
       "    }\n",
       "    else {\n",
       "        // location in version 2\n",
       "        IPython.keyboard_manager.register_events(el);\n",
       "    }\n",
       "\n",
       "}\n",
       "\n",
       "mpl.figure.prototype._key_event_extra = function(event, name) {\n",
       "    var manager = IPython.notebook.keyboard_manager;\n",
       "    if (!manager)\n",
       "        manager = IPython.keyboard_manager;\n",
       "\n",
       "    // Check for shift+enter\n",
       "    if (event.shiftKey && event.which == 13) {\n",
       "        this.canvas_div.blur();\n",
       "        event.shiftKey = false;\n",
       "        // Send a \"J\" for go to next cell\n",
       "        event.which = 74;\n",
       "        event.keyCode = 74;\n",
       "        manager.command_mode();\n",
       "        manager.handle_keydown(event);\n",
       "    }\n",
       "}\n",
       "\n",
       "mpl.figure.prototype.handle_save = function(fig, msg) {\n",
       "    fig.ondownload(fig, null);\n",
       "}\n",
       "\n",
       "\n",
       "mpl.find_output_cell = function(html_output) {\n",
       "    // Return the cell and output element which can be found *uniquely* in the notebook.\n",
       "    // Note - this is a bit hacky, but it is done because the \"notebook_saving.Notebook\"\n",
       "    // IPython event is triggered only after the cells have been serialised, which for\n",
       "    // our purposes (turning an active figure into a static one), is too late.\n",
       "    var cells = IPython.notebook.get_cells();\n",
       "    var ncells = cells.length;\n",
       "    for (var i=0; i<ncells; i++) {\n",
       "        var cell = cells[i];\n",
       "        if (cell.cell_type === 'code'){\n",
       "            for (var j=0; j<cell.output_area.outputs.length; j++) {\n",
       "                var data = cell.output_area.outputs[j];\n",
       "                if (data.data) {\n",
       "                    // IPython >= 3 moved mimebundle to data attribute of output\n",
       "                    data = data.data;\n",
       "                }\n",
       "                if (data['text/html'] == html_output) {\n",
       "                    return [cell, data, j];\n",
       "                }\n",
       "            }\n",
       "        }\n",
       "    }\n",
       "}\n",
       "\n",
       "// Register the function which deals with the matplotlib target/channel.\n",
       "// The kernel may be null if the page has been refreshed.\n",
       "if (IPython.notebook.kernel != null) {\n",
       "    IPython.notebook.kernel.comm_manager.register_target('matplotlib', mpl.mpl_figure_comm);\n",
       "}\n"
      ],
      "text/plain": [
       "<IPython.core.display.Javascript object>"
      ]
     },
     "metadata": {},
     "output_type": "display_data"
    },
    {
     "data": {
      "text/html": [
       "<img src=\"data:image/png;base64,iVBORw0KGgoAAAANSUhEUgAABQAAAAPACAYAAABq3NR5AAAgAElEQVR4XuzdB7RcVbkA4P8mIQUChF4SSug9CSUQagJJQJpSBASVLoLiU1SKIkgVEQRRHuKTIlUQAaWa0GsIgQQpUhNaaCG0QBLS7lszyoErCXdm7pRzznyzlgvM7PLv799s1v45M9PS2traGl4ECBAgQIAAAQIECBAgQIAAAQIECORSoEUBMJd5tSgCBAgQIECAAAECBAgQIECAAAECRQEFQBuBAAECBAgQIECAAAECBAgQIECAQI4FFABznFxLI0CAAAECBAgQIECAAAECBAgQIKAAaA8QIECAAAECBAgQIECAAAECBAgQyLGAAmCOk2tpBAgQIECAAAECBAgQIECAAAECBBQA7QECBAgQIECAAAECBAgQIECAAAECORZQAMxxci2NAAECBAgQIECAAAECBAgQIECAgAKgPUCAAAECBAgQIECAAAECBAgQIEAgxwIKgDlOrqURIECAAAECBAgQIECAAAECBAgQUAC0BwgQIECAAAECBAgQIECAAAECBAjkWEABMMfJtTQCBAgQIECAAAECBAgQIECAAAECCoD2AAECBAgQIECAAAECBAgQIECAAIEcCygA5ji5lkaAAAECBAgQIECAAAECBAgQIEBAAdAeIECAAAECBAgQIECAAAECBAgQIJBjAQXAHCfX0ggQIECAAAECBAgQIECAAAECBAgoANoDBAgQIECAAAECBAgQIECAAAECBHIsoACY4+RaGgECBAgQIECAAAECBAgQIECAAAEFQHuAAAECBAgQIECAAAECBAgQIECAQI4FFABznFxLI0CAAAECBAgQIECAAAECBAgQIKAAaA8QIECAAAECBAgQIECAAAECBAgQyLGAAmCOk2tpBAgQIECAAAECBAgQIECAAAECBBQA7QECBAgQIECAAAECBAgQIECAAAECORZQAMxxci2NAAECBAgQIECAAAECBAgQIECAgAKgPUCAAAECBAgQIECAAAECBAgQIEAgxwIKgDlOrqURIECAAAECBAgQIECAAAECBAgQUAC0BwgQIECAAAECBAgQIECAAAECBAjkWEABMMfJtTQCBAgQIECAAAECBAgQIECAAAECCoD2AAECBAgQIECAAAECBAgQIECAAIEcCygA5ji5lkaAAAECBAgQIECAAAECBAgQIEBAAdAeIECAAAECBAgQIECAAAECBAgQIJBjAQXAHCfX0ggQIECAAAECBAgQIECAAAECBAgoANoDBAgQIECAAAECBAgQIECAAAECBHIsoACY4+RaGgECBAgQIECAAAECBAgQIECAAAEFQHuAAAECBAgQIECAAAECBAgQIECAQI4FFABznFxLI0CAAAECBAgQIECAAAECBAgQIKAAaA8QIECAAAECBAgQIECAAAECBAgQyLGAAmCOk2tpBAgQIECAAAECBAgQIECAAAECBBQA7QECBAgQIECAAAECBAgQIECAAAECORZQAMxxci2NAAECBAgQIECAAAECBAgQIECAgAKgPUCAAAECBAgQIECAAAECBAgQIEAgxwIKgDlOrqURIECAAAECBAgQIECAAAECBAgQUAC0BwgQIECAAAECBAgQIECAAAECBAjkWEABMMfJtTQCBAgQIECAAAECBAgQIECAAAECCoD2AAECBAgQIECAAAECBAgQIECAAIEcCygA5ji5lkaAAAECBAgQIECAAAECBAgQIEBAAdAeIECAAAECBAgQIECAAAECBAgQIJBjAQXAHCfX0ggQIECAAAECBAgQIECAAAECBAgoANoDBAgQIECAAAECBAgQIECAAAECBHIsoACY4+RaGgECBAgQIECAAAECBAgQIECAAAEFQHuAAAECBAgQIECAAAECBAgQIECAQI4FFABznFxLI0CAAAECBAgQIECAAAECBAgQIKAAaA8QIECAAAECBAgQIECAAAECBAgQyLGAAmCOk2tpBAgQIECAAAECBAgQIECAAAECBBQA7QECBAgQIECAAAECBAgQIECAAAECORZQAMxxci2NAAECBAgQIECAAAECBAgQIECAgAKgPUCAAAECBAgQIECAAAECBAgQIEAgxwIKgDlOrqURIECAAAECBAgQIECAAAECBAgQUAC0BwgQIECAAAECBAgQIECAAAECBAjkWEABMMfJtTQCBAgQIECAAAECBAgQIECAAAECCoD2AAECBAgQIECAAAECBAgQIECAAIEcCygA5ji5lkaAAAECBAgQIECAAAECBAgQIEBAAdAeIECAAAECBAgQIECAAAECBAgQIJBjAQXAHCfX0ggQIECAAAECBAgQIECAAAECBAgoANoDBAgQIECAAAECBAgQIECAAAECBHIsoACY4+RaGgECBAgQIECAAAECBAgQIECAAAEFQHuAAAECBAgQIECAAAECBAgQIECAQI4FFABznFxLI0CAAAECBAgQIECAAAECBAgQIKAAaA8QIECAAAECBAgQIECAAAECBAgQyLGAAmCOk2tpBAgQIECAAAECBAgQIECAAAECBBQA7QECBAgQIECAAAECBAgQIECAAAECORZQAMxxci2NAAECBAgQIECAAAECBAgQIECAgAKgPUCAAAECBAgQIECAAAECBAgQIEAgxwIKgDlOrqURIECAAAECBAgQIECAAAECBAgQUAC0BwgQIECAAAECBAgQIECAAAECBAjkWEABMMfJtTQCBAgQIECAAAECBAgQIECAAAECCoD2AAECBAgQIECAAAECBAgQIECAAIEcCygA5ji5lkaAAAECBAgQIECAAAECBAgQIEBAAdAeIECAAAECBAgQIECAAAECBAgQIJBjAQXAHCfX0ggQIECAAAECBAgQIECAAAECBAgoANoDBAgQIECAAAECBAgQIECAAAECBHIsoACY4+RaGgECBAgQIECAAAECBAgQIECAAAEFQHuAAAECBAgQIECAAAECBAgQIECAQI4FFABznFxLI0CAAAECBAgQIECAAAECBAgQIKAAaA8QIECAAAECBAgQIECAAAECBAgQyLGAAmCOk2tpBAgQIECAAAECBAgQIECAAAECBBQA7QECBAgQIECAAAECBAgQIECAAAECORZQAMxxci2NAAECBAgQIECAAAECBAgQIECAgAKgPUCAAAECBAgQIECAAAECBAgQIEAgxwIKgDlOrqURIECAAAECBAgQIECAAAECBAgQUAC0BwgQIECAAAECBAgQIECAAAECBAjkWEABMMfJtTQCBAgQIECAAAECBAgQIECAAAECCoD2AAECBAgQIECAAAECBAgQIECAAIEcCygA5ji5lkaAAAECBAgQIECAAAECBAgQIEBAAdAeIECAAAECBAgQIECAAAECBAgQIJBjAQXAHCfX0ggQIECAAAECBAgQIECAAAECBAgoANoDBAgQIECAAAECBAgQIECAAAECBHIsoACY4+RaGgECBAgQIECAAAECBAgQIECAAAEFQHuAAAECBAgQIECAAAECBAgQIECAQI4FFABznFxLI0CAAAECBAgQIECAAAECBAgQIKAAaA8QIECAAAECBAgQIECAAAECBAgQyLGAAmCOk2tpBAgQIECAAAECBAgQIECAAAECBBQA7QECBAgQIECAAAECBAgQIECAAAECORZQAMxxci2NAAECBAgQIECAAAECBAgQIECAgAKgPUCAAAECBAgQIECAAAECBAgQIEAgxwIKgDlOrqURIECAAAECBAgQIECAAAECBAgQUAC0BwgQIECAAAECBAgQIECAAAECBAjkWEABMMfJtTQCBAgQIECAAAECBAgQIECAAAECCoD2AAECBAgQIECAAAECBAgQIECAAIEcCygA5ji5lkaAAAECBAgQIECAAAECBAgQIEBAAdAeIECAAAECBAgQIECAAAECBAgQIJBjAQXAHCfX0ggQIECAAAECBAgQIECAAAECBAgoANoDBAgQIECAAAECBAgQIECAAAECBHIsoACY4+SmeWnTp0+Pxx9/vBjiEkssEV26dElzuGIjQIAAAQIECBAgQIAAAQKZFJg1a1ZMmjSpGPu6664b3bt3z+Q6BN0xAQXAjvnpXaHAww8/HAMHDqywt24ECBAgQIAAAQIECBAgQIBAuQKjR4+OjTbaqNxu2udAQAEwB0nM4hIUALOYNTETIECAAAECBAgQIECAQJYFFACznL2Oxa4A2DE/vSsUePHFF6Nv377F3oUDaJlllqlwJN0IECBAgAABAgQIECBAgACBeQm8/vrrySfwJkyYECuuuCKsJhRQAGzCpKdhya+++most9xyxVBeeeWV6NOnTxrCEgMBAgQIECBAgAABAgQIEMiVgPt3rtJZ8WIUACum07EjAg6gjujpS4AAAQIECBAgQIAAAQIEShNw/y7NKe+tFADznuGUrs8BlNLECIsAAQIECBAgQIAAAQIEciXg/p2rdFa8GAXAiul07IiAA6gjevoSIECAAAECBAgQIECAAIHSBNy/S3PKeysFwLxnOKXrcwClNDHCIkCAAAECBAgQIECAAIFcCbh/5yqdFS9GAbBiOh07IuAA6oievgQIECBAgAABAgQIECBAoDQB9+/SnPLeSgEwJRn+4IMP4uabb46HH344xowZExMnToxJkybFtGnTolevXrHWWmvF9ttvHwceeGAstthiFUd98cUXx/77719S/4suuij222+/ktqW28gBVK6Y9gQIECBAgAABAgQIECBAoHwB9+/yzfLYQwEwJVm97bbbYtiwYe1Gs/jii8dll10W2267bbtt59ZAAbAiNp0IECBAgAABAgQIECBAgEAmBRQAM5m2qgetAFh10soGLBQADzjggBgyZEhssMEGsdxyy8UyyywTc+bMicI/rNdcc01ce+21MXv27OjatWuMHj06+vXrV/Zkny0A/uMf/4hll112nmP06dOn+PRhLV4OoFqoGpMAAQIECBAgQIAAAQIECLQVcP+2IwoCCoAp2QeFwl7nzp2/MJrrr78+dtlll2Kbwl8LBcFyX58tAE6YMCFWXHHFcoeoSnsHUFUYDUKAAAECBAgQIECAAAECBL5QwP3bBlEAzOAeWGONNeKZZ56JwkeBC98RWO5LAbBcMe0JECBAgAABAgQIECBAgEB2BRQAs5u7akbuCcBqatZhrI022qj4IyE9e/aMKVOmlD2jAmDZZDoQIECAAAECBAgQIEAgESh8TdOHH34YhR9ynDFjRvFrmrwI1FKg8GnB+eefv/gVXd27dy97KgXAssly2UEBMENpLTz5t84668SsWbNiww03LP5icLkvBcByxbQnQIAAAQIECBAgQIDAvwUKD2FMnDgxWltbkRBoiMDCCy9c/L2AlpaWkudXACyZKtcNFQBTnt6pU6cW/wVzww03xOmnnx5vvvlmMeLCLwHvs88+ZUf/2QLg4MGDix8nfvvtt2OhhRaKVVZZJYYOHRqHHnpo9O7du+yxy+ngACpHS1sCBAgQIECAAAECBBotMLfiX6EI0953uTc6bvNnX6DwENBnX0sssUTxa8FKfbl/lyqV73YKgCnM72eLdHML7+ijj45TTz21rIr/J+O0N3ahXeGR4rPPPjsOOeSQinUKB8wXvV5//fUYOHBgsckrr7wShV8c9iJAgAABAgQIECBAgEAaBQof+3322WeTJ/8KX8m06KKLFj+WWc6TWGlcm5jSL1D4mPl7770Xb731VhLsyiuvHF27di0peAXAkphy30gBMIUpnleRrn///vGHP/whCt8DWOmrMPZJJ50Uu+66awwaNCiWW2654lDjx4+Pv/71r3HNNdck/1I7//zz41vf+lZFU5XzL0EFwIqIdSJAgAABAgQIECBAoE4Che/7K3wyq/AqFP8KDzCUc+epU5imyblAoQA4efLk4iqXWmqpYhG6lJcCYClK+W+jAJjCHBcq+588QTdt2rR44YUX4uqrr47rrrsuClX+wtN5O+64Y0WRv//++8WP+87rX1Y33nhjsTg4c+bM4n/NKsy99NJLlz1XOf8yVAAsm1cHAgQIECBAgAABAgTqKFC4n33yI4zLL798LLDAAnWc3VQE/i0wffr0mDBhQvHvC4XoTx7oac9HAbA9oeZ4XwEwQ3m+9NJLY9999y0W7y644ILYb7/9ahL9ySefHD/72c+KYxf+/qc//WnZ8/gIcNlkOhAgQIAAAQIECBAgkFKBwiemPv744+JdbPXVV/f0X0rzlPewCj8+U/ge/8JfCx//LTwgVMpLAbAUpfy3UQDMWI733HPP4tOAhf/i9PLLL5f8yG85yyw8Vlx46q9wqAwbNixGjBhRTveS2jqASmLSiAABAgQIECBAgACBFAg899xzUfghhi5dusSqq66agoiE0KwClexF9+9m3S1t160AmLF9cMUVVyS//nv55ZfH3nvvXZMVFH5VqPDrwGuttVY8+eSTVZ/DAVR1UgMSIECAAAECBAgQIFAjgUqKLjUKxbBNLlDJXnT/bvJN85/lKwBmbB+MHDkyhg8fXoy68EvAxxxzTE1WsOSSS8akSZMUAGuia1ACBAgQIECAAAECBLIkUEnRJUvrE2t2BCrZiwqA2clvLSNVAKylbg3G/uwvBJ9zzjlx+OGHV32WQuGv8ItChY8ADx06NApFx2q/HEDVFjUeAQIECBAgQIAAAQK1Eqik6FKrWIzb3AKV7EX37+beM5+sXgEwY/tghx12iJtvvrkY9Z133hmDBw+u+gpOOeWUOPbYY4vjnnTSScnfV3MiB1A1NY1FgAABAgQIECBAgEAtBSoputQyHmM3r0Ale9H9u3n3y2dXrgCYkn1QeLJvr732iu7du88zorPOOiuOOOKI4vt9+/aNwj/4nTt3TtrfddddMWTIkOL/L/xacGHMz75efPHFePfdd2PAgAHznOPGG2+M3XbbLWbMmBE9evQoztG7d++qKzmAqk5qQAIECBAgQIAAAQIEaiRQSdGlRqEY9r8Efv7zn8cJJ5xQ/NPCp9jy/qpkL7p/531XlLY+BcDSnGreasUVV4wpU6YUi2+bb7558ee8e/bsWfyzxx9/PAo/+HH//fcX4yj83PdNN91U/HjuZ1/tFQA/eX/QoEGx0047Rb9+/aLwXX+FV+Fn7a+55pri/z45NM8999w47LDDarJ2B1BNWA1KgAABAgQIECBAgEANBCoputQgDEPORUABsP1t4f7dvlEztFAATEmWCwXAl156qd1o+vTpExdeeGEMGzbsc21LLQC2N8n8888fhacNv/Wtb7XXtOL3HUAV0+lIgAABAgQIECBAgECdBRQA6wweUfxE2/7771+ceMKECVG4M8/tpQDYfm7cv9s3aoYWCoApyfIzzzxTfKqv8JTf888/H2+++WZMnjy5+DHcwlN6/fv3jx133DH22GOPKBTo5vZqrwBYeJrw73//ezz44IMxZsyYeP311+Ptt9+OWbNmxSKLLBJrr712bLPNNnHQQQclTwbWiscBVCtZ4xIgQIAAAQIECBAgUG0BBcBqi7Y/XqkFwPZHyleLSvai+3e+9kClq1EArFROvw4JOIA6xKczAQIECBAgQIAAAQJ1FKik6FLH8HI5lQLg3NNayV50/87lPyJlL0oBsGwyHaoh4ACqhqIxCBAgQIAAAQIECBCoh0AlRZd6xJXnORQAFQDzvL8bsTYFwEaomzOyWACcM6c1nnztg7j3+UnRuaUlDtlqZZkkQIAAAQIECBAgQKAJBBQA65fkz3611RfNeuedd8bgwYOjve8A/OT79vfdd9/i9wo++uijceaZZ8Y999xT/Eqs3r17x8477xw/+clPYvHFF0+mfOCBB4rfjf/QQw/FW2+9VWy3++67x7HHHhsLLrjgF4LMnj07LrvssvjLX/5SnK/w9V6FH/lcc801Y9ddd41DDz20+HVflbwq2YtZvH9XYqPPFwsoANohDRHI2gF01zNvxQ+uGhfvTp1Z9FpywW7x0E+2iZaWlob4mZQAAQIECBAgQIAAgfoJVFJ0qV90+ZqplgXAT77zfsaMGZ9DW2211eLuu++OpZdeOs4444w48sgjo7W19XPt1l9//WK7QkFvbq+XX365WFB87LHH5pmYVVZZpfgbAIU5y31Vshezdv8u10T70gQUAEtz0qrKAlk7gF6Y9GFsc+bdbRRG/GDLWG2pL/4vP1VmMxwBAgQIECBAgAABAg0QqKTo0oAwczHlRx99VPzV37/97W/Fp+0Kr3/84x+x7LLLtllf3759Y4EFFij5CcDCD2s+9dRTUSi+/ehHP4p11103Cj+UeeGFFxaf1iu89tlnn+ITervttltssskmcfjhh8fqq69efFLwnHPOiZtvvrnY7qijjorTTjvtc96FJ/0GDBgQr7zySnTr1i0OPvjg2GqrrYq/YPzhhx/GiBEj4je/+U1MnTo1VlpppeLTgQsvvHBZeatkL2bt/l0WiMYlCygAlkylYTUFsnYAFf7Lz2an3RGvvT89YTh2hzXjoC1WqiaLsQgQIECAAAECBAgQSKFAKUWXwlcGvTv180+WpXA5VQtpkfm7RqdOtflUVKnfAVjqR4ALi950001j5MiRMf/887cx+OpXvxrXXHNNdO7cuViQGzJkSFx11VXF///Jq/Cx3s033zxGjRoViy22WLzxxhvRpUuXNuMUCohXXHFFrLDCClH4iHKhSPnfr7Fjx8YWW2wRhUJn4WPHp5xySln5KGUv/veAWbt/lwWicckCCoAlU2lYTYEsHkBHXfPPuGrMKwnD4NWXiIv3H1hNFmMRIECAAAECBAgQIJBCgVKKLpM//Dg2OPm2FEZfu5AeOXZoLNazW00mqHYBsPD1TU8++WTxe/j++1Uo1m299dbFPy4UBwtP8C266KKfa3fRRRfFAQccUPzzwkd811tvvaTNiy++WHy6sFAovOGGG2LHHXecp0vhCcLTTz+9+FTjxIkTy/IrZS/+94BZvH+XhaJxSQIKgCUxaVRtgSweQDc89locfuXYhKLHfJ1j3PHDoluXT/+rULWdjEeAAAECBAgQIECAQOMFSim6KABWN0/VLgD269cvxo0bN9cg33nnneJTfYXXl7/85bj++uvn2q7wkd0NNtig+N51110XX/nKV5J25557bnz3u98tFhA/+OCDNk8P/vdghe//+6RA+NJLL8Xyyy9fMl4pe1EBsGTOpmqoANhU6U7PYrNYAHznoxmxwckj47PfA3vFwRvHpit/+ktR6REWCQECBAgQIECAAAEC1RIopeiiAFgt7X+PU+0CYOFjvldfffVcg5wzZ05SsPvxj39cfDpvbq/x48fHyiuvXHzrkksuiW984xtJs/33378Yc7mvwq8MDxxY+ifLStmLCoDlZqE52isANkeeU7fKLBYAC4g7/fa+eHzi+4nnYYNXjiO3WyN1vgIiQIAAAQIECBAgQKB6AqUUXRQAq+ddiwLgvvvu+4UFusJHhAuv448/vvjDInN7FT7m+8n3+hU+DrzffvslzXbYYYfkR0LKkSh8/Hjw4MEldyllLyoAlszZVA0VAJsq3elZbFYLgL+89ek4764XEsj1+iwcf//u5umBFQkBAgQIECBAgAABAlUXKKXo4kdAqste7ScAa10A3G677Yq/Vrz44osXfwCk1Ncnv2ZcavtS9qICYKmazdVOAbC58p2a1Wa1APjAC2/H3v/3UOJY+I9Ejx47LBZZoGtqbAVCgAABAgQIECBAgEB1BSopulQ3guYbLWsFwE9+Abhbt27FX/j97C8IVzN7lezFrN6/q+lmrAgFQLugIQJZPYA+njU7+p8wMqbNnJ24/W7vAbHjess2xNGkBAgQIECAAAECBAjUXqCSokvto8r3DH/605+Sj9hOmDAhVlxxxbkuuPBx3RNOOKH4Xutnv7D9P60L/Qo/tFHrJwDPOOOMKHx/YOE1atSo2HjjjWuSoEr2Ylbv3zUBbOJBFQCbOPmNXHqWD6B9Lxwddz87KeHbc8Pl4pe7f/rz7410NTcBAgQIECBAgAABAtUXqKToUv0ommvEq666Kvbaa6/iop9++ulYffXVU10AfOaZZ2LNNdcsFiELcV955ZU1SVglezHL9++aIDbpoAqATZr4Ri87ywfQH+8dHyff9K+EsHevHnHfUUPiky+NbbSt+QkQIECAAAECBAgQqK5AJUWX6kbQfKPdc889sdVWWxUXftNNN8X222+f6gJgIbg999wz+aXhM888M4444oh5Jq7wVGPhScGvfe1rZSW3kr2Y5ft3WTgaf6GAAqAN0hCBLB9Az7wxJbY9+542bnf8cKtYaYmeDbE0KQECBAgQIECAAAECtRWopOhS24jyP/qUKVNiySWXjOnTp8f6668fp512WqywwgrRqVOn4uJ79+4dPXr0KP5ibxo+AlyI6Z133omNNtooxo8fX4xxyy23jG9+85ux9tprR+G7ASdPnhyPPfZY3HrrrXHHHXfELrvsEtdcc01ZyaxkL2b5/l0WjsYKgPZA+gSyfAAVHune+NTb460pHyewJ+y8duy76dy/kyJ9+iIiQIAAAQIECBAgQKAcgUqKLuWMr+3cBY466qg4/fTT5/pm4Zd2Bw8enKoCYCHQN954I/bYY4+49957203r/vvvHxdeeGG77T7boJK9mOX7d1k4GisA2gPpE8j6AXTE1ePi2kcnJrBD11wq/rjvhumDFhEBAgQIECBAgAABAh0WqKTo0uFJDVD8Pr0LLrggLrnkknjyySfj/fffj9mz//2DjGktAH6StsLHlgvfA/jggw8Wi4IzZ86MXr16xaqrrhqDBg2KnXfeufiEYLmvSvZi1u/f5RppP3cBHwG2MxoikPUD6Lqxr8YPrnossevZrUuMPW5YzNf534+jexEgQIAAAQIECBAgkB+BSoou+Vm9laRJoJK9mPX7d5r8sxyLAmCWs5fh2LN+AL01ZXoMPOX2Nhn4y7cHxUYrLprhrAidAAECBAgQIECAAIPbuU0AACAASURBVIG5CVRSdCFJoBYClezFrN+/a+HYjGMqADZj1lOw5jwcQNudfU88/caURPN726waRwxbLQW6QiBAgAABAgQIECBAoJoClRRdqjm/sQh8IlDJXszD/dsO6LiAAmDHDY1QgUAeDqBTbnoq/u/eCcnqByzfK647bLMKNHQhQIAAAQIECBAgQCDNApUUXdK8HrFlV6CSvZiH+3d2M5aeyBUA05OLpookDwfQPc9Oim9eODrJW6eWiLHHDY+Fe8zXVLm0WAIECBAgQIAAAQJ5F6ik6JJ3E+trjEAlezEP9+/GaOdrVgXAfOUzM6vJwwE0febsWO+EETFj1pzE/fdf3yC2W2fpzORBoAQIECBAgAABAgQItC9QSdGl/VG1IFC+QCV7MQ/37/Kl9PhvAQVAe6IhAnk5gL7+x4fivuffTgz32Xj5OGWXdRtialICBAgQIECAAAECBGojUEnRpTaRGLXZBSrZi3m5fzd77ju6fgXAjgrqX5FAXg6g39/9Qpx2y9OJwQqLzR93/3hIRSY6ESBAgAABAgQIECCQToFKii7pXImosi5QyV7My/0767lrdPwKgI3OQJPOn5cD6ImJ78eOv72vTRbv+fGQWH6x+Zs0s5ZNgAABAgQIECBAIH8ClRRd8qdgRWkQqGQv5uX+nQb/LMegAJjl7GU49rwcQHPmtMZGp9wWkz+akWTjlF3WiX02XiHD2RE6AQIECBAgQIAAAQKfFaik6EKQQC0EKtmLebl/18KzmcZUAGymbKdorXk6gL535dj4+2OvJbpfWmfpOO/rG6RIWygECBAgQIAAAQIECHREoJKiS0fm05fAvAQq2Yt5un/bGZULKABWbqdnBwTydABdPeaVOPKafyYaC3XvEmOPGx6dO7V0QEhXAgQIECBAgAABAgTSIlBJ0SUtsYsjXwKV7MU83b/zlc36rkYBsL7eZvuPQJ4OoNffnxaDfnFHm9xed9imMWD5ReSbAAECBAgQIECAAIEcCFRSdMnBsi0hhQKV7MU83b9TmJLMhKQAmJlU5SvQvB1AQ399dzz/1odJkn44bLU4fJtV85U0qyFAgAABAgQIECDQpALjx4+Pjz/+uLj61VZbLTp37tykEpbdSIE5c+bEs88+G62trdGtW7dYaaWVSgonb/fvkhat0ecEFABtioYI5O0AOuGGJ+Oi+19MLAeuuGhc/e1BDbE1KQECBAgQIECAAAEC1RV444034t133y0OuuSSS8Ziiy1W3QmMRqAEgQ8++CAmTpxYbNmrV69YZpllSugVkbf7d0mL1kgB0B5Ih0DeDqA7nn4zDrh4TILbpVNLjDt+ePTs1iUd4KIgQIAAAQIECBAgQKBigenTp8eECROS/oUC4EILLVR8CqulxXd/VwyrY0kChSf/PvzwwygUomfPnl3ss9xyy0XPnj1L6p+3+3dJi9ZIAdAeSIdA3g6gjz6eFf1PHBEzZ7cmwH/85oYxdK2l0gEuCgIECBAgQIAAAQIEOiTw2muvxfvvv99mjELxz8eBO8SqcwkChaJf4WO/n7x69OgRK6ywQsnF57zdv0sg02QuAj4CbFs0RCCPB9Ce5z8YD014J/Hcb9MV4+c7r90QX5MSIECAAAECBAgQIFBdgUIBZvLkyTFp0qTqDmw0AmUIFIp/yy+/fHTq1KnkXnm8f5e8eA0TAQVAm6EhAnk8gH53x3NxxohnE8+Vl1ggbv/h4Ib4mpQAAQIECBAgQIAAgdoIzJgxo/hxzI8++igKf1/4eKYXgVoKFJ4yLRT+FlxwwVhggQVKfvLvk5jyeP+upXdex1YAzGtmU76uPB5A4155L75y7v1t5B84eutYtlePlGdDeAQIECBAgAABAgQIECCQV4E83r/zmqtarksBsJa6xp6nQB4PoNlzWmP9k0bG+9NmJus+fbf1Yo+NlrMTCBAgQIAAAQIECBAgQIBAQwTyeP9uCGTGJ1UAzHgCsxp+Xg+gwy5/JG5+/I0kLTv1WzZ++7UBWU2TuAkQIECAAAECBAgQIEAg4wJ5vX9nPC11D18BsO7kJiwI5PUAunL0y3HMtY8nSV50ga4x5qdDo1OnFoknQIAAAQIECBAgQIAAAQJ1F8jr/bvukBmfUAEw4wnMavh5PYBeeWdqbHH6nW3ScuPhm8c6vRfOaqrETYAAAQIECBAgQIAAAQIZFsjr/TvDKWlI6AqADWE3aZ4PoMG/ujNenDw1SfKR260ehw1eRdIJECBAgAABAgQIECBAgEDdBfJ8/647ZoYnVADMcPKyHHqeD6CfXf9EXDrqpSQ9m668WFxx8CZZTpfYCRAgQIAAAQIECBAgQCCjAnm+f2c0JQ0JWwGwIewmzfMB9I8n34hDLn0kSXLXzp3iseOHR4+unSWeAAECBAgQIECAAAECBAjUVSDP9++6QmZ8MgXAjCcwq+Hn+QD6YPrMGHDiyJg9pzVJz8X7bxSDV18yq+kSNwECBAgQIECAAAECBAhkVCDP9++MpqQhYSsANoTdpHk/gHY774F45KV3k0QftHnfOHbHtSSeAAECBAgQIECAAAECBAjUVSDv9++6YmZ4MgXADCcvy6Hn/QA6a+Sz8Zvbn0tStMbSC8at398yyykTOwECBAgQIECAAAECBAhkUCDv9+8MpqQhISsANoTdpHk/gB556Z3Y7bwH2yR69E+2iSUX6i75BAgQIECAAAECBAgQIECgbgJ5v3/XDTLjEykAZjyBWQ0/7wfQrNlzit8DOOXjWUmKfr1Hv9h1/T5ZTZm4CRAgQIAAAQIECBAgQCCDAnm/f2cwJQ0JWQGwIewmbYYD6OBLxsTIp95Mkr3LgN5x1p79JZ8AAQIECBAgQIAAAQIECNRNoBnu33XDzPBECoAZTl6WQ2+GA+jSB1+Mn/3tySRNSyzYLQofA25pacly6sROgAABAgQIECBAgAABAhkSaIb7d4bS0bBQFQAbRt/cEzfDATTh7Y9iyBl3tUn0rd/fItZYeqHmTr7VEyBAgAABAgQIECBAgEDdBJrh/l03zAxPpACY4eRlOfRmOIBaW1tj81/eGRPfm5ak6qfbrxkHb7lSllMndgIECBAgQIAAAQIECBDIkEAz3L8zlI6GhaoA2DD65p64WQ6gY679Z1w5+pUk2VuutkRccsDA5k6+1RMgQIAAAQIECBAgQIBA3QSa5f5dN9CMTqQAmNHEZT3sZjmAbvrn6/GdKx5N0tV9vk4x7rjh0X2+zllPofgJECBAgAABAgQIECBAIAMCzXL/zkAqGhqiAmBD+Zt38mY5gN6bOiMGnDQyWls/zfXlB20cm62yePMm38oJECBAgAABAgQIECBAoG4CzXL/rhtoRidSAMxo4rIedjMdQF/+3X3x2KvvJyn79lYrx9FfWiPrKRQ/AQIECBAgQIAAAQIECGRAoJnu3xlIR8NCVABsGH1zT9xMB9Cv/vF0nHvnC0nC1152objpe1s09wawegIECBAgQIAAAQIECBCoi0Az3b/rAprRSRQAM5q4rIfdTAfQqPGTY68/jGqTskeOHRqL9eyW9TSKnwABAgQIECBAgAABAgRSLtBM9++Up6Kh4SkANpS/eSdvpgNoxqw50f/EETF1xuwk4ed8bUDs3G/Z5t0AVk6AAAECBAgQIECAAAECdRFopvt3XUAzOokCYEYTl/Wwm+0A2v+i0XHnM5OStH11gz7xq6/2y3oaxU+AAAECBAgQIECAAAECKRdotvt3ytPRsPAUABtG39wTN9sBdOF9E+LEG59Kkr7Mwt3jgaO3jpaWlubeCFZPgAABAgQIECBAgAABAjUVaLb7d00xMzy4AmCGk5fl0JvtAHruzSkx7Kx72qTstiO2ilWW7JnlNIqdAAECBAgQIECAAAECBFIu0Gz375Sno2HhKQA2jL65J262A6i1tTUG/eKOeOOD6Unij99prdh/s77NvRGsngABAgQIECBAgAABAgRqKtBs9++aYmZ4cAXADCcvy6E34wH0o788Ftc88mqStm3WWDIu2G+jLKdR7AQIECBAgAABAgQIECCQcoFmvH+nPCUNCU8BsCHsJm3GA+hv4ybG//x5XJL8+bt2jnHHDY+uXTrZEAQIECBAgAABAgQIECBAoCYCzXj/rglkxgdVAMx4ArMafjMeQG9/+HFsePJtbVJ21bc2iY1XWiyraRQ3AQIECBAgQIAAAQIECKRcoBnv3ylPSUPCUwBsCLtJm/UA2v4398ZTr3+QbIDDt14lfjh8dRuCAAECBAgQIECAAAECBAjURKBZ7981wczwoAqAGU5elkNv1gPoF7f8K86/e3ySun7L9Yq/fWezLKdS7AQIECBAgAABAgQIECCQYoFmvX+nOCUNCU0BsCHsJm3WA+i+596Or1/wULIBOrVEPPqzYdFr/q42BQECBAgQIECAAAECBAgQqLpAs96/qw6Z8QEVADOewKyG36wH0PSZs6PfCSPi41lzktT97z7rx/brLpPVVIqbAAECBAgQIECAAAECBFIs0Kz37xSnpCGhKQA2hN2kzXwAfeOCh+Le595ONsHXBi4fv9h1XZuCAAECBAgQIECAAAECBAhUXaCZ799Vx8zwgAqAGU5elkNv5gPoD/e8EKfe/HSSvj6L9Ih7jxwSLS0tWU6p2AkQIECAAAECBAgQIEAghQLNfP9OYToaFpICYMPom3viZj6Annrtg9j+nHvbbIC7fjQ4Vlx8gebeFFZPgAABAgQIECBAgAABAlUXaOb7d9UxMzygAmCGk5fl0Jv5AJozpzUGnnp7vP3hx0kKT/rKOvGNTVbIckrFToAAAQIECBAgQIAAAQIpFGjm+3cK09GwkBQAG0bf3BM3+wH0/T+PjevHvZZsgm3XXirO/8aGzb0prJ4AAQIECBAgQIAAAQIEqi7Q7PfvqoNmdEAFwIwmLuthN/sB9NdHXo0f/uWxJI0LdusSY48bFl06d8p6asVPgAABAgQIECBAgAABAikSaPb7d4pS0dBQFAAbyt+8kzf7AfTmB9Nj41Nvb7MB/nroprHBCos076awcgIECBAgQIAAAQIECBCoukCz37+rDprRARUAM5q4rIftAIoYftbd8eybHyap/P7QVeP7Q1fLemrFT4AAAQIECBAgQIAAAQIpEnD/TlEyGhiKAmAD8Zt5agdQxEk3PhUX3Dch2QYbrrBIXHPops28LaydAAECBAgQIECAAAECBKos4P5dZdCMDqcAmNHEZT1sB1DEnc+8Fftf9HCSys6dWmLcccNiwe7zZT294idAgAABAgQIECBAgACBlAi4f6ckEQ0OQwGwwQlo1ukdQBFTZ8yK/ieMjBmz5yTb4A/f2CCGr710s24L6yZAgAABAgQIECBAgACBKgu4f1cZNKPDKQBmNHFZD9sB9O8Mfu0Po+LB8ZOTdH5z0Apx4pfXyXp6xU+AAAECBAgQIECAAAECKRFw/05JIhochgJggxPQrNM7gP6d+XPvfD5+9Y9nkm2w0uILxB0/Gtys28K6CRAgQIAAAQIECBAgQKDKAu7fVQbN6HAKgBlNXNbDdgD9O4OPv/p+7PS7+9qk876jhkSfRebPeorFT4AAAQIECBAgQIAAAQIpEHD/TkESUhCCAmAKktCMITiA/p31OXNaY4OTR8a7U2cm2+C0XdeNvQYu34zbwpoJECBAgAABAgQIECBAoMoC7t9VBs3ocAqAGU1c1sN2AH2awe9c8Wjc9M/Xkz/YYd1l4tx91s96isVPgAABAgQIECBAgAABAikQcP9OQRJSEIICYAqS0IwhOIA+zfpVD78cR/318eQPes0/Xzxy7LDo3KmlGbeGNRMgQIAAAQIECBAgQIBAFQXcv6uImeGhFAAznLwsh+4A+jR7E9+bFpuddkebdP79u5vFen16ZTnFYidAgAABAgQIECBAgACBFAi4f6cgCSkIQQEwBUloxhAcQG2zvvUZd8X4tz9K/vDH264e3xmySjNuDWsmQIAAAQIECBAgQIAAgSoKuH9XETPDQykAZjh5WQ7dAdQ2e8f/7Yn404MvJX+4yUqLxp+/NSjLKRY7AQIECBAgQIAAAQIECKRAwP07BUlIQQgKgClIQjOG4ABqm/WRT70ZB18yJvnD+Tq3xGPHD4/5u3Zpxu1hzQQIECBAgAABAgQIECBQJQH37ypBZnwYBcCMJzCr4TuA2mZuyvSZMeDEkTFrTmvyxkX7bRRD1lgyqykWNwECBAgQIECAAAECBAikQMD9OwVJSEEICoApSEIzhuAA+nzWv/r7B+LhF99N3jhgs75x3E5rNeP2sGYCBAgQIECAAAECBAgQqJKA+3eVIDM+jAJgxhOY1fAdQJ/P3G9uey7Ouu3Z5I1Vl+wZI4/YKqspFjcBAgQIECBAgAABAgQIpEDA/TsFSUhBCAqAKUhCM4bgAPp81h99+d3Y9X8faPPGqGO2iaUX7t6MW8SaCRAgQIAAAQIECBAgQKAKAu7fVUDMwRAKgDlIYhaX4AD6fNZmzZ4TA04aGVOmz0rePOOr/WL3DfpkMcViJkCAAAECBAgQIECAAIEUCLh/pyAJKQhBATAFSWjGEBxAc8/6IZeOiX88+Wby5pf7Lxu/2WtAM24RayZAgAABAgQIECBAgACBKgi4f1cBMQdDKADmIIlZXIIDaO5Zu2zUS3Hs9U8kby7es2uM/snQ6NSpJYtpFjMBAgQIECBAgAABAgQINFjA/bvBCUjJ9AqAKUlEs4XhAJp7xl+a/FFs9au72rx58/e2iLWWXajZtoj1EiBAgAABAgQIECBAgEAVBNy/q4CYgyEUAHOQxCwuwQE076xtefqd8fI7U5MGx3xpjThkq5WzmGYxEyBAgAABAgQIECBAgECDBdy/G5yAlEyvAJiSRDRbGA6geWf8J9c9Hlc89HLSYItVF49LD9y42baI9RIgQIAAAQIECBAgQIBAFQTcv6uAmIMhFABzkMQsLsEBNO+s3fL463Ho5Y8mDbp26RT/PH54dJ+vcxZTLWYCBAgQIECAAAECBAgQaKCA+3cD8VM0tQJgipLRTKE4gOad7fenzowBJ42IOa2ftrn0wIGxxapLNNMWsVYCBAgQIECAAAECBAgQqIKA+3cVEHMwhAJgDpKYxSU4gL44a1859/4Y98p7SaNDtlwpjtl+zSymWswECBAgQIAAAQIECBAg0EAB9+8G4qdoagXAFCWjmUJxAH1xts8c8Uz89o7nk0ZrLrNQ3PI/WzTTFrFWAgQIECBAgAABAgQIEKiCgPt3FRBzMIQCYA6SmMUlOIC+OGujJ7wTe5z/YJtGD/90aCyxYLcsplvMBAgQIECAAAECBAgQINAgAffvBsGnbFoFwJQlpFnCcQB9caZnzp4T/U8YER/NmJ00PHvP/vGVAb2bZYtYJwECBAgQIECAAAECBAhUQcD9uwqIORhCATAHScziEhxA7WftoD89HLf9662k4W7r94kz9+jXfkctCBAgQIAAAQIECBAgQIDAfwTcv22FgoACoH3QEAEHUPvsF98/IX5+w1NJw6UW6hajjtkmWlpa2u+sBQECBAgQIECAAAECBAgQiAj3b9tAAdAeaJiAA6h9+uff+jCG/vruNg1H/GDLWG2pBdvvrAUBAgQIECBAgAABAgQIEFAAtAf+I+AJQFuhIQIKgO2zt7a2xman3RGvvT89afyzHdeKAzfv235nLQgQIECAAAECBAgQIECAgAKgPaAAaA80UkABsDT9I695LK4e82rSeMjqS8RF+w8srbNWBAgQIECAAAECBAgQIND0Au7fTb8FigCeALQPGiLgACqN/e+PvRbfu3Js0rjHfJ1j3PHDoluXzqUNoBUBAgQIECBAgAABAgQINLWA+3dTpz9ZvAKgfdAQAQdQaezvfDQjNjh5ZLS2ftr+yoM3iUErL1baAFoRIECAAAECBAgQIECAQFMLuH83dfoVAKW/sQIOoNL9d/ztvfHExA+SDocNXjmO3G6N0gfQkgABAgQIECBAgAABAgSaVsD9u2lT32bhngC0Dxoi4AAqnf2Xtz4d5931QtJhvT4Lx9+/u3npA2hJgAABAgQIECBAgAABAk0r4P7dtKlXAJT6xgs4gErPwQPPvx17//GhpENLS8Sjxw6LRRboWvogWhIgQIAAAQIECBAgQIBAUwq4fzdl2j+3aE8A2gcNEXAAlc7+8azZ0e+EETF95pyk0+/2HhA7rrds6YNoSYAAAQIECBAgQIAAAQJNKeD+3ZRpVwCU9nQIOIDKy8O+F46Ou5+dlHTaa6Pl4rTd1itvEK0JECBAgAABAgQIECBAoOkE3L+bLuVzXbAnAO2Dhgg4gMpj/+O94+Pkm/6VdOrdq0fcd9SQaCl8HtiLAAECBAgQIECAAAECBAjMQ8D929YoCCgA2gcNEXAAlcf+zBtTYtuz72nT6Y4fbhUrLdGzvIG0JkCAAAECBAgQIECAAIGmEnD/bqp0z3OxCoD2QUMEHEDlsbe2tsbGp94eb035OOl44pfXjm8OWrG8gbQmQIAAAQIECBAgQIAAgaYScP9uqnQrAEp3ugQcQOXn44irxsW1YycmHYeuuVT8cd8Nyx9IDwIECBAgQIAAAQIECBBoGgH376ZJ9Rcu1BOA9kFDBBxA5bNfN/bV+MFVjyUde3brEmOPGxbzde5U/mB6ECBAgAABAgQIECBAgEBTCLh/N0Wa212kAmC7RBrUQsABVL7qW1Omx8BTbm/T8ZpvD4oNV1y0/MH0IECAAAECBAgQIECAAIGmEHD/boo0t7tIBcB2iTSohYADqDLV7c6+J55+Y0rS+XvbrBpHDFutssH0IkCAAAECBAgQIECAAIHcC7h/5z7FJS1QAbAkJo2qLeAAqkz0lJueiv+7d0LSef3le8W1h21W2WB6ESBAgAABAgQIECBAgEDuBdy/c5/ikhaoAFgSk0bVFnAAVSZ697OTYt8LRyedO3dqiUd/NiwW7jFfZQPqRYAAAQIECBAgQIAAAQK5FnD/znV6S16cAmDJVBpWU8ABVJnmtBmzo9+JI2LGrDnJAL//+gax3TpLVzagXgQIECBAgAABAgQIECCQawH371ynt+TFKQCWTKVhNQUcQJVr7vPHUXH/85OTAb6+yfJx8lfWrXxAPQkQIECAAAECBAgQIEAgtwLu37lNbVkLUwAsi0vjagk4gCqXPO+uF+KXtz6dDLDCYvPH3T8eUvmAehIgQIAAAQIECBAgQIBAbgXcv3Ob2rIWpgBYFpfG1RJwAFUu+cTE92PH397XZoB7jxwSyy06f+WD6kmAAAECBAgQIECAAAECuRRw/85lWstelAJg2WQ6VEPAAVS54pw5rbHRKbfF5I9mJIOcusu6sffGy1c+qJ4ECBAgQIAAAQIECBAgkEsB9+9cprXsRSkAlk2mQzUEHEAdUzz8yrFxw2OvJYN8aZ2l47yvb9CxQfUmQIAAAQIECBAgQIAAgdwJuH/nLqUVLUgBsCI2nToq4ADqmODVY16JI6/5ZzLIwj3mi0d/Niw6d2rp2MB6EyBAgAABAgQIECBAgECuBNy/c5XOihejAFgxnY4dEXAAdUQv4vX3p8WgX9zRZpDrv7NZ9F+uV8cG1psAAQIECBAgQIAAAQIEciXg/p2rdFa8GAXAiul07IiAA6gjev/uO/TXd8fzb32YDPTDYavF4dus2vGBjUCAAAECBAgQIECAAAECuRFw/85NKju0EAXADvFVr/MHH3wQN998czz88MMxZsyYmDhxYkyaNCmmTZsWvXr1irXWWiu23377OPDAA2OxxRarysS33HJL/OEPfyjOWZhriSWWiI022ii+9a1vxZe+9KWqzDGvQRxAHef9+d+fjIsfeDEZaGDfRePqQwZ1fGAjECBAgAABAgQIECBAgEBuBNy/c5PKDi1EAbBDfNXrfNttt8WwYcPaHXDxxRePyy67LLbddtt2286rwZw5c4pFvgsuuGCeYxx00EFx/vnnR6dOnSqe54s6OoA6znr7v96MA/80JhmoS6eWGHf88OjZrUvHBzcCAQIECBAgQIAAAQIECORCwP07F2ns8CIUADtMWJ0BCgXAAw44IIYMGRIbbLBBLLfccrHMMstEoVhX+If1mmuuiWuvvTZmz54dXbt2jdGjR0e/fv0qmvyYY46J0047rdh3wIABceSRR8bKK68cL7zwQpx++ukxduzY4nuFdqeeempFc7TXyQHUnlD773/08azof+KImDm7NWl8wb4bxjZrLtV+Zy0IECBAgAABAgQIECBAoCkE3L+bIs3tLlIBsF2i+jQoFPY6d+78hZNdf/31scsuuxTbFP5aKAiW+3r22Wdj7bXXjlmzZsWGG24Y99xzT/To0SMZZurUqbHVVlsVP4bcpUuX+Ne//hWrrLJKudO0294B1C5RSQ32OP/BGD3hnaTtfpuuGD/fee2S+mpEgAABAgQIECBAgAABAvkXcP/Of45LWaECYClKKWqzxhprxDPPPBOFjwIXvrev3Ndhhx0W5513XrHbgw8+GJtsssnnhhg1alQMGvTv75IrtD/33HPLnabd9g6gdolKavDb25+LM0c+m7RdeYkF4vYfDi6pr0YECBAgQIAAAQIECBAgkH8B9+/857iUFSoAlqKUojaFH+koPJ3Xs2fPmDJlSlmRtba2Rp8+feK1116LQiGx8HTfvF6fFBp79+4dr7zySrS0tJQ1V3uNHUDtCZX2/rhX3ouvnHt/m8YPHL11LNvr06c6SxtJKwIECBAgQIAAAQIECBDIo4D7dx6zWv6aFADLN2tYj8KTf+uss07y8d3Cr/eW8xo/fnzxu/4Kr0MOOSR+//vfz7N74f3CLwQXXoV+ffv2LWeqdts6gNolKqnB7Dmtsf5JI+P9aTOT9qfvtl7ssdFyJfXXiAABAgQIECBAgAABAgTyLeD+ne/8lro6BcBSpRrUrvCdfBMnTowbbrih+AMdb775ZjGSwi8Bk7JnqQAAIABJREFU77PPPmVFdeONN8ZOO+1U7HPWWWfF97///Xn2L7x/xBFHFN+/6aabYvvtty9rrvYaO4DaEyr9/cMufyRufvyNpMNO/ZaN335tQOkDaEmAAAECBAgQIECAAAECuRVw/85tastamAJgWVz1aXzxxRfH/vvvP8/Jjj766OKv85b7sdzCE3+HHnpocdy//OUvsfvuu89zjsKvDn/1q18tvl/oV3gisJxX4YD5otfrr78eAwcOLDYpfMS48NFkr8oErnjo5fjJdY8nnRddoGuM+enQ6NSpuh/briw6vQgQIECAAAECBAgQIECgkQIKgI3UT8/cCoDpyUUSybwKgP379y9+LLfwPYCVvH71q1/FkUceWex6yy23xHbbbTfPYQrvf/LU3xlnnBE//OEPy5qynOKkAmBZtJ9r/Mo7U2OL0+9s8+c3Hr55rNN74Y4NrDcBAgQIECBAgAABAgQIZF5AATDzKazKAhQAq8JY3UHee++9+OQJumnTpsULL7wQV199dVx33XXF7/A7++yzY8cddyx70pNOOimOO+64Yr/bb789tt5663mOcccdd8Q222xTfL/Q79hjjy1rPgXAsrg63Hjwr+6MFydPTcY5ars14tDB//6+Ry8CBAgQIECAAAECBAgQaF4BBcDmzf1nV64AmKF9cOmll8a+++5b/OjvBRdcEPvtt19Z0dfzCUAfAS4rNR1ufOz1j8dlo15OxtlslcXi8oM26fC4BiBAgAABAgQIECBAgACBbAsoAGY7f9WKXgGwWpJ1GmfPPfcsPg24wAILxMsvvxyLLrpoyTPX8zsA2wvKAdSeUHnv3/rEG/Htyx5JOnXt3CkeO3549OjaubyBtCZAgAABAgQIECBAgACBXAm4f+cqnRUvRgGwYrrGdLziiiuSX/+9/PLLY++99y45EL8CXDJV5hq+P21mrH/SyJg9pzWJ/U8HDIytVlsic2sRMAECBAgQIECAAAECBAhUT0ABsHqWWR5JATBj2Rs5cmQMHz68GHXhl4CPOeaYklcwfvz44ncIFl6FX/UtPBE4r1fh/cIPjhRehX59+/YteZ5SGjqASlEqr82u/3t/PPrye0mngzbvG8fuuFZ5g2hNgAABAgQIECBAgAABArkScP/OVTorXowCYMV0jen42V8IPuecc+Lwww8vOZDW1tbo06dPvPbaa7HGGmvEv/71r3n2XXPNNePpp5+O3r17R+FXesv5UY9SAnIAlaJUXpuzRj4bv7n9uaTTGksvGLd+f8vyBtGaAAECBAgQIECAAAECBHIl4P6dq3RWvBgFwIrpGtNxhx12iJtvvrk4+Z133hmDBw8uK5DDDjsszjvvvGKfBx98MDbZ5PM/FDFq1KgYNGhQsU2h/bnnnlvWHKU0dgCVolRemzEvvhO7//7BNp1G/2SbWHKh7uUNpDUBAgQIECBAgAABAgQI5EbA/Ts3qezQQhQAO8RXvc6FJ/v22muv6N593sWas846K4444ojipIWP5D733HPRufOnP/Jw1113xZAhQ4rvF34tuDDmf7+effbZWGuttWL27Nmx4YYbxj333BM9evRImk2bNi223HLLGDNmTHTp0iWeeuqpWHXVVau30P+M5ACqOmnMnD0nBpw4Mj78eFYy+K/36Be7rt+n+pMZkQABAgQIECBAgAABAgQyIeD+nYk01TxIBcCaE5c2wYorrhhTpkyJ3XbbLTbffPPid/X17Nmz+GePP/54FH7w4/777y8O1rVr17jpppti6NChbQYvpQBY6FD43sDTTjut2HfAgAFx1FFHFed74YUX4pe//GWMHTu2+F6hXeF7BmvxcgDVQjXi4EvGxMin3kwG33VA7/j1nv1rM5lRCRAgQIAAAQIECBAgQCD1Au7fqU9RXQJUAKwLc/uTFAqAL730UrsNC9/hd+GFF8awYcM+17bUAuCcOXPi4IMPLo4zr9eBBx5Y/BGQTp06tRtTJQ0cQJWotd/nkgdfjOP+9mTScIkFu0XhY8DV/g7H9iPRggABAgQIECBAgAABAgTSIOD+nYYsND4GBcDG56AYwTPPPFN8qq/wlN/zzz8fb775ZkyePLn48dwll1wy+vfvHzvuuGPsscceMf/888816lILgJ90LnyXYKHI9/DDD8fbb78diy++eGy00UbFXwj+0pe+VFMZB1BteMdP+jC2PvPuNoPf+v0tYo2lF6rNhEYlQIAAAQIECBAgQIAAgVQLuH+nOj11C04BsG7UJvqsgAOoNvuh8EvPm//yzpj43rRkgmN3WDMO2mKl2kxoVAIECBAgQIAAAQIECBBItYD7d6rTU7fgFADrRm0iBcD67IGj//rP+PPDrySTbbnaEnHJAQPrM7lZCBAgQIAAAQIECBAgQCBVAgqAqUpHw4JRAGwYfXNP7ACqXf5v+ufr8Z0rHk0m6D5fpxh33PDoPt+nvxhdu9mNTIAAAQIECBAgQIAAAQJpEnD/TlM2GheLAmDj7Jt6ZgdQ7dL/7kczYv2TR0Zr66dzXHHQxrHpKovXblIjEyBAgAABAgQIECBAgEAqBdy/U5mWugelAFh3chMWBBxAtd0HO//uvvjnq+8nk3x7q5Xj6C+tUdtJjU6AAAECBAgQIECAAAECqRNw/05dShoSkAJgQ9hN6gCq7R741T+ejnPvfCGZZJ3eC8WNh29R20mNToAAAQIECBAgQIAAAQKpE3D/Tl1KGhKQAmBD2E3qAKrtHnjwhcnxtf8blUzS0hIx5qdDY7Ge3Wo7sdEJECBAgAABAgQIECBAIFUC7t+pSkfDglEAbBh9c0/sAKpt/j+eNTsGnDgyps6YnUx0ztcGxM79lq3txEYnQIAAAQIECBAgQIAAgVQJuH+nKh0NC0YBsGH0zT2xA6j2+d//otFx5zOTkon22LBPnL57v9pPbAYCBAgQIECAAAECBAgQSI2A+3dqUtHQQBQAG8rfvJM7gGqf+wvumxAn3fhUMtEyC3ePB47eOloKnwf2IkCAAAECBAgQIECAAIGmEHD/boo0t7tIBcB2iTSohYADqBaqbcd87s0pMeyse9r84W1HbBWrLNmz9pObgQABAgQIECBAgAABAgRSIeD+nYo0NDwIBcCGp6A5A3AA1T7vra2tsckvbo83P/g4meznO60V+23Wt/aTm4EAAQIECBAgQIAAAQIEUiHg/p2KNDQ8CAXAhqegOQNwANUn7z+8+rH466OvJpNts8aSccF+G9VncrMQIECAAAECBAgQIECAQMMF3L8bnoJUBKAAmIo0NF8QDqD65Pxv4ybG//x5XDLZAl07x7jjh8d8nTvVJwCzECBAgAABAgQIECBAgEBDBdy/G8qfmskVAFOTiuYKxAFUn3y//eHHseHJt7WZ7OpDBsXAvovWJwCzECBAgAABAgQIECBAgEBDBdy/G8qfmskVAFOTiuYKxAFUv3xv/5t746nXP0gmPHzrVeKHw1evXwBmIkCAAAECBAgQIECAAIGGCbh/N4w+VRMrAKYqHc0TjAOofrn+xc3/ivPvGZ9M2H+5XnH9dzarXwBmIkCAAAECBAgQIECAAIGGCbh/N4w+VRMrAKYqHc0TjAOofrm+97lJ8Y0LRicTdmqJGPuz4bHw/PPVLwgzESBAgAABAgQIECBAgEBDBNy/G8KeukkVAFOXkuYIyAFUvzxPnzk7+p0wIj6eNSeZ9Lx91o8vrbtM/YIwEwECBAgQIECAAAECBAg0RMD9uyHsqZtUATB1KWmOgBxA9c3zNy54KO597u1k0r03Xj5O3WXd+gZhNgIECBAgQIAAAQIECBCou4D7d93JUzmhAmAq05L/oBxA9c3x+Xe/EL+45elk0uUW7RH3Hrl1fYMwGwECBAgQIECAAAECBAjUXcD9u+7kqZxQATCVacl/UA6g+ub4qdc+iO3PubfNpHf/eHCssNgC9Q3EbAQIECBAgAABAgQIECBQVwH377pyp3YyBcDUpibfgTmA6pvfOXNaY+Cpt8XbH85IJj75K+vE1zdZob6BmI0AAQIECBAgQIAAAQIE6irg/l1X7tROpgCY2tTkOzAHUP3z+/0/j43rx72WTLzt2kvF+d/YsP6BmJEAAQIECBAgQIAAAQIE6ibg/l036lRPpACY6vTkNzgHUP1ze80jr8aP/vJYMvGC3bvE2J8Niy6dO9U/GDMSIECAAAECBAgQIECAQF0E3L/rwpz6SRQAU5+ifAboAKp/Xt94f3ps8ovb20z810M3jQ1WWKT+wZiRAAECBAgQIECAAAECBOoi4P5dF+bUT6IAmPoU5TNAB1Bj8jr8rLvj2Tc/TCb/wdDV4n+GrtqYYMxKgAABAgQIECBAgAABAjUXcP+uOXEmJlAAzESa8hekA6gxOT3xhqfiwvsnJJNvtOIi8Zdvb9qYYMxKgAABAgQIECBAgAABAjUXcP+uOXEmJlAAzESa8hekA6gxOb3z6bdi/4sfTibv3Kklxh03LBbsPl9jAjIrAQIECBAgQIAAAQIECNRUwP27pryZGVwBMDOpylegDqDG5HPqjFnR74QRMXN2axLA/31zwxi21lKNCcisBAgQIECAAAECBAgQIFBTAffvmvJmZnAFwMykKl+BOoAal8+9/vBgjBr/ThLANwetECd+eZ3GBWRmAgQIECBAgAABAgQIEKiZgPt3zWgzNbACYKbSlZ9gHUCNy+W5dz4fv/rHM0kAKy2+QNzxo8GNC8jMBAgQIECAAAECBAgQIFAzAffvmtFmamAFwEylKz/BOoAal8t/vvpe7Py7+9sEcN9RQ6LPIvM3LigzEyBAgAABAgQIECBAgEBNBNy/a8KauUEVADOXsnwE7ABqXB5nz2mNDU4eGe9NnZkEcdqu68ZeA5dvXFBmJkCAAAECBAgQIECAAIGaCLh/14Q1c4MqAGYuZfkI2AHU2Dx+54pH46Z/vp4EscN6y8S5e6/f2KDMToAAAQIECBAgQIAAAQJVF3D/rjppJgdUAMxk2rIftAOosTn88+iX4+hrH0+C6DX/fPHIscOic6eWxgZmdgIECBAgQIAAAQIECBCoqoD7d1U5MzuYAmBmU5ftwB1Ajc3fq+9Ojc1/eWebIP7+3c1ivT69GhuY2QkQIECAAAECBAgQIECgqgLu31XlzOxgCoCZTV22A3cANT5/W59xV4x/+6MkkB9vu3p8Z8gqjQ9MBAQIECBAgAABAgQIECBQNQH376pRZnogBcBMpy+7wTuAGp+74/72RFzy4EtJIJustGj8+VuDGh+YCAgQIECAAAECBAgQIECgagLu31WjzPRACoCZTl92g3cANT53I596Mw6+ZEwSyHydW+Kx44fH/F27ND44ERAgQIAAAQIECBAgQIBAVQTcv6vCmPlBFAAzn8JsLsAB1Pi8TZk+M/qfODJmz2lNgrlo/41iyOpLNj44ERAgQIAAAQIECBAgQIBAVQTcv6vCmPlBFAAzn8JsLsABlI687X7eAzHmpXeTYA7YrG8ct9Na6QhOFAQIECBAgAABAgQIECDQYQH37w4T5mIABcBcpDF7i3AApSNnv7ntuTjrtmeTYFZbqmeM+MFW6QhOFAQIECBAgAABAgQIECDQYQH37w4T5mIABcBcpDF7i3AApSNnj7z0bux23gNtgnnoJ9vEUgt1T0eAoiBAgAABAgQIECBAgACBDgm4f3eILzedFQBzk8psLcQBlI58zZo9JwacNDKmTJ+VBHTGV/vF7hv0SUeAoiBAgAABAgQIECBAgACBDgm4f3eILzedFQBzk8psLcQBlJ58HXLpmPjHk28mAX2l/7Jx9l4D0hOgSAgQIECAAAECBAgQIECgYgH374rpctVRATBX6czOYhxA6cnVpaNeip9d/0QS0OI9u8bonwyNTp1a0hOkSAgQIECAAAECBAgQIECgIgH374rYctdJATB3Kc3GghxA6cnTS5M/iq1+dVebgG7+3hax1rILpSdIkRAgQIAAAQIECBAgQIBARQLu3xWx5a6TAmDuUpqNBTmA0pWnLU6/I155Z1oS1E+2XyO+teXK6QpSNAQIECBAgAABAgQIECBQtoD7d9lkueygAJjLtKZ/UQ6gdOXomGsfjytHv5wEtcWqi8elB26criBFQ4AAAQIECBAgQIAAAQJlC7h/l02Wyw4KgLlMa/oX5QBKV45uefz1OPTyR5OgunXpFI8dPzy6z9c5XYGKhgABAgQIECBAgAABAgTKEnD/Losrt40VAHOb2nQvzAGUrvy8P3VmDDhpRMxp/TSuyw7cODZfdfF0BSoaAgQIECBAgAABAgQIEChLwP27LK7cNlYAzG1q070wB1D68vOVc++Pca+8lwR2yJYrxTHbr5m+QEVEgAABAgQIECBAgAABAiULuH+XTJXrhgqAuU5vehfnAEpfbs4c8Uz89o7nk8DWWmahuPl/tkhfoCIiQIAAAQIECBAgQIAAgZIF3L9Lpsp1QwXAXKc3vYtzAKUvNw+Nnxx7/mFUm8Ae/unQWGLBbukLVkQECBAgQIAAAQIECBAgUJKA+3dJTLlvpACY+xSnc4EOoPTlZcasOTHgxBHx0YzZSXC/2at/fLl/7/QFKyICBAgQIECAAAECBAgQKEnA/bskptw3UgDMfYrTuUAHUDrzcuDFD8ftT7+VBLf7Bn3ijK/2S2ewoiJAgAABAgQIECBAgACBdgXcv9slaooGCoBNkeb0LdIBlL6cFCK66P4JccINTyXBLbVQtxh1zDbR0tKSzoBFRYAAAQIECBAgQIAAAQJfKOD+bYMUBBQA7YOGCDiAGsLe7qTPv/VhDP313W3ajfzBlrHqUgu221cDAgQIECBAgAABAgQIEEifgPt3+nLSiIgUABuhbs5wAKVzE7S2tsamp90Rr78/PQnwuB3XigM275vOgEVFgAABAgQIECBAgAABAl8o4P5tgxQEFADtg4YIOIAawl7SpEde81hcPebVpO2Q1ZeIi/YfWFJfjQgQIECAAAECBAgQIEAgXQLu3+nKR6OiUQBslHyTz+sASu8G+Ptjr8X3rhybBNhjvs4x7vhh0a1L5/QGLTICBAgQIECAAAECBAgQmKuA+7eNURBQALQPGiLgAGoIe0mTTv7w49jg5NvatL3y4E1i0MqLldRfIwIECBAgQIAAAQIECBBIj4D7d3py0chIFAAbqd/EczuA0p38HX97bzwx8YMkyO8MWTl+vO0a6Q5adAQIECBAgAABAgQIECDwOQH3b5uiIKAAaB80RMAB1BD2kic97Zan4/d3v5C079dn4fjbdzcvub+GBAgQIECAAAECBAgQIJAOAffvdOSh0VEoADY6A006vwMo3Ym///m3Y58/PpQE2dIS8eixw2KRBbqmO3DRESBAgAABAgQIECBAgEAbAfdvG6IgoABoHzREwAHUEPaSJ50+c3b0P3FETJ85J+lz7t7rxw7rLVPyGBoSIECAAAECBAgQIECAQOMF3L8bn4M0RKAAmIYsNGEMDqD0J/2bF46Oe56dlAS610bLxWm7rZf+wEVIgAABAgQIECBAgAABAomA+7fNUBBQALQPGiLgAGoIe1mT/vHe8XHyTf9K+vTu1SPuO2pItBQ+D+xFgAABAgQIECBAgAABApkQcP/ORJpqHqQCYM2JTTA3AQdQ+vfF0298ENudfW+bQO/80eDou/gC6Q9ehAQIECBAgAABAgQIECBQFHD/thEKAgqA9kFDBBxADWEva9LW1tYYeOrtMWnKx0m/E7+8dnxz0IpljaMxAQIECBAgQIAAAQIECDROwP27cfZpmlkBME3ZaKJYHEDZSPYRV42La8dOTIIdttZS8X/f3DAbwYuSAAECBAgQIECAAAECBDwBaA8UBRQAbYSGCCgANoS97EmvffTVOOLqx5J+C3brEo8eNyzm69yp7LF0IECAAAECBAgQIECAAIH6C7h/1988jTMqAKYxK00QkwMoG0l+64PpxY8Bf/Z1zbcHxYYrLpqNBYiSAAECBAgQIECAAAECTS7g/t3kG+A/y1cAtA8aIuAAagh7RZNud/Y98fQbU5K+/7PNqvGDYatVNJZOBAgQIECAAAECBAgQIFBfAffv+nqndTYFwLRmJudxOYCyk+CTb3wq/njfhCTg9ZfvFdcetll2FiBSAgQIECBAgAABAgQINLGA+3cTJ/8zS1cAtA8aIuAAagh7RZPe/eyk2PfC0Unfzp1aYuxxw2Kh7vNVNJ5OBAgQIECAAAECBAgQIFA/Affv+lmneSYFwDRnJ8exOYCyk9xpM2ZHvxNGxIzZc5Kgz//GBrHt2ktnZxEiJUCAAAECBAgQIECAQJMKuH83aeL/a9kKgPZBQwQcQA1hr3jSvf9vVDzwwuSk/9c3WT5O/sq6FY+nIwECBAgQIECAAAECBAjUR8D9uz7OaZ9FATDtGcppfA6gbCX2vLteiF/e+nQS9IqLzR93/XhIthYhWgIECBAgQIAAAQIECDShgPt3EyZ9LktWALQPGiLgAGoIe8WTPjHx/djxt/e16X/vkUNiuUXnr3hMHQkQIECAAAECBAgQIECg9gLu37U3zsIMCoBZyFIOY3QAZSupc+a0xoan3BbvfDQjCfzUXdaNvTdePlsLES0BAgQIECBAgAABAgSaTMD9u8kSPo/lKgDaBw0RcAA1hL1Dkx5+5di44bHXkjG2X3fp+N99NujQmDoTIECAAAECBAgQIECAQG0F3L9r65uV0RUAs5KpnMXpAMpeQq9++JU48q//TAJfuMd88ejPhkXnTi3ZW4yICRAgQIAAAQIECBAg0CQC7t9Nkuh2lqkAaB80RMAB1BD2Dk362nvTYtPT7mgzxvXf2Sz6L9erQ+PqTIAAAQIECBAgQIAAAQK1E3D/rp1tlkZWAMxStnIUqwMom8nc5sy74oVJHyXB/2j4avHdrVfN5mJETYAAAQIECBAgQIAAgSYQcP9ugiSXsEQFwBKQNKm+gAOo+qb1GPHnf38yLn7gxWSqgX0XjasPGVSPqc1BgAABAgQIECBAgAABAhUIuH9XgJbDLgqAOUxqFpbkAMpClj4f4+3/ejMO/NOY5I35OrfEuOOGxwLdumRzQaImQIAAAQIECBAgQIBAzgXcv3Oe4BKXpwBYIpRm1RVwAFXXs16jffjxrOh/woiYNac1mfLC/TaMrddYql4hmIcAAQIECBAgQIAAAQIEyhBw/y4DK8dNFQBznNw0L80BlObsfHFse/z+wRj94jtJo/02XTF+vvPa2V2QyAkQIECAAAECBAgQIJBjAffvHCe3jKUpAJaBpWn1BBxA1bOs90i/vf25OHPks8m0qyzZM247Yqt6h2E+AgQIECBAgAABAgQIEChBwP27BKQmaKIA2ARJTuMSHUBpzEppMY19+d3Y5X8faNP4wWO2jmUW7lHaAFoRIECAAAECBAgQIECAQN0E3L/rRp3qiRQAU52e/AbnAMpubmfPaY0BJ46ID6bPShZx+u7rxR4bLpfdRYmcAAECBAgQIECAAAECORVw/85pYstclgJgmWCaV0fAAVQdx0aNcuhlj8QtT7yRTL9zv2XjnK8NaFQ45iVAgAABAgQIECBAgACBeQi4f9saBQEFQPugIQIOoIawV23Syx96KX563RPJeIsu0DXG/HRodOrUUrU5DESAAAECBAgQIECAAAECHRdw/+64YR5GUADMQxYzuAYHUAaT9pmQX3lnamxx+p1tFnHj4ZvHOr0XzvbCRE+AAAECBAgQIECAAIGcCbh/5yyhFS5HAbBCON06JuAA6phfGnpv9as746XJU5NQjv7SGvHtrVZOQ2hiIECAAAECBAgQIECAAIH/CLh/2woFAQVA+6AhAg6ghrBXddJjr388Lhv1cjLmZqssFpcftElV5zAYAQIECBAgQIAAAQIECHRMwP27Y3556a0AmJdMZmwdDqCMJWwu4d76xBvx7cseSd7p2qVTPHbc8OjRtXP2F2cFBAgQIECAAAECBAgQyImA+3dOEtnBZSgAdhBQ98oEHECVuaWp1/vTZsaAE0fEnNZPo/rTAQNjq9WWSFOYYiFAgAABAgQIECBAgEBTC7h/N3X6k8UrANoHDRFwADWEveqT7vq/98ejL7+XjHvwFn3jpzusVfV5DEiAAAECBAgQIECAAAEClQm4f1fmlrdeCoB5y2hG1uMAykii2gnz1yOfjXNufy5ptcbSC8at398yH4uzCgIECBAgQIAAAQIECORAwP07B0mswhL+n737AJKq2Bo4fjay5JyRLBnJSZJEEUVUTCgiCIZPzDkjiqIoPvVhBAQlGJGHkgQk5wwrUZJEyTltmq9m1KvjLjDhztzuvv+p+upVufd2n/M7XaeqzzfLMgC0AZElghegAQVvpuIbS7cflps+XugX2pLn20iR3EkqhktMCCCAAAIIIIAAAggggIDrBLh/u67kWSbMAJBz4IgADcgRdts3TU3PkDqvTJOT59Kstf9zSy25vk4p2/diQQQQQAABBBBAAAEEEEAAgeAFuH8Hb2biGwwATayqBjnRgDQoUoAh9v58mUxfv896+oY6JeWdW2oH+DaPIYAAAggggAACCCCAAAIIRFKA+3ckdfVZmwGgPrUyKlIakDnl/GLhdnlp/ForoSK5s8ni59pITEyMOUmSCQIIIIAAAggggAACCCCgqQD3b00LZ3PYDABtBmW5wARoQIE56fDU1gMnpfWg2X6h/vRIC6lcLLcO4RMjAggggAACCCCAAAIIIGC0APdvo8sbcHIMAAOm4kE7BWhAdmo6u5bH45Fmb86U3UfPWIG8cHVV6d28vLOBsTsCCCCAAAIIIIAAAggggIBw/+YQeAUYAHIOHBGgATnCHrFNnxm7Rr5autNav2WlwvL5XQ0jth8LI4AAAggggAACCCCAAAIIBCbA/TswJ9OfYgBoeoUVzY8GpGhhQgxrwpo98sCYldbbSQmxsrpve8kWHxfiiryGAAIIIIAAAgirVX8pAAAgAElEQVQggAACCCBghwD3bzsU9V+DAaD+NdQyAxqQlmU7b9BHTqVI3f7TxOP5+5ExvRvJ5RULmZUo2SCAAAIIIIAAAggggAACmglw/9asYBEKlwFghGBZ9sICNCDzTsi1g+fJml3HrMT+74oK8nSHKuYlSkYIIIAAAggggAACCCCAgEYC3L81KlYEQ2UAGEFclj6/AA3IvNMxcMoG+XDWFiuxGiXzyIQHm5uXKBkhgAACCCCAAAIIIIAAAhoJcP/WqFgRDJUBYARxWZoBoJvOwMIth6TrkEVWyjExIstfaCcFcia6iYFcEUAAAQQQQAABBBBAAAGlBBgAKlUOx4JhAOgYvbs3pgGZV/9zaelSu980OZOabiX33651pFOtEuYlS0YIIIAAAggggAACCCCAgCYC3L81KVSEw2QAGGFgls9agAZk5snoMXyJzNp4wEru5vqlZOCNtcxMlqwQQAABBBBAAAEEEEAAAQ0EuH9rUKQohMgAMArIbJFZgAZk5qkYNm+bvDphnZVcibxJMv+Z1hLj/X1gPggggAACCCCAAAIIIIAAAlEX4P4ddXIlN2QAqGRZzA+KBmRmjTftOyHt/zPHL7mfH28pFQrnMjNhskIAAQQQQAABBBBAAAEEFBfg/q14gaIUHgPAKEGzjb8ADcjME+HxeKTxgJ9l3/FzVoIvd6omPZqWMzNhskIAAQQQQAABBBBAAAEEFBfg/q14gaIUHgPAKEGzDQNAt5yBx79ZLWNX7LLSbVu1iAy9s4Fb0idPBBBAAAEEEEAAAQQQQEApAQaASpXDsWAYADpG7+6NaUDm1v9/K3fLI1+vshLMmRgnq/q2l4S4WHOTJjMEEEAAAQQQQAABBBBAQFEB7t+KFibKYTEAjDI42/0hQAMy9yQcOHFOGrw23S/Bb+5tIg3LFTA3aTJDAAEEEEAAAQQQQAABBBQV4P6taGGiHBYDwCiDsx0DQDecgavemyvr9x63Un2odUV5rH1lN6ROjggggAACCCCAAAIIIICAUgIMAJUqh2PBMAB0jN7dG9OAzK7/65PWy6dztlpJ1r4kn/yvT1OzkyY7BBBAAAEEEEAAAQQQQEBBAe7fChbFgZAYADqAzpb8CrDpZ2DurwfkjmFLrDRjY0RWvthe8uZIMD118kMAAQQQQAABBBBAAAEElBJgAKhUORwLhgGgY/Tu3pgGZHb9z6amy2X9pkpKWoaV6Mfd6kqHGsXNTpzsEEAAAQQQQAABBBBAAAHFBLh/K1YQh8JhAOgQvNu3pQGZfwK6DV0s8zYftBK9rVFpef36muYnToYIIIAAAggggAACCCCAgEIC3L8VKoaDoTAAdBDfzVvTgMyv/iezt8iAyRusREsXyCFznmplfuJkiAACCCCAAAIIIIAAAggoJMD9W6FiOBgKA0AH8d28NQ3I/Oqv3XNMrn5/nl+is5+8QsoUzGl+8mSIAAIIIIAAAggggAACCCgiwP1bkUI4HAYDQIcL4NbtaUDmVz4jwyMNX58uB0+mWMn2v66GdGtcxvzkyRABBBBAAAEEEEAAAQQQUESA+7cihXA4DAaADhfArdvTgNxR+Ye/WinjV+2xku1QvZh8fEc9dyRPlggggAACCCCAAAIIIICAAgLcvxUoggIhMABUoAhuDIEG5I6qf7tspzz53Ror2dxJ8bLyxXYSHxfrDgCyRAABBBBAAAEEEEAAAQQcFuD+7XABFNmeAaAihXBbGDQgd1T892NnpfGAn/2S/f7+y6Vu6fzuACBLBBBAAAEEEEAAAQQQQMBhAe7fDhdAke0ZACpSCLeFQQNyT8XbvTNbft1/0kr4sXaV5KE2l7oHgEwRQAABBBBAAAEEEEAAAQcFuH87iK/Q1gwAFSqGm0KhAbmn2v1+XCvD52+3Em5QNr98e9/l7gEgUwQQQAABBBBAAAEEEEDAQQHu3w7iK7Q1A0CFiuGmUGhA7qn2zA37peeIpVbC8bExsvKldpI7KcE9CGSKAAIIIIAAAggggAACCDgkwP3bIXjFtmUAqFhB3BIODcgtlRY5nZImtfpNldR0j5X0kO71pV21ou5BIFMEEEAAAQQQQAABBBBAwCEB7t8OwSu2LQNAxQrilnBoQG6p9B953vrpQlm09bCV9J1Nyki/zjXchUC2CCCAAAIIIIAAAggggIADAty/HUBXcEsGgAoVZdmyZTJp0iSZN2+erFu3Tg4cOCAJCQlSokQJadq0qfTq1UuaNWsWdsQvv/yy9OvXL6B1Zs6cKVdccUVAzwbzEA0oGC39n/1g5mZ566eNViLlC+eUGY/bf670lyIDBBBAAAEEEEAAAQQQQMBeAe7f9nrquhoDQEUq16JFC5k7d+5Fo+nevbsMGTJEEhMTL/rs+R5gABgyHS+GKLB651Hp/MF8v7fnP9NaSubLHuKKvIYAAggggAACCCCAAAIIIBCIAAPAQJTMf4YBoCI1rlixomzZssX3bb+bbrpJmjdvLqVLl5b09HRZuHChDBo0SHbv3u2LtmvXrjJmzJiQI//nADA5OfmC65QrV05y5swZ8l7ne5EGZDup0gumZ3ikXv9pcvR0qhXnm11qyi0NSisdN8EhgAACCCCAAAIIIIAAAroLcP/WvYL2xM8A0B7HsFe55pprxPvtvi5dukhcXFym9Q4ePOj7NeBNmzb5fjZ79mzxfmswlM8/B4Aez99/mCGUtUJ9hwYUqpy+7/UZvUImJu+1ErjmsuIy+La6+iZE5AgggAACCCCAAAIIIICABgLcvzUoUhRCZAAYBWS7tpgwYYJ06tTJt9yDDz4o77//fkhLMwAMiY2XwhT4askOeeb7v79xmj9Hgix/oZ3ExsaEuTKvI4AAAggggAACCCCAAAIInE+AASBnwyvAAFCjc3Dq1CnJlSuXL+KOHTvKxIkTQ4qeAWBIbLwUpsCuI6el2Zsz/Vb58YFmUrNU3jBX5nUEEEAAAQQQQAABBBBAAAEGgJyBCwkwANTofBw+fFgKFizoi9j7TcAffvghpOgZAIbExks2CLR6e5ZsO3jKWunJKytLn1YVbViZJRBAAAEEEEAAAQQQQAABBLIS4BuAnAuvAANAjc7BuHHj5IYbbvBF/NRTT8mbb74ZUvT/HAC2a9dOVq1aJUePHpV8+fJJtWrVpEOHDnLvvfdK/vz5Q1o/kJdoQIEomffMS+N/kS8W/mYl1qR8QfnynsbmJUpGCCCAAAIIIIAAAggggIAiAty/FSmEw2EwAHS4AIFun5GRIU2aNJElS5b4Xlm2bJnUq1cv0Nf9nvvnAPB8C3iHgSNGjJDOnTuHtIe3wVzos3fvXmnYsKHvkZ07d0qpUqVC2oeX9BKYuvZ3uWfkcivoxLhYWdW3neRIjNcrEaJFAAEEEEAAAQQQQAABBDQRYACoSaEiHCYDwAgD27X8oEGD5IknnvAt5/0W4NixY0Ne2jsA/P777+W6667zDeFKlCghqampsnHjRhk9erRMnTrVt7b3rxH/+OOPctVVVwW9V0xM4H/YgQFg0LzavnD8bKrUeWWapGf8/denh/dsIK0qF9E2JwJHAAEEEEAAAQQQQAABBFQWYACocnWiFxsDwOhZh7zT7NmzpW3btpKWliZFihSR5ORk3/+G+vnr133P9/4nn3wi9913n+/H3uHgli1bJCkpKajtGAAGxeWqh2/8aIEs++2IlXOvZuXkxWuqucqAZBFAAAEEEEAAAQQQQACBaAkwAIyWtNr7MABUuz6ydu1aad68uRw5csQ3hPvpp5+kRYsWEY+6d+/eMmzYMN8+o0aNkttvvz2oPfkV4KC4XPXwu9M3ybvTf7VyrlQ0l0x9tKWrDEgWAQQQQAABBBBAAAEEEIiWAAPAaEmrvQ8DQIXrs23bNmnWrJns2bPH9+u43l/7DfXf5As2zaVLl1r/Rt/dd98tn376abBLXPB5GpCtnFottvy3I9LlowV+MS9+ro0UzRPct0y1SppgEUAAAQQQQAABBBBAAAGHBLh/OwSv2LYMABUryF/heId+3m/+bd26Vby/Tuv9gxzdu3ePWrSnTp2SXLly+fbr2LGjTJw40da9aUC2cmq1WFp6htR5dZqcOJtmxT3oplrSpR5/CEarQhIsAggggAACCCCAAAIIaCHA/VuLMkU8SAaAEScOfoODBw9Ky5YtZd26db6XBw8eLH369Al+oTDeOH36tOTMmZMBYBiGvHp+gXu+WCZT1+2zHriudgl599Y6kCGAAAIIIIAAAggggAACCNgswADQZlBNl2MAqFjhjh07Jq1bt5YVK1b4InvjjTfk6aefjnqUy5YtkwYNGvj29f57gEOGDLE1BhqQrZzaLTZy0W/y4v9+seIulCubLH2+je/brnwQQAABBBBAAAEEEEAAAQTsE+D+bZ+lzisxAFSoet5v3bVv317mz5/vi+r555+X/v37OxKh99/9Gzp0qG/vkSNHSrdu3WyNgwZkK6d2i20/eEqueHuWX9yTH24uVYvn0S4XAkYAAQQQQAABBBBAAAEEVBbg/q1ydaIXGwPA6FlfcKeUlBTp1KmTTJ061ffcww8/LO+++27Q0Xn/rcCePXv63uvbt6+8/PLLfmskJydL9uzZpWLFiudd2/sHP+69917fz4sVKyabN2+2fh046IDO8wINyC5JPdfxeDzSfOBM2XXkjJXAcx2ryD0tKuiZEFEjgAACCCCAAAIIIIAAAooKcP9WtDBRDosBYJTBz7ddly5d5Pvvv/f92PsrwN7h34V+HTIxMVEqVaqUabmLDQC9P/f+Sm+rVq3kqquukpo1a0rBggUlLS1NNmzYIKNHj7aGkN6/PDxu3DjfYNLuDw3IblH91nv2+2T5cskOK/DmlxaSkb0a6ZcIESOAAAIIIIAAAggggAACCgtw/1a4OFEMjQFgFLEvtFWw//ZZmTJlZPv27SENAP/6huCF4vEOBYcNGyadO3eOiBANKCKsWi06KXmv3D/6j3/r0vvJFh8rq/u2l6SEOK3yIFgEEEAAAQQQQAABBBBAQGUB7t8qVyd6sTEAjJ71BXeK1gBw//79MmHCBFm4cKGsXLlS9u3bJ4cOHRLvr2QWKFBAatWqJR06dJAePXpInjyR+/fYaECKHDwHwzh6OkXqvjpNMjx/BzGqVyNpdmkhB6NiawQQQAABBBBAAAEEEEDALAHu32bVM9RsGACGKsd7YQnQgMLiM+blzh/Ml9U7j1r53NuyvDx7VVVj8iMRBBBAAAEEEEAAAQQQQMBpAe7fTldAjf0ZAKpRB9dFQQNyXcmzTPjtnzbK4JmbrZ9VK55HJj3cHBwEEEAAAQQQQAABBBBAAAGbBLh/2wSp+TIMADUvoK7h04B0rZy9cS/eekhu+XSR36LLXmgrhXJls3cjVkMAAQQQQAABBBBAAAEEXCrA/dulhf9X2gwAOQeOCNCAHGFXbtOUtAyp/cpUOZ2SbsX23q21pXPtksrFSkAIIIAAAggggAACCCCAgI4C3L91rJr9MTMAtN+UFQMQoAEFgOSSR+4asVRmbNhvZXtjvVLy9k21XJI9aSKAAAIIIIAAAggggAACkRXg/h1ZX11WZwCoS6UMi5MGZFhBw0hn+Pxt0u/HddYKxfIkycJnW0uwfxk7jBB4FQEEEEAAAQQQQAABBBAwVoD7t7GlDSoxBoBBcfGwXQI0ILsk9V9n8/4T0vadOX6JTHu0hVxaNLf+yZEBAggggAACCCCAAAIIIOCwAPdvhwugyPYMABUphNvCoAG5reLnz9fj8cjlb8yQvcfOWg+9dE01uatZOZAQQAABBBBAAAEEEEAAAQTCFOD+HSagIa8zADSkkLqlQQPSrWKRjffJb1fLt8t3WZu0rlJEPuvRILKbsjoCCCCAAAIIIIAAAggg4AIB7t8uKHIAKTIADACJR+wXoAHZb6rziuNX7ZaHv1plpZAjMU5WvdReEuNjdU6L2BFAAAEEEEAAAQQQQAABxwW4fzteAiUCYACoRBncFwQNyH01v1DGh06ek3r9p/s98tU9jaVx+YJAIYAAAggggAACCCCAAAIIhCHA/TsMPINeZQBoUDF1SoUGpFO1ohPr1e/PlbV7jlubPdCqojxxZeXobM4uCCCAAAIIIIAAAggggIChAty/DS1skGkxAAwSjMftEaAB2eNo0ioDJq+XT2ZvtVKqVSqvjH+gmUkpkgsCCCCAAAIIIIAAAgggEHUB7t9RJ1dyQwaASpbF/KBoQObXONgM528+KLcPXWy9FhMjsvLFdpIvR2KwS/E8AggggAACCCCAAAIIIIDAnwLcvzkKXgEGgJwDRwRoQI6wK73p2dR0qdVvqpxLy7Di/OC2unL1ZcWVjpvgEEAAAQQQQAABBBBAAAGVBbh/q1yd6MXGADB61uz0DwEaEMchK4Huny2ROZsOWD/q2vASGXDDZWAhgAACCCCAAAIIIIAAAgiEKMD9O0Q4w15jAGhYQXVJhwakS6WiG+eQOVvltUnrrU1L5ssu855uJTHe3wfmgwACCCCAAAIIIIAAAgggELQA9++gyYx8gQGgkWVVPykakPo1ciLC9XuPy1XvzfXbeuYTV0i5QjmdCIc9EUAAAQQQQAABBBBAAAHtBbh/a19CWxJgAGgLI4sEK0ADClbMHc97PB5p8NrPcvDkOSvhVztXlzualHUHAFkigAACCCCAAAIIIIAAAjYLcP+2GVTT5RgAalo43cOmAelewcjF/+jXq2Tcyt3WBu2rFZVPu9eP3IasjAACCCCAAAIIIIAAAggYLMD92+DiBpEaA8AgsHjUPgEakH2Wpq00dvkuefzb1VZaubPFy8qX2kl8XKxpqZIPAggggAACCCCAAAIIIBBxAe7fESfWYgMGgFqUybwgaUDm1dSujPYfPysNX//Zb7mx/9dE6pUpYNcWrIMAAggggAACCCCAAAIIuEaA+7drSn3BRBkAcg4cEaABOcKuzaZX/meObNx3wor34TaXyqPtKmkTP4EigAACCCCAAAIIIIAAAqoIcP9WpRLOxsEA0Fl/1+5OA3Jt6QNKvP+EdTJ03jbr2Xpl8svY/7s8oHd5CAEEEEAAAQQQQAABBBBA4G8B7t+cBq8AA0DOgSMCNCBH2LXZdNbG/dJj+FIr3rjYGN+/A5gnKUGbHAgUAQQQQAABBBBAAAEEEFBBgPu3ClVwPgYGgM7XwJUR0IBcWfaAkz6Tki61+k2VlPQM651P7qgnV1YvFvAaPIgAAggggAACCCCAAAIIICDC/ZtT4BVgAMg5cESABuQIu1ab3jZkkSzYcsiK+Y7GZeTV62polQPBIoAAAggggAACCCCAAAJOC3D/droCauzPAFCNOrguChqQ60oedMIfztosA6dstN4rWzCHzHqyVdDr8AICCCCAAAIIIIAAAggg4GYB7t9urv7fuTMA5Bw4IkADcoRdq01/2X1MrvnvPL+Y5z7VSi4pkEOrPAgWAQQQQAABBBBAAAEEEHBSgPu3k/rq7M0AUJ1auCoSGpCryh1SshkZHqn/2nQ5fCrFen/ADTWla8PSIa3HSwgggAACCCCAAAIIIICAGwW4f7ux6plzZgDIOXBEgAbkCLt2mz4wZoVMWLPXirtjzWLy4e31tMuDgBFAAAEEEEAAAQQQQAABpwS4fzslr9a+DADVqodroqEBuabUYSX6zdKd8tTYNdYaebMnyIoX20lcbExY6/IyAggggAACCCCAAAIIIOAWAe7fbqn0hfNkAMg5cESABuQIu3ab7jl6Ri5/Y4Zf3OP7NJVal+TTLhcCRgABBBBAAAEEEEAAAQScEOD+7YS6ensyAFSvJq6IiAbkijLbkmTrQbNk64FT1lpPtK8kD7S+1Ja1WQQBBBBAAAEEEEAAAQQQMF2A+7fpFQ4sPwaAgTnxlM0CNCCbQQ1e7uUf1sqIBdutDBuVKyBf39vE4IxJDQEEEEAAAQQQQAABBBCwT4D7t32WOq/EAFDn6mkcOw1I4+JFOfTp6/ZJ7y+WWbsmxMXIqpfaS85s8VGOhO0QQAABBBBAAAEEEEAAAf0EuH/rV7NIRMwAMBKqrHlRARrQRYl44E+Bk+fSpHa/qZKW4bFMPutRX1pXKYoRAggggAACCCCAAAIIIIDARQS4f3NEvAIMADkHjgjQgBxh13bTmz9eKEu2H7bi79m0rPTtVF3bfAgcAQQQQAABBBBAAAEEEIiWAPfvaEmrvQ8DQLXrY2x0NCBjSxuRxN7/+Vd5Z9oma+2KRXLJ9MdaRmQvFkUAAQQQQAABBBBAAAEETBLg/m1SNUPPhQFg6Ha8GYYADSgMPBe+unLHEbn+wwV+mS98trUUz5vdhRqkjAACCCCAAAIIIIAAAggELsD9O3Ark59kAGhydRXOjQakcHEUDC09wyN1Xpkqx8+mWdG9deNlclP9SxSMlpAQQAABBBBAAAEEEEAAAXUEuH+rUwsnI2EA6KS+i/emAbm4+CGmft/I5TJl7e/W29fWKiHvd60T4mq8hgACCCCAAAIIIIAAAgi4Q4D7tzvqfLEsGQBeTIifR0SABhQRVqMXHb34N3l+3C9WjgVzJsrS59tKbGyM0XmTHAIIIIAAAggggAACCCAQjgD373D0zHmXAaA5tdQqExqQVuVSItgdh05Li7dm+sUy4cFmUqNkXiXiIwgEEEAAAQQQQAABBBBAQEUB7t8qViX6MTEAjL45O4oIDYhjEIpAy7dmym+HTluvPnNVFbmvZYVQluIdBBBAAAEEEEAAAQQQQMAVAty/XVHmiybJAPCiRDwQCQEaUCRUzV/z+XHJMnrxDivRZhULyajejcxPnAwRQAABBBBAAAEEEEAAgRAFuH+HCGfYawwADSuoLunQgHSplFpxTvllr9w3aoUVVGJ8rKzp216SEuLUCpRoEEAAAQQQQAABBBBAAAFFBLh/K1IIh8NgAOhwAdy6PQ3IrZUPL+9jZ1KlzitTJcPz9zpf3NVQWlQqHN7CvI0AAggggAACCCCAAAIIGCrA/dvQwgaZFgPAIMF43B4BGpA9jm5c5foP58vKHUet1O9pUV6e61jVjRTkjAACCCCAAAIIIIAAAghcVID790WJXPEAA0BXlFm9JGlA6tVEl4jembpR3p+x2Qq3SrHcMuWRFrqET5wIIIAAAggggAACCCCAQFQFuH9HlVvZzRgAKlsaswOjAZld30hmt3T7Ybnp44V+Wyx5vo0UyZ0UyW1ZGwEEEEAAAQQQQAABBBDQUoD7t5Zlsz1oBoC2k7JgIAI0oECUeCYrgdT0DKnzyjQ5eS7N+vF/bqkl19cpBRgCCCCAAAIIIIAAAggggMC/BLh/cyS8AgwAOQeOCNCAHGE3ZtPeny+T6ev3WfncULekvHNzbWPyIxEEEEAAAQQQQAABBBBAwC4B7t92Seq9DgNAveunbfQ0IG1Lp0Tgny/YLn1/WGvFUiR3Nln8XBuJiYlRIj6CQAABBBBAAAEEEEAAAQRUEeD+rUolnI2DAaCz/q7dnQbk2tLbkviWAyelzaDZfmv99EgLqVwsty3rswgCCCCAAAIIIIAAAgggYIoA929TKhleHgwAw/Pj7RAFaEAhwvGaT8Dj8UizN2fK7qNnLJEXrq4qvZuXRwgBBBBAAAEEEEAAAQQQQOAfAty/OQ5eAQaAnANHBGhAjrAbtenT362Rr5fttHK6onJhGdGzoVE5kgwCCCCAAAIIIIAAAgggEK4A9+9wBc14nwGgGXXULgsakHYlUy7gH1fvkQe/XGnFlZQQK6v7tpds8XHKxUpACCCAAAIIIIAAAggggIBTAty/nZJXa18GgGrVwzXR0IBcU+qIJXr4VIrU6z9NPJ6/txhzdyO5vEKhiO3JwggggAACCCCAAAIIIICAbgLcv3WrWGTiZQAYGVdWvYgADYgjYodAp//Ok+Tdx6yl/u+KCvJ0hyp2LM0aCCCAAAIIIIAAAggggIARAty/jShj2EkwAAybkAVCEaABhaLGO/8WGDhlg3w4a4v1n2uWzCs/PtgMKAQQQAABBBBAAAEEEEAAgT8FuH9zFLwCDAA5B44I0IAcYTdu0wVbDsptQxZbecXEiCx/oZ0UyJloXK4khAACCCCAAAIIIIAAAgiEIsD9OxQ1895hAGheTbXIiAakRZmUD/JcWrrU7jdNzqSmW7H+t2sd6VSrhPKxEyACCCCAAAIIIIAAAgggEA0B7t/RUFZ/DwaA6tfIyAhpQEaW1ZGkegxfIrM2HrD2vqX+JfLmjZc5EgubIoAAAggggAACCCCAAAKqCXD/Vq0izsTDANAZd9fvSgNy/RGwDWDo3K3Sf+J6a70SeZNk/jOtJcb7+8B8EEAAAQQQQAABBBBAAAGXC3D/dvkB+DN9BoCcA0cEaECOsBu56cbfT8iV787xy+3nx1tKhcK5jMyXpBBAAAEEEEAAAQQQQACBYAS4fwejZe6zDADNra3SmdGAlC6PVsF5PB5p9PrPsv/EOSvuftdWlzsvL6tVHgSLAAIIIIAAAggggAACCERCgPt3JFT1W5MBoH41MyJiGpARZVQmice+WSXfr9htxdO2ahEZemcDZeIjEAQQQAABBBBAAAEEEEDAKQHu307Jq7UvA0C16uGaaGhAril1VBL938rd8sjXq6y9cmWLl5UvtZOEuNio7M8mCCCAAAIIIIAAAggggICqAty/Va1MdONiABhdb3b7U4AGxFGwU+DAiXPS4LXpfkt+e18TaVC2gJ3bsBYCCCCAAAIIIIAAAgggoJ0A92/tShaRgBkARoSVRS8mQAO6mBA/D1agw7tzZMPvJ6zXHmpdUR5rXznYZXgeAQQQQAABBBBAAAEEEDBKgPu3UeUMORkGgCHT8WI4AjSgcPR4NyuB1yetl0/nbLV+VKd0Phl3f1OwEEAAAQQQQAABBBBAAAFXC3D/dnX5reQZAHIOHBGgATnCbvSmczYdkO6fLbFyjI0RWflie8mbI8HovEkOARniHEMAACAASURBVAQQQAABBBBAAAEEELiQAPdvzodXgAEg58ARARqQI+xGb3o2NV0u6zdVUtIyrDw/7lZXOtQobnTeJIcAAggggAACCCCAAAIIMADkDFxMgAHgxYT4eUQEGABGhNX1i3YbuljmbT5oOdzeqLS8dn1N17sAgAACCCCAAAIIIIAAAu4V4P7t3tr/M3MGgJwDRwRoQI6wG7/px7O3yBuTN1h5li6QQ+Y81cr4vEkQAQQQQAABBBBAAAEEEDifAPdvzoZXgAEg58ARARqQI+zGb7p2zzG5+v15fnnOebKVlC6Yw/jcSRABBBBAAAEEEEAAAQQQyEqA+zfnggEgZ8AxARqQY/RGb5yR4ZEGr02XQ6dSrDxfu76G3N6ojNF5kxwCCCCAAAIIIIAAAgggcD4B7t+cDQaAnAHHBGhAjtEbv/FDX66UH1bvsfLsUL2YfHxHPePzJkEEEEAAAQQQQAABBBBAICsB7t+cCwaAnAHHBGhAjtEbv/G3y3bKk9+tsfLMkxQvK15sJ/FxscbnToIIIIAAAggggAACCCCAwL8FuH9zJhgAcgYcE6ABOUZv/Ma/HzsrjQf87Jfn9/dfLnVL5zc+dxJEAAEEEEAAAQQQQAABBBgAcgayEuCPgHAuHBFgAOgIu2s2bffObPl1/0kr38faVZKH2lzqmvxJFAEEEEAAAQQQQAABBBD4S4D7N2fBK8AAkHPgiAANyBF212za78e1Mnz+divfhmULyDf3NXFN/iSKAAIIIIAAAggggAACCDAA5Az8U4ABIOfBEQEGgI6wu2bTGRv2yV0jlln5xsfGyKq+7SVXtnjXGJAoAggggAACCCCAAAIIIOAV4P7NOfAKMADkHDgiQANyhN01m546lya1X5kqqekeK+eh3etL22pFXWNAoggggAACCCCAAAIIIIAAA0DOwF8CDAA5C44IMAB0hN1Vm97yyUJZvO2wlXOPy8vKy9dWd5UBySKAAAIIIIAAAggggAAC3L85A14BBoCcA0cEaECOsLtq08EzfpW3p26yci5fOKfMePwKVxmQLAIIIIAAAggggAACCCDA/ZszwACQM+CYAA3IMXrXbLx651Hp/MF8v3znP9NaSubL7hoDEkUAAQQQQAABBBBAAAEEuH9zBhgAcgYcE6ABOUbvmo3TMzxS99VpcuxMqpXzm11qyi0NSrvGgEQRQAABBBBAAAEEEEAAAe7fnAEGgJwBxwRoQI7Ru2rjPqNXyMTkvVbO11xWXAbfVtdVBiSLAAIIIIAAAggggAAC7hbg/u3u+v+VPf8GIOfAEQEakCPsrtv0yyU75Nnvk6288+dIkOUvtJPY2BjXWZAwAggggAACCCCAAAIIuFOA+7c76/7vrBkAcg4cEaABOcLuuk13Hj4tzQfO9Mv7xweaSc1SeV1nQcIIIIAAAggggAACCCDgTgHu3+6sOwNA6q6EAA1IiTK4IohWb8+SbQdPWbk+1aGy3H9FRVfkTpIIIIAAAggggAACCCCAAPdvzoBXgG8Acg4cEaABOcLuyk1f/N8vMnLRb1bul1coKGPubuxKC5JGAAEEEEAAAQQQQAAB9wlw/3ZfzbPKmAEg58ARARqQI+yu3PSntb/LvSOXW7knxsXK6r7tJXtinCs9SBoBBBBAAAEEEEAAAQTcJcD92131Pl+2DAA5B44I0IAcYXflpsfPpkqdV6ZJeobHyn9EzwZyReUirvQgaQQQQAABBBBAAAEEEHCXAPdvd9WbASD1VkqABqRUOYwPpstHC2T5b0esPHs1KycvXlPN+LxJEAEEEEAAAQQQQAABBBDg/s0Z8ArwDUDOgSMCNCBH2F276bvTN8m703+18q9cNLf89GgL13qQOAIIIIAAAggggAACCLhHgPu3e2p9oUwZAHIOHBGgATnC7tpNl/92WLp8tNAv/yXPtZEieZJca0LiCCCAAAIIIIAAAggg4A4B7t/uqPPFsmQAeDEhfh4RARpQRFhZ9DwCaekZvn8H8MS5NOuJQTfVki71SmGGAAIIIIAAAggggAACCBgtwP3b6PIGnBwDwICpeNBOARqQnZqsFYjAPV8sk6nr9lmPXl+npPznltqBvMozCCCAAAIIIIAAAggggIC2Aty/tS2drYEzALSVk8UCFaABBSrFc3YJjFy4XV4cv9ZarlCubLL0+TYSExNj1xasgwACCCCAAAIIIIAAAggoJ8D9W7mSOBIQA0BH2NmUBsQZiLbAtoOnpNXbs/y2nfxwc6laPE+0Q2E/BBBAAAEEEEAAAQQQQCBqAty/o0at9EYMAJUuj7nB0YDMra2qmXk8Hmk+cKbsOnLGCvH5jlXl7hblVQ2ZuBBAAAEEEEAAAQQQQACBsAW4f4dNaMQCDACNKKN+SdCA9KuZCRE/+/0a+XLJTiuV5pcWkpG9GpmQGjkggAACCCCAAAIIIIAAAlkKcP/mYHgFGAByDhwRoAE5wu76TScl75X7R6+wHLLFx8rqvu0lKSHO9TYAIIAAAggggAACCCCAgJkC3L/NrGuwWTEADFaM520RoAHZwsgiQQocPZ0idV6dJh7P3y+O7t1ImlYsFORKPI4AAggggAACCCCAAAII6CHA/VuPOkU6SgaAkRZm/SwFaEAcDKcEOg+eJ6t3HbO2v7dleXn2qqpOhcO+CCCAAAIIIIAAAggggEBEBbh/R5RXm8UZAGpTKrMCpQGZVU+dsnn7p40yeOZmK+TqJfLIxIea65QCsSKAAAIIIIAAAggggAACAQtw/w6YyugHGQAaXV51k6MBqVsb0yNbtPWQ3PrpIr80l73QVgrlymZ66uSHAAIIIIAAAggggAACLhTg/u3ComeRMgNAzoEjAjQgR9jZVERS0jKk9itT5XRKuuXx3q21pXPtkvgggAACCCCAAAIIIIAAAsYJcP82rqQhJcQAMCQ2XgpXgAYUriDvhyNw14ilMmPDfmuJm+qVkrduqhXOkryLAAIIIIAAAggggAACCCgpwP1bybJEPSgGgFEnZ0OvAA2Ic+CkwGfztskrE9ZZIRTLkyQLn20tMTExTobF3ggggAACCCCAAAIIIICA7QLcv20n1XJBBoBalk3/oGlA+tdQ5ww27z8hbd+Z45fC9MdaSMUiuXVOi9gRQAABBBBAAAEEEEAAgUwC3L85FF4BBoCcA0cEaECOsLPpnwIej0eaDJghvx8/a5n07VRNejYthxECCCCAAAIIIIAAAgggYJQA92+jyhlyMgwAQ6bjxXAEaEDh6PGuHQJPfLtavlu+y1qqdZUi8lmPBnYszRoIIIAAAggggAACCCCAgDIC3L+VKYWjgTAAdJTfvZvTgNxbe1UyH79qtzz81SornByJcbLqpfaSGB+rSojEgQACCCCAAAIIIIAAAgiELcD9O2xCIxZgAGhEGfVLggakX81Mi/jgyXNSv/90v7S+uqexNC5f0LRUyQcBBBBAAAEEEEAAAQRcLMD928XF/0fqDAA5B44I0IAcYWfTfwl0fG+urNt73PqvD7SqKE9cWRknBBBAAAEEEEAAAQQQQMAYAe7fxpQyrEQYAIbFx8uhCtCAQpXjPTsFBkxeL5/M3motWeuSfDK+T1M7t2AtBBBAAAEEEEAAAQQQQMBRAe7fjvIrszkDQGVK4a5AaEDuqreq2c779aB0G7bYCi8mRmTli+0kX45EVUMmLgQQQAABBBBAAAEEEEAgKAHu30FxGfswA0BjS6t2YjQgtevjlujOpqZLrX5T5VxahpXyh7fXlY41i7uFgDwRQAABBBBAAAEEEEDAcAHu34YXOMD0GAAGCMVj9grQgOz1ZLXQBe4Ytljm/nrQWqBrw9Iy4IaaoS/ImwgggAACCCCAAAIIIICAQgLcvxUqhoOhMAB0EN/NW9OA3Fx9tXL/dM4WeX3SBiuoUvmzy9ynWkmM9/eB+SCAAAIIIIAAAggggAACmgtw/9a8gDaFzwDQJkiWCU6ABhScF09HTmD93uNy1Xtz/TaY9cQVUrZQzshtysoIIIAAAggggAACCCCAQJQEuH9HCVrxbRgAKl4gU8OjAZlaWf3y8ng80uC1n+XgyXNW8K92ri53NCmrXzJEjAACCCCAAAIIIIAAAgj8S4D7N0fCK8AAkHPgiAANyBF2Nj2PwKNfr5JxK3dbP21frah82r0+XggggAACCCCAAAIIIICA9gLcv7UvoS0JMAC0hZFFghWgAQUrxvORFBi7fJc8/u1qa4vc2eJl5UvtJD4uNpLbsjYCCCCAAAIIIIAAAgggEHEB7t8RJ9ZiAwaAWpTJvCBpQObVVOeM9h0/K41e/9kvhbH/10TqlSmgc1rEjgACCCCAAAIIIIAAAggI928OgVeAASDnwBEBGpAj7Gx6AYEr/zNHNu47YT3xSNtL5ZG2lTBDAAEEEEAAAQQQQAABBLQW4P6tdflsC54BoG2ULBSMAA0oGC2ejYbAqxPWybB526yt6pfJL9/93+XR2Jo9EEAAAQQQQAABBBBAAIGICXD/jhitVgszANSqXOYESwMyp5amZDJz437pOXyplU5cbIzv3wHMk5RgSorkgQACCCCAAAIIIIAAAi4U4P7twqJnkTIDQM6BIwI0IEfY2fQCAqdT0qR2v2mSkp5hPfXpHfWkffViuCGAAAIIIIAAAggggAAC2gpw/9a2dLYGzgDQVk4WC1SABhSoFM9FU6Drp4tk4dZD1pZ3NC4jr15XI5ohsBcCCCCAAAIIIIAAAgggYKsA929bObVdjAGgtqXTO3AakN71MzX6D2dtloFTNlrplSuUU2Y+cYWp6ZIXAggggAACCCCAAAIIuECA+7cLihxAigwAA0DiEfsFaED2m7Ji+ALJu45Jp8Hz/Baa+1QruaRAjvAXZwUEEEAAAQQQQAABBBBAwAEB7t8OoCu4JQNABYvihpBoQG6osn45ZmR4pF7/aXLkdKoV/IAbakrXhqX1S4aIEUAAAQQQQAABBBBAAAER4f7NMfAKMADkHDgiQANyhJ1NAxB4YMwKmbBmr/Xk1TWLywe31w3gTR5BAAEEEEAAAQQQQAABBNQT4P6tXk2ciIgBoBPq7Mn/B4IzoKzA10t3yNNjk6348uVIkOUvtJO42BhlYyYwBBBAAAEEEEAAAQQQQOB8AgwAORteAQaACp2DZcuWyaRJk2TevHmybt06OXDggCQkJEiJEiWkadOm0qtXL2nWrJmtEX/55ZcyfPhwWbNmjRw9elSKFi0qzZs3lz59+kiTJk1s3eufi9GAIkbLwmEK7D56Rpq+McNvlfF9mkqtS/KFuTKvI4AAAggggAACCCCAAALRF+D+HX1zFXdkAKhIVVq0aCFz5869aDTdu3eXIUOGSGJi4kWfvdADZ86ckRtvvNE3cMzqExsbKy+99JL07ds3rH3O9zINKCKsLGqTQOtBs2TrgVPWak9eWVn6tKpo0+osgwACCCCAAAIIIIAAAghET4D7d/SsVd6JAaAi1alYsaJs2bLF922/m266yfctvNKlS0t6erosXLhQBg0aJLt37/ZF27VrVxkzZkxYkXvX+Oqrr3xrtGrVSh5++GHf3snJyfL666/7YvF+PvnkE7nnnnvC2iurl2lAtpOyoI0Cfcf/Ip8v/M1asVG5AvL1vZH7RqyNobMUAggggAACCCCAAAIIIOAnwP2bA+EVYACoyDm45pprxPvtvi5dukhcXFymqA4ePOj7NeBNmzb5fjZ79mzxfmswlM+MGTOkTZs2vlc7deok48aN89vTu1e9evVkx44dki9fPtm6davkz58/lK3O+w4NyFZOFrNZYPq6fdL7i2XWqglxMbLqpfaSM1u8zTuxHAIIIIAAAggggAACCCAQWQHu35H11WV1BoC6VEpEJkyY4BvYeT8PPvigvP/++yFF37FjR5k8ebLEx8fLtm3bpFSpUpnW8X470PstQe9n4MCB8uSTT4a01/leogHZysliNgucPJcmtftNlbQMj7Xy8B4NpFWVIjbvxHIIIIAAAggggAACCCCAQGQFuH9H1leX1RkA6lIpETl16pTkypXLF7F3iDdx4sSgoz9x4oQUKlRIUlJSpEOHDr5BYFYf788LFy4sx48f9/0xkAULFgS914VeoAHZysliERC46eMFsnT7EWvlnk3LSt9O1SOwE0sigAACCCCAAAIIIIAAApET4P4dOVudVmYAqFG1Dh8+LAULFvRF7P0m4A8//BB09P/89d8BAwbIM888c941rrzySpk6darvm4KnT5/2/UViuz40ILskWSdSAu///Ku8M+2PX7n3fi4tkkumPdYyUtuxLgIIIIAAAggggAACCCAQEQHu3xFh1W5RBoAalcz7b/XdcMMNvoifeuopefPNN4OOfvDgwb5fH/Z+vOtdd911513D+4dB/vo147Vr10q1atWC3u98L9CAbKNkoQgJrNhxRG740P+brwufbS3F82aP0I4siwACCCCAAAIIIIAAAgjYL8D9235THVdkAKhJ1TIyMny/irtkyRJfxMuWLfP9oY5gP95v/P01OFy6dKnUr1//vEu8/fbb1r/9N2XKFPF+IzDQj7fBXOizd+9eadiwoe+RnTt3ZvnvEAa6F88hEAmBtPQMqfPqNDlxNs1a/q0bL5Ob6l8Sie1YEwEEEEAAAQQQQAABBBCIiAADwIiwarcoA0BNSjZo0CB54oknfNF6vwU4duzYkCLv06ePfPjhh753169fL1WqVDnvOh999JHcf//9vp9/9913vr9QHOgnJiYm0EcZAAYsxYPRFrhv5HKZsvZ3a9vOtUvIe7fWiXYY7IcAAggggAACCCCAAAIIhCzAADBkOqNeZACoQTlnz54tbdu2lbS0NClSpIgkJyf7/jeUT69eveSzzz7zvbplyxYpX778eZfxPud93vsZOXKkdOvWLeAtGQAGTMWDCguMWvSbvPC/X6wIC+ZMlKXPt5XY2MAH3AqnR2gIIIAAAggggAACCCDgAgEGgC4ocgApMgAMAMnJR7z/9l7z5s3lyJEjkpSUJD/99JO0aNEi5JCi9Q1AfgU45BLxokICOw6dlhZvzfSLaOJDzaR6ibwKRUkoCCCAAAIIIIAAAggggMD5BRgAcjq8AgwAFT4H27Ztk2bNmsmePXskLi7O92u/nTt3DiviaP0bgBcLkgZ0MSF+ropAi4EzZcfh01Y4z15VRe5tWUGV8IgDAQQQQAABBBBAAAEEELigAPdvDggDQIXPgHfo5/3m39atW8X767QjRoyQ7t27hx0xfwU4bEIWcJnAc+OSZcziHVbWzSoWklG9G7lMgXQRQAABBBBAAAEEEEBAVwEGgLpWzt64+QagvZ62rHbw4EFp2bKlrFu3zreed2jn/dVdOz4zZsyQNm3a+JYaMGCAeL8ReL6P96/+Tp06VeLj4+X06dOSkJBgRwi+NWhAtlGyUIQFpvyyV+4btcLaJTE+Vtb0bS9JCXER3pnlEUAAAQQQQAABBBBAAIHwBbh/h29owgoMABWr4rFjx6R169ayYsUfA4c33nhDnn76aduiPHHihBQqVEhSUlKkQ4cOMnny5CzX9v68cOHCcvz4cWnSpIksWLDAthgYANpKyWIRFjh2JlXqvDJVMjx/b/TFXQ2lRaXCEd6Z5RFAAAEEEEAAAQQQQACB8AUYAIZvaMIKDAAVqqL3W3bt27eX+fPn+6J6/vnnpX///rZH2LFjR9/gz/vNPu+/M1iqVKlMe3z11VfStWtX338fOHCgPPnkk7bGQQOylZPFIixw3QfzZdXOo9Yu97QoL891rBrhXVkeAQQQQAABBBBAAAEEEAhfgPt3+IYmrMAAUJEqer9x16lTJ9+v3Ho/Dz/8sLz77rtBR+f9twJ79uzpe69v377y8ssvZ1rjn78GfO2118r333/v+yMjf328v4Jcr1492bFjh+TLl8/37xDmz58/6Fgu9AINyFZOFouwwDtTN8r7MzZbu1QtnkcmP9w8wruyPAIIIIAAAggggAACCCAQvgD37/ANTViBAaAiVezSpYtvEOf9eH8F2Dv88/7xj/N9EhMTpVKlSpl+HMgA0PuS99t93m/5eT+tWrWSRx55REqUKCHJycny2muvyZYtW3w/++STT+See+6xXYkGZDspC0ZQYMm2w3LzJwv9dlj6fFspnDtbBHdlaQQQQAABBBBAAAEEEEAgfAHu3+EbmrACA0BFqnihYV9WIZYpU0a2b98e8gDwzJkzcuONN8qkSZOyFIiNjZUXX3wxy28Q2kFGA7JDkTWiJZCaniG1+02VUynp1pbv3lJbrqtTMlohsA8CCCCAAAIIIIAAAgggEJIA9++Q2Ix7iQGgIiWN9gDwr7THjBkj3m8Nrl69Wo4ePSpFixaV5s2bywMPPOD74x+R+tCAIiXLupES6P35Upm+fr+1fJe6pWTQzbUitR3rIoAAAggggAACCCCAAAK2CHD/toVR+0UYAGpfQj0ToAHpWTc3Rz1i/jZ5+cd1FkFSQqwMu7OBNK1YyM0s5I4AAggggAACCCCAAAKKC3D/VrxAUQqPAWCUoNnGX4AGxInQTWDbwVPS6u1ZfmFni4+VT7vXl5aVCuuWDvEigAACCCCAAAIIIICASwS4f7uk0BdJkwEg58ARARqQI+xsGqbAU9+tlm+W7fJbJTEuVj68va60rVY0zNV5HQEEEEAAAQQQQAABBBCwX4D7t/2mOq7IAFDHqhkQMw3IgCK6MAXvHwN55KtVMjF5r1/28bExMvi2OtKhRnEXqpAyAggggAACCCCAAAIIqCzA/Vvl6kQvNgaA0bNmp38I0IA4DroKpKVnyBPfrpb/rdrjl0JcbIz855bacm2tErqmRtwIIIAAAggggAACCCBgoAD3bwOLGkJKDABDQOOV8AVoQOEbsoJzAukZHnl67Br5brn/rwPHxoi8dWMt6VKvlHPBsTMCCCCAAAIIIIAAAggg8A8B7t8cB68AA0DOgSMCNCBH2NnURoGMDI+8MP4XGbN4h9+qMTEib9xQU25pUNrG3VgKAQQQQAABBBBAAAEEEAhNgPt3aG6mvcUA0LSKapIPDUiTQhHmBQU8Ho/0+3GdjFiwPdNzr3auLnc0KYsgAggggAACCCCAAAIIIOCoAPdvR/mV2ZwBoDKlcFcgNCB31dvkbL1DwAGTN8inc7ZmSvPFa6pJr2blTE6f3BBAAAEEEEAAAQQQQEBxAe7fihcoSuExAIwSNNv4C9CAOBEmCXiHgIOmbpLBMzdnSuvpDlXk/66oYFK65IIAAggggAACCCCAAAIaCXD/1qhYEQyVAWAEcVn6/AI0IE6HiQLv//yrvDNtU6bUHmtXSR5qc6mJKZMTAggggAACCCCAAAIIKC7A/VvxAkUpPAaAUYJmG38BGhAnwlSBj2ZtkTenbMiU3gOtKsrj7StJjPevhPBBAAEEEEAAAQQQQAABBKIkwP07StCKb8MAUPECmRoeDcjUypKXV2Do3K3Sf+L6TBj3tCgvz15VhSEgxwQBBBBAAAEEEEAAAQSiJsD9O2rUSm/EAFDp8pgbHA3I3NqS2R8CIxdulxfHr83E0ePystK3UzWGgBwUBBBAAAEEEEAAAQQQiIoA9++oMCu/CQNA5UtkZoA0IDPrSlb+Al8t2SHPjksWj8f/v9/WqLT071xDYmP5dWDODAIIIIAAAggggAACCERWgPt3ZH11WZ0BoC6VMixOGpBhBSWd8wqMXb5LnvxutWT8awh4U71S8kaXyySOISCnBwEEEEAAAQQQQAABBCIowP07grgaLc0AUKNimRQqDcikapLLxQR+WL1HHv16laT/awp4Xe0S8vZNtSQ+LvZiS/BzBBBAAAEEEEAAAQQQQCAkAe7fIbEZ9xIDQONKqkdCNCA96kSU9glMTt4rD365UtL+NQS8umZxeffW2pLAENA+bFZCAAEEEEAAAQQQQAABS4D7N4fBK8AAkHPgiAANyBF2NnVYYPq6fXL/6BWSkp7hF0n7akXlv7fVkWzxcQ5HyPYIIIAAAggggAACCCBgmgD3b9MqGlo+DABDc+OtMAVoQGEC8rq2ArM27pd7Ry6Xc2n+Q8BWlQvLR93qSVICQ0Bti0vgCCCAAAIIIIAAAggoKMD9W8GiOBASA0AH0NlShAbEKXCzwPzNB6XX50vlbKr/ELD5pYXk0zvqS/ZEhoBuPh/kjgACCCCAAAIIIICAnQLcv+3U1HctBoD61k7ryGlAWpeP4G0QWLz1kNw1YqmcSkn3W61x+QIy7M4GkjNbvA27sAQCCCCAAAIIIIAAAgi4XYD7t9tPwB/5MwDkHDgiQANyhJ1NFRNY/tsR6fHZEjlxLs0vsvpl8svwng0kd1KCYhETDgIIIIAAAggggAACCOgmwP1bt4pFJl4GgJFxZdWLCNCAOCII/CGwZtdRuWPYEjl2JtWPpNYl+eSLng0lbw6GgJwVBBBAAAEEEEAAAQQQCF2A+3fodia9yQDQpGpqlAsNSKNiEWrEBdbuOeYbAh4+leK3V/USeWRUr0aSP2dixGNgAwQQQAABBBBAAAEEEDBTgPu3mXUNNisGgMGK8bwtAjQgWxhZxCCBjb+fkNuHLpaDJ8/5ZVWlWG4Z1buRFMqVzaBsSQUBBBBAAAEEEEAAAQSiJcD9O1rSau/DAFDt+hgbHQ3I2NKSWBgCm/eflNuGLJL9J/yHgBWL5JIxvRtJkTxJYazOqwgggAACCCCAAAIIIOBGAe7fbqx65pwZAHIOHBGgATnCzqYaCGw/eMo3BNxz7KxftOUK5ZQxdzeS4nmza5AFISKAAAIIIIAAAggggIAqAty/VamEs3EwAHTW37W704BcW3oSD0Bg5+HT0nXIItl15Izf06UL5PANAUvlzxHAKjyCAAIIIIAAAggggAACCIhw/+YUeAUYAHIOHBGgATnCzqYaCew5esb3TcDth077RV0yX3bfELBMwZwaZUOoCCCAAAIIIIAAAggg4JQAGqLbBgAAIABJREFU92+n5NXalwGgWvVwTTQ0INeUmkTDENh3/KxvCLjlwCm/VYrlSZLRdzeSCoVzhbE6ryKAAAIIIIAAAggggIAbBLh/u6HKF8+RAeDFjXgiAgI0oAigsqSRAgdOnJNuQxfLxn0n/PLz/lXgL+9uJJcWzW1k3iSFAAIIIIAAAggggAAC9ghw/7bHUfdVGADqXkFN46cBaVo4wnZE4PCpFN8QcN3e4377F8yZKKN6N5KqxfM4EhebIoAAAggggAACCCCAgPoC3L/Vr1E0ImQAGA1l9sgkQAPiUCAQnMDR0ynS/bMlsmbXMb8X8+VIkFG9GkmNknmDW5CnEUAAAQQQQAABBBBAwBUC3L9dUeaLJskA8KJEPBAJARpQJFRZ03SB42dTpcdnS2TFjqN+qeZOipcv7moodUrnN52A/BBAAAEEEEAAAQQQQCBIAe7fQYIZ+jgDQEMLq3paNCDVK0R8qgqcPJcmd41YKku2HfYLMVe2eBnes4E0KFtA1dCJCwEEEEAAAQQQQAABBBwQ4P7tALqCWzIAVLAobgiJBuSGKpNjpAROp6RJ78+XyYIth/y2yJEYJ8PubCBNKhSM1NasiwACCCCAAAIIIIAAApoJcP/WrGARCpcBYIRgWfbCAjQgTggC4QmcTU2Xe0cul9mbDvgtlJQQK0O615fmlxYObwPeRgABBBBAAAEEEEAAASMEuH8bUcawk2AAGDYhC4QiQAMKRY13EPAXOJeWLn1Gr5Dp6/f7/SAxPlY+6VZPWlUpAhkCCCCAAAIIIIAAAgi4XID7t8sPwJ/pMwDkHDgiQANyhJ1NDRRIScuQh79aKZN/+d0vu4S4GBl8W125snoxA7MmJQQQQAABBBBAAAEEEAhUgPt3oFJmP8cA0Oz6KpsdDUjZ0hCYhgJp6Rny6Der5cfVe/yij4+NkfdurSNXX1Zcw6wIGQEEEEAAAQQQQAABBOwQ4P5th6L+azAA1L+GWmZAA9KybAStsEB6hkee/G61fL9it1+UsTEi79xcW66rU1Lh6AkNAQQQQAABBBBAAAEEIiXA/TtSsnqtywBQr3oZEy0NyJhSkohCAhkZHnluXLJ8tXSnX1QxMSJvdrlMbq5/iULREgoCCCCAAAIIIIAAAghEQ4D7dzSU1d+DAaD6NTIyQhqQkWUlKQUEvEPAvj+slZGLfssUzWvX15DbG5VRIEpCQAABBBBAAAEEEEAAgWgJcP+OlrTa+zAAVLs+xkZHAzK2tCSmgIDH45H+E9fLsHnbMkXzcqdq0qNpOQWiJAQEEEAAAQQQQAABBBCIhgD372goq78HA0D1a2RkhDQgI8tKUgoJeIeAA3/aKB/N2pIpquc6VpF7WlRQKFpCQQABBBBAAAEEEEAAgUgJcP+OlKxe6zIA1KtexkRLAzKmlCSisIB3CPju9F/lvZ9/zRTlE+0ryQOtL1U4ekJDAAEEEEAAAQQQQAABOwS4f9uhqP8aDAD1r6GWGdCAtCwbQWsq8MHMzfLWTxszRf9Qm0vl0baXSoz3r4TwQQABBBBAAAEEEEAAASMFuH8bWdagk2IAGDQZL9ghQAOyQ5E1EAhcYMicrfLapPWZXrivZQV5ukNlhoCBU/IkAggggAACCCCAAAJaCXD/1qpcEQuWAWDEaFn4QgI0IM4HAtEXGDF/m7z847pMG9/VtJy8eE1VhoDRLwk7IoAAAggggAACCCAQcQHu3xEn1mIDBoBalMm8IGlA5tWUjPQQGLN4hzw3LjlTsHc0LiP9rq0usbH8OrAelSRKBBBAAAEEEEAAAQQCE+D+HZiT6U8xADS9wormRwNStDCE5QqBb5btlKfHrhGPxz/dWxtcIq9fX5MhoCtOAUkigAACCCCAAAIIuEWA+7dbKn3hPBkAcg4cEaABOcLOpghYAuNX7ZbHvlkt6Rn+U8Ab6paUt26sJXF8E5DTggACCCCAAAIIIICAEQLcv40oY9hJMAAMm5AFQhGgAYWixjsI2CswKXmvPPTlSkn71xCwU60S8s7NtSQhLtbeDVkNAQQQQAABBBBAAAEEoi7A/Tvq5EpuyABQybKYHxQNyPwak6EeAlPX/i59xqyQ1HT/bwJ2qF5M3u9aRxLjGQLqUUmiRAABBBBAAAEEEEAgawHu35wMrwADQM6BIwI0IEfY2RSBLAVmbtwv945cLilpGX4/b1u1iHxwe13JFh+HHAIIIIAAAggggAACCGgqwP1b08LZHDYDQJtBWS4wARpQYE48hUC0BOb9elB6f7FUzqb6DwFbVCosn95RT5ISGAJGqxbsgwACCCCAAAIIIICAnQLcv+3U1HctBoD61k7ryGlAWpeP4A0VWLT1kNw1YqmcTkn3y/DyCgVl6J31JUdivKGZkxYCCCCAAAIIIIAAAuYKcP82t7bBZMYAMBgtnrVNgAZkGyULIWCrwLLth6XH8KVy8lya37oNyxaQz3o2kFzZGALaCs5iCCCAAAIIIIAAAghEWID7d4SBNVmeAaAmhTItTBqQaRUlH5MEVu08Kt2HLZbjZ/2HgHVK55MRPRtK3uwJJqVLLggggAACCCCAAAIIGC3A/dvo8gacHAPAgKl40E4BGpCdmqyFgP0Cv+w+Jt2GLZajp1P9Fq9ZMq+M7NVQ8uVItH9TVkQAAQQQQAABBBBAAAHbBbh/206q5YIMALUsm/5B04D0ryEZmC+w4ffjcvuQxXLoVIpfslWL55FRvRpKwVzZzEcgQwQQQAABBBBAAAEENBfg/q15AW0KnwGgTZAsE5wADSg4L55GwCmBX/edkNuGLpYDJ875hVCpaC4Z1buRFMmd5FRo7IsAAggggAACCCCAAAIBCHD/DgDJBY8wAHRBkVVMkQakYlWICYGsBbYeOCm3DVksvx8/6/dA+cI5ZUzvxlIsL0NAzg4CCCCAAAIIIIAAAqoKcP9WtTLRjYsBYHS92e1PARoQRwEBvQR2HDotXYcskt1Hz/gFXqZgDhlzd2MpmS+7XgkRLQIIIIAAAggggAACLhHg/u2SQl8kTQaAnANHBGhAjrCzKQJhCew6ctr3TcAdh0/7rVMqf3b58u7GckmBHGGtz8sIIIAAAggggAACCCBgvwD3b/tNdVyRAaCOVTMgZhqQAUUkBVcK/H7srNw2ZJFsPXjKL//ieZN83wQsVyinK11IGgEEEEAAAQQQQAABVQW4f6tamejGxQAwut7s9qcADYijgIC+AvtPnPX9deBf95/0S6JI7mwy5u5GUrFIbn2TI3IEEEAAAQQQQAABBAwT4P5tWEFDTIcBYIhwvBaeAA0oPD/eRsBpgUMnz8ntQxfLht9P+IVSKFeijO7dWCoXYwjodI3YHwEEEEAAAQQQQAABrwD3b86BV4ABIOfAEQEakCPsbIqArQJHTqXIHZ8tll92H/dbN3+OBBnZq5HUKJnX1v1YDAEEEEAAAQQQQAABBIIX4P4dvJmJbzAANLGqGuREA9KgSISIQAACx86kyp2fLZFVO4/6PZ0nKd43BKx1Sb4AVuERBBBAAAEEEEAAAQQQiJQA9+9Iyeq1LgNAveplTLQ0IGNKSSIIyImzqXLXiKWydPsRP43c2eJlxF0NpF6ZAighgAACCCCAAAIIIICAQwLcvx2CV2xbBoCKFcQt4dCA3FJp8nSLwKlzadL782WycOshv5RzJMbJ8B4NpFH5gm6hIE8EEEAAAQQQQAABBJQS4P6tVDkcC4YBoGP07t6YBuTu+pO9mQJnUtLlnpHLZO6vB/0STEqIlWF3NpCmFQuZmThZIYAAAggggAACCCCgsAD3b4WLE8XQGABGEZut/hagAXEaEDBT4Gxqutw/eoXM2LDfL8Fs8bHyyR315IrKRcxMnKwQQAABBBBAAAEEEFBUgPu3ooWJclgMAKMMznZ/CNCAOAkImCuQkpYhD4xZIVPX7fNLMjEuVj68va60rVbU3OTJDAEEEEAAAQQQQAABxQS4fytWEIfCYQDoELzbt6UBuf0EkL/pAqnpGfLI16tk4pq9fqnGx8bIf7vWkatqFjedgPwQQAABBBBAAAEEEFBCgPu3EmVwPAgGgI6XwJ0B0IDcWXeydpdAWnqGPPndGhm3crdf4nGxMfLOzbWkc+2S7gIhWwQQQAABBBBAAAEEHBDg/u0AuoJbMgBUsChuCIkG5IYqkyMCIukZHnlm7Br5dvkuP47YGJGBN9aSG+uVggkBBBBAAAEEEEAAAQQiKMD9O4K4Gi3NAFCjYpkUKg3IpGqSCwIXFsjI8MiL43+R0Yt3+D0YEyMy4PqacmvD0hAigAACCCCAAAIIIIBAhAS4f0cIVrNlGQBqVjBTwqUBmVJJ8kAgMAGPxyP9flwnIxZsz/TCK52rS/cmZQNbiKcQQAABBBBAAAEEEEAgKAHu30FxGfswA0BjS6t2YjQgtetDdAhEQsA7BHxj8gb5ZM7WTMu/cHVV6d28fCS2ZU0EEEAAAQQQQAABBFwtwP3b1eW3kmcAyDlwRIAG5Ag7myLguIB3CPifaZvk/RmbM8XyVIfKcv8VFR2PkQAQQAABBBBAAAEEEDBJgPu3SdUMPRcGgKHb8WYYAjSgMPB4FQEDBP77868yaNqmTJk82raSPNSmosR4/4FAPggggAACCCCAAAIIIBC2APfvsAmNWIABoBFl1C8JGpB+NSNiBOwW+GT2FhkweUOmZfu0qiBPtK/MENBucNZDAAEEEEAAAQQQcKUA929Xlj1T0gwAOQeOCNCAHGFnUwSUE/hs3jZ5ZcK6THHd3bycPNexKkNA5SpGQAgggAACCCCAAAK6CXD/1q1ikYmXAWBkXFn1IgI0II4IAgj8JTBq0W/ywv9+yQTS4/Ky0rdTNYaAHBUEEEAAAQQQQAABBMIQ4P4dBp5BrzIANKiYOqVCA9KpWsSKQOQFvlm6U57+fo14PP57dW1YWl67robExvJvAka+CuyAAAIIIIAAAgggYKIA928Tqxp8TgwAgzfjDRsEaEA2ILIEAoYJjFu5Sx7/ZrVk/GsIeGO9UvJml8skjiGgYRUnHQQQQAABBBBAAIFoCHD/joay+nswAFS/RkZGSAMysqwkhUDYAj+u3iOPfL1K0v81Bexcu4QMuqmWxMfFhr0HCyCAAAIIIIAAAggg4CYB7t9uqvb5c2UAyDlwRIAG5Ag7myKghcCUX36XB79cIanp/l8FvLpmcXn31tqSwBBQizoSJAIIIIAAAggggIAaAty/1aiD01EwAHS6Ai7dnwbk0sKTNgIBCvy8fp/836gVkpKe4fdGu2pFZfBtdSRbfFyAK/EYAggggAACCCCAAALuFuD+7e76/5U9A0DOgSMCNCBH2NkUAa0E5mw6IHd/sUzOpfkPAVtVLiwfdasnSQkMAbUqKMEigAACCCCAAAIIOCLA/dsRduU2ZQCoXEncERANyB11JksEwhVYsPmg9Pp8mZxJTfdbqlnFQjKke33JnsgQMFxj3kcAAQQQQAABBBAwW4D7t9n1DTQ7BoCBSvGcrQI0IFs5WQwBowWWbDssPYcvkVMp/kPARuUKyGc9GkjObPFG509yCCCAAAIIIIAAAgiEI8D9Oxw9c95lAGhOLbXKhAakVbkIFgHHBVbsOCJ3frZETpxN84ulXpn8MrxnA8mTlOB4jASAAAIIIIAAAggggICKAty/VaxK9GNiABh9c3YUERoQxwABBIIVSN51TLoNWyzHzqT6vVqrVF754q5GkjcHQ8BgTXkeAQQQQAABBBBAwHwB7t/m1ziQDBkABqLEM7YL0IBsJ2VBBFwhsG7Pcd8Q8PCpFL98q5fIIyN7NZICORNd4UCSCCCAAAIIIIAAAggEKsD9O1Aps59jAGh2fZXNjgakbGkIDAHlBTbtOyG3DVksB0+e84u1SrHcMqp3IymUK5vyORAgAggggAACCCCAAALREuD+HS1ptfdhAKh2fYyNjgZkbGlJDIGoCGw5cFJuG7JI9h33HwJWLJJLxvRuJEXyJEUlDjZBAAEEEEAAAQQQQEB1Ae7fqlcoOvExAIyOM7v8S4AGxJFAAIFwBbYfPOUbAu45dtZvqXKFcsqYuxtJ8bzZw92C9xFAAAEEEEAAAQQQ0F6A+7f2JbQlAQaAtjCySLACNKBgxXgeAQSyEth5+LTcNnSR7Dx8xu/HlxTILmN6N5ZLCuQADgEEEEAAAQQQQAABVwtw/3Z1+a3kGQByDhwRoAE5ws6mCBgpsOfoGbl96GLZdvCUX34l82X3fROwTMGcRuZNUggggAACCCCAAAIIBCLA/TsQJfOfYQBofo2VzJAGpGRZCAoBbQX2Hz8rXYcski0H/IeARfNkkzF3N5YKhXNpmxuBI4AAAggggAACCCAQjgD373D0zHmXAaA5tdQqExqQVuUiWAS0EDhw4px0G7pYNu474Rev968Ce78JWKlobi3yIEgEEEAAAQQQQAABBOwU4P5tp6a+azEA1Ld2WkdOA9K6fASPgLICh0+l+IaA6/Ye94uxQM5EGdWrkVQrkUfZ2AkMAQQQQAABBBBAAIFICHD/joSqfmsyANSvZkZETAMyoowkgYCSAsdOp0r3zxbL6l3H/OLLmz3BNwSsWSqvknETFAIIIIAAAggggAACkRDg/h0JVf3WZACoX82MiJgGZEQZSQIBZQWOn02VnsOXyvLfjvjFmDspXj6/q6HULZ1f2dgJDAEEEEAAAQQQQAABOwW4f9upqe9aDAD1rZ3WkdOAtC4fwSOghcDJc2ly14ilsmTbYb94cybGyYi7GkqDsgW0yIMgEUAAAQQQQAABBBAIR4D7dzh65rzLANCcWmqVCQ1Iq3IRLALaCpxOSZO7v1gm8zcf8sshe0KcDOtRXy6vUEjb3AgcAQQQQAABBBBAAIFABLh/B6Jk/jMMAM2vsZIZ0oCULAtBIWCkwNnUdLlv1HKZtfGAX37Z4mNlSPf60qJSYSPzJikEEEAAAQQQQAABBLwC3L85B14BBoCcA0cEaECOsLMpAq4VOJeWLg+MWSnT1u3zM0iMi5WP76grrasUda0NiSOAAAIIIIAAAgiYLcD92+z6BpodA8BApXjOVgEakK2cLIYAAgEIpKZnyMNfrZRJyb/7PZ0QFyP/7VpXOtQoFsAqPIIAAggggAACCCCAgF4C3L/1qlekomUAGClZ1r2gAA2IA4IAAk4IpKVnyOPfrpbxq/b4bR8XGyPv3VpbrrmshBNhsScCCCCAAAIIIIAAAhET4P4dMVqtFmYAqFW5zAmWBmROLckEAd0E0jM88vTYNfLd8l1+ocfGiAy6uZZcX6eUbikRLwIIIIAAAggggAAC5xXg/s3h8AowAOQcOCJAA3KEnU0RQOBPgYwMjzz/v1/kyyU7/ExiYkTevOEyubnBJVghgAACCCCAAAIIIGCEAPdvI8oYdhIMAMMmZIFQBGhAoajxDgII2Cng8Xjk5R/WyucLf8u0bP/raki3xmXs3I61EEAAAQQQQAABBBBwRID7tyPsym3KAFC5krgjIBqQO+pMlgioLuAdAr4+ab0MmbstU6h9O1WTnk3LqZ4C8SGAAAIIIIAAAgggcEEB7t8cEK8AA0DOgSMCNCBH2NkUAQSyEPAOAd+eulE+mLkl00+fvaqK3NuyAm4IIIAAAggggAACCGgrwP1b29LZGjgDQFs5WSxQARpQoFI8hwAC0RDwDgHf/3mz/Gf6pkzbPd6ukjzY5tJohMEeCCCAAAIIIIAAAgjYLsD923ZSLRdkAKhl2fQPmgakfw3JAAETBT6ctVkGTtmYKbWHWleUR9tVkhjvXwnhgwACCCCAAAIIIICARgLcvzUqVgRDZQAYQVyWPr8ADYjTgQACqgoMnbtV+k9cnym8e1uWl2c6VGEIqGrhiAsBBBBAAAEEEEAgSwHu3xwMrwADQM6BIwI0IEfY2RQBBAIU+GLhdnlp/NpMT/dsWlZeuqYaQ8AAHXkMAQQQQAABBBBAwHkB7t/O10CFCBgAqlAFF8ZAA3Jh0UkZAc0EvlyyQ54blywej3/g3RqXlleurSGxsfw6sGYlJVwEEEAAAQQQQMCVAty/XVn2TEkzAOQcOCJAA3KEnU0RQCBIge+W75KnvlstGf8aAt5S/xJ57foaEh8XG+SKPI4AAggggAACCCCAQHQFuH9H11vV3RgAqloZw+OiARleYNJDwCCB8at2y2PfrJb0f00BKxbJJc9eVUVaVynCrwQbVG9SQQABBBBAAAEETBPg/m1aRUPLhwFgaG68FaYADShMQF5HAIGoCkxO3isPfrlS0v79VUARaVy+gDzfsZrULJU3qjGxGQIIIIAAAggggAACgQhw/w5EyfxnGACaX2MlM6QBKVkWgkIAgQsITFu3T/qMXiEp6RlZPnVd7RLyxJWVpVT+HDgigAACCCCAAAIIIKCMAPdvZUrhaCAMAB3ld+/mNCD31p7MEdBZYMWOI/LS+F/kl93Hs0wjMT5WvH8p+P4rKkre7Ak6p0rsCCCAAAIIIIAAAoYIcP82pJBhpsEAMExAXg9NgAYUmhtvIYCA8wIZGR4Zv3q3vDVlo+w5djbLgPLnSJCH2lwqtzcqI96hIB8EEEAAAQQQQAABBJwS4P7tlLxa+zIAVKseromGBuSaUpMoAsYKnE1Nl+Hzt8uHMzfLiXNpWeZZtmAOebpDFelQoxh/KMTYk0BiCCCAAAIIIICA2gLcv9WuT7SiYwAYLWn28ROgAXEgEEDAFIFDJ8/Jf2dsllGLfsvyj4R486xXJr88f3VVqVs6vylpkwcCCCCAAAIIIICAJgLcvzUpVITDZAAYYWCWz1qABsTJQAAB0wS2HjgpA6dslClrfz9valfXLC5PdagsZQrmNC198kEAAQQQQAABBBBQVID7t6KFiXJYDACjDM52fwjQgDgJCCBgqsDS7YfltYnrZdXOo1mmmBAXI3c0LisPtq4o+XMmmspAXggggAACCCCAAAKKCHD/VqQQDofBANDhArh1exqQWytP3gi4Q8Dj8cjE5L3y5pQNsvPwmSyTzpMULw+0rijdm5SVpIQ4d8CQJQIIIIAAAggggEDUBbh/R51cyQ0ZACpZFvODogGZX2MyRAABkXNp6TJy4W++fyPw2JnULElK5c8uT15ZWTpdVkJiY2NgQwABBBBAAAEEEEDAVgHu37ZyarsYA0BtS6d34DQgvetH9AggEJzAsdOpMnjmr/L5gt8kJT0jy5drlcorz3WsKo3KFwxucZ5GAAEEEEAAAQQQQOACAty/OR5eAQaAnANHBGhAjrCzKQIIOCyw8/BpGfjTRvlx9Z7zRtKuWlF55qoqUqFwLoejZXsEEEAAAQQQQAABEwS4f5tQxfBzYAAYvqFtK+zfv1+WLFni+7//b+9OwKOqzj+Ov5AQAknYw74qm9RdccMFFRRQXGprq7YurVRttVattWp91LpbF9T+WzcsVq1WrVoRF9ywLljRuqCyyy6yL1kIJIH/8zvJDZMwE2aSm5k7d77neXgCyZ17z/mck8vcd95zzvTp092fNWvWuPOfddZZNnHiRF+udd1119n1118f17nefvttGz58eFzHJnIQN6BEtDgWAQTCJqANQm6ePNM+Wrg2atOymjez0w/obRePGGCd8luGrfm0BwEEEEAAAQQQQCCJAjx/JxE7wJciABigzmnWLPbaTwQAA9RRVAUBBBDwQUAbhUz5eoXd9sos+2Z1SdQz5rfMtguG72o/G9bPWuWwUYgP7JwCAQQQQAABBBDIOAECgBnX5VEbTAAwQOMgMgDYu3dvGzx4sE2ZMsXVsKkCgDNmzKhXoF+/fpaXl+e7Ejcg30k5IQIIpKlAeeVWe/KjxTb+jbm2tmRL1FZ0a5trlx0zyL6/Tw82CknTfqbaCCCAAAIIIIBAqgR4/k6VfLCuSwAwQP1x7bXX2tChQ92fLl262MKFC00BuKYMACoDJRWFG1Aq1LkmAggEWWBjWbndP3W+TXhvgW2uiL5RyJBubdxGIYcO6BTkplA3BBBAAAEEEEAAgQAJ8PwdoM5IYVUIAKYQf2eXJgC4MyF+jgACCIRP4Nv1m+yOKbPt+U+XWazPaIYPKrQrR+9mg7oWhA+AFiGAAAIIIIAAAgj4KkAA0FfOtD0ZAcAAdx0BwAB3DlVDAAEEmljgy2Ub7OaXZ9oH86s2g6pbmjczO3X/XnbpyIHWuU1uE9eG0yOAAAIIIIAAAgikqwABwHTtOX/rTQDQX09fz0YA0FdOToYAAgiknYCWaZg6e5ULBM5dWRy1/q1zsuwXh+9i4w7bxfJaZqddG6kwAggggAACCCCAQNMKEABsWt90OTsBwAD3VDICgCNHjrTPPvvM1q9fb+3atbMhQ4bYqFGj7LzzzrP27ds3mQ43oCaj5cQIIBBCgYrKrfbMJ0vtrtfn2KqizVFbWFjQ0i4bOdB+uH8vy1J6IAUBBBBAAAEEEEAAATPj+ZthIAECgAEeB8kIAMZqvoKBEydOtBNPPLFBQrrB1FeWL19uBxxwgDtkyZIl1rNnzwZdhxchgAACmSRQsrnCHvzPN+7PpvLKqE0f2CXfrhyzmw0fWGiRu8tnkhNtRQABBBBAAAEEENguQACQ0UAAMOBjoCkDgM8995yddNJJLgjXvXt3Ky8vt9mzZ9sTTzxhU6ZMcTJZWVk2adIkGz16dMJSiTx0EgBMmJcXIIBAhgus2Fhmd78+x57+eIltjbGZ+7D+Hd2Owd/r3jbDtWg+AggggAACCCCQ2QIEADO7/73WkwEY4HHQVAFAb7pvrKY/8MADdv7557sfKzg4f/58y81NbIF5AoABHlhUDQEEQiMw67uNdsvLs+ydOauitqlZM7OT9+lhvz1mkHVv1yo07aYhCCCAAAIIIIAAAvELEACM3yrMRxIADHDvNlUAMJ4mn3vuuTZhwgR36OOPP25nnHFGPC+rOYYpwAlxcTACCCDQKIF352qjkFk2c/nGqOdpmd3czj2sn52aTjX0AAAgAElEQVR/xK5WkNuiUdfixQgggAACCCCAAALpJUAAML36q6lqSwCwqWR9OG8qA4DTp0+vWaNv3Lhx9uCDD/rQou2n4AbkKycnQwABBKxy6zZ7/tNldsdrs+27jWVRRTrm5dhvRgywHx/Q21pkNUcNAQQQQAABBBBAIAMEeP7OgE6Oo4kEAONAStUhqQwAlpSUWH5+vmv6mDFjbPLkyb4ycAPylZOTIYAAAjUCm7ZU2iPvL7C/vD3PSrZE3yhkl0559vvRg23kkC5sFMLYQQABBBBAAAEEQi7A83fIOzjO5hEAjBMqFYelMgBYWlpqeXl5BABT0fFcEwEEEPBBYFXRZrvnzTn25EdLXHZgtHJA3w521XG72d692vlwRU6BAAIIIIAAAgggEEQBAoBB7JXk14kAYPLN475iKgOAH3/8sQ0dOtTVVesBPvTQQ3HXO54DuQHFo8QxCCCAQOMF5q0stltfmWVvzFwR82Rj9+puvzt2kPXq0LrxF+QMCCCAAAIIIIAAAoES4Pk7UN2RssoQAEwZ/c4vnMoAoNb9e/jhh10lH3vsMfvJT36y8woncAQ3oASwOBQBBBDwQeDDb9bYzS/PtC+Wboh6tpys5nbWIX3swiMHWNvWbBTiAzmnQAABBBBAAAEEAiHA83cguiHllSAAmPIuiF2BhgQAJ06caOecc4476bXXXmvXXXddrQvMmDHDWrVqZf379495YW34cd5557mfd+3a1ebNm1czHdgvLm5AfklyHgQQQCB+ga1bt9mkL76121+dbcvWb4r6wratWtivjx5gPz2oj+Vks1FI/LociQACCCCAAAIIBFOA5+9g9kuya0UAMNni9Vzvvffec8E2r6xevdouv/xy989hw4a5qbiR5eyzz97hbDsLAOrnOs+RRx5po0ePtj322MM6duxoFRUVNmvWLHviiSdsypQp7rxZWVn2/PPP29ixY31X4gbkOyknRAABBOIWKCuvtL9PW2j3vTXPisoqor6ud4fWdsWowTZmj65sFBK3LAcigAACCCCAAALBE+D5O3h9kooaEQBMhXqMayqg9+ijj8Zdo23bdlzUPZ4AoJchWN+FFBScMGGCnXjiiXHXJ5EDuQElosWxCCCAQNMIrCvZ4oKAj3240Moro28Usk/vdnb1mN1s/74dmqYSnBUBBBBAAAEEEECgSQV4/m5S3rQ5OQHAAHVVMgKAK1eutJdeesmmTZtmn376qa1YscLWrFljCiZ26NDB9tprLxs1apSpLm3atGkyHW5ATUbLiRFAAIGEBRauLrHbX5tlL8/4LuZrR32vq10xerD161S1QzwFAQQQQAABBBBAID0EeP5Oj35q6loSAGxqYc4fVYAbEAMDAQQQCJ7AJ4vW2k2TZ9r/Fq+PWrns5s3sJwf1cWsEdsjLCV4DqBECCCCAAAIIIIDADgI8fzMoJEAAkHGQEgFuQClh56IIIIDATgWUEf7ql9/Zra/OskVrSqMeX9Ay2351VH87+5C+ltsia6fn5AAEEEAAAQQQQACB1Anw/J06+yBdmQBgkHojg+rCDSiDOpumIoBAWgpsqdhqT/x3kd3z5lxbX1oetQ092rWyy48dZCfs1d2aN2+Wlu2k0ggggAACCCCAQNgFeP4Oew/H1z4CgPE5cZTPAtyAfAbldAgggEATCWzYVG5/mTrP/vb+QlNQMFrZvUcbu2rMbnbIrp2aqBacFgEEEEAAAQQQQKChAjx/N1QuXK8jABiu/kyb1nADSpuuoqIIIICAE1i6rtTueG22vfDZtzFFjh7c2a4cM9j6dy5ADQEEEEAAAQQQQCAgAjx/B6QjUlwNAoAp7oBMvTw3oEztedqNAALpLvDF0vVuo5D/LlgbtSlZzZvZj4b2sktGDLTCgpbp3lzqjwACCCCAAAIIpL0Az99p34W+NIAAoC+MnCRRAW5AiYpxPAIIIBAcAW0U8ubMlXbLKzNt/qqSqBXLy8my847Y1c49rJ+1zskOTuWpCQIIIIAAAgggkGECPH9nWIfHaC4BQMZBSgS4AaWEnYsigAACvgpUVG61p6YvsfFvzLHVxVuinrtLm5Z22TGD7JR9e5qyAykIIIAAAggggAACyRXg+Tu53kG9GgHAoPZMyOvFDSjkHUzzEEAgowSKN1fYA+/Mt4fe/cbKyqNvFDK4a4HbKOTwgYUZZUNjEUAAAQQQQCBcAlu3brPNFVttc0Wlbancap0LcgPfQJ6/A99FSakgAcCkMHORugLcgBgTCCCAQPgElm/YZHdNmWPP/m+pbdsWvX2HDejkAoG7dWsTPgBahAACCCCAAAJJFfCCcWXllVZWUek+iFRgTl/d99yfqu9t1vfcz6IdV/WzzeWVLrjnHeOd173WXWOrbanY/mFnQW62zbju2KS2uSEX4/m7IWrhew0BwPD1aVq0iBtQWnQTlUQAAQQaJPD1txvd+oDvzl0d9fXNmpn9YN+ebmpw17bB/9S8QQi8CAEEEEAAgQwTUDBuZ0G47QG62EE4Bdpchl11oK5WEC4iuKegnDLwUllysprbnJtGp7IKcV2b5++4mEJ/EAHA0HdxMBvIDSiY/UKtEEAAAT8F3pmzym6ePNNmryiKetrcFs1t3GG7uM1C8luyUYif9pwLAQQQQCCzBSrdNNXomXAuO646223HjDnvZ9uz5bZnv0Vm0W3PkvOy61IdjEtVj8+/eUzg1znm+TtVoyNY1yUAGKz+yJjacAPKmK6moQggkOECegD51ydL7Y4ps21l0eaoGp3yc+w3Iwbaj4f2suys5hkuRvMRQAABBMImoP8La6ajRma2VU9HVYBth2CdO67OlNXI6al1gntV01ars+YqKq28MsZaHGHDDUB7vv7jsdY6J9gfZPL8HYCBEoAqEAAMQCdkYhW4AWVir9NmBBDIZIHSLRX28LsL7P535lvplsqoFP0759uVowfbUYM7WzPNE6YggAACCCAQEAH9PzZ3RbHLap+7osjWFG+pme7qTVmtu+acl11HMC75nahZBrktsiw3O8v095beV33Pfb+5taz+6v5dfXzL7KrXRf7M+17kcTpvS70mO8vatMoO/PsWnr+TPwaDeEUCgEHslQyoEzegDOhkmogAAghEEVhZVGbj35hrT3202LbGSE44aJcOdvWYIbZHz7YYIoAAAgggkFQBZeJ9s6rE5qwostnfFVV9XVFkS9ZuSmo9wnIxfZ4XGSyrCbTFEYRzgTgvIFf9NVqwribIV328XsMHibVHEM/fYfmNalw7CAA2zo9XN1CAG1AD4XgZAgggEBIBZU/c+sose3PWypgtOmnv7vbbYwdZz/atQ9JqmoEAAgggEBSBisqttnBNqQvweX8U8NP3NGU3jMULxtVkx3kBszqZcF62XFWwbXu23A6ZcF4WXESmnRe0cxl0LZqbNskgGJf60cTzd+r7IAg1IAAYhF7IwDpwA8rATqfJCCCAQBSBD+attptenmlffbsxqk9OdnM7Z1hf++Xw/ta2VQsMEUi6QFFZuc1fVWLzVxbbvFXFNm9lsa0u3mzd2uZav055tkunfOtXqK951q51TtLrxwURQKB+Ae1Mu2z9JpfN503fnb2i2P1Op3LTiubKjKsOsO2Y5bZ9ymqtaayRWXPVAbaaYJ2b4hptKuv2qbAtspoRjMvQXxievzO04+s0mwAg4yAlAtyAUsLORRFAAIFACujh7N+fL7M/vTrbvt1QFrWO7Vu3sF8fPcDOOLCPKShIQcBPgW3bttmq4s0uuOcCffq6qsR9/W5j9DEZ7foapy4oWJhfHRzMc8HBvh3z3IM5BQEEmk5Av8fabKpm2q6m764sduv1xVp7NtHaKINOv88Du+Rb7w6trVVOdq315aqmotZecy7y327NuOpsOYJxiepzfGMEeP5ujF54XksAMDx9mVYt4QaUVt1FZRFAAIGkCGjx9L+9v9D+8vY8K9pcEfWafTu2titGDbZRu3cliyEpvRKui2ha35K1pTa/OpNPAT5l9Snot7Es+pjzQ0BBg+5tW9kuhXkuMOj92bUw37q3a2VZSgWiIIBA3AJrS7bUmrZbNYW32DZsKo/7HDs7sEe7Vi7QN7BrgQ3qUmADuxSYNqsimL8zOX4eRAGev4PYK8mvEwHA5JtzRTPjBsQwQAABBBCIJbCmeLPd99Y8e/zDRVYRYx2m/fq0t6uP28327d0eSAR2EFAwWYv4e1N2FfBTkO+b1SW2pWJroMS0Plafjq2rgoKFebZr9ZRi/btjXg6B7kD1FpVJtoCm4Cuwpyw+Td+t2pijahq+X6WwoGVVoK9LdaCva4EN6JxvBbksO+GXMedJvQDP36nvgyDUgABgEHohA+vADSgDO50mI4AAAgkKfLOq2G5/dba9+tV3MV953B7d7HejBlmfjnkJnp3DwyCwvnRL7Wy+6oy+pes22TYf1/BXgp7GmDL2du2cZ93a5Lo1xRasLnFBxcVrSmMGqxvjXJCb7dYW9KYUR2YP5rXMbsypeS0CgRJQ0F4ZuW767soim+N23y12v2d+Fa0j6zL5ulYF+7w/HfJYu9MvY84TXAGev4PbN8msGQHAZGpzrRoBbkAMBgQQQACBeAWmL1xrN02eaZ8tWR/1JVpH6acH9bWLjupv7XmQi5c1bY7Tul7LN5RVr8tXtT5f1Rp9ygLa4ms7tGOlNvXQND/vj4J+fTu1Ni20H6toN9El6xQQLHaZhwoMuuDgqpKE1hBMpDFd21RtQuJtQOKtPdizfStrkcU6mYlYcmzyBMort7rfjch1+uauLLZFa0rMr413W+dk2QCXzbc90Deoa4F1LmhJRm3yuporBUyA5++AdUiKqkMAMEXwmX5ZbkCZPgJoPwIIIJCYgIJAk2cst9tenWVL1kbPCGmTm20XHtXfzjy4L2s0JcYbiKMVGFi0prRWoM+buluypdLXOmqzDgX4FNxzXxXwK8w3rfnV3Of1+Eo2V9jCNdVBwVVVGYPuz6piK2qCdQezmzdzmxN42YI1G5IU5hEA8XUUcbL6BLz1Nt203erddzV9V8G/8kp/0nO1IZR+h12gL2Kdvqb4Paa3EUh3AZ6/070H/ak/AUB/HDlLggLcgBIE43AEEEAAASewuaLSHpu2yK0RGGuxd2VAXX7sIBu7Z3ffgzl0Q+MFFBBzgb3IjThcBpD/02gVCPCCe1UBvzwX8OuY37LxDWnkGRTU1kYGXqaggoLKINS/F64utS2V/q9VqMyoHXYprs4ibMN6Z43s0cx8ucaxdm93m3BEBPrmrii2zT6tt6lNcjRu667T16dDa8sm2zUzBx6tTliA5++EyUL5AgKAoezW4DeKG1Dw+4gaIoAAAkEW2FBabn9+e649+sGimIGSvXq2tavG7GYH7tIxyE0JZd0UFFhTsqVmuq43ZVcbcShY4GdRxlvfTnkugy9y6q4CBum6Tp6yp75dv8llCi5YVRUUrMoaLLFvN/i7vqHXF53yW7r1Br1pxfqqgGmvDvVPf/azLzlXcAX0O60p91WbcBTZ3JXVX1cUx9y1vSGtUfZq1dp8+aZpu/q7ds+ubwp+Q67DaxDINAGevzOtx6O3lwAg4yAlAtyAUsLORRFAAIHQCSxZW2q3vzbbJn3+bcy2jRzSxX4/erCbKkbxV2Dr1m2mDTdqZfNVZ/etLy339WJ5OVk103W9qbsK+ClgkElr3mmzBGVLKltwfsR6gwoSKqPQ76IZ0T3bb59SrKBgv+qdirUZit9Tpv2uP+dLXEAfsGgjDm+dPpfdt6LY1/GlNSyrpu1uX6dPv8/pGrRPXJlXIJBcAZ6/k+sd1KsRAAxqz4S8XtyAQt7BNA8BBBBIsoA2CLl58kz7aOHaqFfWFLLTD+htF48YYMp0oiQmoKnXCjBt34Cj6u9ax86vaX5ejdQ//TtXTdWtyuorcDvvKmDQrFmzxCqeYUdrV+SqrMGIjUiqpxaXlfs/pVibpvTtqF2KqzMHFRiszhxs15qdVYM+/Eq3VJim6kau06d/f7fRvyxd7bDrsvnc7rsK+BXYgM4F1rZ1i6DzUD8EQiXA83eourPBjSEA2GA6XtgYAW5AjdHjtQgggAAC0QQ0RW3K1yvstldmuSBItJLfMtsuGL6r/WxYP2uVE3tX10wV1rqKXjafput6U3cXry31bYdO2SqrTFNLFeDz1ujzvhIY8H/0KVNTQR1vKrEChN9UrzeoLFq/dl+NrLk2WqnaiCTfBQjd9OLCPBcwzG3B757/vRz7jArga/q4N33XfV1RFHNDpYbUraBltgvw1V2njw9cGqLJaxDwX4Dnb/9N0/GMBADTsddCUGduQCHoRJqAAAIIBFRAu8k++dFiG//G3JhT1rq1zbXLjhlk39+nR8ZNYVSgdMXGzbV223WZfauKbVXRZl97Vbt0KvDjrc3nTd1VYIggkK/UDT7ZloqtpgBv1WYk29cb1L/9Hg9eJbU5S9VmJF7moAKE+dajfStTti6lYQIVlVtt4ZrSqg05qv9oGq++p3Ul/SjK+lQGn7dOn5fVp3sqGbp+CHMOBJpGgOfvpnFNt7MSAEy3HgtJfbkBhaQjaQYCCCAQYIGNZeV2/9T5NuG9BTGnqQ7p1sZtFHLogE4BbknDqqZggAI7XnCvKpuvxL5Z6e+i/apd21Ytqtbnq95lt2r6bgEBnYZ1XWBeVVRW7gKD3k7FVRmExW6KccmWSt/rmZPV3Pp0rF5v0MsarM4g7JiXQ4CpWlwZncvWb3Jr9CmTb67L6Cs2Ze36tXu0NtdRwN5bp29Al6rpu8rcJUjr+9DnhAg0uQDP301OnBYXIACYFt0UvkpyAwpfn9IiBBBAIKgC2k31jimz7flPl9m2GEkwwwcV2pWjd3O7TqZb0Tpemt5XayOOlcW2cE2JlVf6k/XjmSjLpyrQt33qrv7dKZ/gTLqNm8bUV1mkyg506w3WyRxcvKbUKnzKNousY0Fu9vZdiquDglVTjNN3t+ed9YGcVxZtrtmMw23KsbLYBfxKfQrAKuGyT8e8Wuv0KbtPU7WVwUtBAIFwCPD8HY5+bGwrCAA2VpDXN0iAG1CD2HgRAggggEAjBL5ctsFufnmmfTB/TdSz6EH41P172aUjB1rnNrmNuFLTvFQ7vHqbcHhr8+mrMoH8LMruURZW1QYc2//sUphvWkORgkB9Aso81c7QyhRUYNrLINTX5Rv821wisg5d2rSsnlKcHxEkzHPZaumyQ7R+vyOn7Xo772pdTr+Kpl67NfqqN+NQoE+/40zH90uY8yAQXAGev4PbN8msGQHAZGpzrRoBbkAMBgQQQACBVAgoo2bq7FUuEDh3ZXHUKrRqkWW/OHwX9ycvyQEvb2pfzUYcq7yNOEpirmfYUMfWOVkuk6/u1N3eHcj8aagpr6tfoGRzhctMdUHB6uDg/OoMwqKyCt/5NI21d4fqKcXVm5BU7VKcb50LWqZkSrGmVc9ZUZXF53bf1dfvim11sX/rbxYWtKzabTdi990BnfOtIJedd30fZJwQgTQR4Pk7TTqqiatJALCJgTl9dAFuQIwMBBBAAIFUCihL6ZlPltpdr8+JudGBHqKVDfjD/Xpadpa/U+G08YICIV5GnxfwU8bUpnJ/11bT2mluh123Ll91wK9zvnVrk5txG6Ckcsxx7dgCCswrA85ba7BqanHVhiQLV5f6tq5dZA0UAPemEGujGmW4un8X5lkbHwJlZeWV7ve7atpukc3R1xX+Zuxq7U0F+gZ2za8O+FVtztEhL4fhhgACCNQS4PmbASEBAoCMg5QIcANKCTsXRQABBBCoI6CMpAf/8437EyvwpilzWh9Q6wQmusulsn208Ubk1F3ttLporX+7cro3dM3MerZv5QJ8Xlaft1Zfe4IBjPs0FtDutVrH0wUFI3YpVrD82w2bYq7r2Zgma01Lt0txp3wXEKz6e5717tjaWmZn1Tq1dh1XoNIF+lw2X5HLLl60psT8WgpRwcqqTTjyXYBPa5Xqa6qyGBtjy2sRQCA1Ajx/p8Y9aFclABi0HsmQ+nADypCOppkIIIBAmgis2Fhmd78+x57+eEnMh/Zh/Tu6QODuPdrWapW3IULkunzzqqfurtjo37Q+XVS7pCoY4YJ7EbvuKlDRKqd2YCJN6KkmAg0WUJbdojWlLltQAcLINQeVUeh30TqhPdtXTSnWephzVxa54J9fm+1o0w0F8F2gL2KdPq3d11wXpyCAAAINFOD5u4FwIXsZAcCQdWi6NIcbULr0FPVEAAEEMktA2Tu3vDLTrRMYrSjT7uS9e7iH88iAn9/rlxW0zN4+bTdi6q6y/PyejpxZPUxrM0Vgfen2KcXeRiTe1OKy8q0pZdBGOwoi1l2nr0+H1vx+p7RnuDgC4RXg+Tu8fZtIywgAJqLFsb4JcAPyjZITIYAAAgg0gcB7c1fbTS/PtJnLNzbB2befUruXemvzuXX6qtfo0/qDiU43btKKcnIEQiKgjXa+21hWtd5gzWYkVRmES9aW+jZt1+PSJiRV03arpu/qzy6FeTtMJQ4JL81AAIGACvD8HdCOSXK1CAAmGZzLVQlwA2IkIIAAAggEXUBrjz3/6TK747XZLmDQ0KKZe306Vu086oJ91VN3FfDzY7OBhtaL1yGAQG0Bbc6zeK2mFFdtQqIpxVVZgyUxNwvyztC1TW71tN3t6/Tpd711TjbMCCCAQMoFeP5OeRcEogIEAAPRDZlXCW5AmdfntBgBBBBIV4FNWyrtkfcX2F+nzrfizRUxm5Hbomr9Lm/zDS/Y1yfKxgHpakG9EchUAW3o400l1sY+m7ZUWN+aabwFph15KQgggEBQBXj+DmrPJLdeBACT683VqgW4ATEUEEAAAQTSTWB18Wa7f+p8m75oneVkNasJ9HlTd1moP916lPoigAACCCCQGQI8f2dGP++slQQAdybEz5tEgBtQk7ByUgQQQAABBBBAAAEEEEAAAQRqCfD8zYCQAAFAxkFKBLgBpYSdiyKAAAIIIIAAAggggAACCGSYAM/fGdbhMZpLAJBxkBIBbkApYeeiCCCAAAIIIIAAAggggAACGSbA83eGdTgBQDo8SALcgILUG9QFAQQQQAABBBBAAAEEEEAgrAI8f4e1ZxNrFxmAiXlxtE8C3IB8guQ0CCCAAAIIIIAAAggggAACCNQjwPM3w0MCBAAZBykR4AaUEnYuigACCCCAAAIIIIAAAgggkGECPH9nWIfHaC4BQMZBSgS4AaWEnYsigAACCCCAAAIIIIAAAghkmADP3xnW4QQA6fAgCXADClJvUBcEEEAAAQQQQAABBBBAAIGwCvD8HdaeTaxdZAAm5sXRPglwA/IJktMggAACCCCAAAIIIIAAAgggUI8Az98MDwkQAGQcpESAG1BK2LkoAggggAACCCCAAAIIIIBAhgnw/J1hHR6juQQAGQcpEeAGlBJ2LooAAggggAACCCCAAAIIIJBhAjx/Z1iHEwCkw4MkwA0oSL1BXRBAAAEEEEAAAQQQQAABBMIqwPN3WHs2sXaRAZiYF0f7JMANyCdIToMAAggggAACCCCAAAIIIIBAPQI8fzM8JEAAkHGQEgFuQClh56IIIIAAAggggAACCCCAAAIZJsDzd4Z1eIzmEgBkHKREgBtQSti5KAIIIIAAAggggAACCCCAQIYJ8PydYR1OAJAOD5IAN6Ag9QZ1QQABBBBAAAEEEEAAAQQQCKsAz99h7dnE2kUGYGJeHO2TADcgnyA5DQIIIIAAAggggAACCCCAAAL1CPD8zfCQAAFAxkFKBLgBpYSdiyKAAAIIIIAAAggggAACCGSYAM/fGdbhMZpLAJBxkBIBbkApYeeiCCCAAAIIIIAAAggggAACGSbA83eGdTgBQDo8SALcgILUG9QFAQQQQAABBBBAAAEEEEAgrAI8f4e1ZxNrFxmAiXlxtE8C3IB8guQ0CCCAAAIIIIAAAggggAACCNQjwPM3w0MCBAAZBykR4AaUEnYuigACCCCAAAIIIIAAAgggkGECPH9nWIfHaC4BQMZBSgS4AaWEnYsigAACCCCAAAIIIIAAAghkmADP3xnW4QQA6fAgCXADClJvUBcEEEAAAQQQQAABBBBAAIGwCvD8HdaeTaxdZAAm5sXRPglwA/IJktMggAACCCCAAAIIIIAAAgggUI8Az98MDwkQAGQcpESAG1BK2LkoAggggAACCCCAAAIIIIBAhgnw/J1hHR6juQQAGQcpEeAGlBJ2LooAAggggAACCCCAAAIIIJBhAjx/Z1iHEwCkw4MkwA0oSL1BXRBAAAEEEEAAAQQQQAABBMIqwPN3WHs2sXaRAZiYF0f7JMANyCdIToMAAggggAACCCCAAAIIIIBAPQI8fzM8JEAAkHGQEoGFCxdav3793LU/+ugj69atW0rqwUURQAABBBBAAAEEEEAAAQQQCLPA8uXL7YADDnBNXLBggfXt2zfMzaVtMQQIADI0UiIwffr0mhtQSirARRFAAAEEEEAAAQQQQAABBBDIMAEl4AwdOjTDWk1zJUAAkHGQEgECgClh56IIIIAAAggggAACCCCAAAIZLEAAMHM7nwBg5vZ9SlteVlZmM2bMcHUoLCy07OzslNYnnotHpk0zbTkesfAdwxgIX58m2iLGQKJi4TueMRC+Pk2kRfR/IlrhPJYxEM5+TaRVjIFEtMJ5bDqOgYqKClu1apXrkD322MNyc3PD2Tm0ql4BAoAMEATiFGDh1DihQnwYYyDEnRtn0xgDcUKF+DDGQIg7N46m0f9xIIX8EMZAyDs4juYxBuJACvkhjIGQd3CIm0cAMMSdS9P8FeBG769nOp6NMZCOveZvnRkD/nqm49kYA+nYa/7Vmf73zzJdz8QYSNee86/ejAH/LNP1TIyBdO056k0AkDGAQJwC3OjjhArxYYyBEHdunE1jDMQJFeLDGAMh7tw4mkb/x4EU8kMYAyHv4DiaxxiIAynkh93jUq4AACAASURBVDAGQt7BIW4eAcAQdy5N81eAG72/nul4NsZAOvaav3VmDPjrmY5nYwykY6/5V2f63z/LdD0TYyBde86/ejMG/LNM1zMxBtK156g3AUDGAAJxCnCjjxMqxIcxBkLcuXE2jTEQJ1SID2MMhLhz42ga/R8HUsgPYQyEvIPjaB5jIA6kkB/CGAh5B4e4eQQAQ9y5NM1fAW70/nqm49kYA+nYa/7WmTHgr2c6no0xkI695l+d6X//LNP1TIyBdO05/+rNGPDPMl3PxBhI156j3gQAGQMIxCnAjT5OqBAfxhgIcefG2TTGQJxQIT6MMRDizo2jafR/HEghP4QxEPIOjqN5jIE4kEJ+CGMg5B0c4uYRAAxx59I0fwW40fvrmY5nYwykY6/5W2fGgL+e6Xg2xkA69pp/dab//bNM1zMxBtK15/yrN2PAP8t0PRNjIF17jnoTAGQMIIAAAggggAACCCCAAAIIIIAAAgggEGIBAoAh7lyahgACCCCAAAIIIIAAAggggAACCCCAAAFAxgACCCCAAAIIIIAAAggggAACCCCAAAIhFiAAGOLOpWkIIIAAAggggAACCCCAAAIIIIAAAggQAGQMIIAAAggggAACCCCAAAIIIIAAAgggEGIBAoAh7lyahgACCCCAAAIIIIAAAggggAACCCCAAAFAxgACCCCAAAIIIIAAAggggAACCCCAAAIhFiAAGOLOpWkIIIAAAggggAACCCCAAAIIIIAAAggQAGQMIIAAAggggAACCCCAAAIIIIAAAgggEGIBAoAh7lyahgACCCCAAAIIIIAAAggggAACCCCAAAFAxgACCCCAAAIIIIAAAggggAACCCCAAAIhFiAAGOLOpWmNE1i5cqV99NFH7s/06dPdnzVr1riTnnXWWTZx4sTGXYBXB17g448/tpdfftnee+89+/rrr23VqlXWokUL6969uw0bNsx+/vOf26GHHhr4dlDBhgls3LjR9b9+9zUWli1b5sbApk2brF27djZkyBAbM2aMGwcdO3Zs2EV4VdoKXHHFFXb77bfX1P/tt9+24cOHp217qHhsgWbNmsXFc8QRR9jUqVPjOpaD0ldg8eLFNmHCBJs8ebItWrTIioqKrLCw0Pr27WtHHnmknXrqqbb77runbwOp+Q4Cure/8847Ccnwf0JCXGlz8JYtW+zvf/+7PfPMM/bFF1/Y2rVr3bNBjx497JBDDrFx48a5rxQEgipAADCoPUO9Ui5Q3xt+AoAp754mr8Dhhx9u77777k6vc+aZZ9pDDz1kOTk5Oz2WA9JL4I033rCRI0futNKdOnWyxx9/3I499tidHssB4RD47LPPbOjQoVZRUUEAMBxdWm8rCABmQCfH2cT77rvPrrzySispKYn5iosvvtjGjx8f5xk5LB0EEg0ANm/e3BQoVlCIEh4BBfyPO+44++qrr+pt1EUXXWT33HOPxft/R3iEaEk6CBAATIdeoo4pEYi8affu3dsGDx5sU6ZMcXUhAJiSLknqRfv372/z58932X4//OEP7bDDDjONg8rKSps2bZrdeeedLiNM5bTTTrN//OMfSa0fF2t6AQUAf/azn7mMjv3228969epl3bp1s61bt9rSpUvt2Wefteeee86NCQWAlS281157NX3FuEJKBdT/Bx10kMsM7dy5sylbXIVsj5R2S5Ne3Hs/cMEFF9gvf/nLmNfKy8uzfv36NWldOHnqBG688Ua75pprXAUGDhzoMn30QUDbtm3dDJFPP/3Unn/+eTvwwAPtrrvuSl1FubLvAgsWLKg36KsLaqbIj370I3dtfXjoPTP4XhlOmBKB8vJy22effWqCf3vuuaddeumlNmjQIJcFrNlCejbwPhy45ZZb7Pe//31K6spFEahPgAAg4wOBGALXXnute2OnP126dLGFCxfWvLEnABj+YXP88cebsvtOOeUUy8rK2qHBq1evdtOA58yZ436mqSHKGqSER0CBvWh9H9nCF154wU4++WT3LX1VQJASbgFl9lxyySXuQyH1ud7kqxAADG+/ewFAvS+47rrrwttQWhZT4M0337QRI0a4n+u9wcMPP+ym/UUrmiLIrIDMG0yRy0I89thj9pOf/CTzEELcYn3oq4QAlYMPPtjNEqr7HvGTTz5xP1OwUEvFaNmY7OzsEKvQtHQUIACYjr1GnVMiQAAwJeyBvuhLL71kY8eOdXVUuv+9994b6PpSuaYRUCBo9uzZpqnAerNHCa+ApnR973vfs+LiYrfWm4J+119/PQHA8Ha5axkBwJB38E6ap6xf3efnzp3rsry1JiwP9Zk9Juq2XmNEs0Q0MyQ/P99WrFhhrVu3BilEAsr2u/vuu12LXnzxxZr3/3Wb+P3vf99lAqtojcA99tgjRAo0JQwCBADD0Iu0ISkCBACTwpxWF1Gav97oqWgzCC0ITsk8AWUJ64FQY0HTQCjhFVDAX4F/Lwtc2WAEAMPb317LCACGv4/ra+Grr75qo0ePdodouQ8t+0FBIFLg9ddft2OOOcZ96+yzz7a//e1vAIVM4MILL7T/+7//c6368ssv3YeB0crll19ud9xxh/uR3htqCRkKAkESIAAYpN6gLoEWIAAY6O5JSeW085e3+6sCA/pEkJJZAsr8026P2gxi//33d+vCUcIp8PTTT7v1nTp06FCT8UkAMJx9XbdVBAAzo59jtVI7vT/yyCMuE3TDhg1WUFDgDtV7AK39p/cBui9QMlfgpz/9qdsMTOWtt95yawdTwiWgDYB+/etfu0bFkwGo+8X69eutTZs24YKgNWkvQAAw7buQBiRLgABgsqTT5zpK8Veqv8rvfvc7u+2229Kn8tS0wQKlpaVums+kSZPs9ttvd1N9VPTm/4wzzmjweXlhcAX0Jn633Xaz7777zu36fe6557rKEgAMbp/5WTMvADhkyBDbtm2bWxNYaz917drVDjnkEJfxwwO/n+LBOpcyfbTBgzZ4+eabb1wWoNb+VBaQV7xNQbQcSMuWLYPVAGrTpAJaEkL3As0K6dOnj2nDEHZ/bVLylJxca3/vuuuutnHjRrcGuNb+rrsGoDYC0iZhWgdU7we9oHBKKsxFEYghQACQoYFAnAIEAOOEypDDtN6LFvrVzq8qpPmHu+MnTpxo55xzTsxGaqe3m2++mTf9IR0Gv/jFL1zgT2/6tfC393BHADCkHV6nWfE8zJ900kmm+4R2hKWER0D/12uzD33Vcg/6f7++9X4VENZyINoAgJIZAo8++qj7EEDl6quvNu0WTQmngDL/tASAPgjWjsC/+c1v3I7gCgK///77bhdgLQWz77772ssvv+w2kaQgEDQBAoBB6xHqE1gBAoCB7ZqUVEz/yf/2t79111YW4L/+9a+U1IOLJkcgVgBw7733tgcffNA9GFLCKaCA3xFHHOE+6den+5ry7RUCgOHs87qtysvLsxNOOMGOPvpotxmE1vvUhj/KALn//vvdNFAVjROtBRZrd9jM0ApXK9etW1czvTc3N9fKysqsW7du9qc//cmt/avvaekH7QD74YcfusazI3y4xsDOWqP7gqb9qmhZEAWEKOEVmDVrlgv0TZgwwWWERxYF/K688kobN24cm8CEdwikfcsIAKZ9F9KAZAkQAEyWdPCvo4e+ESNGuHXfOnfubDNmzHBfKeEV0BTQpUuXugZu2rTJ5s+fb1oTTtPANSVk/Pjxdvzxx4cXIENbpmk82vVTb/i1sLemfEcWAoCZMTD0+x8ro0tLAGiDCAWHVe65556adaIyQyfcrdR9v1evXjWN1M6u//vf/2zQoEG1Gq7/F5Qd+Pnnn7vvKxh44IEHhhuH1rn3BZr2qwxRTf2cNm0aKiEW0HsC/b//8MMPuw+BohWtB33NNde4D40oCARRgABgEHuFOgVSgABgILsl6ZX66quv7LDDDjNlBeiT/9dee80OP/zwpNeDCwZD4LHHHnM7wmqKoD4N9qYBBaN21KKxAl6Ar3fv3m4NMGWCEQBsrGr4Xq914ZQZWF5ebv3797e5c+eGr5EZ2iKt+1VYWFjTem0CoCBvtKKpv94HQZdccondddddGaqWOc2+9dZbXcaXyl//+lc7//zzM6fxGdZSrfGoD3s0K0AzAi677DK3NMwuu+ziMoP/+9//2h//+Ed777333HtC7QR86aWXZpgSzU0HAQKA6dBL1DEQAgQAA9ENKa2EFnY+9NBD7dtvv3X/+Wva74knnpjSOnHx1AtoZ1hlAyo4tHjxYnaDTH2X+FIDZf0p+0+f+P/73/+O+mk+GYC+UIfiJMcdd5xb80lFmwR17949FO3K9EZs3rzZfdjnlZdeesnU19GKggDaIVizA/ReQYECSrgFvA1itPHL8uXLrX379uFucAa3TrMAFNRT0bIw+vC3btHv/jHHHGNvv/22NW/e3GUL630EBYEgCRAADFJvUJdACxAADHT3NHnlFPRT5p8yPfTJnv7zP/PMM5v8ulwg+ALaEdLb/feJJ56w008/PfiVpoY7FTjvvPPc+o76dP+mm26Kevyzzz5bs/6npvxol1iVsWPH7pAtuNMLckBaC0Q+HGpzKNYFTevurFV5LfHhTffTFN8999wzZuO0PqB2C9cUYX2IQAmvgDZ/837PTznlFNP/B5RwCmitv06dOtnatWvdGo9a6zFW0WYg+gBARZuE3H333eFEoVVpK0AAMG27joonW4AAYLLFg3M9TQHS4u6aAqjy5z//2X71q18Fp4LUJKUCWvRfn/iqaCdgbzpQSivFxRstoOnc2t2xIUXZwn379m3IS3lNmgr87ne/cxtDqBAATNNOjFHtI4880qZOnep+qowe7f4Zq3jBQmWGffnll+GCoDW1BDQd/L777nPf0+6w+uCHEk4BBfUV3FfRrI+nnnoqZkOVCdyqVSv381GjRtkrr7wSThRalbYCBADTtuuoeLIFCAAmWzwY19uwYYMdddRR7k2/itZ70W5/FAQ8gcgdgu+991676KKLwAmBAAHAEHRiEpugtd+0BpyKNgbo0aNHEq/OpZpS4Nprr3Vre6koy0vZXtHKxo0b3WYxyhbSh0JaI5gSTgGt96nfcWWGao1IzRLJzs4OZ2NplUWuBbqzbM+ioiJr06aNU9P/C5MmTUIQgUAJEAAMVHdQmSALEAAMcu80Td1KS0vdm3il86tcffXVduONNzbNxThr2gpErv2ldV+GDx+etm2h4okJsAZgYl5hPVoZn9oEROtFalfwefPmhbWpGdmuL774omYdLy338Pjjj0d1UMawtxHUDTfcYH/4wx8y0isTGq2MP28N6IsvvtjGjx+fCc3O2DZql2et76ggv9Z3XbRoUcyAr9YJ9bJB9YGwPhimIBAkAQKAQeoN6hJoAQKAge4e3yunBzn9Bz5lyhR3bt7g+U4c+BMqs+/HP/5xrQXg61Zaa7t4u7z169fP7f6pDWIomSFAADD8/azsDe38GCu7Z8WKFe7nn376qcO488472fkxhMNizJgxbiqfFvbX+4Kjjz66Vis1RVDrwSn7Mycnx60XTBZoCAdCdZN+8IMf1Kz/+sknn9i+++4b3sbSMieg9Z2ffPJJ93f936/M4Lpl3bp1bv0/b8kgZQF7S8TAiEBQBAgABqUnqEfgBLSNe+Sn+Er/1iLfKsOGDbNzzz23Vp29T30D1xAq1CABpfg/99xz7rWaAqxPd7X5R6yiN/xaGJgSHgGt4aapHBoLekOnzJ78/Hz3vRkzZpg2/PCyQ9X/mv43YsSI8ADQkp0KEADcKVHaH6D7gKb76T5w8MEHu7Udtb6T3hNoXbgHHnjA/V1F94k33njDtCMoJVwCc+bMsQMPPNDWr1/vPhTS4v4KCmosaM3HW265xQX/VG677TbTmpCUcAooyKP14LRD9O677+7eD1DCL6BNffbbbz/T7CAVJQloJ2BtFKZ1/z788EP3rLB48WL3c31IoP8PKAgETYAAYNB6hPoERiDR9Z+05gslPAL1BfuitbJPnz6mLFFKeAT0oK9pHjsrPXv2tEceecRGjhy5s0P5ecgECACGrEOjNCfe+4AChA8//LBbA44STgF9MKzML2V9Rit636ClQjT9lxJegfvvv98uuOAC18Dbb7+9JjkgvC2mZZ6AAnqnnXZazYc+sWSUOKD1QjVtmIJA0AQIAAatR6hPYAQIAAamK1JSEQKAKWEP1EVnz57tsvqU5adsYD30rVmzxmV8aKfHvffe2y3wfOqpp1rr1q0DVXcqkxwBAoDJcU7lVd555x3Tn2nTprlpncr20zpQygbu1auXHXLIIS4LRNmBlPAL6P8A7fz6wgsvmNZ+1HIhygbT2q9a76u+HYLDr5MZLdQsoA8++MAt96FsL60JR8kcAd0DJkyY4JYE+Oqrr1xWsJaI6Nq1q1sGQFOFTzjhhHpnDWWOFi0NogABwCD2CnVCAAEEEEAAAQQQQAABBBBAAAEEEEDAJwECgD5BchoEEEAAAQQQQAABBBBAAAEEEEAAAQSCKEAAMIi9Qp0QQAABBBBAAAEEEEAAAQQQQAABBBDwSYAAoE+QnAYBBBBAAAEEEEAAAQQQQAABBBBAAIEgChAADGKvUCcEEEAAAQQQQAABBBBAAAEEEEAAAQR8EiAA6BMkp0EAAQQQQAABBBBAAAEEEEAAAQQQQCCIAgQAg9gr1AkBBBBAAAEEEEAAAQQQQAABBBBAAAGfBAgA+gTJaRBAAAEEEEAAAQQQQAABBBBAAAEEEAiiAAHAIPYKdUIAAQQQQAABBBBAAAEEEEAAAQQQQMAnAQKAPkFyGgQQQAABBBBAAAEEEEAAAQQQQAABBIIoQAAwiL1CnRBAAAEEEEAAAQQQQAABBBBAAAEEEPBJgACgT5CcBgEEEEAAAQQQQAABBBBAAAEEEEAAgSAKEAAMYq9QJwQQQAABBBBAAAEEEEAAAQQQQAABBHwSIADoEySnQQABBBBAAAEEEEAAAQQQQAABBBBAIIgCBACD2CvUCQEEEEAAAQQQQAABBBBAAAEEEEAAAZ8ECAD6BMlpEEAAAQQQQAABBBBAAAEEEEAAAQQQCKIAAcAg9gp1QgABBBBAAAEEEEAAAQQQQAABBBBAwCcBAoA+QXIaBBBAAAEEEEAAgfoF+vbta4sWLbKzzjrLJk6cCBcCCCCAAAIIIIBAkgQIACYJmssggAACCCCAAAKZLkAAMNNHAO1HAAEEEEAAgVQJEABMlTzXRQABBBBAAAEEMkyAAGCGdTjNRQABBBBAAIHACBAADExXUBEEEEAAAQQQQCDcAgQAw92/tA4BBBBAAAEEgitAADC4fUPNEEAAAQQQQACBUAkQAAxVd9IYBBBAAAEEEEgjAQKAadRZVBUBBBBAAAEEEEhnAQKA6dx71B0BBBBAAAEE0lmAAGA69x51RwABBBBAAIGkCFx33XV2/fXXu2tt27bNysrK7L777rMnn3zS5s6d676/22672Zlnnmnnn3++ZWdnN7peH3/8sQ0dOtSd55VXXrFRo0btcM7hw4fbO++8475/9913229+85sdjlF9HnjgAevatastX748ar0mTZpkjz76qH344Ye2atUqy8/Pt4EDB9qJJ55oF154oft3tKKdfM855xz3owULFli3bt3sr3/9qz311FM2b948W7NmjV177bUmP5V4AoA333yzXX311e74k08+2Rm3bNmy1uU3bdpkDz30kL3wwgv21Vdf2bp166xdu3a2995722mnneb6ISsrK2qde/bsacuWLbOf//zn9vDDD9v06dPtz3/+s3OUT2VlpVVUVNS8VufWzydPnmyzZ8+24uJid63OnTvboEGD7JhjjrFTTjnFCgsLG93nnAABBBBAAAEEEGgqAQKATSXLeRFAAAEEEEAgNAKRAcDvvvvOBeM+++yzqO0bO3asC0w1b968Ue1XIKpDhw62ceNGu+KKK+zWW2+tdb7Nmze7QJSCkSoK1um6dYsCk7NmzbIf/ehHLjAXWfTa008/3Z5//vmYde3evbsLfim4VrdEBgAVSBs3btwOLvEGABVYvfzyy+3OO+90l1FgUUG+uoG8Tz/91E466SRbvHhxzDofdNBB9uKLL0YNykUGANUmBU1l7RVdzwsAKrg4YsQIU5/XVxT0VKCVggACCCCAAAIIBFWAAGBQe4Z6IYAAAggggEBgBCIDgIcccogpO08BHwX7FKRTZtgNN9xgM2fOdHW+//777bzzzmt0/Y877jh7+eWX7cADD3TZeZFFGWvKAPRK+/btbfXq1bUCjytWrHCZfyp/+ctf7IILLqh1DgUFn376afe9vfbayy677DKXybh27VoXLFSAT4E5tfGLL76wHj161Hp9ZABwzz33tBkzZthPf/pTF2zUdRWkU/be6NGj3etiZQAqAKfg4d/+9jd33CWXXOICgc2aNat1vTlz5tj+++9vRUVF1rZtW5edqCxJBfWUbagA6IMPPugCeuonGdXNxvQCgN/73vdcf6lOavd+++1n5eXl9v7777uAq4oChJ9//rm1aNHC9acCv126dLGtW7fakiVLXJ8oePrb3/6WAGCjRzsnQAABBBBAAIGmFCAA2JS6nBsBBBBAAAEEQiEQGQBUMGjKlCm1gm9qpIJmQ4YMMQXdFAxT4Kix5fbbb3fBKAWxNBU1ciruH//4Rze9VhlqClppWqyy4yIz9RTcUzBO5euvv3bBPa8oq+/44493/zz66KNdoDEnJ6dWlZWB94tf/MJ979RTT7V//vOftX4eGQDUDzSlVlNrY5VoAUBlMmrarpeFqHZdc801UU+hQOhHH33kgoCvvfaaC0zWLWrXCSec4IJ0jzzySM0UZe84LwCofyvoqSChgol1i4KNmuKrUl+GnwKk69evNwVgKQgggAACCCCAQFAFCAAGtWeoFwIIIIAAAggERiAyAHjppZfWTFOtW8Err7zSTdVV5poCdtECS4k0SsEuBb1U6q4DeNRRR9nbb79tf/rTn1zwTn+vuw7gL3/5Sxe80np1CkxGljFjxrhzKqA5f/5869WrV9SqjRw50t544w0XhFRGn9b580pkAFD1efPNN+ttXt0AoNbT03RevU5mWlfxV7/6VdRzqH26hkrdYGbdF2hNvueee84OP/zwmjUSvWMiA4AffPCBHXzwwVGv95///MeOOOII9zNNBVZwl4IAAggggAACCKSrAAHAdO056o0AAggggAACSROIDAB+8skntu+++0a99rPPPms//OEP3c/qZuM1pLJai05ZbpryGrkO4JYtW9z6f8r609p7CgAqG7DuOoCa5qpgmerkTfVVPXReBSdLS0tN04xfeumlmNWLzCL8xz/+4bL1vBIZAJwwYYL97Gc/q7eZkQFATfFVEFJBTgUXtQmJ1iOMVTQtePz48aY2ffnll/Ve55577nFr+2n6sdoYuR6jFwDs16+fffPNNzHPo81dtBGKitYmVDYmBQEEEEAAAQQQSFcBAoDp2nPUGwEEEEAAAQSSJhAZACwpKbHWrVtHvfZbb73lptOqKIPssMMOa3QdtX7eq6++WmsdwHfffddltymIp7XvNAVY2WqR6wBqN19l/qloF9vIzLrI6a31TbnVaxctWuTWyVO56qqr7KabbqppU91NQDQ1t77iBQC1c+7SpUtdcLJVq1b2zDPPuEBkfUWW7733XsKe8omcKuwFAGNtmhJ5Aa0jOG3aNPctBR6VWah1F5WVGWsMJFxBXoAAAggggAACCCRBgABgEpC5BAIIIIAAAgikt0BkAFBrvsUqU6dOtSOPPNL9WFNWIzfpaKiAphRranHkOoA33nijWyfPy96L3BHYyzyMzEZUxpwCWF7R5hXe1NedbViic+fm5rqXauMTTSn2SmQAcN68ebbrrrvW20wvABh5kDLrlGG3s6L1+BS4TLRosw4F/bziBQDPPvvsmk1HYp1TQcof/OAH9t///rfWIZo2Lb8zzjjDzjrrLJdpSEEAAQQQQAABBIIsQAAwyL1D3RBAAAEEEEAgEAKpDABGBuu8dQC9dfm0/p92oFVR4FEBSG8dwIsuushl/hUWFrr1/yJ31I085wMPPFCz0Uc07HgDgAsWLKjJFIzVaV4AcNiwYaaAoeqlTDq1SxmN9ZX+/fu7tQo1/VrTheMtgwcPrrUTsBcA1GYl2rRkZ0UBX62BqE1KtGGIdg6ODAIPGDDATcFW/SgIIIAAAggggEBQBQgABrVnqBcCCCCAAAIIBEYglQFArden9f409VjrAN5www3u31rbTuv/edNur7/+elM9vamte+yxh1srT9NWlQ0YWZpiCnAiAUBlzSnrT0FLTVXW7saa5qzAYKzi7QCsTMBZs2Y1eGwkGgCseyFNKX799ddNgVMFXFXUB+oLCgIIIIAAAgggEFQBAoBB7RnqhQACCCCAAAKBEUhlAFAIxx57rE2ZMsWtPXfXXXe5QJm3/l9WVpZzUnaaphxrHcDZs2dbly5dXKbavffea8oGjCyJbAKi9flOPfVU9/L6NgFJNACo6cMzZsxwO/uuXr3aCgoK7LXXXou5K6+mHyvopkxGZQ4qs7EhpbEBwMhragq2sv9UtKGINhahIIAAAggggAACQRQgABjEXqFOCCCAAAIIIBAogVQHAG+++Wa7+uqr3VRWZc7dcsstO+zeG7kOoNYHVKagyhdffGHKBqxbtAOvpt7m5OS4qbWR6+RFHusFH3XtxYsXW7du3Wp+HLkGYEMCgDrR559/7oKAa9eutTZt2rjsugMOOGCH+irQ5m0U8oc//KGmfYkOFD8DgArGXnbZZa4K2s146NChiVaH4xFAAAEEEEAAgaQIEABMCjMXQQABBBBAAIF0Fkh1APCDDz6omR6rzL8NGzZY5Pp/nq0yAJUJ6B3TsWNHN8U2cv0/79jJkyfb8ccf7/6pXXlfeukl0+YWkeWRRx4xrZWnoizAf/7zn7V+7kcAUCfUxiXaYAT8tAAABV1JREFUPXndunWu7lpzr+6Owspm1Pf+97//uUCo6vL9738/5rBSYFGbeNTdXTjeAKB3nT333DPqNVQfnVtB1ObNm9vy5ctrdl1O57FO3RFAAAEEEEAgnAIEAMPZr7QKAQQQQAABBHwUSHUAsLy8vGbdP69Zkev/ed+LrKe+d/LJJ9tzzz0XU0JBPU3xVdHmGpdeeqlp0wwF4p566ilTAFCBrg4dOrhMwh49ejRJAFAn/eSTT2zEiBG2fv16N435zTfftH322afW9ebOneuyA3WMgponnHCCC0xqAw5NhV65cqULEE6aNMnt3Ks1E7WLcmSJNwCoDULGjRvnrjd27FhXl65du5r6QtN9ZaM6qkRbZ9HH4cepEEAAAQQQQACBRgsQAGw0ISdAAAEEEEAAgbALpDoAKF9v51/9ve76f56/NqXQxhpeGT9+vF188cUxu6esrMxOP/10t8NtrNK9e3dTtuDee++9wyF+ZQB6J9Y0WrVz48aNLuj41ltv2V577VXrutqFVwE3fd1Zuemmm+yqq66qdViiAcCdXePQQw+1F1980QUtKQgggAACCCCAQFAFCAAGtWeoFwIIIIAAAggERiAIAcAbb7zRtLafiqaeaspu3aKAnnYI1nqAKp999tkOAbRoqMqYUzDvww8/dBty5OXl2cCBA+2kk06yCy+80O3SG634HQDUNVQHTUkuKiqyTp06uSBg3TUMKysrXYaishuVCalpzlu3bjVNeVYGo4Jyyn6sm0Go88cbAJShMvy0JqGu8e2337rNR7SBSufOnW2//fazH//4xy4DUVOAKQgggAACCCCAQJAFCAAGuXeoGwIIIIAAAggggAACCCCAAAIIIIAAAo0UIADYSEBejgACCCCAAAIIIIAAAggggAACCCCAQJAFCAAGuXeoGwIIIIAAAggggAACCCCAAAIIIIAAAo0UIADYSEBejgACCCCAAAIIIIAAAggggAACCCCAQJAFCAAGuXeoGwIIIIAAAgiktcCyZcts3bp1CbdBm3D069cv4dfxAgQQQAABBBBAAAEEogkQAGRcIIAAAggggAACTSRw9tln26OPPprw2Y844gibOnVqwq/jBQgggAACCCCAAAIIEABkDCCAAAIIIIAAAkkUIACYRGwuhQACCCCAAAIIIBBTgAxABgcCCCCAAAIIIIAAAggggAACCCCAAAIhFiAAGOLOpWkIIIAAAggggAACCCCAAAIIIIAAAggQAGQMIIAAAggggAACCCCAAAIIIIAAAgggEGIBAoAh7lyahgACCCCAAAIIIIAAAggggAACCCCAAAFAxgACCCCAAAIIIIAAAggggAACCCCAAAIhFiAAGOLOpWkIIIAAAggggAACCCCAAAIIIIAAAggQAGQMIIAAAggggAACCCCAAAIIIIAAAgggEGIBAoAh7lyahgACCCCAAAIIIIAAAggggAACCCCAAAFAxgACCCCAAAIIIIAAAggggAACCCCAAAIhFiAAGOLOpWkIIIAAAggggAACCCCAAAIIIIAAAggQAGQMIIAAAggggAACCCCAAAIIIIAAAgggEGIBAoAh7lyahgACCCCAAAIIIIAAAggggAACCCCAAAFAxgACCCCAAAIIIIAAAggggAACCCCAAAIhFiAAGOLOpWkIIIAAAggggAACCCCAAAIIIIAAAggQAGQMIIAAAggggAACCCCAAAIIIIAAAgggEGIBAoAh7lyahgACCCCAAAIIIIAAAggggAACCCCAAAFAxgACCCCAAAIIIIAAAggggAACCCCAAAIhFiAAGOLOpWkIIIAAAggggAACCCCAAAIIIIAAAgj8P2gxydklc8NsAAAAAElFTkSuQmCC\" width=\"640\">"
      ],
      "text/plain": [
       "<IPython.core.display.HTML object>"
      ]
     },
     "metadata": {},
     "output_type": "display_data"
    },
    {
     "name": "stderr",
     "output_type": "stream",
     "text": [
      "distributed.utils_perf - WARNING - full garbage collections took 10% CPU time recently (threshold: 10%)\n"
     ]
    },
    {
     "data": {
      "text/plain": [
       "<matplotlib.axes._subplots.AxesSubplot at 0x7fa994348278>"
      ]
     },
     "execution_count": 18,
     "metadata": {},
     "output_type": "execute_result"
    }
   ],
   "source": [
    "df.groupby([\"n_workers\"]).mean()[[\"time\"]].plot()"
   ]
  },
  {
   "cell_type": "code",
   "execution_count": 30,
   "metadata": {},
   "outputs": [],
   "source": [
    "df2 = pd.merge(\n",
    "    df[df.stackheight == 4].groupby(\"n_workers\")[\"n_workers\", \"time\"].mean(),\n",
    "    df[df.stackheight == 8].groupby(\"n_workers\")[\"n_workers\", \"time\"].mean(),\n",
    "    on=\"n_workers\",\n",
    ")"
   ]
  },
  {
   "cell_type": "code",
   "execution_count": 26,
   "metadata": {},
   "outputs": [
    {
     "data": {
      "text/html": [
       "<div>\n",
       "<style scoped>\n",
       "    .dataframe tbody tr th:only-of-type {\n",
       "        vertical-align: middle;\n",
       "    }\n",
       "\n",
       "    .dataframe tbody tr th {\n",
       "        vertical-align: top;\n",
       "    }\n",
       "\n",
       "    .dataframe thead th {\n",
       "        text-align: right;\n",
       "    }\n",
       "</style>\n",
       "<table border=\"1\" class=\"dataframe\">\n",
       "  <thead>\n",
       "    <tr style=\"text-align: right;\">\n",
       "      <th></th>\n",
       "      <th>n_workers</th>\n",
       "      <th>time_x</th>\n",
       "      <th>time_y</th>\n",
       "    </tr>\n",
       "  </thead>\n",
       "  <tbody>\n",
       "    <tr>\n",
       "      <th>0</th>\n",
       "      <td>1</td>\n",
       "      <td>3.725856</td>\n",
       "      <td>3.175883</td>\n",
       "    </tr>\n",
       "    <tr>\n",
       "      <th>1</th>\n",
       "      <td>2</td>\n",
       "      <td>2.123179</td>\n",
       "      <td>1.797800</td>\n",
       "    </tr>\n",
       "    <tr>\n",
       "      <th>2</th>\n",
       "      <td>3</td>\n",
       "      <td>1.676922</td>\n",
       "      <td>1.457826</td>\n",
       "    </tr>\n",
       "    <tr>\n",
       "      <th>3</th>\n",
       "      <td>4</td>\n",
       "      <td>1.418348</td>\n",
       "      <td>1.269745</td>\n",
       "    </tr>\n",
       "    <tr>\n",
       "      <th>4</th>\n",
       "      <td>5</td>\n",
       "      <td>1.469158</td>\n",
       "      <td>1.347606</td>\n",
       "    </tr>\n",
       "    <tr>\n",
       "      <th>5</th>\n",
       "      <td>6</td>\n",
       "      <td>1.373891</td>\n",
       "      <td>1.322316</td>\n",
       "    </tr>\n",
       "    <tr>\n",
       "      <th>6</th>\n",
       "      <td>7</td>\n",
       "      <td>1.431285</td>\n",
       "      <td>1.403106</td>\n",
       "    </tr>\n",
       "    <tr>\n",
       "      <th>7</th>\n",
       "      <td>8</td>\n",
       "      <td>1.426761</td>\n",
       "      <td>1.435410</td>\n",
       "    </tr>\n",
       "  </tbody>\n",
       "</table>\n",
       "</div>"
      ],
      "text/plain": [
       "   n_workers    time_x    time_y\n",
       "0          1  3.725856  3.175883\n",
       "1          2  2.123179  1.797800\n",
       "2          3  1.676922  1.457826\n",
       "3          4  1.418348  1.269745\n",
       "4          5  1.469158  1.347606\n",
       "5          6  1.373891  1.322316\n",
       "6          7  1.431285  1.403106\n",
       "7          8  1.426761  1.435410"
      ]
     },
     "execution_count": 26,
     "metadata": {},
     "output_type": "execute_result"
    }
   ],
   "source": [
    "df2"
   ]
  },
  {
   "cell_type": "code",
   "execution_count": 31,
   "metadata": {},
   "outputs": [
    {
     "data": {
      "application/javascript": [
       "/* Put everything inside the global mpl namespace */\n",
       "window.mpl = {};\n",
       "\n",
       "\n",
       "mpl.get_websocket_type = function() {\n",
       "    if (typeof(WebSocket) !== 'undefined') {\n",
       "        return WebSocket;\n",
       "    } else if (typeof(MozWebSocket) !== 'undefined') {\n",
       "        return MozWebSocket;\n",
       "    } else {\n",
       "        alert('Your browser does not have WebSocket support.' +\n",
       "              'Please try Chrome, Safari or Firefox ≥ 6. ' +\n",
       "              'Firefox 4 and 5 are also supported but you ' +\n",
       "              'have to enable WebSockets in about:config.');\n",
       "    };\n",
       "}\n",
       "\n",
       "mpl.figure = function(figure_id, websocket, ondownload, parent_element) {\n",
       "    this.id = figure_id;\n",
       "\n",
       "    this.ws = websocket;\n",
       "\n",
       "    this.supports_binary = (this.ws.binaryType != undefined);\n",
       "\n",
       "    if (!this.supports_binary) {\n",
       "        var warnings = document.getElementById(\"mpl-warnings\");\n",
       "        if (warnings) {\n",
       "            warnings.style.display = 'block';\n",
       "            warnings.textContent = (\n",
       "                \"This browser does not support binary websocket messages. \" +\n",
       "                    \"Performance may be slow.\");\n",
       "        }\n",
       "    }\n",
       "\n",
       "    this.imageObj = new Image();\n",
       "\n",
       "    this.context = undefined;\n",
       "    this.message = undefined;\n",
       "    this.canvas = undefined;\n",
       "    this.rubberband_canvas = undefined;\n",
       "    this.rubberband_context = undefined;\n",
       "    this.format_dropdown = undefined;\n",
       "\n",
       "    this.image_mode = 'full';\n",
       "\n",
       "    this.root = $('<div/>');\n",
       "    this._root_extra_style(this.root)\n",
       "    this.root.attr('style', 'display: inline-block');\n",
       "\n",
       "    $(parent_element).append(this.root);\n",
       "\n",
       "    this._init_header(this);\n",
       "    this._init_canvas(this);\n",
       "    this._init_toolbar(this);\n",
       "\n",
       "    var fig = this;\n",
       "\n",
       "    this.waiting = false;\n",
       "\n",
       "    this.ws.onopen =  function () {\n",
       "            fig.send_message(\"supports_binary\", {value: fig.supports_binary});\n",
       "            fig.send_message(\"send_image_mode\", {});\n",
       "            if (mpl.ratio != 1) {\n",
       "                fig.send_message(\"set_dpi_ratio\", {'dpi_ratio': mpl.ratio});\n",
       "            }\n",
       "            fig.send_message(\"refresh\", {});\n",
       "        }\n",
       "\n",
       "    this.imageObj.onload = function() {\n",
       "            if (fig.image_mode == 'full') {\n",
       "                // Full images could contain transparency (where diff images\n",
       "                // almost always do), so we need to clear the canvas so that\n",
       "                // there is no ghosting.\n",
       "                fig.context.clearRect(0, 0, fig.canvas.width, fig.canvas.height);\n",
       "            }\n",
       "            fig.context.drawImage(fig.imageObj, 0, 0);\n",
       "        };\n",
       "\n",
       "    this.imageObj.onunload = function() {\n",
       "        fig.ws.close();\n",
       "    }\n",
       "\n",
       "    this.ws.onmessage = this._make_on_message_function(this);\n",
       "\n",
       "    this.ondownload = ondownload;\n",
       "}\n",
       "\n",
       "mpl.figure.prototype._init_header = function() {\n",
       "    var titlebar = $(\n",
       "        '<div class=\"ui-dialog-titlebar ui-widget-header ui-corner-all ' +\n",
       "        'ui-helper-clearfix\"/>');\n",
       "    var titletext = $(\n",
       "        '<div class=\"ui-dialog-title\" style=\"width: 100%; ' +\n",
       "        'text-align: center; padding: 3px;\"/>');\n",
       "    titlebar.append(titletext)\n",
       "    this.root.append(titlebar);\n",
       "    this.header = titletext[0];\n",
       "}\n",
       "\n",
       "\n",
       "\n",
       "mpl.figure.prototype._canvas_extra_style = function(canvas_div) {\n",
       "\n",
       "}\n",
       "\n",
       "\n",
       "mpl.figure.prototype._root_extra_style = function(canvas_div) {\n",
       "\n",
       "}\n",
       "\n",
       "mpl.figure.prototype._init_canvas = function() {\n",
       "    var fig = this;\n",
       "\n",
       "    var canvas_div = $('<div/>');\n",
       "\n",
       "    canvas_div.attr('style', 'position: relative; clear: both; outline: 0');\n",
       "\n",
       "    function canvas_keyboard_event(event) {\n",
       "        return fig.key_event(event, event['data']);\n",
       "    }\n",
       "\n",
       "    canvas_div.keydown('key_press', canvas_keyboard_event);\n",
       "    canvas_div.keyup('key_release', canvas_keyboard_event);\n",
       "    this.canvas_div = canvas_div\n",
       "    this._canvas_extra_style(canvas_div)\n",
       "    this.root.append(canvas_div);\n",
       "\n",
       "    var canvas = $('<canvas/>');\n",
       "    canvas.addClass('mpl-canvas');\n",
       "    canvas.attr('style', \"left: 0; top: 0; z-index: 0; outline: 0\")\n",
       "\n",
       "    this.canvas = canvas[0];\n",
       "    this.context = canvas[0].getContext(\"2d\");\n",
       "\n",
       "    var backingStore = this.context.backingStorePixelRatio ||\n",
       "\tthis.context.webkitBackingStorePixelRatio ||\n",
       "\tthis.context.mozBackingStorePixelRatio ||\n",
       "\tthis.context.msBackingStorePixelRatio ||\n",
       "\tthis.context.oBackingStorePixelRatio ||\n",
       "\tthis.context.backingStorePixelRatio || 1;\n",
       "\n",
       "    mpl.ratio = (window.devicePixelRatio || 1) / backingStore;\n",
       "\n",
       "    var rubberband = $('<canvas/>');\n",
       "    rubberband.attr('style', \"position: absolute; left: 0; top: 0; z-index: 1;\")\n",
       "\n",
       "    var pass_mouse_events = true;\n",
       "\n",
       "    canvas_div.resizable({\n",
       "        start: function(event, ui) {\n",
       "            pass_mouse_events = false;\n",
       "        },\n",
       "        resize: function(event, ui) {\n",
       "            fig.request_resize(ui.size.width, ui.size.height);\n",
       "        },\n",
       "        stop: function(event, ui) {\n",
       "            pass_mouse_events = true;\n",
       "            fig.request_resize(ui.size.width, ui.size.height);\n",
       "        },\n",
       "    });\n",
       "\n",
       "    function mouse_event_fn(event) {\n",
       "        if (pass_mouse_events)\n",
       "            return fig.mouse_event(event, event['data']);\n",
       "    }\n",
       "\n",
       "    rubberband.mousedown('button_press', mouse_event_fn);\n",
       "    rubberband.mouseup('button_release', mouse_event_fn);\n",
       "    // Throttle sequential mouse events to 1 every 20ms.\n",
       "    rubberband.mousemove('motion_notify', mouse_event_fn);\n",
       "\n",
       "    rubberband.mouseenter('figure_enter', mouse_event_fn);\n",
       "    rubberband.mouseleave('figure_leave', mouse_event_fn);\n",
       "\n",
       "    canvas_div.on(\"wheel\", function (event) {\n",
       "        event = event.originalEvent;\n",
       "        event['data'] = 'scroll'\n",
       "        if (event.deltaY < 0) {\n",
       "            event.step = 1;\n",
       "        } else {\n",
       "            event.step = -1;\n",
       "        }\n",
       "        mouse_event_fn(event);\n",
       "    });\n",
       "\n",
       "    canvas_div.append(canvas);\n",
       "    canvas_div.append(rubberband);\n",
       "\n",
       "    this.rubberband = rubberband;\n",
       "    this.rubberband_canvas = rubberband[0];\n",
       "    this.rubberband_context = rubberband[0].getContext(\"2d\");\n",
       "    this.rubberband_context.strokeStyle = \"#000000\";\n",
       "\n",
       "    this._resize_canvas = function(width, height) {\n",
       "        // Keep the size of the canvas, canvas container, and rubber band\n",
       "        // canvas in synch.\n",
       "        canvas_div.css('width', width)\n",
       "        canvas_div.css('height', height)\n",
       "\n",
       "        canvas.attr('width', width * mpl.ratio);\n",
       "        canvas.attr('height', height * mpl.ratio);\n",
       "        canvas.attr('style', 'width: ' + width + 'px; height: ' + height + 'px;');\n",
       "\n",
       "        rubberband.attr('width', width);\n",
       "        rubberband.attr('height', height);\n",
       "    }\n",
       "\n",
       "    // Set the figure to an initial 600x600px, this will subsequently be updated\n",
       "    // upon first draw.\n",
       "    this._resize_canvas(600, 600);\n",
       "\n",
       "    // Disable right mouse context menu.\n",
       "    $(this.rubberband_canvas).bind(\"contextmenu\",function(e){\n",
       "        return false;\n",
       "    });\n",
       "\n",
       "    function set_focus () {\n",
       "        canvas.focus();\n",
       "        canvas_div.focus();\n",
       "    }\n",
       "\n",
       "    window.setTimeout(set_focus, 100);\n",
       "}\n",
       "\n",
       "mpl.figure.prototype._init_toolbar = function() {\n",
       "    var fig = this;\n",
       "\n",
       "    var nav_element = $('<div/>')\n",
       "    nav_element.attr('style', 'width: 100%');\n",
       "    this.root.append(nav_element);\n",
       "\n",
       "    // Define a callback function for later on.\n",
       "    function toolbar_event(event) {\n",
       "        return fig.toolbar_button_onclick(event['data']);\n",
       "    }\n",
       "    function toolbar_mouse_event(event) {\n",
       "        return fig.toolbar_button_onmouseover(event['data']);\n",
       "    }\n",
       "\n",
       "    for(var toolbar_ind in mpl.toolbar_items) {\n",
       "        var name = mpl.toolbar_items[toolbar_ind][0];\n",
       "        var tooltip = mpl.toolbar_items[toolbar_ind][1];\n",
       "        var image = mpl.toolbar_items[toolbar_ind][2];\n",
       "        var method_name = mpl.toolbar_items[toolbar_ind][3];\n",
       "\n",
       "        if (!name) {\n",
       "            // put a spacer in here.\n",
       "            continue;\n",
       "        }\n",
       "        var button = $('<button/>');\n",
       "        button.addClass('ui-button ui-widget ui-state-default ui-corner-all ' +\n",
       "                        'ui-button-icon-only');\n",
       "        button.attr('role', 'button');\n",
       "        button.attr('aria-disabled', 'false');\n",
       "        button.click(method_name, toolbar_event);\n",
       "        button.mouseover(tooltip, toolbar_mouse_event);\n",
       "\n",
       "        var icon_img = $('<span/>');\n",
       "        icon_img.addClass('ui-button-icon-primary ui-icon');\n",
       "        icon_img.addClass(image);\n",
       "        icon_img.addClass('ui-corner-all');\n",
       "\n",
       "        var tooltip_span = $('<span/>');\n",
       "        tooltip_span.addClass('ui-button-text');\n",
       "        tooltip_span.html(tooltip);\n",
       "\n",
       "        button.append(icon_img);\n",
       "        button.append(tooltip_span);\n",
       "\n",
       "        nav_element.append(button);\n",
       "    }\n",
       "\n",
       "    var fmt_picker_span = $('<span/>');\n",
       "\n",
       "    var fmt_picker = $('<select/>');\n",
       "    fmt_picker.addClass('mpl-toolbar-option ui-widget ui-widget-content');\n",
       "    fmt_picker_span.append(fmt_picker);\n",
       "    nav_element.append(fmt_picker_span);\n",
       "    this.format_dropdown = fmt_picker[0];\n",
       "\n",
       "    for (var ind in mpl.extensions) {\n",
       "        var fmt = mpl.extensions[ind];\n",
       "        var option = $(\n",
       "            '<option/>', {selected: fmt === mpl.default_extension}).html(fmt);\n",
       "        fmt_picker.append(option)\n",
       "    }\n",
       "\n",
       "    // Add hover states to the ui-buttons\n",
       "    $( \".ui-button\" ).hover(\n",
       "        function() { $(this).addClass(\"ui-state-hover\");},\n",
       "        function() { $(this).removeClass(\"ui-state-hover\");}\n",
       "    );\n",
       "\n",
       "    var status_bar = $('<span class=\"mpl-message\"/>');\n",
       "    nav_element.append(status_bar);\n",
       "    this.message = status_bar[0];\n",
       "}\n",
       "\n",
       "mpl.figure.prototype.request_resize = function(x_pixels, y_pixels) {\n",
       "    // Request matplotlib to resize the figure. Matplotlib will then trigger a resize in the client,\n",
       "    // which will in turn request a refresh of the image.\n",
       "    this.send_message('resize', {'width': x_pixels, 'height': y_pixels});\n",
       "}\n",
       "\n",
       "mpl.figure.prototype.send_message = function(type, properties) {\n",
       "    properties['type'] = type;\n",
       "    properties['figure_id'] = this.id;\n",
       "    this.ws.send(JSON.stringify(properties));\n",
       "}\n",
       "\n",
       "mpl.figure.prototype.send_draw_message = function() {\n",
       "    if (!this.waiting) {\n",
       "        this.waiting = true;\n",
       "        this.ws.send(JSON.stringify({type: \"draw\", figure_id: this.id}));\n",
       "    }\n",
       "}\n",
       "\n",
       "\n",
       "mpl.figure.prototype.handle_save = function(fig, msg) {\n",
       "    var format_dropdown = fig.format_dropdown;\n",
       "    var format = format_dropdown.options[format_dropdown.selectedIndex].value;\n",
       "    fig.ondownload(fig, format);\n",
       "}\n",
       "\n",
       "\n",
       "mpl.figure.prototype.handle_resize = function(fig, msg) {\n",
       "    var size = msg['size'];\n",
       "    if (size[0] != fig.canvas.width || size[1] != fig.canvas.height) {\n",
       "        fig._resize_canvas(size[0], size[1]);\n",
       "        fig.send_message(\"refresh\", {});\n",
       "    };\n",
       "}\n",
       "\n",
       "mpl.figure.prototype.handle_rubberband = function(fig, msg) {\n",
       "    var x0 = msg['x0'] / mpl.ratio;\n",
       "    var y0 = (fig.canvas.height - msg['y0']) / mpl.ratio;\n",
       "    var x1 = msg['x1'] / mpl.ratio;\n",
       "    var y1 = (fig.canvas.height - msg['y1']) / mpl.ratio;\n",
       "    x0 = Math.floor(x0) + 0.5;\n",
       "    y0 = Math.floor(y0) + 0.5;\n",
       "    x1 = Math.floor(x1) + 0.5;\n",
       "    y1 = Math.floor(y1) + 0.5;\n",
       "    var min_x = Math.min(x0, x1);\n",
       "    var min_y = Math.min(y0, y1);\n",
       "    var width = Math.abs(x1 - x0);\n",
       "    var height = Math.abs(y1 - y0);\n",
       "\n",
       "    fig.rubberband_context.clearRect(\n",
       "        0, 0, fig.canvas.width, fig.canvas.height);\n",
       "\n",
       "    fig.rubberband_context.strokeRect(min_x, min_y, width, height);\n",
       "}\n",
       "\n",
       "mpl.figure.prototype.handle_figure_label = function(fig, msg) {\n",
       "    // Updates the figure title.\n",
       "    fig.header.textContent = msg['label'];\n",
       "}\n",
       "\n",
       "mpl.figure.prototype.handle_cursor = function(fig, msg) {\n",
       "    var cursor = msg['cursor'];\n",
       "    switch(cursor)\n",
       "    {\n",
       "    case 0:\n",
       "        cursor = 'pointer';\n",
       "        break;\n",
       "    case 1:\n",
       "        cursor = 'default';\n",
       "        break;\n",
       "    case 2:\n",
       "        cursor = 'crosshair';\n",
       "        break;\n",
       "    case 3:\n",
       "        cursor = 'move';\n",
       "        break;\n",
       "    }\n",
       "    fig.rubberband_canvas.style.cursor = cursor;\n",
       "}\n",
       "\n",
       "mpl.figure.prototype.handle_message = function(fig, msg) {\n",
       "    fig.message.textContent = msg['message'];\n",
       "}\n",
       "\n",
       "mpl.figure.prototype.handle_draw = function(fig, msg) {\n",
       "    // Request the server to send over a new figure.\n",
       "    fig.send_draw_message();\n",
       "}\n",
       "\n",
       "mpl.figure.prototype.handle_image_mode = function(fig, msg) {\n",
       "    fig.image_mode = msg['mode'];\n",
       "}\n",
       "\n",
       "mpl.figure.prototype.updated_canvas_event = function() {\n",
       "    // Called whenever the canvas gets updated.\n",
       "    this.send_message(\"ack\", {});\n",
       "}\n",
       "\n",
       "// A function to construct a web socket function for onmessage handling.\n",
       "// Called in the figure constructor.\n",
       "mpl.figure.prototype._make_on_message_function = function(fig) {\n",
       "    return function socket_on_message(evt) {\n",
       "        if (evt.data instanceof Blob) {\n",
       "            /* FIXME: We get \"Resource interpreted as Image but\n",
       "             * transferred with MIME type text/plain:\" errors on\n",
       "             * Chrome.  But how to set the MIME type?  It doesn't seem\n",
       "             * to be part of the websocket stream */\n",
       "            evt.data.type = \"image/png\";\n",
       "\n",
       "            /* Free the memory for the previous frames */\n",
       "            if (fig.imageObj.src) {\n",
       "                (window.URL || window.webkitURL).revokeObjectURL(\n",
       "                    fig.imageObj.src);\n",
       "            }\n",
       "\n",
       "            fig.imageObj.src = (window.URL || window.webkitURL).createObjectURL(\n",
       "                evt.data);\n",
       "            fig.updated_canvas_event();\n",
       "            fig.waiting = false;\n",
       "            return;\n",
       "        }\n",
       "        else if (typeof evt.data === 'string' && evt.data.slice(0, 21) == \"data:image/png;base64\") {\n",
       "            fig.imageObj.src = evt.data;\n",
       "            fig.updated_canvas_event();\n",
       "            fig.waiting = false;\n",
       "            return;\n",
       "        }\n",
       "\n",
       "        var msg = JSON.parse(evt.data);\n",
       "        var msg_type = msg['type'];\n",
       "\n",
       "        // Call the  \"handle_{type}\" callback, which takes\n",
       "        // the figure and JSON message as its only arguments.\n",
       "        try {\n",
       "            var callback = fig[\"handle_\" + msg_type];\n",
       "        } catch (e) {\n",
       "            console.log(\"No handler for the '\" + msg_type + \"' message type: \", msg);\n",
       "            return;\n",
       "        }\n",
       "\n",
       "        if (callback) {\n",
       "            try {\n",
       "                // console.log(\"Handling '\" + msg_type + \"' message: \", msg);\n",
       "                callback(fig, msg);\n",
       "            } catch (e) {\n",
       "                console.log(\"Exception inside the 'handler_\" + msg_type + \"' callback:\", e, e.stack, msg);\n",
       "            }\n",
       "        }\n",
       "    };\n",
       "}\n",
       "\n",
       "// from http://stackoverflow.com/questions/1114465/getting-mouse-location-in-canvas\n",
       "mpl.findpos = function(e) {\n",
       "    //this section is from http://www.quirksmode.org/js/events_properties.html\n",
       "    var targ;\n",
       "    if (!e)\n",
       "        e = window.event;\n",
       "    if (e.target)\n",
       "        targ = e.target;\n",
       "    else if (e.srcElement)\n",
       "        targ = e.srcElement;\n",
       "    if (targ.nodeType == 3) // defeat Safari bug\n",
       "        targ = targ.parentNode;\n",
       "\n",
       "    // jQuery normalizes the pageX and pageY\n",
       "    // pageX,Y are the mouse positions relative to the document\n",
       "    // offset() returns the position of the element relative to the document\n",
       "    var x = e.pageX - $(targ).offset().left;\n",
       "    var y = e.pageY - $(targ).offset().top;\n",
       "\n",
       "    return {\"x\": x, \"y\": y};\n",
       "};\n",
       "\n",
       "/*\n",
       " * return a copy of an object with only non-object keys\n",
       " * we need this to avoid circular references\n",
       " * http://stackoverflow.com/a/24161582/3208463\n",
       " */\n",
       "function simpleKeys (original) {\n",
       "  return Object.keys(original).reduce(function (obj, key) {\n",
       "    if (typeof original[key] !== 'object')\n",
       "        obj[key] = original[key]\n",
       "    return obj;\n",
       "  }, {});\n",
       "}\n",
       "\n",
       "mpl.figure.prototype.mouse_event = function(event, name) {\n",
       "    var canvas_pos = mpl.findpos(event)\n",
       "\n",
       "    if (name === 'button_press')\n",
       "    {\n",
       "        this.canvas.focus();\n",
       "        this.canvas_div.focus();\n",
       "    }\n",
       "\n",
       "    var x = canvas_pos.x * mpl.ratio;\n",
       "    var y = canvas_pos.y * mpl.ratio;\n",
       "\n",
       "    this.send_message(name, {x: x, y: y, button: event.button,\n",
       "                             step: event.step,\n",
       "                             guiEvent: simpleKeys(event)});\n",
       "\n",
       "    /* This prevents the web browser from automatically changing to\n",
       "     * the text insertion cursor when the button is pressed.  We want\n",
       "     * to control all of the cursor setting manually through the\n",
       "     * 'cursor' event from matplotlib */\n",
       "    event.preventDefault();\n",
       "    return false;\n",
       "}\n",
       "\n",
       "mpl.figure.prototype._key_event_extra = function(event, name) {\n",
       "    // Handle any extra behaviour associated with a key event\n",
       "}\n",
       "\n",
       "mpl.figure.prototype.key_event = function(event, name) {\n",
       "\n",
       "    // Prevent repeat events\n",
       "    if (name == 'key_press')\n",
       "    {\n",
       "        if (event.which === this._key)\n",
       "            return;\n",
       "        else\n",
       "            this._key = event.which;\n",
       "    }\n",
       "    if (name == 'key_release')\n",
       "        this._key = null;\n",
       "\n",
       "    var value = '';\n",
       "    if (event.ctrlKey && event.which != 17)\n",
       "        value += \"ctrl+\";\n",
       "    if (event.altKey && event.which != 18)\n",
       "        value += \"alt+\";\n",
       "    if (event.shiftKey && event.which != 16)\n",
       "        value += \"shift+\";\n",
       "\n",
       "    value += 'k';\n",
       "    value += event.which.toString();\n",
       "\n",
       "    this._key_event_extra(event, name);\n",
       "\n",
       "    this.send_message(name, {key: value,\n",
       "                             guiEvent: simpleKeys(event)});\n",
       "    return false;\n",
       "}\n",
       "\n",
       "mpl.figure.prototype.toolbar_button_onclick = function(name) {\n",
       "    if (name == 'download') {\n",
       "        this.handle_save(this, null);\n",
       "    } else {\n",
       "        this.send_message(\"toolbar_button\", {name: name});\n",
       "    }\n",
       "};\n",
       "\n",
       "mpl.figure.prototype.toolbar_button_onmouseover = function(tooltip) {\n",
       "    this.message.textContent = tooltip;\n",
       "};\n",
       "mpl.toolbar_items = [[\"Home\", \"Reset original view\", \"fa fa-home icon-home\", \"home\"], [\"Back\", \"Back to  previous view\", \"fa fa-arrow-left icon-arrow-left\", \"back\"], [\"Forward\", \"Forward to next view\", \"fa fa-arrow-right icon-arrow-right\", \"forward\"], [\"\", \"\", \"\", \"\"], [\"Pan\", \"Pan axes with left mouse, zoom with right\", \"fa fa-arrows icon-move\", \"pan\"], [\"Zoom\", \"Zoom to rectangle\", \"fa fa-square-o icon-check-empty\", \"zoom\"], [\"\", \"\", \"\", \"\"], [\"Download\", \"Download plot\", \"fa fa-floppy-o icon-save\", \"download\"]];\n",
       "\n",
       "mpl.extensions = [\"eps\", \"jpeg\", \"pdf\", \"png\", \"ps\", \"raw\", \"svg\", \"tif\"];\n",
       "\n",
       "mpl.default_extension = \"png\";var comm_websocket_adapter = function(comm) {\n",
       "    // Create a \"websocket\"-like object which calls the given IPython comm\n",
       "    // object with the appropriate methods. Currently this is a non binary\n",
       "    // socket, so there is still some room for performance tuning.\n",
       "    var ws = {};\n",
       "\n",
       "    ws.close = function() {\n",
       "        comm.close()\n",
       "    };\n",
       "    ws.send = function(m) {\n",
       "        //console.log('sending', m);\n",
       "        comm.send(m);\n",
       "    };\n",
       "    // Register the callback with on_msg.\n",
       "    comm.on_msg(function(msg) {\n",
       "        //console.log('receiving', msg['content']['data'], msg);\n",
       "        // Pass the mpl event to the overridden (by mpl) onmessage function.\n",
       "        ws.onmessage(msg['content']['data'])\n",
       "    });\n",
       "    return ws;\n",
       "}\n",
       "\n",
       "mpl.mpl_figure_comm = function(comm, msg) {\n",
       "    // This is the function which gets called when the mpl process\n",
       "    // starts-up an IPython Comm through the \"matplotlib\" channel.\n",
       "\n",
       "    var id = msg.content.data.id;\n",
       "    // Get hold of the div created by the display call when the Comm\n",
       "    // socket was opened in Python.\n",
       "    var element = $(\"#\" + id);\n",
       "    var ws_proxy = comm_websocket_adapter(comm)\n",
       "\n",
       "    function ondownload(figure, format) {\n",
       "        window.open(figure.imageObj.src);\n",
       "    }\n",
       "\n",
       "    var fig = new mpl.figure(id, ws_proxy,\n",
       "                           ondownload,\n",
       "                           element.get(0));\n",
       "\n",
       "    // Call onopen now - mpl needs it, as it is assuming we've passed it a real\n",
       "    // web socket which is closed, not our websocket->open comm proxy.\n",
       "    ws_proxy.onopen();\n",
       "\n",
       "    fig.parent_element = element.get(0);\n",
       "    fig.cell_info = mpl.find_output_cell(\"<div id='\" + id + \"'></div>\");\n",
       "    if (!fig.cell_info) {\n",
       "        console.error(\"Failed to find cell for figure\", id, fig);\n",
       "        return;\n",
       "    }\n",
       "\n",
       "    var output_index = fig.cell_info[2]\n",
       "    var cell = fig.cell_info[0];\n",
       "\n",
       "};\n",
       "\n",
       "mpl.figure.prototype.handle_close = function(fig, msg) {\n",
       "    var width = fig.canvas.width/mpl.ratio\n",
       "    fig.root.unbind('remove')\n",
       "\n",
       "    // Update the output cell to use the data from the current canvas.\n",
       "    fig.push_to_output();\n",
       "    var dataURL = fig.canvas.toDataURL();\n",
       "    // Re-enable the keyboard manager in IPython - without this line, in FF,\n",
       "    // the notebook keyboard shortcuts fail.\n",
       "    IPython.keyboard_manager.enable()\n",
       "    $(fig.parent_element).html('<img src=\"' + dataURL + '\" width=\"' + width + '\">');\n",
       "    fig.close_ws(fig, msg);\n",
       "}\n",
       "\n",
       "mpl.figure.prototype.close_ws = function(fig, msg){\n",
       "    fig.send_message('closing', msg);\n",
       "    // fig.ws.close()\n",
       "}\n",
       "\n",
       "mpl.figure.prototype.push_to_output = function(remove_interactive) {\n",
       "    // Turn the data on the canvas into data in the output cell.\n",
       "    var width = this.canvas.width/mpl.ratio\n",
       "    var dataURL = this.canvas.toDataURL();\n",
       "    this.cell_info[1]['text/html'] = '<img src=\"' + dataURL + '\" width=\"' + width + '\">';\n",
       "}\n",
       "\n",
       "mpl.figure.prototype.updated_canvas_event = function() {\n",
       "    // Tell IPython that the notebook contents must change.\n",
       "    IPython.notebook.set_dirty(true);\n",
       "    this.send_message(\"ack\", {});\n",
       "    var fig = this;\n",
       "    // Wait a second, then push the new image to the DOM so\n",
       "    // that it is saved nicely (might be nice to debounce this).\n",
       "    setTimeout(function () { fig.push_to_output() }, 1000);\n",
       "}\n",
       "\n",
       "mpl.figure.prototype._init_toolbar = function() {\n",
       "    var fig = this;\n",
       "\n",
       "    var nav_element = $('<div/>')\n",
       "    nav_element.attr('style', 'width: 100%');\n",
       "    this.root.append(nav_element);\n",
       "\n",
       "    // Define a callback function for later on.\n",
       "    function toolbar_event(event) {\n",
       "        return fig.toolbar_button_onclick(event['data']);\n",
       "    }\n",
       "    function toolbar_mouse_event(event) {\n",
       "        return fig.toolbar_button_onmouseover(event['data']);\n",
       "    }\n",
       "\n",
       "    for(var toolbar_ind in mpl.toolbar_items){\n",
       "        var name = mpl.toolbar_items[toolbar_ind][0];\n",
       "        var tooltip = mpl.toolbar_items[toolbar_ind][1];\n",
       "        var image = mpl.toolbar_items[toolbar_ind][2];\n",
       "        var method_name = mpl.toolbar_items[toolbar_ind][3];\n",
       "\n",
       "        if (!name) { continue; };\n",
       "\n",
       "        var button = $('<button class=\"btn btn-default\" href=\"#\" title=\"' + name + '\"><i class=\"fa ' + image + ' fa-lg\"></i></button>');\n",
       "        button.click(method_name, toolbar_event);\n",
       "        button.mouseover(tooltip, toolbar_mouse_event);\n",
       "        nav_element.append(button);\n",
       "    }\n",
       "\n",
       "    // Add the status bar.\n",
       "    var status_bar = $('<span class=\"mpl-message\" style=\"text-align:right; float: right;\"/>');\n",
       "    nav_element.append(status_bar);\n",
       "    this.message = status_bar[0];\n",
       "\n",
       "    // Add the close button to the window.\n",
       "    var buttongrp = $('<div class=\"btn-group inline pull-right\"></div>');\n",
       "    var button = $('<button class=\"btn btn-mini btn-primary\" href=\"#\" title=\"Stop Interaction\"><i class=\"fa fa-power-off icon-remove icon-large\"></i></button>');\n",
       "    button.click(function (evt) { fig.handle_close(fig, {}); } );\n",
       "    button.mouseover('Stop Interaction', toolbar_mouse_event);\n",
       "    buttongrp.append(button);\n",
       "    var titlebar = this.root.find($('.ui-dialog-titlebar'));\n",
       "    titlebar.prepend(buttongrp);\n",
       "}\n",
       "\n",
       "mpl.figure.prototype._root_extra_style = function(el){\n",
       "    var fig = this\n",
       "    el.on(\"remove\", function(){\n",
       "\tfig.close_ws(fig, {});\n",
       "    });\n",
       "}\n",
       "\n",
       "mpl.figure.prototype._canvas_extra_style = function(el){\n",
       "    // this is important to make the div 'focusable\n",
       "    el.attr('tabindex', 0)\n",
       "    // reach out to IPython and tell the keyboard manager to turn it's self\n",
       "    // off when our div gets focus\n",
       "\n",
       "    // location in version 3\n",
       "    if (IPython.notebook.keyboard_manager) {\n",
       "        IPython.notebook.keyboard_manager.register_events(el);\n",
       "    }\n",
       "    else {\n",
       "        // location in version 2\n",
       "        IPython.keyboard_manager.register_events(el);\n",
       "    }\n",
       "\n",
       "}\n",
       "\n",
       "mpl.figure.prototype._key_event_extra = function(event, name) {\n",
       "    var manager = IPython.notebook.keyboard_manager;\n",
       "    if (!manager)\n",
       "        manager = IPython.keyboard_manager;\n",
       "\n",
       "    // Check for shift+enter\n",
       "    if (event.shiftKey && event.which == 13) {\n",
       "        this.canvas_div.blur();\n",
       "        event.shiftKey = false;\n",
       "        // Send a \"J\" for go to next cell\n",
       "        event.which = 74;\n",
       "        event.keyCode = 74;\n",
       "        manager.command_mode();\n",
       "        manager.handle_keydown(event);\n",
       "    }\n",
       "}\n",
       "\n",
       "mpl.figure.prototype.handle_save = function(fig, msg) {\n",
       "    fig.ondownload(fig, null);\n",
       "}\n",
       "\n",
       "\n",
       "mpl.find_output_cell = function(html_output) {\n",
       "    // Return the cell and output element which can be found *uniquely* in the notebook.\n",
       "    // Note - this is a bit hacky, but it is done because the \"notebook_saving.Notebook\"\n",
       "    // IPython event is triggered only after the cells have been serialised, which for\n",
       "    // our purposes (turning an active figure into a static one), is too late.\n",
       "    var cells = IPython.notebook.get_cells();\n",
       "    var ncells = cells.length;\n",
       "    for (var i=0; i<ncells; i++) {\n",
       "        var cell = cells[i];\n",
       "        if (cell.cell_type === 'code'){\n",
       "            for (var j=0; j<cell.output_area.outputs.length; j++) {\n",
       "                var data = cell.output_area.outputs[j];\n",
       "                if (data.data) {\n",
       "                    // IPython >= 3 moved mimebundle to data attribute of output\n",
       "                    data = data.data;\n",
       "                }\n",
       "                if (data['text/html'] == html_output) {\n",
       "                    return [cell, data, j];\n",
       "                }\n",
       "            }\n",
       "        }\n",
       "    }\n",
       "}\n",
       "\n",
       "// Register the function which deals with the matplotlib target/channel.\n",
       "// The kernel may be null if the page has been refreshed.\n",
       "if (IPython.notebook.kernel != null) {\n",
       "    IPython.notebook.kernel.comm_manager.register_target('matplotlib', mpl.mpl_figure_comm);\n",
       "}\n"
      ],
      "text/plain": [
       "<IPython.core.display.Javascript object>"
      ]
     },
     "metadata": {},
     "output_type": "display_data"
    },
    {
     "data": {
      "text/html": [
       "<img src=\"data:image/png;base64,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\" width=\"640\">"
      ],
      "text/plain": [
       "<IPython.core.display.HTML object>"
      ]
     },
     "metadata": {},
     "output_type": "display_data"
    },
    {
     "data": {
      "text/plain": [
       "<matplotlib.axes._subplots.AxesSubplot at 0x7fa963daad30>"
      ]
     },
     "execution_count": 31,
     "metadata": {},
     "output_type": "execute_result"
    }
   ],
   "source": [
    "df2.set_index('n_workers').plot()"
   ]
  },
  {
   "cell_type": "code",
   "execution_count": 32,
   "metadata": {},
   "outputs": [
    {
     "data": {
      "text/plain": [
       "240"
      ]
     },
     "execution_count": 32,
     "metadata": {},
     "output_type": "execute_result"
    }
   ],
   "source": [
    "len(results)"
   ]
  }
 ],
 "metadata": {
  "kernelspec": {
   "display_name": "Python 3",
   "language": "python",
   "name": "python3"
  },
  "language_info": {
   "codemirror_mode": {
    "name": "ipython",
    "version": 3
   },
   "file_extension": ".py",
   "mimetype": "text/x-python",
   "name": "python",
   "nbconvert_exporter": "python",
   "pygments_lexer": "ipython3",
   "version": "3.6.5"
  }
 },
 "nbformat": 4,
 "nbformat_minor": 2
}
