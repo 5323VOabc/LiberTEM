{
 "cells": [
  {
   "cell_type": "code",
   "execution_count": 1,
   "metadata": {},
   "outputs": [],
   "source": [
    "%matplotlib nbagg"
   ]
  },
  {
   "cell_type": "code",
   "execution_count": 2,
   "metadata": {},
   "outputs": [],
   "source": [
    "import os\n",
    "os.environ[\"OMP_NUM_THREADS\"] = \"1\"\n",
    "os.environ[\"OPENBLAS_NUM_THREADS\"] = \"1\""
   ]
  },
  {
   "cell_type": "markdown",
   "metadata": {},
   "source": [
    "Hardware information:\n",
    "```\n",
    "Model name:          Intel(R) Xeon(R) CPU E3-1505M v5 @ 2.80GHz\n",
    "Thread(s) per core:  2\n",
    "Core(s) per socket:  4\n",
    "Socket(s):           1\n",
    "L1d cache:           32K\n",
    "L1i cache:           32K\n",
    "L2 cache:            256K\n",
    "L3 cache:            8192K\n",
    "```"
   ]
  },
  {
   "cell_type": "code",
   "execution_count": 3,
   "metadata": {},
   "outputs": [
    {
     "name": "stdout",
     "output_type": "stream",
     "text": [
      "blas_mkl_info:\n",
      "  NOT AVAILABLE\n",
      "blis_info:\n",
      "  NOT AVAILABLE\n",
      "openblas_info:\n",
      "    libraries = ['openblas', 'openblas']\n",
      "    library_dirs = ['/usr/lib/x86_64-linux-gnu']\n",
      "    language = c\n",
      "    define_macros = [('HAVE_CBLAS', None)]\n",
      "blas_opt_info:\n",
      "    libraries = ['openblas', 'openblas']\n",
      "    library_dirs = ['/usr/lib/x86_64-linux-gnu']\n",
      "    language = c\n",
      "    define_macros = [('HAVE_CBLAS', None)]\n",
      "lapack_mkl_info:\n",
      "  NOT AVAILABLE\n",
      "openblas_lapack_info:\n",
      "    libraries = ['openblas', 'openblas']\n",
      "    library_dirs = ['/usr/lib/x86_64-linux-gnu']\n",
      "    language = c\n",
      "    define_macros = [('HAVE_CBLAS', None)]\n",
      "lapack_opt_info:\n",
      "    libraries = ['openblas', 'openblas']\n",
      "    library_dirs = ['/usr/lib/x86_64-linux-gnu']\n",
      "    language = c\n",
      "    define_macros = [('HAVE_CBLAS', None)]\n"
     ]
    }
   ],
   "source": [
    "import numpy as np\n",
    "np.show_config()"
   ]
  },
  {
   "cell_type": "markdown",
   "metadata": {},
   "source": [
    "OpenBLAS version:\n",
    "```\n",
    "$ dpkg -l libopenblas-base\n",
    "ii  libopenblas-base:amd64   0.2.20+ds-4       amd64             Optimized BLAS (linear algebra) library (shared libra\n",
    "```"
   ]
  },
  {
   "cell_type": "code",
   "execution_count": 4,
   "metadata": {},
   "outputs": [
    {
     "name": "stderr",
     "output_type": "stream",
     "text": [
      "/home/clausen/.virtualenvs/libertem/lib/python3.6/site-packages/h5py/__init__.py:36: FutureWarning: Conversion of the second argument of issubdtype from `float` to `np.floating` is deprecated. In future, it will be treated as `np.float64 == np.dtype(float).type`.\n",
      "  from ._conv import register_converters as _register_converters\n"
     ]
    }
   ],
   "source": [
    "import gc\n",
    "import time\n",
    "import seaborn\n",
    "import pandas as pd\n",
    "import matplotlib.pyplot as plt\n",
    "from libertem.dataset.hdf5 import H5DataSet\n",
    "from libertem.dataset.hdfs import BinaryHDFSDataSet\n",
    "from libertem.executor.dask import DaskJobExecutor\n",
    "from libertem.job.masks import ApplyMasksJob"
   ]
  },
  {
   "cell_type": "code",
   "execution_count": 5,
   "metadata": {},
   "outputs": [],
   "source": [
    "def make_masks(n=5, shape=(128, 128)):\n",
    "    masks=[\n",
    "        lambda: np.random.randn(*shape)\n",
    "        for i in range(n)\n",
    "    ]\n",
    "    return masks"
   ]
  },
  {
   "cell_type": "code",
   "execution_count": 23,
   "metadata": {},
   "outputs": [],
   "source": [
    "executor = DaskJobExecutor.make_local(cluster_kwargs={\"threads_per_worker\": 1, \"n_workers\": 1})\n",
    "# executor = DaskJobExecutor(scheduler_uri=\"tcp://localhost:8786\")\n",
    "\n",
    "\n",
    "masks = make_masks(n=16)\n",
    "\n",
    "def process_with_params(num_masks, stackheight):\n",
    "    ds = BinaryHDFSDataSet(index_path=\"test/index.json\", host='localhost', port=8020, tileshape=(1, stackheight, 128, 128))\n",
    "    job = ApplyMasksJob(dataset=ds, mask_factories=masks[:num_masks])\n",
    "    for result in executor.run_job(job):\n",
    "        for tile in result:\n",
    "            pass\n",
    "    # TODO: ds.close()"
   ]
  },
  {
   "cell_type": "code",
   "execution_count": 24,
   "metadata": {},
   "outputs": [
    {
     "name": "stdout",
     "output_type": "stream",
     "text": [
      "CPU times: user 438 ms, sys: 47.8 ms, total: 486 ms\n",
      "Wall time: 1.66 s\n"
     ]
    }
   ],
   "source": [
    "%time process_with_params(num_masks=1, stackheight=8)"
   ]
  },
  {
   "cell_type": "code",
   "execution_count": 25,
   "metadata": {
    "scrolled": true
   },
   "outputs": [
    {
     "name": "stdout",
     "output_type": "stream",
     "text": [
      "{'num_masks': 1, 'n_workers': 1, 'stackheight': 4, 'time': 2.9843432903289795}\n",
      "{'num_masks': 1, 'n_workers': 1, 'stackheight': 4, 'time': 3.1899733543395996}\n",
      "{'num_masks': 1, 'n_workers': 1, 'stackheight': 4, 'time': 3.3624815940856934}\n",
      "{'num_masks': 1, 'n_workers': 1, 'stackheight': 8, 'time': 2.8224472999572754}\n",
      "{'num_masks': 1, 'n_workers': 1, 'stackheight': 8, 'time': 2.803712844848633}\n",
      "{'num_masks': 1, 'n_workers': 1, 'stackheight': 8, 'time': 2.658548593521118}\n",
      "{'num_masks': 2, 'n_workers': 1, 'stackheight': 4, 'time': 3.4237818717956543}\n",
      "{'num_masks': 2, 'n_workers': 1, 'stackheight': 4, 'time': 3.4887731075286865}\n",
      "{'num_masks': 2, 'n_workers': 1, 'stackheight': 4, 'time': 3.361959218978882}\n",
      "{'num_masks': 2, 'n_workers': 1, 'stackheight': 8, 'time': 2.9498798847198486}\n",
      "{'num_masks': 2, 'n_workers': 1, 'stackheight': 8, 'time': 2.9569849967956543}\n",
      "{'num_masks': 2, 'n_workers': 1, 'stackheight': 8, 'time': 2.975131034851074}\n",
      "{'num_masks': 4, 'n_workers': 1, 'stackheight': 4, 'time': 3.7020699977874756}\n",
      "{'num_masks': 4, 'n_workers': 1, 'stackheight': 4, 'time': 3.7814981937408447}\n",
      "{'num_masks': 4, 'n_workers': 1, 'stackheight': 4, 'time': 3.6829421520233154}\n"
     ]
    },
    {
     "name": "stderr",
     "output_type": "stream",
     "text": [
      "distributed.utils_perf - WARNING - full garbage collections took 23% CPU time recently (threshold: 10%)\n"
     ]
    },
    {
     "name": "stdout",
     "output_type": "stream",
     "text": [
      "{'num_masks': 4, 'n_workers': 1, 'stackheight': 8, 'time': 3.256237268447876}\n"
     ]
    },
    {
     "name": "stderr",
     "output_type": "stream",
     "text": [
      "distributed.utils_perf - WARNING - full garbage collections took 26% CPU time recently (threshold: 10%)\n"
     ]
    },
    {
     "name": "stdout",
     "output_type": "stream",
     "text": [
      "{'num_masks': 4, 'n_workers': 1, 'stackheight': 8, 'time': 3.2614521980285645}\n"
     ]
    },
    {
     "name": "stderr",
     "output_type": "stream",
     "text": [
      "distributed.utils_perf - WARNING - full garbage collections took 26% CPU time recently (threshold: 10%)\n"
     ]
    },
    {
     "name": "stdout",
     "output_type": "stream",
     "text": [
      "{'num_masks': 4, 'n_workers': 1, 'stackheight': 8, 'time': 3.3631532192230225}\n"
     ]
    },
    {
     "name": "stderr",
     "output_type": "stream",
     "text": [
      "distributed.utils_perf - WARNING - full garbage collections took 26% CPU time recently (threshold: 10%)\n",
      "distributed.utils_perf - WARNING - full garbage collections took 25% CPU time recently (threshold: 10%)\n"
     ]
    },
    {
     "name": "stdout",
     "output_type": "stream",
     "text": [
      "{'num_masks': 8, 'n_workers': 1, 'stackheight': 4, 'time': 4.981247663497925}\n"
     ]
    },
    {
     "name": "stderr",
     "output_type": "stream",
     "text": [
      "distributed.utils_perf - WARNING - full garbage collections took 25% CPU time recently (threshold: 10%)\n",
      "distributed.utils_perf - WARNING - full garbage collections took 24% CPU time recently (threshold: 10%)\n"
     ]
    },
    {
     "name": "stdout",
     "output_type": "stream",
     "text": [
      "{'num_masks': 8, 'n_workers': 1, 'stackheight': 4, 'time': 4.993639945983887}\n"
     ]
    },
    {
     "name": "stderr",
     "output_type": "stream",
     "text": [
      "distributed.utils_perf - WARNING - full garbage collections took 24% CPU time recently (threshold: 10%)\n",
      "distributed.utils_perf - WARNING - full garbage collections took 24% CPU time recently (threshold: 10%)\n"
     ]
    },
    {
     "name": "stdout",
     "output_type": "stream",
     "text": [
      "{'num_masks': 8, 'n_workers': 1, 'stackheight': 4, 'time': 5.011265754699707}\n"
     ]
    },
    {
     "name": "stderr",
     "output_type": "stream",
     "text": [
      "distributed.utils_perf - WARNING - full garbage collections took 23% CPU time recently (threshold: 10%)\n"
     ]
    },
    {
     "name": "stdout",
     "output_type": "stream",
     "text": [
      "{'num_masks': 8, 'n_workers': 1, 'stackheight': 8, 'time': 3.9265544414520264}\n"
     ]
    },
    {
     "name": "stderr",
     "output_type": "stream",
     "text": [
      "distributed.utils_perf - WARNING - full garbage collections took 22% CPU time recently (threshold: 10%)\n"
     ]
    },
    {
     "name": "stdout",
     "output_type": "stream",
     "text": [
      "{'num_masks': 8, 'n_workers': 1, 'stackheight': 8, 'time': 4.127504825592041}\n"
     ]
    },
    {
     "name": "stderr",
     "output_type": "stream",
     "text": [
      "distributed.utils_perf - WARNING - full garbage collections took 22% CPU time recently (threshold: 10%)\n"
     ]
    },
    {
     "name": "stdout",
     "output_type": "stream",
     "text": [
      "{'num_masks': 8, 'n_workers': 1, 'stackheight': 8, 'time': 4.149514436721802}\n"
     ]
    },
    {
     "name": "stderr",
     "output_type": "stream",
     "text": [
      "distributed.utils_perf - WARNING - full garbage collections took 22% CPU time recently (threshold: 10%)\n",
      "distributed.utils_perf - WARNING - full garbage collections took 21% CPU time recently (threshold: 10%)\n"
     ]
    },
    {
     "name": "stdout",
     "output_type": "stream",
     "text": [
      "{'num_masks': 16, 'n_workers': 1, 'stackheight': 4, 'time': 6.907926797866821}\n"
     ]
    },
    {
     "name": "stderr",
     "output_type": "stream",
     "text": [
      "distributed.utils_perf - WARNING - full garbage collections took 21% CPU time recently (threshold: 10%)\n",
      "distributed.utils_perf - WARNING - full garbage collections took 20% CPU time recently (threshold: 10%)\n"
     ]
    },
    {
     "name": "stdout",
     "output_type": "stream",
     "text": [
      "{'num_masks': 16, 'n_workers': 1, 'stackheight': 4, 'time': 6.899520397186279}\n"
     ]
    },
    {
     "name": "stderr",
     "output_type": "stream",
     "text": [
      "distributed.utils_perf - WARNING - full garbage collections took 20% CPU time recently (threshold: 10%)\n",
      "distributed.utils_perf - WARNING - full garbage collections took 20% CPU time recently (threshold: 10%)\n"
     ]
    },
    {
     "name": "stdout",
     "output_type": "stream",
     "text": [
      "{'num_masks': 16, 'n_workers': 1, 'stackheight': 4, 'time': 7.031840562820435}\n"
     ]
    },
    {
     "name": "stderr",
     "output_type": "stream",
     "text": [
      "distributed.utils_perf - WARNING - full garbage collections took 19% CPU time recently (threshold: 10%)\n"
     ]
    },
    {
     "name": "stdout",
     "output_type": "stream",
     "text": [
      "{'num_masks': 16, 'n_workers': 1, 'stackheight': 8, 'time': 5.204087734222412}\n"
     ]
    },
    {
     "name": "stderr",
     "output_type": "stream",
     "text": [
      "distributed.utils_perf - WARNING - full garbage collections took 18% CPU time recently (threshold: 10%)\n"
     ]
    },
    {
     "name": "stdout",
     "output_type": "stream",
     "text": [
      "{'num_masks': 16, 'n_workers': 1, 'stackheight': 8, 'time': 5.377476930618286}\n",
      "{'num_masks': 16, 'n_workers': 1, 'stackheight': 8, 'time': 5.397188425064087}\n"
     ]
    },
    {
     "name": "stderr",
     "output_type": "stream",
     "text": [
      "distributed.utils_perf - WARNING - full garbage collections took 18% CPU time recently (threshold: 10%)\n",
      "distributed.utils_perf - WARNING - full garbage collections took 18% CPU time recently (threshold: 10%)\n",
      "distributed.utils_perf - WARNING - full garbage collections took 18% CPU time recently (threshold: 10%)\n"
     ]
    },
    {
     "name": "stdout",
     "output_type": "stream",
     "text": [
      "{'num_masks': 1, 'n_workers': 2, 'stackheight': 4, 'time': 2.1226227283477783}\n"
     ]
    },
    {
     "name": "stderr",
     "output_type": "stream",
     "text": [
      "distributed.utils_perf - WARNING - full garbage collections took 18% CPU time recently (threshold: 10%)\n",
      "distributed.utils_perf - WARNING - full garbage collections took 18% CPU time recently (threshold: 10%)\n"
     ]
    },
    {
     "name": "stdout",
     "output_type": "stream",
     "text": [
      "{'num_masks': 1, 'n_workers': 2, 'stackheight': 4, 'time': 1.9551465511322021}\n"
     ]
    },
    {
     "name": "stderr",
     "output_type": "stream",
     "text": [
      "distributed.utils_perf - WARNING - full garbage collections took 18% CPU time recently (threshold: 10%)\n",
      "distributed.utils_perf - WARNING - full garbage collections took 18% CPU time recently (threshold: 10%)\n"
     ]
    },
    {
     "name": "stdout",
     "output_type": "stream",
     "text": [
      "{'num_masks': 1, 'n_workers': 2, 'stackheight': 4, 'time': 1.7174351215362549}\n"
     ]
    },
    {
     "name": "stderr",
     "output_type": "stream",
     "text": [
      "distributed.utils_perf - WARNING - full garbage collections took 18% CPU time recently (threshold: 10%)\n"
     ]
    },
    {
     "name": "stdout",
     "output_type": "stream",
     "text": [
      "{'num_masks': 1, 'n_workers': 2, 'stackheight': 8, 'time': 1.6137504577636719}\n"
     ]
    },
    {
     "name": "stderr",
     "output_type": "stream",
     "text": [
      "distributed.utils_perf - WARNING - full garbage collections took 18% CPU time recently (threshold: 10%)\n"
     ]
    },
    {
     "name": "stdout",
     "output_type": "stream",
     "text": [
      "{'num_masks': 1, 'n_workers': 2, 'stackheight': 8, 'time': 1.5103130340576172}\n"
     ]
    },
    {
     "name": "stderr",
     "output_type": "stream",
     "text": [
      "distributed.utils_perf - WARNING - full garbage collections took 18% CPU time recently (threshold: 10%)\n"
     ]
    },
    {
     "name": "stdout",
     "output_type": "stream",
     "text": [
      "{'num_masks': 1, 'n_workers': 2, 'stackheight': 8, 'time': 1.606985330581665}\n"
     ]
    },
    {
     "name": "stderr",
     "output_type": "stream",
     "text": [
      "distributed.utils_perf - WARNING - full garbage collections took 18% CPU time recently (threshold: 10%)\n",
      "distributed.utils_perf - WARNING - full garbage collections took 18% CPU time recently (threshold: 10%)\n"
     ]
    },
    {
     "name": "stdout",
     "output_type": "stream",
     "text": [
      "{'num_masks': 2, 'n_workers': 2, 'stackheight': 4, 'time': 1.9351284503936768}\n"
     ]
    },
    {
     "name": "stderr",
     "output_type": "stream",
     "text": [
      "distributed.utils_perf - WARNING - full garbage collections took 18% CPU time recently (threshold: 10%)\n",
      "distributed.utils_perf - WARNING - full garbage collections took 18% CPU time recently (threshold: 10%)\n"
     ]
    },
    {
     "name": "stdout",
     "output_type": "stream",
     "text": [
      "{'num_masks': 2, 'n_workers': 2, 'stackheight': 4, 'time': 1.9212055206298828}\n"
     ]
    },
    {
     "name": "stderr",
     "output_type": "stream",
     "text": [
      "distributed.utils_perf - WARNING - full garbage collections took 18% CPU time recently (threshold: 10%)\n",
      "distributed.utils_perf - WARNING - full garbage collections took 18% CPU time recently (threshold: 10%)\n"
     ]
    },
    {
     "name": "stdout",
     "output_type": "stream",
     "text": [
      "{'num_masks': 2, 'n_workers': 2, 'stackheight': 4, 'time': 1.8929145336151123}\n"
     ]
    },
    {
     "name": "stderr",
     "output_type": "stream",
     "text": [
      "distributed.utils_perf - WARNING - full garbage collections took 18% CPU time recently (threshold: 10%)\n"
     ]
    },
    {
     "name": "stdout",
     "output_type": "stream",
     "text": [
      "{'num_masks': 2, 'n_workers': 2, 'stackheight': 8, 'time': 1.879199743270874}\n"
     ]
    },
    {
     "name": "stderr",
     "output_type": "stream",
     "text": [
      "distributed.utils_perf - WARNING - full garbage collections took 18% CPU time recently (threshold: 10%)\n"
     ]
    },
    {
     "name": "stdout",
     "output_type": "stream",
     "text": [
      "{'num_masks': 2, 'n_workers': 2, 'stackheight': 8, 'time': 1.7856945991516113}\n"
     ]
    },
    {
     "name": "stderr",
     "output_type": "stream",
     "text": [
      "distributed.utils_perf - WARNING - full garbage collections took 18% CPU time recently (threshold: 10%)\n"
     ]
    },
    {
     "name": "stdout",
     "output_type": "stream",
     "text": [
      "{'num_masks': 2, 'n_workers': 2, 'stackheight': 8, 'time': 1.6847610473632812}\n"
     ]
    },
    {
     "name": "stderr",
     "output_type": "stream",
     "text": [
      "distributed.utils_perf - WARNING - full garbage collections took 18% CPU time recently (threshold: 10%)\n",
      "distributed.utils_perf - WARNING - full garbage collections took 18% CPU time recently (threshold: 10%)\n"
     ]
    },
    {
     "name": "stdout",
     "output_type": "stream",
     "text": [
      "{'num_masks': 4, 'n_workers': 2, 'stackheight': 4, 'time': 2.057931661605835}\n"
     ]
    },
    {
     "name": "stderr",
     "output_type": "stream",
     "text": [
      "distributed.utils_perf - WARNING - full garbage collections took 18% CPU time recently (threshold: 10%)\n",
      "distributed.utils_perf - WARNING - full garbage collections took 18% CPU time recently (threshold: 10%)\n"
     ]
    },
    {
     "name": "stdout",
     "output_type": "stream",
     "text": [
      "{'num_masks': 4, 'n_workers': 2, 'stackheight': 4, 'time': 2.0882787704467773}\n"
     ]
    },
    {
     "name": "stderr",
     "output_type": "stream",
     "text": [
      "distributed.utils_perf - WARNING - full garbage collections took 18% CPU time recently (threshold: 10%)\n",
      "distributed.utils_perf - WARNING - full garbage collections took 18% CPU time recently (threshold: 10%)\n"
     ]
    },
    {
     "name": "stdout",
     "output_type": "stream",
     "text": [
      "{'num_masks': 4, 'n_workers': 2, 'stackheight': 4, 'time': 2.1744577884674072}\n"
     ]
    },
    {
     "name": "stderr",
     "output_type": "stream",
     "text": [
      "distributed.utils_perf - WARNING - full garbage collections took 18% CPU time recently (threshold: 10%)\n"
     ]
    },
    {
     "name": "stdout",
     "output_type": "stream",
     "text": [
      "{'num_masks': 4, 'n_workers': 2, 'stackheight': 8, 'time': 1.8784379959106445}\n"
     ]
    },
    {
     "name": "stderr",
     "output_type": "stream",
     "text": [
      "distributed.utils_perf - WARNING - full garbage collections took 18% CPU time recently (threshold: 10%)\n"
     ]
    },
    {
     "name": "stdout",
     "output_type": "stream",
     "text": [
      "{'num_masks': 4, 'n_workers': 2, 'stackheight': 8, 'time': 1.892754316329956}\n"
     ]
    },
    {
     "name": "stderr",
     "output_type": "stream",
     "text": [
      "distributed.utils_perf - WARNING - full garbage collections took 18% CPU time recently (threshold: 10%)\n"
     ]
    },
    {
     "name": "stdout",
     "output_type": "stream",
     "text": [
      "{'num_masks': 4, 'n_workers': 2, 'stackheight': 8, 'time': 1.895000696182251}\n"
     ]
    },
    {
     "name": "stderr",
     "output_type": "stream",
     "text": [
      "distributed.utils_perf - WARNING - full garbage collections took 18% CPU time recently (threshold: 10%)\n",
      "distributed.utils_perf - WARNING - full garbage collections took 18% CPU time recently (threshold: 10%)\n"
     ]
    },
    {
     "name": "stdout",
     "output_type": "stream",
     "text": [
      "{'num_masks': 8, 'n_workers': 2, 'stackheight': 4, 'time': 2.9278125762939453}\n"
     ]
    },
    {
     "name": "stderr",
     "output_type": "stream",
     "text": [
      "distributed.utils_perf - WARNING - full garbage collections took 18% CPU time recently (threshold: 10%)\n",
      "distributed.utils_perf - WARNING - full garbage collections took 19% CPU time recently (threshold: 10%)\n"
     ]
    },
    {
     "name": "stdout",
     "output_type": "stream",
     "text": [
      "{'num_masks': 8, 'n_workers': 2, 'stackheight': 4, 'time': 2.6850810050964355}\n"
     ]
    },
    {
     "name": "stderr",
     "output_type": "stream",
     "text": [
      "distributed.utils_perf - WARNING - full garbage collections took 19% CPU time recently (threshold: 10%)\n",
      "distributed.utils_perf - WARNING - full garbage collections took 19% CPU time recently (threshold: 10%)\n"
     ]
    },
    {
     "name": "stdout",
     "output_type": "stream",
     "text": [
      "{'num_masks': 8, 'n_workers': 2, 'stackheight': 4, 'time': 2.7005434036254883}\n"
     ]
    },
    {
     "name": "stderr",
     "output_type": "stream",
     "text": [
      "distributed.utils_perf - WARNING - full garbage collections took 19% CPU time recently (threshold: 10%)\n"
     ]
    },
    {
     "name": "stdout",
     "output_type": "stream",
     "text": [
      "{'num_masks': 8, 'n_workers': 2, 'stackheight': 8, 'time': 2.3398706912994385}\n"
     ]
    },
    {
     "name": "stderr",
     "output_type": "stream",
     "text": [
      "distributed.utils_perf - WARNING - full garbage collections took 18% CPU time recently (threshold: 10%)\n"
     ]
    },
    {
     "name": "stdout",
     "output_type": "stream",
     "text": [
      "{'num_masks': 8, 'n_workers': 2, 'stackheight': 8, 'time': 2.305964469909668}\n"
     ]
    },
    {
     "name": "stderr",
     "output_type": "stream",
     "text": [
      "distributed.utils_perf - WARNING - full garbage collections took 18% CPU time recently (threshold: 10%)\n"
     ]
    },
    {
     "name": "stdout",
     "output_type": "stream",
     "text": [
      "{'num_masks': 8, 'n_workers': 2, 'stackheight': 8, 'time': 2.2119789123535156}\n"
     ]
    },
    {
     "name": "stderr",
     "output_type": "stream",
     "text": [
      "distributed.utils_perf - WARNING - full garbage collections took 18% CPU time recently (threshold: 10%)\n",
      "distributed.utils_perf - WARNING - full garbage collections took 19% CPU time recently (threshold: 10%)\n"
     ]
    },
    {
     "name": "stdout",
     "output_type": "stream",
     "text": [
      "{'num_masks': 16, 'n_workers': 2, 'stackheight': 4, 'time': 3.9653828144073486}\n"
     ]
    },
    {
     "name": "stderr",
     "output_type": "stream",
     "text": [
      "distributed.utils_perf - WARNING - full garbage collections took 19% CPU time recently (threshold: 10%)\n",
      "distributed.utils_perf - WARNING - full garbage collections took 19% CPU time recently (threshold: 10%)\n"
     ]
    },
    {
     "name": "stdout",
     "output_type": "stream",
     "text": [
      "{'num_masks': 16, 'n_workers': 2, 'stackheight': 4, 'time': 4.055144786834717}\n"
     ]
    },
    {
     "name": "stderr",
     "output_type": "stream",
     "text": [
      "distributed.utils_perf - WARNING - full garbage collections took 19% CPU time recently (threshold: 10%)\n",
      "distributed.utils_perf - WARNING - full garbage collections took 19% CPU time recently (threshold: 10%)\n"
     ]
    },
    {
     "name": "stdout",
     "output_type": "stream",
     "text": [
      "{'num_masks': 16, 'n_workers': 2, 'stackheight': 4, 'time': 3.8926212787628174}\n"
     ]
    },
    {
     "name": "stderr",
     "output_type": "stream",
     "text": [
      "distributed.utils_perf - WARNING - full garbage collections took 19% CPU time recently (threshold: 10%)\n"
     ]
    },
    {
     "name": "stdout",
     "output_type": "stream",
     "text": [
      "{'num_masks': 16, 'n_workers': 2, 'stackheight': 8, 'time': 3.010387420654297}\n"
     ]
    },
    {
     "name": "stderr",
     "output_type": "stream",
     "text": [
      "distributed.utils_perf - WARNING - full garbage collections took 19% CPU time recently (threshold: 10%)\n"
     ]
    },
    {
     "name": "stdout",
     "output_type": "stream",
     "text": [
      "{'num_masks': 16, 'n_workers': 2, 'stackheight': 8, 'time': 3.1119041442871094}\n",
      "{'num_masks': 16, 'n_workers': 2, 'stackheight': 8, 'time': 2.9227166175842285}\n"
     ]
    },
    {
     "name": "stderr",
     "output_type": "stream",
     "text": [
      "distributed.utils_perf - WARNING - full garbage collections took 19% CPU time recently (threshold: 10%)\n",
      "distributed.utils_perf - WARNING - full garbage collections took 19% CPU time recently (threshold: 10%)\n",
      "distributed.utils_perf - WARNING - full garbage collections took 19% CPU time recently (threshold: 10%)\n"
     ]
    },
    {
     "name": "stdout",
     "output_type": "stream",
     "text": [
      "{'num_masks': 1, 'n_workers': 3, 'stackheight': 4, 'time': 1.5371367931365967}\n"
     ]
    },
    {
     "name": "stderr",
     "output_type": "stream",
     "text": [
      "distributed.utils_perf - WARNING - full garbage collections took 19% CPU time recently (threshold: 10%)\n",
      "distributed.utils_perf - WARNING - full garbage collections took 19% CPU time recently (threshold: 10%)\n"
     ]
    },
    {
     "name": "stdout",
     "output_type": "stream",
     "text": [
      "{'num_masks': 1, 'n_workers': 3, 'stackheight': 4, 'time': 1.2963676452636719}\n"
     ]
    },
    {
     "name": "stderr",
     "output_type": "stream",
     "text": [
      "distributed.utils_perf - WARNING - full garbage collections took 19% CPU time recently (threshold: 10%)\n",
      "distributed.utils_perf - WARNING - full garbage collections took 19% CPU time recently (threshold: 10%)\n"
     ]
    },
    {
     "name": "stdout",
     "output_type": "stream",
     "text": [
      "{'num_masks': 1, 'n_workers': 3, 'stackheight': 4, 'time': 1.3158342838287354}\n"
     ]
    },
    {
     "name": "stderr",
     "output_type": "stream",
     "text": [
      "distributed.utils_perf - WARNING - full garbage collections took 19% CPU time recently (threshold: 10%)\n"
     ]
    },
    {
     "name": "stdout",
     "output_type": "stream",
     "text": [
      "{'num_masks': 1, 'n_workers': 3, 'stackheight': 8, 'time': 1.3170855045318604}\n"
     ]
    },
    {
     "name": "stderr",
     "output_type": "stream",
     "text": [
      "distributed.utils_perf - WARNING - full garbage collections took 19% CPU time recently (threshold: 10%)\n"
     ]
    },
    {
     "name": "stdout",
     "output_type": "stream",
     "text": [
      "{'num_masks': 1, 'n_workers': 3, 'stackheight': 8, 'time': 1.2836246490478516}\n"
     ]
    },
    {
     "name": "stderr",
     "output_type": "stream",
     "text": [
      "distributed.utils_perf - WARNING - full garbage collections took 19% CPU time recently (threshold: 10%)\n"
     ]
    },
    {
     "name": "stdout",
     "output_type": "stream",
     "text": [
      "{'num_masks': 1, 'n_workers': 3, 'stackheight': 8, 'time': 1.2857425212860107}\n"
     ]
    },
    {
     "name": "stderr",
     "output_type": "stream",
     "text": [
      "distributed.utils_perf - WARNING - full garbage collections took 19% CPU time recently (threshold: 10%)\n",
      "distributed.utils_perf - WARNING - full garbage collections took 19% CPU time recently (threshold: 10%)\n"
     ]
    },
    {
     "name": "stdout",
     "output_type": "stream",
     "text": [
      "{'num_masks': 2, 'n_workers': 3, 'stackheight': 4, 'time': 1.5793943405151367}\n"
     ]
    },
    {
     "name": "stderr",
     "output_type": "stream",
     "text": [
      "distributed.utils_perf - WARNING - full garbage collections took 19% CPU time recently (threshold: 10%)\n",
      "distributed.utils_perf - WARNING - full garbage collections took 19% CPU time recently (threshold: 10%)\n"
     ]
    },
    {
     "name": "stdout",
     "output_type": "stream",
     "text": [
      "{'num_masks': 2, 'n_workers': 3, 'stackheight': 4, 'time': 1.5174338817596436}\n"
     ]
    },
    {
     "name": "stderr",
     "output_type": "stream",
     "text": [
      "distributed.utils_perf - WARNING - full garbage collections took 19% CPU time recently (threshold: 10%)\n",
      "distributed.utils_perf - WARNING - full garbage collections took 19% CPU time recently (threshold: 10%)\n"
     ]
    },
    {
     "name": "stdout",
     "output_type": "stream",
     "text": [
      "{'num_masks': 2, 'n_workers': 3, 'stackheight': 4, 'time': 1.5721940994262695}\n"
     ]
    },
    {
     "name": "stderr",
     "output_type": "stream",
     "text": [
      "distributed.utils_perf - WARNING - full garbage collections took 19% CPU time recently (threshold: 10%)\n"
     ]
    },
    {
     "name": "stdout",
     "output_type": "stream",
     "text": [
      "{'num_masks': 2, 'n_workers': 3, 'stackheight': 8, 'time': 1.4640679359436035}\n"
     ]
    },
    {
     "name": "stderr",
     "output_type": "stream",
     "text": [
      "distributed.utils_perf - WARNING - full garbage collections took 19% CPU time recently (threshold: 10%)\n"
     ]
    },
    {
     "name": "stdout",
     "output_type": "stream",
     "text": [
      "{'num_masks': 2, 'n_workers': 3, 'stackheight': 8, 'time': 1.570408821105957}\n"
     ]
    },
    {
     "name": "stderr",
     "output_type": "stream",
     "text": [
      "distributed.utils_perf - WARNING - full garbage collections took 19% CPU time recently (threshold: 10%)\n"
     ]
    },
    {
     "name": "stdout",
     "output_type": "stream",
     "text": [
      "{'num_masks': 2, 'n_workers': 3, 'stackheight': 8, 'time': 1.4700539112091064}\n"
     ]
    },
    {
     "name": "stderr",
     "output_type": "stream",
     "text": [
      "distributed.utils_perf - WARNING - full garbage collections took 19% CPU time recently (threshold: 10%)\n",
      "distributed.utils_perf - WARNING - full garbage collections took 19% CPU time recently (threshold: 10%)\n"
     ]
    },
    {
     "name": "stdout",
     "output_type": "stream",
     "text": [
      "{'num_masks': 4, 'n_workers': 3, 'stackheight': 4, 'time': 1.746513843536377}\n"
     ]
    },
    {
     "name": "stderr",
     "output_type": "stream",
     "text": [
      "distributed.utils_perf - WARNING - full garbage collections took 19% CPU time recently (threshold: 10%)\n",
      "distributed.utils_perf - WARNING - full garbage collections took 19% CPU time recently (threshold: 10%)\n"
     ]
    },
    {
     "name": "stdout",
     "output_type": "stream",
     "text": [
      "{'num_masks': 4, 'n_workers': 3, 'stackheight': 4, 'time': 1.7280864715576172}\n"
     ]
    },
    {
     "name": "stderr",
     "output_type": "stream",
     "text": [
      "distributed.utils_perf - WARNING - full garbage collections took 19% CPU time recently (threshold: 10%)\n",
      "distributed.utils_perf - WARNING - full garbage collections took 19% CPU time recently (threshold: 10%)\n"
     ]
    },
    {
     "name": "stdout",
     "output_type": "stream",
     "text": [
      "{'num_masks': 4, 'n_workers': 3, 'stackheight': 4, 'time': 1.8014471530914307}\n"
     ]
    },
    {
     "name": "stderr",
     "output_type": "stream",
     "text": [
      "distributed.utils_perf - WARNING - full garbage collections took 19% CPU time recently (threshold: 10%)\n"
     ]
    },
    {
     "name": "stdout",
     "output_type": "stream",
     "text": [
      "{'num_masks': 4, 'n_workers': 3, 'stackheight': 8, 'time': 1.6881372928619385}\n"
     ]
    },
    {
     "name": "stderr",
     "output_type": "stream",
     "text": [
      "distributed.utils_perf - WARNING - full garbage collections took 19% CPU time recently (threshold: 10%)\n"
     ]
    },
    {
     "name": "stdout",
     "output_type": "stream",
     "text": [
      "{'num_masks': 4, 'n_workers': 3, 'stackheight': 8, 'time': 1.6655001640319824}\n"
     ]
    },
    {
     "name": "stderr",
     "output_type": "stream",
     "text": [
      "distributed.utils_perf - WARNING - full garbage collections took 19% CPU time recently (threshold: 10%)\n"
     ]
    },
    {
     "name": "stdout",
     "output_type": "stream",
     "text": [
      "{'num_masks': 4, 'n_workers': 3, 'stackheight': 8, 'time': 1.553504467010498}\n"
     ]
    },
    {
     "name": "stderr",
     "output_type": "stream",
     "text": [
      "distributed.utils_perf - WARNING - full garbage collections took 19% CPU time recently (threshold: 10%)\n",
      "distributed.utils_perf - WARNING - full garbage collections took 19% CPU time recently (threshold: 10%)\n"
     ]
    },
    {
     "name": "stdout",
     "output_type": "stream",
     "text": [
      "{'num_masks': 8, 'n_workers': 3, 'stackheight': 4, 'time': 2.117539167404175}\n"
     ]
    },
    {
     "name": "stderr",
     "output_type": "stream",
     "text": [
      "distributed.utils_perf - WARNING - full garbage collections took 19% CPU time recently (threshold: 10%)\n",
      "distributed.utils_perf - WARNING - full garbage collections took 19% CPU time recently (threshold: 10%)\n"
     ]
    },
    {
     "name": "stdout",
     "output_type": "stream",
     "text": [
      "{'num_masks': 8, 'n_workers': 3, 'stackheight': 4, 'time': 2.2896642684936523}\n"
     ]
    },
    {
     "name": "stderr",
     "output_type": "stream",
     "text": [
      "distributed.utils_perf - WARNING - full garbage collections took 19% CPU time recently (threshold: 10%)\n",
      "distributed.utils_perf - WARNING - full garbage collections took 19% CPU time recently (threshold: 10%)\n"
     ]
    },
    {
     "name": "stdout",
     "output_type": "stream",
     "text": [
      "{'num_masks': 8, 'n_workers': 3, 'stackheight': 4, 'time': 2.2984437942504883}\n"
     ]
    },
    {
     "name": "stderr",
     "output_type": "stream",
     "text": [
      "distributed.utils_perf - WARNING - full garbage collections took 19% CPU time recently (threshold: 10%)\n"
     ]
    },
    {
     "name": "stdout",
     "output_type": "stream",
     "text": [
      "{'num_masks': 8, 'n_workers': 3, 'stackheight': 8, 'time': 2.089189052581787}\n"
     ]
    },
    {
     "name": "stderr",
     "output_type": "stream",
     "text": [
      "distributed.utils_perf - WARNING - full garbage collections took 19% CPU time recently (threshold: 10%)\n"
     ]
    },
    {
     "name": "stdout",
     "output_type": "stream",
     "text": [
      "{'num_masks': 8, 'n_workers': 3, 'stackheight': 8, 'time': 2.156646490097046}\n"
     ]
    },
    {
     "name": "stderr",
     "output_type": "stream",
     "text": [
      "distributed.utils_perf - WARNING - full garbage collections took 19% CPU time recently (threshold: 10%)\n"
     ]
    },
    {
     "name": "stdout",
     "output_type": "stream",
     "text": [
      "{'num_masks': 8, 'n_workers': 3, 'stackheight': 8, 'time': 1.8931496143341064}\n"
     ]
    },
    {
     "name": "stderr",
     "output_type": "stream",
     "text": [
      "distributed.utils_perf - WARNING - full garbage collections took 19% CPU time recently (threshold: 10%)\n",
      "distributed.utils_perf - WARNING - full garbage collections took 19% CPU time recently (threshold: 10%)\n"
     ]
    },
    {
     "name": "stdout",
     "output_type": "stream",
     "text": [
      "{'num_masks': 16, 'n_workers': 3, 'stackheight': 4, 'time': 3.0304434299468994}\n"
     ]
    },
    {
     "name": "stderr",
     "output_type": "stream",
     "text": [
      "distributed.utils_perf - WARNING - full garbage collections took 19% CPU time recently (threshold: 10%)\n",
      "distributed.utils_perf - WARNING - full garbage collections took 19% CPU time recently (threshold: 10%)\n"
     ]
    },
    {
     "name": "stdout",
     "output_type": "stream",
     "text": [
      "{'num_masks': 16, 'n_workers': 3, 'stackheight': 4, 'time': 3.370190143585205}\n"
     ]
    },
    {
     "name": "stderr",
     "output_type": "stream",
     "text": [
      "distributed.utils_perf - WARNING - full garbage collections took 19% CPU time recently (threshold: 10%)\n",
      "distributed.utils_perf - WARNING - full garbage collections took 19% CPU time recently (threshold: 10%)\n"
     ]
    },
    {
     "name": "stdout",
     "output_type": "stream",
     "text": [
      "{'num_masks': 16, 'n_workers': 3, 'stackheight': 4, 'time': 3.064574956893921}\n"
     ]
    },
    {
     "name": "stderr",
     "output_type": "stream",
     "text": [
      "distributed.utils_perf - WARNING - full garbage collections took 19% CPU time recently (threshold: 10%)\n"
     ]
    },
    {
     "name": "stdout",
     "output_type": "stream",
     "text": [
      "{'num_masks': 16, 'n_workers': 3, 'stackheight': 8, 'time': 2.5768470764160156}\n"
     ]
    },
    {
     "name": "stderr",
     "output_type": "stream",
     "text": [
      "distributed.utils_perf - WARNING - full garbage collections took 19% CPU time recently (threshold: 10%)\n"
     ]
    },
    {
     "name": "stdout",
     "output_type": "stream",
     "text": [
      "{'num_masks': 16, 'n_workers': 3, 'stackheight': 8, 'time': 2.6019186973571777}\n",
      "{'num_masks': 16, 'n_workers': 3, 'stackheight': 8, 'time': 2.5966484546661377}\n"
     ]
    },
    {
     "name": "stderr",
     "output_type": "stream",
     "text": [
      "distributed.utils_perf - WARNING - full garbage collections took 20% CPU time recently (threshold: 10%)\n",
      "distributed.utils_perf - WARNING - full garbage collections took 20% CPU time recently (threshold: 10%)\n",
      "distributed.utils_perf - WARNING - full garbage collections took 20% CPU time recently (threshold: 10%)\n"
     ]
    },
    {
     "name": "stdout",
     "output_type": "stream",
     "text": [
      "{'num_masks': 1, 'n_workers': 4, 'stackheight': 4, 'time': 1.2983348369598389}\n"
     ]
    },
    {
     "name": "stderr",
     "output_type": "stream",
     "text": [
      "distributed.utils_perf - WARNING - full garbage collections took 20% CPU time recently (threshold: 10%)\n",
      "distributed.utils_perf - WARNING - full garbage collections took 20% CPU time recently (threshold: 10%)\n"
     ]
    },
    {
     "name": "stdout",
     "output_type": "stream",
     "text": [
      "{'num_masks': 1, 'n_workers': 4, 'stackheight': 4, 'time': 1.1673974990844727}\n"
     ]
    },
    {
     "name": "stderr",
     "output_type": "stream",
     "text": [
      "distributed.utils_perf - WARNING - full garbage collections took 20% CPU time recently (threshold: 10%)\n",
      "distributed.utils_perf - WARNING - full garbage collections took 20% CPU time recently (threshold: 10%)\n"
     ]
    },
    {
     "name": "stdout",
     "output_type": "stream",
     "text": [
      "{'num_masks': 1, 'n_workers': 4, 'stackheight': 4, 'time': 1.1375608444213867}\n"
     ]
    },
    {
     "name": "stderr",
     "output_type": "stream",
     "text": [
      "distributed.utils_perf - WARNING - full garbage collections took 20% CPU time recently (threshold: 10%)\n"
     ]
    },
    {
     "name": "stdout",
     "output_type": "stream",
     "text": [
      "{'num_masks': 1, 'n_workers': 4, 'stackheight': 8, 'time': 1.1301307678222656}\n"
     ]
    },
    {
     "name": "stderr",
     "output_type": "stream",
     "text": [
      "distributed.utils_perf - WARNING - full garbage collections took 20% CPU time recently (threshold: 10%)\n"
     ]
    },
    {
     "name": "stdout",
     "output_type": "stream",
     "text": [
      "{'num_masks': 1, 'n_workers': 4, 'stackheight': 8, 'time': 1.2326254844665527}\n"
     ]
    },
    {
     "name": "stderr",
     "output_type": "stream",
     "text": [
      "distributed.utils_perf - WARNING - full garbage collections took 20% CPU time recently (threshold: 10%)\n"
     ]
    },
    {
     "name": "stdout",
     "output_type": "stream",
     "text": [
      "{'num_masks': 1, 'n_workers': 4, 'stackheight': 8, 'time': 1.2466192245483398}\n"
     ]
    },
    {
     "name": "stderr",
     "output_type": "stream",
     "text": [
      "distributed.utils_perf - WARNING - full garbage collections took 20% CPU time recently (threshold: 10%)\n",
      "distributed.utils_perf - WARNING - full garbage collections took 20% CPU time recently (threshold: 10%)\n"
     ]
    },
    {
     "name": "stdout",
     "output_type": "stream",
     "text": [
      "{'num_masks': 2, 'n_workers': 4, 'stackheight': 4, 'time': 1.3638832569122314}\n"
     ]
    },
    {
     "name": "stderr",
     "output_type": "stream",
     "text": [
      "distributed.utils_perf - WARNING - full garbage collections took 20% CPU time recently (threshold: 10%)\n",
      "distributed.utils_perf - WARNING - full garbage collections took 20% CPU time recently (threshold: 10%)\n"
     ]
    },
    {
     "name": "stdout",
     "output_type": "stream",
     "text": [
      "{'num_masks': 2, 'n_workers': 4, 'stackheight': 4, 'time': 1.342775821685791}\n"
     ]
    },
    {
     "name": "stderr",
     "output_type": "stream",
     "text": [
      "distributed.utils_perf - WARNING - full garbage collections took 20% CPU time recently (threshold: 10%)\n",
      "distributed.utils_perf - WARNING - full garbage collections took 20% CPU time recently (threshold: 10%)\n"
     ]
    },
    {
     "name": "stdout",
     "output_type": "stream",
     "text": [
      "{'num_masks': 2, 'n_workers': 4, 'stackheight': 4, 'time': 1.3176648616790771}\n"
     ]
    },
    {
     "name": "stderr",
     "output_type": "stream",
     "text": [
      "distributed.utils_perf - WARNING - full garbage collections took 20% CPU time recently (threshold: 10%)\n"
     ]
    },
    {
     "name": "stdout",
     "output_type": "stream",
     "text": [
      "{'num_masks': 2, 'n_workers': 4, 'stackheight': 8, 'time': 1.2264413833618164}\n"
     ]
    },
    {
     "name": "stderr",
     "output_type": "stream",
     "text": [
      "distributed.utils_perf - WARNING - full garbage collections took 20% CPU time recently (threshold: 10%)\n"
     ]
    },
    {
     "name": "stdout",
     "output_type": "stream",
     "text": [
      "{'num_masks': 2, 'n_workers': 4, 'stackheight': 8, 'time': 1.2899703979492188}\n"
     ]
    },
    {
     "name": "stderr",
     "output_type": "stream",
     "text": [
      "distributed.utils_perf - WARNING - full garbage collections took 20% CPU time recently (threshold: 10%)\n"
     ]
    },
    {
     "name": "stdout",
     "output_type": "stream",
     "text": [
      "{'num_masks': 2, 'n_workers': 4, 'stackheight': 8, 'time': 1.244347095489502}\n"
     ]
    },
    {
     "name": "stderr",
     "output_type": "stream",
     "text": [
      "distributed.utils_perf - WARNING - full garbage collections took 20% CPU time recently (threshold: 10%)\n",
      "distributed.utils_perf - WARNING - full garbage collections took 21% CPU time recently (threshold: 10%)\n"
     ]
    },
    {
     "name": "stdout",
     "output_type": "stream",
     "text": [
      "{'num_masks': 4, 'n_workers': 4, 'stackheight': 4, 'time': 1.5069375038146973}\n"
     ]
    },
    {
     "name": "stderr",
     "output_type": "stream",
     "text": [
      "distributed.utils_perf - WARNING - full garbage collections took 21% CPU time recently (threshold: 10%)\n",
      "distributed.utils_perf - WARNING - full garbage collections took 21% CPU time recently (threshold: 10%)\n"
     ]
    },
    {
     "name": "stdout",
     "output_type": "stream",
     "text": [
      "{'num_masks': 4, 'n_workers': 4, 'stackheight': 4, 'time': 1.5280227661132812}\n"
     ]
    },
    {
     "name": "stderr",
     "output_type": "stream",
     "text": [
      "distributed.utils_perf - WARNING - full garbage collections took 21% CPU time recently (threshold: 10%)\n",
      "distributed.utils_perf - WARNING - full garbage collections took 21% CPU time recently (threshold: 10%)\n"
     ]
    },
    {
     "name": "stdout",
     "output_type": "stream",
     "text": [
      "{'num_masks': 4, 'n_workers': 4, 'stackheight': 4, 'time': 1.6010282039642334}\n"
     ]
    },
    {
     "name": "stderr",
     "output_type": "stream",
     "text": [
      "distributed.utils_perf - WARNING - full garbage collections took 21% CPU time recently (threshold: 10%)\n"
     ]
    },
    {
     "name": "stdout",
     "output_type": "stream",
     "text": [
      "{'num_masks': 4, 'n_workers': 4, 'stackheight': 8, 'time': 1.3992609977722168}\n"
     ]
    },
    {
     "name": "stderr",
     "output_type": "stream",
     "text": [
      "distributed.utils_perf - WARNING - full garbage collections took 21% CPU time recently (threshold: 10%)\n"
     ]
    },
    {
     "name": "stdout",
     "output_type": "stream",
     "text": [
      "{'num_masks': 4, 'n_workers': 4, 'stackheight': 8, 'time': 1.4272122383117676}\n"
     ]
    },
    {
     "name": "stderr",
     "output_type": "stream",
     "text": [
      "distributed.utils_perf - WARNING - full garbage collections took 21% CPU time recently (threshold: 10%)\n"
     ]
    },
    {
     "name": "stdout",
     "output_type": "stream",
     "text": [
      "{'num_masks': 4, 'n_workers': 4, 'stackheight': 8, 'time': 1.4105768203735352}\n"
     ]
    },
    {
     "name": "stderr",
     "output_type": "stream",
     "text": [
      "distributed.utils_perf - WARNING - full garbage collections took 21% CPU time recently (threshold: 10%)\n",
      "distributed.utils_perf - WARNING - full garbage collections took 21% CPU time recently (threshold: 10%)\n"
     ]
    },
    {
     "name": "stdout",
     "output_type": "stream",
     "text": [
      "{'num_masks': 8, 'n_workers': 4, 'stackheight': 4, 'time': 2.0350308418273926}\n"
     ]
    },
    {
     "name": "stderr",
     "output_type": "stream",
     "text": [
      "distributed.utils_perf - WARNING - full garbage collections took 21% CPU time recently (threshold: 10%)\n",
      "distributed.utils_perf - WARNING - full garbage collections took 21% CPU time recently (threshold: 10%)\n"
     ]
    },
    {
     "name": "stdout",
     "output_type": "stream",
     "text": [
      "{'num_masks': 8, 'n_workers': 4, 'stackheight': 4, 'time': 1.816227912902832}\n"
     ]
    },
    {
     "name": "stderr",
     "output_type": "stream",
     "text": [
      "distributed.utils_perf - WARNING - full garbage collections took 21% CPU time recently (threshold: 10%)\n",
      "distributed.utils_perf - WARNING - full garbage collections took 21% CPU time recently (threshold: 10%)\n"
     ]
    },
    {
     "name": "stdout",
     "output_type": "stream",
     "text": [
      "{'num_masks': 8, 'n_workers': 4, 'stackheight': 4, 'time': 1.9472737312316895}\n"
     ]
    },
    {
     "name": "stderr",
     "output_type": "stream",
     "text": [
      "distributed.utils_perf - WARNING - full garbage collections took 21% CPU time recently (threshold: 10%)\n"
     ]
    },
    {
     "name": "stdout",
     "output_type": "stream",
     "text": [
      "{'num_masks': 8, 'n_workers': 4, 'stackheight': 8, 'time': 1.7017261981964111}\n"
     ]
    },
    {
     "name": "stderr",
     "output_type": "stream",
     "text": [
      "distributed.utils_perf - WARNING - full garbage collections took 21% CPU time recently (threshold: 10%)\n"
     ]
    },
    {
     "name": "stdout",
     "output_type": "stream",
     "text": [
      "{'num_masks': 8, 'n_workers': 4, 'stackheight': 8, 'time': 1.753180980682373}\n"
     ]
    },
    {
     "name": "stderr",
     "output_type": "stream",
     "text": [
      "distributed.utils_perf - WARNING - full garbage collections took 21% CPU time recently (threshold: 10%)\n"
     ]
    },
    {
     "name": "stdout",
     "output_type": "stream",
     "text": [
      "{'num_masks': 8, 'n_workers': 4, 'stackheight': 8, 'time': 1.8132383823394775}\n"
     ]
    },
    {
     "name": "stderr",
     "output_type": "stream",
     "text": [
      "distributed.utils_perf - WARNING - full garbage collections took 21% CPU time recently (threshold: 10%)\n",
      "distributed.utils_perf - WARNING - full garbage collections took 21% CPU time recently (threshold: 10%)\n"
     ]
    },
    {
     "name": "stdout",
     "output_type": "stream",
     "text": [
      "{'num_masks': 16, 'n_workers': 4, 'stackheight': 4, 'time': 2.7559053897857666}\n"
     ]
    },
    {
     "name": "stderr",
     "output_type": "stream",
     "text": [
      "distributed.utils_perf - WARNING - full garbage collections took 21% CPU time recently (threshold: 10%)\n",
      "distributed.utils_perf - WARNING - full garbage collections took 21% CPU time recently (threshold: 10%)\n"
     ]
    },
    {
     "name": "stdout",
     "output_type": "stream",
     "text": [
      "{'num_masks': 16, 'n_workers': 4, 'stackheight': 4, 'time': 2.533738613128662}\n"
     ]
    },
    {
     "name": "stderr",
     "output_type": "stream",
     "text": [
      "distributed.utils_perf - WARNING - full garbage collections took 21% CPU time recently (threshold: 10%)\n",
      "distributed.utils_perf - WARNING - full garbage collections took 21% CPU time recently (threshold: 10%)\n"
     ]
    },
    {
     "name": "stdout",
     "output_type": "stream",
     "text": [
      "{'num_masks': 16, 'n_workers': 4, 'stackheight': 4, 'time': 2.830599546432495}\n"
     ]
    },
    {
     "name": "stderr",
     "output_type": "stream",
     "text": [
      "distributed.utils_perf - WARNING - full garbage collections took 21% CPU time recently (threshold: 10%)\n"
     ]
    },
    {
     "name": "stdout",
     "output_type": "stream",
     "text": [
      "{'num_masks': 16, 'n_workers': 4, 'stackheight': 8, 'time': 2.1592962741851807}\n"
     ]
    },
    {
     "name": "stderr",
     "output_type": "stream",
     "text": [
      "distributed.utils_perf - WARNING - full garbage collections took 21% CPU time recently (threshold: 10%)\n"
     ]
    },
    {
     "name": "stdout",
     "output_type": "stream",
     "text": [
      "{'num_masks': 16, 'n_workers': 4, 'stackheight': 8, 'time': 2.212705373764038}\n",
      "{'num_masks': 16, 'n_workers': 4, 'stackheight': 8, 'time': 2.2040505409240723}\n"
     ]
    },
    {
     "name": "stderr",
     "output_type": "stream",
     "text": [
      "distributed.utils_perf - WARNING - full garbage collections took 21% CPU time recently (threshold: 10%)\n",
      "distributed.utils_perf - WARNING - full garbage collections took 21% CPU time recently (threshold: 10%)\n",
      "distributed.utils_perf - WARNING - full garbage collections took 21% CPU time recently (threshold: 10%)\n"
     ]
    },
    {
     "name": "stdout",
     "output_type": "stream",
     "text": [
      "{'num_masks': 1, 'n_workers': 5, 'stackheight': 4, 'time': 1.2147109508514404}\n"
     ]
    },
    {
     "name": "stderr",
     "output_type": "stream",
     "text": [
      "distributed.utils_perf - WARNING - full garbage collections took 21% CPU time recently (threshold: 10%)\n",
      "distributed.utils_perf - WARNING - full garbage collections took 21% CPU time recently (threshold: 10%)\n"
     ]
    },
    {
     "name": "stdout",
     "output_type": "stream",
     "text": [
      "{'num_masks': 1, 'n_workers': 5, 'stackheight': 4, 'time': 1.1276986598968506}\n"
     ]
    },
    {
     "name": "stderr",
     "output_type": "stream",
     "text": [
      "distributed.utils_perf - WARNING - full garbage collections took 21% CPU time recently (threshold: 10%)\n",
      "distributed.utils_perf - WARNING - full garbage collections took 21% CPU time recently (threshold: 10%)\n"
     ]
    },
    {
     "name": "stdout",
     "output_type": "stream",
     "text": [
      "{'num_masks': 1, 'n_workers': 5, 'stackheight': 4, 'time': 1.0698115825653076}\n"
     ]
    },
    {
     "name": "stderr",
     "output_type": "stream",
     "text": [
      "distributed.utils_perf - WARNING - full garbage collections took 21% CPU time recently (threshold: 10%)\n"
     ]
    },
    {
     "name": "stdout",
     "output_type": "stream",
     "text": [
      "{'num_masks': 1, 'n_workers': 5, 'stackheight': 8, 'time': 1.2336311340332031}\n"
     ]
    },
    {
     "name": "stderr",
     "output_type": "stream",
     "text": [
      "distributed.utils_perf - WARNING - full garbage collections took 21% CPU time recently (threshold: 10%)\n"
     ]
    },
    {
     "name": "stdout",
     "output_type": "stream",
     "text": [
      "{'num_masks': 1, 'n_workers': 5, 'stackheight': 8, 'time': 1.2185568809509277}\n"
     ]
    },
    {
     "name": "stderr",
     "output_type": "stream",
     "text": [
      "distributed.utils_perf - WARNING - full garbage collections took 21% CPU time recently (threshold: 10%)\n"
     ]
    },
    {
     "name": "stdout",
     "output_type": "stream",
     "text": [
      "{'num_masks': 1, 'n_workers': 5, 'stackheight': 8, 'time': 1.2113971710205078}\n"
     ]
    },
    {
     "name": "stderr",
     "output_type": "stream",
     "text": [
      "distributed.utils_perf - WARNING - full garbage collections took 21% CPU time recently (threshold: 10%)\n",
      "distributed.utils_perf - WARNING - full garbage collections took 21% CPU time recently (threshold: 10%)\n"
     ]
    },
    {
     "name": "stdout",
     "output_type": "stream",
     "text": [
      "{'num_masks': 2, 'n_workers': 5, 'stackheight': 4, 'time': 1.2525248527526855}\n"
     ]
    },
    {
     "name": "stderr",
     "output_type": "stream",
     "text": [
      "distributed.utils_perf - WARNING - full garbage collections took 21% CPU time recently (threshold: 10%)\n",
      "distributed.utils_perf - WARNING - full garbage collections took 21% CPU time recently (threshold: 10%)\n"
     ]
    },
    {
     "name": "stdout",
     "output_type": "stream",
     "text": [
      "{'num_masks': 2, 'n_workers': 5, 'stackheight': 4, 'time': 1.274709939956665}\n"
     ]
    },
    {
     "name": "stderr",
     "output_type": "stream",
     "text": [
      "distributed.utils_perf - WARNING - full garbage collections took 21% CPU time recently (threshold: 10%)\n",
      "distributed.utils_perf - WARNING - full garbage collections took 21% CPU time recently (threshold: 10%)\n"
     ]
    },
    {
     "name": "stdout",
     "output_type": "stream",
     "text": [
      "{'num_masks': 2, 'n_workers': 5, 'stackheight': 4, 'time': 1.2833757400512695}\n"
     ]
    },
    {
     "name": "stderr",
     "output_type": "stream",
     "text": [
      "distributed.utils_perf - WARNING - full garbage collections took 21% CPU time recently (threshold: 10%)\n"
     ]
    },
    {
     "name": "stdout",
     "output_type": "stream",
     "text": [
      "{'num_masks': 2, 'n_workers': 5, 'stackheight': 8, 'time': 1.312758207321167}\n"
     ]
    },
    {
     "name": "stderr",
     "output_type": "stream",
     "text": [
      "distributed.utils_perf - WARNING - full garbage collections took 21% CPU time recently (threshold: 10%)\n"
     ]
    },
    {
     "name": "stdout",
     "output_type": "stream",
     "text": [
      "{'num_masks': 2, 'n_workers': 5, 'stackheight': 8, 'time': 1.3382701873779297}\n"
     ]
    },
    {
     "name": "stderr",
     "output_type": "stream",
     "text": [
      "distributed.utils_perf - WARNING - full garbage collections took 21% CPU time recently (threshold: 10%)\n"
     ]
    },
    {
     "name": "stdout",
     "output_type": "stream",
     "text": [
      "{'num_masks': 2, 'n_workers': 5, 'stackheight': 8, 'time': 1.3748395442962646}\n"
     ]
    },
    {
     "name": "stderr",
     "output_type": "stream",
     "text": [
      "distributed.utils_perf - WARNING - full garbage collections took 21% CPU time recently (threshold: 10%)\n",
      "distributed.utils_perf - WARNING - full garbage collections took 21% CPU time recently (threshold: 10%)\n"
     ]
    },
    {
     "name": "stdout",
     "output_type": "stream",
     "text": [
      "{'num_masks': 4, 'n_workers': 5, 'stackheight': 4, 'time': 1.4471540451049805}\n"
     ]
    },
    {
     "name": "stderr",
     "output_type": "stream",
     "text": [
      "distributed.utils_perf - WARNING - full garbage collections took 21% CPU time recently (threshold: 10%)\n",
      "distributed.utils_perf - WARNING - full garbage collections took 21% CPU time recently (threshold: 10%)\n"
     ]
    },
    {
     "name": "stdout",
     "output_type": "stream",
     "text": [
      "{'num_masks': 4, 'n_workers': 5, 'stackheight': 4, 'time': 1.5210254192352295}\n"
     ]
    },
    {
     "name": "stderr",
     "output_type": "stream",
     "text": [
      "distributed.utils_perf - WARNING - full garbage collections took 21% CPU time recently (threshold: 10%)\n",
      "distributed.utils_perf - WARNING - full garbage collections took 21% CPU time recently (threshold: 10%)\n"
     ]
    },
    {
     "name": "stdout",
     "output_type": "stream",
     "text": [
      "{'num_masks': 4, 'n_workers': 5, 'stackheight': 4, 'time': 1.542356014251709}\n"
     ]
    },
    {
     "name": "stderr",
     "output_type": "stream",
     "text": [
      "distributed.utils_perf - WARNING - full garbage collections took 21% CPU time recently (threshold: 10%)\n"
     ]
    },
    {
     "name": "stdout",
     "output_type": "stream",
     "text": [
      "{'num_masks': 4, 'n_workers': 5, 'stackheight': 8, 'time': 1.5263619422912598}\n"
     ]
    },
    {
     "name": "stderr",
     "output_type": "stream",
     "text": [
      "distributed.utils_perf - WARNING - full garbage collections took 21% CPU time recently (threshold: 10%)\n"
     ]
    },
    {
     "name": "stdout",
     "output_type": "stream",
     "text": [
      "{'num_masks': 4, 'n_workers': 5, 'stackheight': 8, 'time': 1.4378950595855713}\n"
     ]
    },
    {
     "name": "stderr",
     "output_type": "stream",
     "text": [
      "distributed.utils_perf - WARNING - full garbage collections took 21% CPU time recently (threshold: 10%)\n"
     ]
    },
    {
     "name": "stdout",
     "output_type": "stream",
     "text": [
      "{'num_masks': 4, 'n_workers': 5, 'stackheight': 8, 'time': 1.511556625366211}\n"
     ]
    },
    {
     "name": "stderr",
     "output_type": "stream",
     "text": [
      "distributed.utils_perf - WARNING - full garbage collections took 21% CPU time recently (threshold: 10%)\n",
      "distributed.utils_perf - WARNING - full garbage collections took 21% CPU time recently (threshold: 10%)\n"
     ]
    },
    {
     "name": "stdout",
     "output_type": "stream",
     "text": [
      "{'num_masks': 8, 'n_workers': 5, 'stackheight': 4, 'time': 1.8998923301696777}\n"
     ]
    },
    {
     "name": "stderr",
     "output_type": "stream",
     "text": [
      "distributed.utils_perf - WARNING - full garbage collections took 21% CPU time recently (threshold: 10%)\n",
      "distributed.utils_perf - WARNING - full garbage collections took 21% CPU time recently (threshold: 10%)\n"
     ]
    },
    {
     "name": "stdout",
     "output_type": "stream",
     "text": [
      "{'num_masks': 8, 'n_workers': 5, 'stackheight': 4, 'time': 1.9539177417755127}\n"
     ]
    },
    {
     "name": "stderr",
     "output_type": "stream",
     "text": [
      "distributed.utils_perf - WARNING - full garbage collections took 21% CPU time recently (threshold: 10%)\n",
      "distributed.utils_perf - WARNING - full garbage collections took 21% CPU time recently (threshold: 10%)\n"
     ]
    },
    {
     "name": "stdout",
     "output_type": "stream",
     "text": [
      "{'num_masks': 8, 'n_workers': 5, 'stackheight': 4, 'time': 2.0166690349578857}\n"
     ]
    },
    {
     "name": "stderr",
     "output_type": "stream",
     "text": [
      "distributed.utils_perf - WARNING - full garbage collections took 21% CPU time recently (threshold: 10%)\n"
     ]
    },
    {
     "name": "stdout",
     "output_type": "stream",
     "text": [
      "{'num_masks': 8, 'n_workers': 5, 'stackheight': 8, 'time': 1.6432013511657715}\n"
     ]
    },
    {
     "name": "stderr",
     "output_type": "stream",
     "text": [
      "distributed.utils_perf - WARNING - full garbage collections took 21% CPU time recently (threshold: 10%)\n"
     ]
    },
    {
     "name": "stdout",
     "output_type": "stream",
     "text": [
      "{'num_masks': 8, 'n_workers': 5, 'stackheight': 8, 'time': 1.8938238620758057}\n"
     ]
    },
    {
     "name": "stderr",
     "output_type": "stream",
     "text": [
      "distributed.utils_perf - WARNING - full garbage collections took 21% CPU time recently (threshold: 10%)\n"
     ]
    },
    {
     "name": "stdout",
     "output_type": "stream",
     "text": [
      "{'num_masks': 8, 'n_workers': 5, 'stackheight': 8, 'time': 1.8893818855285645}\n"
     ]
    },
    {
     "name": "stderr",
     "output_type": "stream",
     "text": [
      "distributed.utils_perf - WARNING - full garbage collections took 21% CPU time recently (threshold: 10%)\n",
      "distributed.utils_perf - WARNING - full garbage collections took 21% CPU time recently (threshold: 10%)\n"
     ]
    },
    {
     "name": "stdout",
     "output_type": "stream",
     "text": [
      "{'num_masks': 16, 'n_workers': 5, 'stackheight': 4, 'time': 2.6162290573120117}\n"
     ]
    },
    {
     "name": "stderr",
     "output_type": "stream",
     "text": [
      "distributed.utils_perf - WARNING - full garbage collections took 21% CPU time recently (threshold: 10%)\n",
      "distributed.utils_perf - WARNING - full garbage collections took 21% CPU time recently (threshold: 10%)\n"
     ]
    },
    {
     "name": "stdout",
     "output_type": "stream",
     "text": [
      "{'num_masks': 16, 'n_workers': 5, 'stackheight': 4, 'time': 2.8455617427825928}\n"
     ]
    },
    {
     "name": "stderr",
     "output_type": "stream",
     "text": [
      "distributed.utils_perf - WARNING - full garbage collections took 21% CPU time recently (threshold: 10%)\n",
      "distributed.utils_perf - WARNING - full garbage collections took 21% CPU time recently (threshold: 10%)\n"
     ]
    },
    {
     "name": "stdout",
     "output_type": "stream",
     "text": [
      "{'num_masks': 16, 'n_workers': 5, 'stackheight': 4, 'time': 2.9993412494659424}\n"
     ]
    },
    {
     "name": "stderr",
     "output_type": "stream",
     "text": [
      "distributed.utils_perf - WARNING - full garbage collections took 22% CPU time recently (threshold: 10%)\n"
     ]
    },
    {
     "name": "stdout",
     "output_type": "stream",
     "text": [
      "{'num_masks': 16, 'n_workers': 5, 'stackheight': 8, 'time': 2.3734471797943115}\n"
     ]
    },
    {
     "name": "stderr",
     "output_type": "stream",
     "text": [
      "distributed.utils_perf - WARNING - full garbage collections took 22% CPU time recently (threshold: 10%)\n"
     ]
    },
    {
     "name": "stdout",
     "output_type": "stream",
     "text": [
      "{'num_masks': 16, 'n_workers': 5, 'stackheight': 8, 'time': 2.300957202911377}\n",
      "{'num_masks': 16, 'n_workers': 5, 'stackheight': 8, 'time': 2.3619208335876465}\n"
     ]
    },
    {
     "name": "stderr",
     "output_type": "stream",
     "text": [
      "distributed.utils_perf - WARNING - full garbage collections took 22% CPU time recently (threshold: 10%)\n",
      "distributed.utils_perf - WARNING - full garbage collections took 22% CPU time recently (threshold: 10%)\n",
      "distributed.utils_perf - WARNING - full garbage collections took 22% CPU time recently (threshold: 10%)\n"
     ]
    },
    {
     "name": "stdout",
     "output_type": "stream",
     "text": [
      "{'num_masks': 1, 'n_workers': 6, 'stackheight': 4, 'time': 1.1966612339019775}\n"
     ]
    },
    {
     "name": "stderr",
     "output_type": "stream",
     "text": [
      "distributed.utils_perf - WARNING - full garbage collections took 22% CPU time recently (threshold: 10%)\n",
      "distributed.utils_perf - WARNING - full garbage collections took 22% CPU time recently (threshold: 10%)\n"
     ]
    },
    {
     "name": "stdout",
     "output_type": "stream",
     "text": [
      "{'num_masks': 1, 'n_workers': 6, 'stackheight': 4, 'time': 1.1329376697540283}\n"
     ]
    },
    {
     "name": "stderr",
     "output_type": "stream",
     "text": [
      "distributed.utils_perf - WARNING - full garbage collections took 22% CPU time recently (threshold: 10%)\n",
      "distributed.utils_perf - WARNING - full garbage collections took 22% CPU time recently (threshold: 10%)\n"
     ]
    },
    {
     "name": "stdout",
     "output_type": "stream",
     "text": [
      "{'num_masks': 1, 'n_workers': 6, 'stackheight': 4, 'time': 1.0943043231964111}\n"
     ]
    },
    {
     "name": "stderr",
     "output_type": "stream",
     "text": [
      "distributed.utils_perf - WARNING - full garbage collections took 22% CPU time recently (threshold: 10%)\n"
     ]
    },
    {
     "name": "stdout",
     "output_type": "stream",
     "text": [
      "{'num_masks': 1, 'n_workers': 6, 'stackheight': 8, 'time': 1.2016472816467285}\n"
     ]
    },
    {
     "name": "stderr",
     "output_type": "stream",
     "text": [
      "distributed.utils_perf - WARNING - full garbage collections took 22% CPU time recently (threshold: 10%)\n"
     ]
    },
    {
     "name": "stdout",
     "output_type": "stream",
     "text": [
      "{'num_masks': 1, 'n_workers': 6, 'stackheight': 8, 'time': 1.165123701095581}\n"
     ]
    },
    {
     "name": "stderr",
     "output_type": "stream",
     "text": [
      "distributed.utils_perf - WARNING - full garbage collections took 22% CPU time recently (threshold: 10%)\n"
     ]
    },
    {
     "name": "stdout",
     "output_type": "stream",
     "text": [
      "{'num_masks': 1, 'n_workers': 6, 'stackheight': 8, 'time': 1.1708736419677734}\n"
     ]
    },
    {
     "name": "stderr",
     "output_type": "stream",
     "text": [
      "distributed.utils_perf - WARNING - full garbage collections took 22% CPU time recently (threshold: 10%)\n",
      "distributed.utils_perf - WARNING - full garbage collections took 22% CPU time recently (threshold: 10%)\n"
     ]
    },
    {
     "name": "stdout",
     "output_type": "stream",
     "text": [
      "{'num_masks': 2, 'n_workers': 6, 'stackheight': 4, 'time': 1.1895618438720703}\n"
     ]
    },
    {
     "name": "stderr",
     "output_type": "stream",
     "text": [
      "distributed.utils_perf - WARNING - full garbage collections took 22% CPU time recently (threshold: 10%)\n",
      "distributed.utils_perf - WARNING - full garbage collections took 22% CPU time recently (threshold: 10%)\n"
     ]
    },
    {
     "name": "stdout",
     "output_type": "stream",
     "text": [
      "{'num_masks': 2, 'n_workers': 6, 'stackheight': 4, 'time': 1.2219464778900146}\n"
     ]
    },
    {
     "name": "stderr",
     "output_type": "stream",
     "text": [
      "distributed.utils_perf - WARNING - full garbage collections took 22% CPU time recently (threshold: 10%)\n",
      "distributed.utils_perf - WARNING - full garbage collections took 23% CPU time recently (threshold: 10%)\n"
     ]
    },
    {
     "name": "stdout",
     "output_type": "stream",
     "text": [
      "{'num_masks': 2, 'n_workers': 6, 'stackheight': 4, 'time': 1.2397966384887695}\n"
     ]
    },
    {
     "name": "stderr",
     "output_type": "stream",
     "text": [
      "distributed.utils_perf - WARNING - full garbage collections took 22% CPU time recently (threshold: 10%)\n"
     ]
    },
    {
     "name": "stdout",
     "output_type": "stream",
     "text": [
      "{'num_masks': 2, 'n_workers': 6, 'stackheight': 8, 'time': 1.3535492420196533}\n"
     ]
    },
    {
     "name": "stderr",
     "output_type": "stream",
     "text": [
      "distributed.utils_perf - WARNING - full garbage collections took 22% CPU time recently (threshold: 10%)\n"
     ]
    },
    {
     "name": "stdout",
     "output_type": "stream",
     "text": [
      "{'num_masks': 2, 'n_workers': 6, 'stackheight': 8, 'time': 1.3129072189331055}\n"
     ]
    },
    {
     "name": "stderr",
     "output_type": "stream",
     "text": [
      "distributed.utils_perf - WARNING - full garbage collections took 23% CPU time recently (threshold: 10%)\n"
     ]
    },
    {
     "name": "stdout",
     "output_type": "stream",
     "text": [
      "{'num_masks': 2, 'n_workers': 6, 'stackheight': 8, 'time': 1.3045494556427002}\n"
     ]
    },
    {
     "name": "stderr",
     "output_type": "stream",
     "text": [
      "distributed.utils_perf - WARNING - full garbage collections took 23% CPU time recently (threshold: 10%)\n",
      "distributed.utils_perf - WARNING - full garbage collections took 23% CPU time recently (threshold: 10%)\n"
     ]
    },
    {
     "name": "stdout",
     "output_type": "stream",
     "text": [
      "{'num_masks': 4, 'n_workers': 6, 'stackheight': 4, 'time': 1.4235806465148926}\n"
     ]
    },
    {
     "name": "stderr",
     "output_type": "stream",
     "text": [
      "distributed.utils_perf - WARNING - full garbage collections took 23% CPU time recently (threshold: 10%)\n",
      "distributed.utils_perf - WARNING - full garbage collections took 23% CPU time recently (threshold: 10%)\n"
     ]
    },
    {
     "name": "stdout",
     "output_type": "stream",
     "text": [
      "{'num_masks': 4, 'n_workers': 6, 'stackheight': 4, 'time': 1.3568828105926514}\n"
     ]
    },
    {
     "name": "stderr",
     "output_type": "stream",
     "text": [
      "distributed.utils_perf - WARNING - full garbage collections took 23% CPU time recently (threshold: 10%)\n",
      "distributed.utils_perf - WARNING - full garbage collections took 23% CPU time recently (threshold: 10%)\n"
     ]
    },
    {
     "name": "stdout",
     "output_type": "stream",
     "text": [
      "{'num_masks': 4, 'n_workers': 6, 'stackheight': 4, 'time': 1.4528439044952393}\n"
     ]
    },
    {
     "name": "stderr",
     "output_type": "stream",
     "text": [
      "distributed.utils_perf - WARNING - full garbage collections took 23% CPU time recently (threshold: 10%)\n"
     ]
    },
    {
     "name": "stdout",
     "output_type": "stream",
     "text": [
      "{'num_masks': 4, 'n_workers': 6, 'stackheight': 8, 'time': 1.407414436340332}\n"
     ]
    },
    {
     "name": "stderr",
     "output_type": "stream",
     "text": [
      "distributed.utils_perf - WARNING - full garbage collections took 23% CPU time recently (threshold: 10%)\n"
     ]
    },
    {
     "name": "stdout",
     "output_type": "stream",
     "text": [
      "{'num_masks': 4, 'n_workers': 6, 'stackheight': 8, 'time': 1.5322201251983643}\n"
     ]
    },
    {
     "name": "stderr",
     "output_type": "stream",
     "text": [
      "distributed.utils_perf - WARNING - full garbage collections took 23% CPU time recently (threshold: 10%)\n"
     ]
    },
    {
     "name": "stdout",
     "output_type": "stream",
     "text": [
      "{'num_masks': 4, 'n_workers': 6, 'stackheight': 8, 'time': 1.4449372291564941}\n"
     ]
    },
    {
     "name": "stderr",
     "output_type": "stream",
     "text": [
      "distributed.utils_perf - WARNING - full garbage collections took 23% CPU time recently (threshold: 10%)\n",
      "distributed.utils_perf - WARNING - full garbage collections took 23% CPU time recently (threshold: 10%)\n"
     ]
    },
    {
     "name": "stdout",
     "output_type": "stream",
     "text": [
      "{'num_masks': 8, 'n_workers': 6, 'stackheight': 4, 'time': 1.8534297943115234}\n"
     ]
    },
    {
     "name": "stderr",
     "output_type": "stream",
     "text": [
      "distributed.utils_perf - WARNING - full garbage collections took 23% CPU time recently (threshold: 10%)\n",
      "distributed.utils_perf - WARNING - full garbage collections took 23% CPU time recently (threshold: 10%)\n"
     ]
    },
    {
     "name": "stdout",
     "output_type": "stream",
     "text": [
      "{'num_masks': 8, 'n_workers': 6, 'stackheight': 4, 'time': 1.856302261352539}\n"
     ]
    },
    {
     "name": "stderr",
     "output_type": "stream",
     "text": [
      "distributed.utils_perf - WARNING - full garbage collections took 23% CPU time recently (threshold: 10%)\n",
      "distributed.utils_perf - WARNING - full garbage collections took 23% CPU time recently (threshold: 10%)\n"
     ]
    },
    {
     "name": "stdout",
     "output_type": "stream",
     "text": [
      "{'num_masks': 8, 'n_workers': 6, 'stackheight': 4, 'time': 1.9089481830596924}\n"
     ]
    },
    {
     "name": "stderr",
     "output_type": "stream",
     "text": [
      "distributed.utils_perf - WARNING - full garbage collections took 23% CPU time recently (threshold: 10%)\n"
     ]
    },
    {
     "name": "stdout",
     "output_type": "stream",
     "text": [
      "{'num_masks': 8, 'n_workers': 6, 'stackheight': 8, 'time': 1.8031737804412842}\n"
     ]
    },
    {
     "name": "stderr",
     "output_type": "stream",
     "text": [
      "distributed.utils_perf - WARNING - full garbage collections took 23% CPU time recently (threshold: 10%)\n"
     ]
    },
    {
     "name": "stdout",
     "output_type": "stream",
     "text": [
      "{'num_masks': 8, 'n_workers': 6, 'stackheight': 8, 'time': 1.763683557510376}\n"
     ]
    },
    {
     "name": "stderr",
     "output_type": "stream",
     "text": [
      "distributed.utils_perf - WARNING - full garbage collections took 23% CPU time recently (threshold: 10%)\n"
     ]
    },
    {
     "name": "stdout",
     "output_type": "stream",
     "text": [
      "{'num_masks': 8, 'n_workers': 6, 'stackheight': 8, 'time': 1.7343337535858154}\n"
     ]
    },
    {
     "name": "stderr",
     "output_type": "stream",
     "text": [
      "distributed.utils_perf - WARNING - full garbage collections took 23% CPU time recently (threshold: 10%)\n",
      "distributed.utils_perf - WARNING - full garbage collections took 23% CPU time recently (threshold: 10%)\n"
     ]
    },
    {
     "name": "stdout",
     "output_type": "stream",
     "text": [
      "{'num_masks': 16, 'n_workers': 6, 'stackheight': 4, 'time': 2.5101048946380615}\n"
     ]
    },
    {
     "name": "stderr",
     "output_type": "stream",
     "text": [
      "distributed.utils_perf - WARNING - full garbage collections took 23% CPU time recently (threshold: 10%)\n",
      "distributed.utils_perf - WARNING - full garbage collections took 23% CPU time recently (threshold: 10%)\n"
     ]
    },
    {
     "name": "stdout",
     "output_type": "stream",
     "text": [
      "{'num_masks': 16, 'n_workers': 6, 'stackheight': 4, 'time': 2.6058526039123535}\n"
     ]
    },
    {
     "name": "stderr",
     "output_type": "stream",
     "text": [
      "distributed.utils_perf - WARNING - full garbage collections took 23% CPU time recently (threshold: 10%)\n",
      "distributed.utils_perf - WARNING - full garbage collections took 23% CPU time recently (threshold: 10%)\n"
     ]
    },
    {
     "name": "stdout",
     "output_type": "stream",
     "text": [
      "{'num_masks': 16, 'n_workers': 6, 'stackheight': 4, 'time': 2.8406479358673096}\n"
     ]
    },
    {
     "name": "stderr",
     "output_type": "stream",
     "text": [
      "distributed.utils_perf - WARNING - full garbage collections took 22% CPU time recently (threshold: 10%)\n"
     ]
    },
    {
     "name": "stdout",
     "output_type": "stream",
     "text": [
      "{'num_masks': 16, 'n_workers': 6, 'stackheight': 8, 'time': 2.249457359313965}\n"
     ]
    },
    {
     "name": "stderr",
     "output_type": "stream",
     "text": [
      "distributed.utils_perf - WARNING - full garbage collections took 22% CPU time recently (threshold: 10%)\n"
     ]
    },
    {
     "name": "stdout",
     "output_type": "stream",
     "text": [
      "{'num_masks': 16, 'n_workers': 6, 'stackheight': 8, 'time': 2.1919803619384766}\n",
      "{'num_masks': 16, 'n_workers': 6, 'stackheight': 8, 'time': 2.2655410766601562}\n"
     ]
    },
    {
     "name": "stderr",
     "output_type": "stream",
     "text": [
      "distributed.utils_perf - WARNING - full garbage collections took 22% CPU time recently (threshold: 10%)\n",
      "distributed.utils_perf - WARNING - full garbage collections took 22% CPU time recently (threshold: 10%)\n",
      "distributed.utils_perf - WARNING - full garbage collections took 22% CPU time recently (threshold: 10%)\n"
     ]
    },
    {
     "name": "stdout",
     "output_type": "stream",
     "text": [
      "{'num_masks': 1, 'n_workers': 7, 'stackheight': 4, 'time': 1.1848773956298828}\n"
     ]
    },
    {
     "name": "stderr",
     "output_type": "stream",
     "text": [
      "distributed.utils_perf - WARNING - full garbage collections took 22% CPU time recently (threshold: 10%)\n",
      "distributed.utils_perf - WARNING - full garbage collections took 22% CPU time recently (threshold: 10%)\n"
     ]
    },
    {
     "name": "stdout",
     "output_type": "stream",
     "text": [
      "{'num_masks': 1, 'n_workers': 7, 'stackheight': 4, 'time': 1.1706395149230957}\n"
     ]
    },
    {
     "name": "stderr",
     "output_type": "stream",
     "text": [
      "distributed.utils_perf - WARNING - full garbage collections took 22% CPU time recently (threshold: 10%)\n",
      "distributed.utils_perf - WARNING - full garbage collections took 22% CPU time recently (threshold: 10%)\n"
     ]
    },
    {
     "name": "stdout",
     "output_type": "stream",
     "text": [
      "{'num_masks': 1, 'n_workers': 7, 'stackheight': 4, 'time': 1.0564243793487549}\n"
     ]
    },
    {
     "name": "stderr",
     "output_type": "stream",
     "text": [
      "distributed.utils_perf - WARNING - full garbage collections took 22% CPU time recently (threshold: 10%)\n"
     ]
    },
    {
     "name": "stdout",
     "output_type": "stream",
     "text": [
      "{'num_masks': 1, 'n_workers': 7, 'stackheight': 8, 'time': 1.3065671920776367}\n"
     ]
    },
    {
     "name": "stderr",
     "output_type": "stream",
     "text": [
      "distributed.utils_perf - WARNING - full garbage collections took 22% CPU time recently (threshold: 10%)\n"
     ]
    },
    {
     "name": "stdout",
     "output_type": "stream",
     "text": [
      "{'num_masks': 1, 'n_workers': 7, 'stackheight': 8, 'time': 1.277602195739746}\n"
     ]
    },
    {
     "name": "stderr",
     "output_type": "stream",
     "text": [
      "distributed.utils_perf - WARNING - full garbage collections took 22% CPU time recently (threshold: 10%)\n"
     ]
    },
    {
     "name": "stdout",
     "output_type": "stream",
     "text": [
      "{'num_masks': 1, 'n_workers': 7, 'stackheight': 8, 'time': 1.2847304344177246}\n"
     ]
    },
    {
     "name": "stderr",
     "output_type": "stream",
     "text": [
      "distributed.utils_perf - WARNING - full garbage collections took 22% CPU time recently (threshold: 10%)\n",
      "distributed.utils_perf - WARNING - full garbage collections took 22% CPU time recently (threshold: 10%)\n"
     ]
    },
    {
     "name": "stdout",
     "output_type": "stream",
     "text": [
      "{'num_masks': 2, 'n_workers': 7, 'stackheight': 4, 'time': 1.2300002574920654}\n"
     ]
    },
    {
     "name": "stderr",
     "output_type": "stream",
     "text": [
      "distributed.utils_perf - WARNING - full garbage collections took 22% CPU time recently (threshold: 10%)\n",
      "distributed.utils_perf - WARNING - full garbage collections took 22% CPU time recently (threshold: 10%)\n"
     ]
    },
    {
     "name": "stdout",
     "output_type": "stream",
     "text": [
      "{'num_masks': 2, 'n_workers': 7, 'stackheight': 4, 'time': 1.250882625579834}\n"
     ]
    },
    {
     "name": "stderr",
     "output_type": "stream",
     "text": [
      "distributed.utils_perf - WARNING - full garbage collections took 22% CPU time recently (threshold: 10%)\n",
      "distributed.utils_perf - WARNING - full garbage collections took 22% CPU time recently (threshold: 10%)\n"
     ]
    },
    {
     "name": "stdout",
     "output_type": "stream",
     "text": [
      "{'num_masks': 2, 'n_workers': 7, 'stackheight': 4, 'time': 1.2826972007751465}\n"
     ]
    },
    {
     "name": "stderr",
     "output_type": "stream",
     "text": [
      "distributed.utils_perf - WARNING - full garbage collections took 23% CPU time recently (threshold: 10%)\n"
     ]
    },
    {
     "name": "stdout",
     "output_type": "stream",
     "text": [
      "{'num_masks': 2, 'n_workers': 7, 'stackheight': 8, 'time': 1.3793072700500488}\n"
     ]
    },
    {
     "name": "stderr",
     "output_type": "stream",
     "text": [
      "distributed.utils_perf - WARNING - full garbage collections took 23% CPU time recently (threshold: 10%)\n"
     ]
    },
    {
     "name": "stdout",
     "output_type": "stream",
     "text": [
      "{'num_masks': 2, 'n_workers': 7, 'stackheight': 8, 'time': 1.3060657978057861}\n"
     ]
    },
    {
     "name": "stderr",
     "output_type": "stream",
     "text": [
      "distributed.utils_perf - WARNING - full garbage collections took 23% CPU time recently (threshold: 10%)\n"
     ]
    },
    {
     "name": "stdout",
     "output_type": "stream",
     "text": [
      "{'num_masks': 2, 'n_workers': 7, 'stackheight': 8, 'time': 1.3809444904327393}\n"
     ]
    },
    {
     "name": "stderr",
     "output_type": "stream",
     "text": [
      "distributed.utils_perf - WARNING - full garbage collections took 23% CPU time recently (threshold: 10%)\n",
      "distributed.utils_perf - WARNING - full garbage collections took 23% CPU time recently (threshold: 10%)\n"
     ]
    },
    {
     "name": "stdout",
     "output_type": "stream",
     "text": [
      "{'num_masks': 4, 'n_workers': 7, 'stackheight': 4, 'time': 1.4450321197509766}\n"
     ]
    },
    {
     "name": "stderr",
     "output_type": "stream",
     "text": [
      "distributed.utils_perf - WARNING - full garbage collections took 23% CPU time recently (threshold: 10%)\n",
      "distributed.utils_perf - WARNING - full garbage collections took 23% CPU time recently (threshold: 10%)\n"
     ]
    },
    {
     "name": "stdout",
     "output_type": "stream",
     "text": [
      "{'num_masks': 4, 'n_workers': 7, 'stackheight': 4, 'time': 1.4436264038085938}\n"
     ]
    },
    {
     "name": "stderr",
     "output_type": "stream",
     "text": [
      "distributed.utils_perf - WARNING - full garbage collections took 23% CPU time recently (threshold: 10%)\n",
      "distributed.utils_perf - WARNING - full garbage collections took 22% CPU time recently (threshold: 10%)\n"
     ]
    },
    {
     "name": "stdout",
     "output_type": "stream",
     "text": [
      "{'num_masks': 4, 'n_workers': 7, 'stackheight': 4, 'time': 1.4128825664520264}\n"
     ]
    },
    {
     "name": "stderr",
     "output_type": "stream",
     "text": [
      "distributed.utils_perf - WARNING - full garbage collections took 23% CPU time recently (threshold: 10%)\n"
     ]
    },
    {
     "name": "stdout",
     "output_type": "stream",
     "text": [
      "{'num_masks': 4, 'n_workers': 7, 'stackheight': 8, 'time': 1.6072125434875488}\n"
     ]
    },
    {
     "name": "stderr",
     "output_type": "stream",
     "text": [
      "distributed.utils_perf - WARNING - full garbage collections took 23% CPU time recently (threshold: 10%)\n"
     ]
    },
    {
     "name": "stdout",
     "output_type": "stream",
     "text": [
      "{'num_masks': 4, 'n_workers': 7, 'stackheight': 8, 'time': 1.7114105224609375}\n"
     ]
    },
    {
     "name": "stderr",
     "output_type": "stream",
     "text": [
      "distributed.utils_perf - WARNING - full garbage collections took 23% CPU time recently (threshold: 10%)\n"
     ]
    },
    {
     "name": "stdout",
     "output_type": "stream",
     "text": [
      "{'num_masks': 4, 'n_workers': 7, 'stackheight': 8, 'time': 1.5761148929595947}\n"
     ]
    },
    {
     "name": "stderr",
     "output_type": "stream",
     "text": [
      "distributed.utils_perf - WARNING - full garbage collections took 23% CPU time recently (threshold: 10%)\n",
      "distributed.utils_perf - WARNING - full garbage collections took 23% CPU time recently (threshold: 10%)\n"
     ]
    },
    {
     "name": "stdout",
     "output_type": "stream",
     "text": [
      "{'num_masks': 8, 'n_workers': 7, 'stackheight': 4, 'time': 1.9296491146087646}\n"
     ]
    },
    {
     "name": "stderr",
     "output_type": "stream",
     "text": [
      "distributed.utils_perf - WARNING - full garbage collections took 23% CPU time recently (threshold: 10%)\n",
      "distributed.utils_perf - WARNING - full garbage collections took 23% CPU time recently (threshold: 10%)\n"
     ]
    },
    {
     "name": "stdout",
     "output_type": "stream",
     "text": [
      "{'num_masks': 8, 'n_workers': 7, 'stackheight': 4, 'time': 2.0044195652008057}\n"
     ]
    },
    {
     "name": "stderr",
     "output_type": "stream",
     "text": [
      "distributed.utils_perf - WARNING - full garbage collections took 23% CPU time recently (threshold: 10%)\n",
      "distributed.utils_perf - WARNING - full garbage collections took 23% CPU time recently (threshold: 10%)\n"
     ]
    },
    {
     "name": "stdout",
     "output_type": "stream",
     "text": [
      "{'num_masks': 8, 'n_workers': 7, 'stackheight': 4, 'time': 2.0259459018707275}\n"
     ]
    },
    {
     "name": "stderr",
     "output_type": "stream",
     "text": [
      "distributed.utils_perf - WARNING - full garbage collections took 23% CPU time recently (threshold: 10%)\n"
     ]
    },
    {
     "name": "stdout",
     "output_type": "stream",
     "text": [
      "{'num_masks': 8, 'n_workers': 7, 'stackheight': 8, 'time': 1.9210381507873535}\n"
     ]
    },
    {
     "name": "stderr",
     "output_type": "stream",
     "text": [
      "distributed.utils_perf - WARNING - full garbage collections took 23% CPU time recently (threshold: 10%)\n"
     ]
    },
    {
     "name": "stdout",
     "output_type": "stream",
     "text": [
      "{'num_masks': 8, 'n_workers': 7, 'stackheight': 8, 'time': 1.8645970821380615}\n"
     ]
    },
    {
     "name": "stderr",
     "output_type": "stream",
     "text": [
      "distributed.utils_perf - WARNING - full garbage collections took 23% CPU time recently (threshold: 10%)\n"
     ]
    },
    {
     "name": "stdout",
     "output_type": "stream",
     "text": [
      "{'num_masks': 8, 'n_workers': 7, 'stackheight': 8, 'time': 1.83974289894104}\n"
     ]
    },
    {
     "name": "stderr",
     "output_type": "stream",
     "text": [
      "distributed.utils_perf - WARNING - full garbage collections took 23% CPU time recently (threshold: 10%)\n",
      "distributed.utils_perf - WARNING - full garbage collections took 24% CPU time recently (threshold: 10%)\n"
     ]
    },
    {
     "name": "stdout",
     "output_type": "stream",
     "text": [
      "{'num_masks': 16, 'n_workers': 7, 'stackheight': 4, 'time': 2.869683265686035}\n"
     ]
    },
    {
     "name": "stderr",
     "output_type": "stream",
     "text": [
      "distributed.utils_perf - WARNING - full garbage collections took 24% CPU time recently (threshold: 10%)\n",
      "distributed.utils_perf - WARNING - full garbage collections took 24% CPU time recently (threshold: 10%)\n"
     ]
    },
    {
     "name": "stdout",
     "output_type": "stream",
     "text": [
      "{'num_masks': 16, 'n_workers': 7, 'stackheight': 4, 'time': 2.849926710128784}\n"
     ]
    },
    {
     "name": "stderr",
     "output_type": "stream",
     "text": [
      "distributed.utils_perf - WARNING - full garbage collections took 24% CPU time recently (threshold: 10%)\n",
      "distributed.utils_perf - WARNING - full garbage collections took 24% CPU time recently (threshold: 10%)\n"
     ]
    },
    {
     "name": "stdout",
     "output_type": "stream",
     "text": [
      "{'num_masks': 16, 'n_workers': 7, 'stackheight': 4, 'time': 2.837094783782959}\n"
     ]
    },
    {
     "name": "stderr",
     "output_type": "stream",
     "text": [
      "distributed.utils_perf - WARNING - full garbage collections took 24% CPU time recently (threshold: 10%)\n"
     ]
    },
    {
     "name": "stdout",
     "output_type": "stream",
     "text": [
      "{'num_masks': 16, 'n_workers': 7, 'stackheight': 8, 'time': 2.0966107845306396}\n"
     ]
    },
    {
     "name": "stderr",
     "output_type": "stream",
     "text": [
      "distributed.utils_perf - WARNING - full garbage collections took 24% CPU time recently (threshold: 10%)\n"
     ]
    },
    {
     "name": "stdout",
     "output_type": "stream",
     "text": [
      "{'num_masks': 16, 'n_workers': 7, 'stackheight': 8, 'time': 2.4570701122283936}\n",
      "{'num_masks': 16, 'n_workers': 7, 'stackheight': 8, 'time': 2.359351634979248}\n"
     ]
    },
    {
     "name": "stderr",
     "output_type": "stream",
     "text": [
      "distributed.utils_perf - WARNING - full garbage collections took 24% CPU time recently (threshold: 10%)\n",
      "distributed.utils_perf - WARNING - full garbage collections took 24% CPU time recently (threshold: 10%)\n",
      "distributed.utils_perf - WARNING - full garbage collections took 24% CPU time recently (threshold: 10%)\n"
     ]
    },
    {
     "name": "stdout",
     "output_type": "stream",
     "text": [
      "{'num_masks': 1, 'n_workers': 8, 'stackheight': 4, 'time': 1.1607916355133057}\n"
     ]
    },
    {
     "name": "stderr",
     "output_type": "stream",
     "text": [
      "distributed.utils_perf - WARNING - full garbage collections took 24% CPU time recently (threshold: 10%)\n",
      "distributed.utils_perf - WARNING - full garbage collections took 24% CPU time recently (threshold: 10%)\n"
     ]
    },
    {
     "name": "stdout",
     "output_type": "stream",
     "text": [
      "{'num_masks': 1, 'n_workers': 8, 'stackheight': 4, 'time': 1.2087466716766357}\n"
     ]
    },
    {
     "name": "stderr",
     "output_type": "stream",
     "text": [
      "distributed.utils_perf - WARNING - full garbage collections took 24% CPU time recently (threshold: 10%)\n",
      "distributed.utils_perf - WARNING - full garbage collections took 24% CPU time recently (threshold: 10%)\n"
     ]
    },
    {
     "name": "stdout",
     "output_type": "stream",
     "text": [
      "{'num_masks': 1, 'n_workers': 8, 'stackheight': 4, 'time': 1.147874355316162}\n"
     ]
    },
    {
     "name": "stderr",
     "output_type": "stream",
     "text": [
      "distributed.utils_perf - WARNING - full garbage collections took 24% CPU time recently (threshold: 10%)\n"
     ]
    },
    {
     "name": "stdout",
     "output_type": "stream",
     "text": [
      "{'num_masks': 1, 'n_workers': 8, 'stackheight': 8, 'time': 1.301429271697998}\n"
     ]
    },
    {
     "name": "stderr",
     "output_type": "stream",
     "text": [
      "distributed.utils_perf - WARNING - full garbage collections took 24% CPU time recently (threshold: 10%)\n"
     ]
    },
    {
     "name": "stdout",
     "output_type": "stream",
     "text": [
      "{'num_masks': 1, 'n_workers': 8, 'stackheight': 8, 'time': 1.2669055461883545}\n"
     ]
    },
    {
     "name": "stderr",
     "output_type": "stream",
     "text": [
      "distributed.utils_perf - WARNING - full garbage collections took 24% CPU time recently (threshold: 10%)\n"
     ]
    },
    {
     "name": "stdout",
     "output_type": "stream",
     "text": [
      "{'num_masks': 1, 'n_workers': 8, 'stackheight': 8, 'time': 1.2812731266021729}\n"
     ]
    },
    {
     "name": "stderr",
     "output_type": "stream",
     "text": [
      "distributed.utils_perf - WARNING - full garbage collections took 24% CPU time recently (threshold: 10%)\n",
      "distributed.utils_perf - WARNING - full garbage collections took 25% CPU time recently (threshold: 10%)\n"
     ]
    },
    {
     "name": "stdout",
     "output_type": "stream",
     "text": [
      "{'num_masks': 2, 'n_workers': 8, 'stackheight': 4, 'time': 1.3772075176239014}\n"
     ]
    },
    {
     "name": "stderr",
     "output_type": "stream",
     "text": [
      "distributed.utils_perf - WARNING - full garbage collections took 25% CPU time recently (threshold: 10%)\n",
      "distributed.utils_perf - WARNING - full garbage collections took 25% CPU time recently (threshold: 10%)\n"
     ]
    },
    {
     "name": "stdout",
     "output_type": "stream",
     "text": [
      "{'num_masks': 2, 'n_workers': 8, 'stackheight': 4, 'time': 1.267115592956543}\n"
     ]
    },
    {
     "name": "stderr",
     "output_type": "stream",
     "text": [
      "distributed.utils_perf - WARNING - full garbage collections took 25% CPU time recently (threshold: 10%)\n",
      "distributed.utils_perf - WARNING - full garbage collections took 25% CPU time recently (threshold: 10%)\n"
     ]
    },
    {
     "name": "stdout",
     "output_type": "stream",
     "text": [
      "{'num_masks': 2, 'n_workers': 8, 'stackheight': 4, 'time': 1.323582649230957}\n"
     ]
    },
    {
     "name": "stderr",
     "output_type": "stream",
     "text": [
      "distributed.utils_perf - WARNING - full garbage collections took 25% CPU time recently (threshold: 10%)\n"
     ]
    },
    {
     "name": "stdout",
     "output_type": "stream",
     "text": [
      "{'num_masks': 2, 'n_workers': 8, 'stackheight': 8, 'time': 1.3726234436035156}\n"
     ]
    },
    {
     "name": "stderr",
     "output_type": "stream",
     "text": [
      "distributed.utils_perf - WARNING - full garbage collections took 25% CPU time recently (threshold: 10%)\n"
     ]
    },
    {
     "name": "stdout",
     "output_type": "stream",
     "text": [
      "{'num_masks': 2, 'n_workers': 8, 'stackheight': 8, 'time': 1.4099245071411133}\n"
     ]
    },
    {
     "name": "stderr",
     "output_type": "stream",
     "text": [
      "distributed.utils_perf - WARNING - full garbage collections took 25% CPU time recently (threshold: 10%)\n"
     ]
    },
    {
     "name": "stdout",
     "output_type": "stream",
     "text": [
      "{'num_masks': 2, 'n_workers': 8, 'stackheight': 8, 'time': 1.4512932300567627}\n"
     ]
    },
    {
     "name": "stderr",
     "output_type": "stream",
     "text": [
      "distributed.utils_perf - WARNING - full garbage collections took 25% CPU time recently (threshold: 10%)\n",
      "distributed.utils_perf - WARNING - full garbage collections took 25% CPU time recently (threshold: 10%)\n"
     ]
    },
    {
     "name": "stdout",
     "output_type": "stream",
     "text": [
      "{'num_masks': 4, 'n_workers': 8, 'stackheight': 4, 'time': 1.67411470413208}\n"
     ]
    },
    {
     "name": "stderr",
     "output_type": "stream",
     "text": [
      "distributed.utils_perf - WARNING - full garbage collections took 25% CPU time recently (threshold: 10%)\n",
      "distributed.utils_perf - WARNING - full garbage collections took 25% CPU time recently (threshold: 10%)\n"
     ]
    },
    {
     "name": "stdout",
     "output_type": "stream",
     "text": [
      "{'num_masks': 4, 'n_workers': 8, 'stackheight': 4, 'time': 1.504690408706665}\n"
     ]
    },
    {
     "name": "stderr",
     "output_type": "stream",
     "text": [
      "distributed.utils_perf - WARNING - full garbage collections took 25% CPU time recently (threshold: 10%)\n",
      "distributed.utils_perf - WARNING - full garbage collections took 25% CPU time recently (threshold: 10%)\n"
     ]
    },
    {
     "name": "stdout",
     "output_type": "stream",
     "text": [
      "{'num_masks': 4, 'n_workers': 8, 'stackheight': 4, 'time': 1.4597187042236328}\n"
     ]
    },
    {
     "name": "stderr",
     "output_type": "stream",
     "text": [
      "distributed.utils_perf - WARNING - full garbage collections took 25% CPU time recently (threshold: 10%)\n"
     ]
    },
    {
     "name": "stdout",
     "output_type": "stream",
     "text": [
      "{'num_masks': 4, 'n_workers': 8, 'stackheight': 8, 'time': 1.5220329761505127}\n"
     ]
    },
    {
     "name": "stderr",
     "output_type": "stream",
     "text": [
      "distributed.utils_perf - WARNING - full garbage collections took 25% CPU time recently (threshold: 10%)\n"
     ]
    },
    {
     "name": "stdout",
     "output_type": "stream",
     "text": [
      "{'num_masks': 4, 'n_workers': 8, 'stackheight': 8, 'time': 1.5376996994018555}\n"
     ]
    },
    {
     "name": "stderr",
     "output_type": "stream",
     "text": [
      "distributed.utils_perf - WARNING - full garbage collections took 25% CPU time recently (threshold: 10%)\n"
     ]
    },
    {
     "name": "stdout",
     "output_type": "stream",
     "text": [
      "{'num_masks': 4, 'n_workers': 8, 'stackheight': 8, 'time': 1.5190131664276123}\n"
     ]
    },
    {
     "name": "stderr",
     "output_type": "stream",
     "text": [
      "distributed.utils_perf - WARNING - full garbage collections took 25% CPU time recently (threshold: 10%)\n",
      "distributed.utils_perf - WARNING - full garbage collections took 26% CPU time recently (threshold: 10%)\n"
     ]
    },
    {
     "name": "stdout",
     "output_type": "stream",
     "text": [
      "{'num_masks': 8, 'n_workers': 8, 'stackheight': 4, 'time': 2.045088529586792}\n"
     ]
    },
    {
     "name": "stderr",
     "output_type": "stream",
     "text": [
      "distributed.utils_perf - WARNING - full garbage collections took 26% CPU time recently (threshold: 10%)\n",
      "distributed.utils_perf - WARNING - full garbage collections took 26% CPU time recently (threshold: 10%)\n"
     ]
    },
    {
     "name": "stdout",
     "output_type": "stream",
     "text": [
      "{'num_masks': 8, 'n_workers': 8, 'stackheight': 4, 'time': 1.9336214065551758}\n"
     ]
    },
    {
     "name": "stderr",
     "output_type": "stream",
     "text": [
      "distributed.utils_perf - WARNING - full garbage collections took 26% CPU time recently (threshold: 10%)\n",
      "distributed.utils_perf - WARNING - full garbage collections took 26% CPU time recently (threshold: 10%)\n"
     ]
    },
    {
     "name": "stdout",
     "output_type": "stream",
     "text": [
      "{'num_masks': 8, 'n_workers': 8, 'stackheight': 4, 'time': 1.9742305278778076}\n"
     ]
    },
    {
     "name": "stderr",
     "output_type": "stream",
     "text": [
      "distributed.utils_perf - WARNING - full garbage collections took 26% CPU time recently (threshold: 10%)\n"
     ]
    },
    {
     "name": "stdout",
     "output_type": "stream",
     "text": [
      "{'num_masks': 8, 'n_workers': 8, 'stackheight': 8, 'time': 1.8452787399291992}\n"
     ]
    },
    {
     "name": "stderr",
     "output_type": "stream",
     "text": [
      "distributed.utils_perf - WARNING - full garbage collections took 26% CPU time recently (threshold: 10%)\n"
     ]
    },
    {
     "name": "stdout",
     "output_type": "stream",
     "text": [
      "{'num_masks': 8, 'n_workers': 8, 'stackheight': 8, 'time': 1.8737311363220215}\n"
     ]
    },
    {
     "name": "stderr",
     "output_type": "stream",
     "text": [
      "distributed.utils_perf - WARNING - full garbage collections took 25% CPU time recently (threshold: 10%)\n"
     ]
    },
    {
     "name": "stdout",
     "output_type": "stream",
     "text": [
      "{'num_masks': 8, 'n_workers': 8, 'stackheight': 8, 'time': 1.8943374156951904}\n"
     ]
    },
    {
     "name": "stderr",
     "output_type": "stream",
     "text": [
      "distributed.utils_perf - WARNING - full garbage collections took 25% CPU time recently (threshold: 10%)\n",
      "distributed.utils_perf - WARNING - full garbage collections took 25% CPU time recently (threshold: 10%)\n"
     ]
    },
    {
     "name": "stdout",
     "output_type": "stream",
     "text": [
      "{'num_masks': 16, 'n_workers': 8, 'stackheight': 4, 'time': 2.894580125808716}\n"
     ]
    },
    {
     "name": "stderr",
     "output_type": "stream",
     "text": [
      "distributed.utils_perf - WARNING - full garbage collections took 25% CPU time recently (threshold: 10%)\n",
      "distributed.utils_perf - WARNING - full garbage collections took 25% CPU time recently (threshold: 10%)\n"
     ]
    },
    {
     "name": "stdout",
     "output_type": "stream",
     "text": [
      "{'num_masks': 16, 'n_workers': 8, 'stackheight': 4, 'time': 2.808317184448242}\n"
     ]
    },
    {
     "name": "stderr",
     "output_type": "stream",
     "text": [
      "distributed.utils_perf - WARNING - full garbage collections took 25% CPU time recently (threshold: 10%)\n",
      "distributed.utils_perf - WARNING - full garbage collections took 25% CPU time recently (threshold: 10%)\n"
     ]
    },
    {
     "name": "stdout",
     "output_type": "stream",
     "text": [
      "{'num_masks': 16, 'n_workers': 8, 'stackheight': 4, 'time': 2.83225679397583}\n"
     ]
    },
    {
     "name": "stderr",
     "output_type": "stream",
     "text": [
      "distributed.utils_perf - WARNING - full garbage collections took 26% CPU time recently (threshold: 10%)\n"
     ]
    },
    {
     "name": "stdout",
     "output_type": "stream",
     "text": [
      "{'num_masks': 16, 'n_workers': 8, 'stackheight': 8, 'time': 2.4775044918060303}\n"
     ]
    },
    {
     "name": "stderr",
     "output_type": "stream",
     "text": [
      "distributed.utils_perf - WARNING - full garbage collections took 26% CPU time recently (threshold: 10%)\n"
     ]
    },
    {
     "name": "stdout",
     "output_type": "stream",
     "text": [
      "{'num_masks': 16, 'n_workers': 8, 'stackheight': 8, 'time': 2.38944673538208}\n",
      "{'num_masks': 16, 'n_workers': 8, 'stackheight': 8, 'time': 2.4131054878234863}\n"
     ]
    }
   ],
   "source": [
    "results = []\n",
    "for n_workers in range(1, 9):\n",
    "    cluster = executor.client.cluster\n",
    "    cluster.scale_up(n_workers, ncores=1)\n",
    "    for num_masks in [1, 2, 4, 8, 16]:\n",
    "        for stackheight in [4, 8]:\n",
    "            for repeat in range(3):\n",
    "                gc.collect()\n",
    "                t0 = time.time()\n",
    "                process_with_params(num_masks=num_masks + 1, stackheight=stackheight)\n",
    "                t1 = time.time()\n",
    "                result = {\n",
    "                    \"num_masks\": num_masks,\n",
    "                    \"n_workers\": n_workers,\n",
    "                    \"stackheight\": stackheight,\n",
    "                    \"time\": t1 - t0,\n",
    "                }\n",
    "                results.append(result)\n",
    "                print(result)"
   ]
  },
  {
   "cell_type": "code",
   "execution_count": 26,
   "metadata": {},
   "outputs": [],
   "source": [
    "df = pd.DataFrame(results)"
   ]
  },
  {
   "cell_type": "code",
   "execution_count": 27,
   "metadata": {},
   "outputs": [
    {
     "data": {
      "application/javascript": [
       "/* Put everything inside the global mpl namespace */\n",
       "window.mpl = {};\n",
       "\n",
       "\n",
       "mpl.get_websocket_type = function() {\n",
       "    if (typeof(WebSocket) !== 'undefined') {\n",
       "        return WebSocket;\n",
       "    } else if (typeof(MozWebSocket) !== 'undefined') {\n",
       "        return MozWebSocket;\n",
       "    } else {\n",
       "        alert('Your browser does not have WebSocket support.' +\n",
       "              'Please try Chrome, Safari or Firefox ≥ 6. ' +\n",
       "              'Firefox 4 and 5 are also supported but you ' +\n",
       "              'have to enable WebSockets in about:config.');\n",
       "    };\n",
       "}\n",
       "\n",
       "mpl.figure = function(figure_id, websocket, ondownload, parent_element) {\n",
       "    this.id = figure_id;\n",
       "\n",
       "    this.ws = websocket;\n",
       "\n",
       "    this.supports_binary = (this.ws.binaryType != undefined);\n",
       "\n",
       "    if (!this.supports_binary) {\n",
       "        var warnings = document.getElementById(\"mpl-warnings\");\n",
       "        if (warnings) {\n",
       "            warnings.style.display = 'block';\n",
       "            warnings.textContent = (\n",
       "                \"This browser does not support binary websocket messages. \" +\n",
       "                    \"Performance may be slow.\");\n",
       "        }\n",
       "    }\n",
       "\n",
       "    this.imageObj = new Image();\n",
       "\n",
       "    this.context = undefined;\n",
       "    this.message = undefined;\n",
       "    this.canvas = undefined;\n",
       "    this.rubberband_canvas = undefined;\n",
       "    this.rubberband_context = undefined;\n",
       "    this.format_dropdown = undefined;\n",
       "\n",
       "    this.image_mode = 'full';\n",
       "\n",
       "    this.root = $('<div/>');\n",
       "    this._root_extra_style(this.root)\n",
       "    this.root.attr('style', 'display: inline-block');\n",
       "\n",
       "    $(parent_element).append(this.root);\n",
       "\n",
       "    this._init_header(this);\n",
       "    this._init_canvas(this);\n",
       "    this._init_toolbar(this);\n",
       "\n",
       "    var fig = this;\n",
       "\n",
       "    this.waiting = false;\n",
       "\n",
       "    this.ws.onopen =  function () {\n",
       "            fig.send_message(\"supports_binary\", {value: fig.supports_binary});\n",
       "            fig.send_message(\"send_image_mode\", {});\n",
       "            if (mpl.ratio != 1) {\n",
       "                fig.send_message(\"set_dpi_ratio\", {'dpi_ratio': mpl.ratio});\n",
       "            }\n",
       "            fig.send_message(\"refresh\", {});\n",
       "        }\n",
       "\n",
       "    this.imageObj.onload = function() {\n",
       "            if (fig.image_mode == 'full') {\n",
       "                // Full images could contain transparency (where diff images\n",
       "                // almost always do), so we need to clear the canvas so that\n",
       "                // there is no ghosting.\n",
       "                fig.context.clearRect(0, 0, fig.canvas.width, fig.canvas.height);\n",
       "            }\n",
       "            fig.context.drawImage(fig.imageObj, 0, 0);\n",
       "        };\n",
       "\n",
       "    this.imageObj.onunload = function() {\n",
       "        fig.ws.close();\n",
       "    }\n",
       "\n",
       "    this.ws.onmessage = this._make_on_message_function(this);\n",
       "\n",
       "    this.ondownload = ondownload;\n",
       "}\n",
       "\n",
       "mpl.figure.prototype._init_header = function() {\n",
       "    var titlebar = $(\n",
       "        '<div class=\"ui-dialog-titlebar ui-widget-header ui-corner-all ' +\n",
       "        'ui-helper-clearfix\"/>');\n",
       "    var titletext = $(\n",
       "        '<div class=\"ui-dialog-title\" style=\"width: 100%; ' +\n",
       "        'text-align: center; padding: 3px;\"/>');\n",
       "    titlebar.append(titletext)\n",
       "    this.root.append(titlebar);\n",
       "    this.header = titletext[0];\n",
       "}\n",
       "\n",
       "\n",
       "\n",
       "mpl.figure.prototype._canvas_extra_style = function(canvas_div) {\n",
       "\n",
       "}\n",
       "\n",
       "\n",
       "mpl.figure.prototype._root_extra_style = function(canvas_div) {\n",
       "\n",
       "}\n",
       "\n",
       "mpl.figure.prototype._init_canvas = function() {\n",
       "    var fig = this;\n",
       "\n",
       "    var canvas_div = $('<div/>');\n",
       "\n",
       "    canvas_div.attr('style', 'position: relative; clear: both; outline: 0');\n",
       "\n",
       "    function canvas_keyboard_event(event) {\n",
       "        return fig.key_event(event, event['data']);\n",
       "    }\n",
       "\n",
       "    canvas_div.keydown('key_press', canvas_keyboard_event);\n",
       "    canvas_div.keyup('key_release', canvas_keyboard_event);\n",
       "    this.canvas_div = canvas_div\n",
       "    this._canvas_extra_style(canvas_div)\n",
       "    this.root.append(canvas_div);\n",
       "\n",
       "    var canvas = $('<canvas/>');\n",
       "    canvas.addClass('mpl-canvas');\n",
       "    canvas.attr('style', \"left: 0; top: 0; z-index: 0; outline: 0\")\n",
       "\n",
       "    this.canvas = canvas[0];\n",
       "    this.context = canvas[0].getContext(\"2d\");\n",
       "\n",
       "    var backingStore = this.context.backingStorePixelRatio ||\n",
       "\tthis.context.webkitBackingStorePixelRatio ||\n",
       "\tthis.context.mozBackingStorePixelRatio ||\n",
       "\tthis.context.msBackingStorePixelRatio ||\n",
       "\tthis.context.oBackingStorePixelRatio ||\n",
       "\tthis.context.backingStorePixelRatio || 1;\n",
       "\n",
       "    mpl.ratio = (window.devicePixelRatio || 1) / backingStore;\n",
       "\n",
       "    var rubberband = $('<canvas/>');\n",
       "    rubberband.attr('style', \"position: absolute; left: 0; top: 0; z-index: 1;\")\n",
       "\n",
       "    var pass_mouse_events = true;\n",
       "\n",
       "    canvas_div.resizable({\n",
       "        start: function(event, ui) {\n",
       "            pass_mouse_events = false;\n",
       "        },\n",
       "        resize: function(event, ui) {\n",
       "            fig.request_resize(ui.size.width, ui.size.height);\n",
       "        },\n",
       "        stop: function(event, ui) {\n",
       "            pass_mouse_events = true;\n",
       "            fig.request_resize(ui.size.width, ui.size.height);\n",
       "        },\n",
       "    });\n",
       "\n",
       "    function mouse_event_fn(event) {\n",
       "        if (pass_mouse_events)\n",
       "            return fig.mouse_event(event, event['data']);\n",
       "    }\n",
       "\n",
       "    rubberband.mousedown('button_press', mouse_event_fn);\n",
       "    rubberband.mouseup('button_release', mouse_event_fn);\n",
       "    // Throttle sequential mouse events to 1 every 20ms.\n",
       "    rubberband.mousemove('motion_notify', mouse_event_fn);\n",
       "\n",
       "    rubberband.mouseenter('figure_enter', mouse_event_fn);\n",
       "    rubberband.mouseleave('figure_leave', mouse_event_fn);\n",
       "\n",
       "    canvas_div.on(\"wheel\", function (event) {\n",
       "        event = event.originalEvent;\n",
       "        event['data'] = 'scroll'\n",
       "        if (event.deltaY < 0) {\n",
       "            event.step = 1;\n",
       "        } else {\n",
       "            event.step = -1;\n",
       "        }\n",
       "        mouse_event_fn(event);\n",
       "    });\n",
       "\n",
       "    canvas_div.append(canvas);\n",
       "    canvas_div.append(rubberband);\n",
       "\n",
       "    this.rubberband = rubberband;\n",
       "    this.rubberband_canvas = rubberband[0];\n",
       "    this.rubberband_context = rubberband[0].getContext(\"2d\");\n",
       "    this.rubberband_context.strokeStyle = \"#000000\";\n",
       "\n",
       "    this._resize_canvas = function(width, height) {\n",
       "        // Keep the size of the canvas, canvas container, and rubber band\n",
       "        // canvas in synch.\n",
       "        canvas_div.css('width', width)\n",
       "        canvas_div.css('height', height)\n",
       "\n",
       "        canvas.attr('width', width * mpl.ratio);\n",
       "        canvas.attr('height', height * mpl.ratio);\n",
       "        canvas.attr('style', 'width: ' + width + 'px; height: ' + height + 'px;');\n",
       "\n",
       "        rubberband.attr('width', width);\n",
       "        rubberband.attr('height', height);\n",
       "    }\n",
       "\n",
       "    // Set the figure to an initial 600x600px, this will subsequently be updated\n",
       "    // upon first draw.\n",
       "    this._resize_canvas(600, 600);\n",
       "\n",
       "    // Disable right mouse context menu.\n",
       "    $(this.rubberband_canvas).bind(\"contextmenu\",function(e){\n",
       "        return false;\n",
       "    });\n",
       "\n",
       "    function set_focus () {\n",
       "        canvas.focus();\n",
       "        canvas_div.focus();\n",
       "    }\n",
       "\n",
       "    window.setTimeout(set_focus, 100);\n",
       "}\n",
       "\n",
       "mpl.figure.prototype._init_toolbar = function() {\n",
       "    var fig = this;\n",
       "\n",
       "    var nav_element = $('<div/>')\n",
       "    nav_element.attr('style', 'width: 100%');\n",
       "    this.root.append(nav_element);\n",
       "\n",
       "    // Define a callback function for later on.\n",
       "    function toolbar_event(event) {\n",
       "        return fig.toolbar_button_onclick(event['data']);\n",
       "    }\n",
       "    function toolbar_mouse_event(event) {\n",
       "        return fig.toolbar_button_onmouseover(event['data']);\n",
       "    }\n",
       "\n",
       "    for(var toolbar_ind in mpl.toolbar_items) {\n",
       "        var name = mpl.toolbar_items[toolbar_ind][0];\n",
       "        var tooltip = mpl.toolbar_items[toolbar_ind][1];\n",
       "        var image = mpl.toolbar_items[toolbar_ind][2];\n",
       "        var method_name = mpl.toolbar_items[toolbar_ind][3];\n",
       "\n",
       "        if (!name) {\n",
       "            // put a spacer in here.\n",
       "            continue;\n",
       "        }\n",
       "        var button = $('<button/>');\n",
       "        button.addClass('ui-button ui-widget ui-state-default ui-corner-all ' +\n",
       "                        'ui-button-icon-only');\n",
       "        button.attr('role', 'button');\n",
       "        button.attr('aria-disabled', 'false');\n",
       "        button.click(method_name, toolbar_event);\n",
       "        button.mouseover(tooltip, toolbar_mouse_event);\n",
       "\n",
       "        var icon_img = $('<span/>');\n",
       "        icon_img.addClass('ui-button-icon-primary ui-icon');\n",
       "        icon_img.addClass(image);\n",
       "        icon_img.addClass('ui-corner-all');\n",
       "\n",
       "        var tooltip_span = $('<span/>');\n",
       "        tooltip_span.addClass('ui-button-text');\n",
       "        tooltip_span.html(tooltip);\n",
       "\n",
       "        button.append(icon_img);\n",
       "        button.append(tooltip_span);\n",
       "\n",
       "        nav_element.append(button);\n",
       "    }\n",
       "\n",
       "    var fmt_picker_span = $('<span/>');\n",
       "\n",
       "    var fmt_picker = $('<select/>');\n",
       "    fmt_picker.addClass('mpl-toolbar-option ui-widget ui-widget-content');\n",
       "    fmt_picker_span.append(fmt_picker);\n",
       "    nav_element.append(fmt_picker_span);\n",
       "    this.format_dropdown = fmt_picker[0];\n",
       "\n",
       "    for (var ind in mpl.extensions) {\n",
       "        var fmt = mpl.extensions[ind];\n",
       "        var option = $(\n",
       "            '<option/>', {selected: fmt === mpl.default_extension}).html(fmt);\n",
       "        fmt_picker.append(option)\n",
       "    }\n",
       "\n",
       "    // Add hover states to the ui-buttons\n",
       "    $( \".ui-button\" ).hover(\n",
       "        function() { $(this).addClass(\"ui-state-hover\");},\n",
       "        function() { $(this).removeClass(\"ui-state-hover\");}\n",
       "    );\n",
       "\n",
       "    var status_bar = $('<span class=\"mpl-message\"/>');\n",
       "    nav_element.append(status_bar);\n",
       "    this.message = status_bar[0];\n",
       "}\n",
       "\n",
       "mpl.figure.prototype.request_resize = function(x_pixels, y_pixels) {\n",
       "    // Request matplotlib to resize the figure. Matplotlib will then trigger a resize in the client,\n",
       "    // which will in turn request a refresh of the image.\n",
       "    this.send_message('resize', {'width': x_pixels, 'height': y_pixels});\n",
       "}\n",
       "\n",
       "mpl.figure.prototype.send_message = function(type, properties) {\n",
       "    properties['type'] = type;\n",
       "    properties['figure_id'] = this.id;\n",
       "    this.ws.send(JSON.stringify(properties));\n",
       "}\n",
       "\n",
       "mpl.figure.prototype.send_draw_message = function() {\n",
       "    if (!this.waiting) {\n",
       "        this.waiting = true;\n",
       "        this.ws.send(JSON.stringify({type: \"draw\", figure_id: this.id}));\n",
       "    }\n",
       "}\n",
       "\n",
       "\n",
       "mpl.figure.prototype.handle_save = function(fig, msg) {\n",
       "    var format_dropdown = fig.format_dropdown;\n",
       "    var format = format_dropdown.options[format_dropdown.selectedIndex].value;\n",
       "    fig.ondownload(fig, format);\n",
       "}\n",
       "\n",
       "\n",
       "mpl.figure.prototype.handle_resize = function(fig, msg) {\n",
       "    var size = msg['size'];\n",
       "    if (size[0] != fig.canvas.width || size[1] != fig.canvas.height) {\n",
       "        fig._resize_canvas(size[0], size[1]);\n",
       "        fig.send_message(\"refresh\", {});\n",
       "    };\n",
       "}\n",
       "\n",
       "mpl.figure.prototype.handle_rubberband = function(fig, msg) {\n",
       "    var x0 = msg['x0'] / mpl.ratio;\n",
       "    var y0 = (fig.canvas.height - msg['y0']) / mpl.ratio;\n",
       "    var x1 = msg['x1'] / mpl.ratio;\n",
       "    var y1 = (fig.canvas.height - msg['y1']) / mpl.ratio;\n",
       "    x0 = Math.floor(x0) + 0.5;\n",
       "    y0 = Math.floor(y0) + 0.5;\n",
       "    x1 = Math.floor(x1) + 0.5;\n",
       "    y1 = Math.floor(y1) + 0.5;\n",
       "    var min_x = Math.min(x0, x1);\n",
       "    var min_y = Math.min(y0, y1);\n",
       "    var width = Math.abs(x1 - x0);\n",
       "    var height = Math.abs(y1 - y0);\n",
       "\n",
       "    fig.rubberband_context.clearRect(\n",
       "        0, 0, fig.canvas.width, fig.canvas.height);\n",
       "\n",
       "    fig.rubberband_context.strokeRect(min_x, min_y, width, height);\n",
       "}\n",
       "\n",
       "mpl.figure.prototype.handle_figure_label = function(fig, msg) {\n",
       "    // Updates the figure title.\n",
       "    fig.header.textContent = msg['label'];\n",
       "}\n",
       "\n",
       "mpl.figure.prototype.handle_cursor = function(fig, msg) {\n",
       "    var cursor = msg['cursor'];\n",
       "    switch(cursor)\n",
       "    {\n",
       "    case 0:\n",
       "        cursor = 'pointer';\n",
       "        break;\n",
       "    case 1:\n",
       "        cursor = 'default';\n",
       "        break;\n",
       "    case 2:\n",
       "        cursor = 'crosshair';\n",
       "        break;\n",
       "    case 3:\n",
       "        cursor = 'move';\n",
       "        break;\n",
       "    }\n",
       "    fig.rubberband_canvas.style.cursor = cursor;\n",
       "}\n",
       "\n",
       "mpl.figure.prototype.handle_message = function(fig, msg) {\n",
       "    fig.message.textContent = msg['message'];\n",
       "}\n",
       "\n",
       "mpl.figure.prototype.handle_draw = function(fig, msg) {\n",
       "    // Request the server to send over a new figure.\n",
       "    fig.send_draw_message();\n",
       "}\n",
       "\n",
       "mpl.figure.prototype.handle_image_mode = function(fig, msg) {\n",
       "    fig.image_mode = msg['mode'];\n",
       "}\n",
       "\n",
       "mpl.figure.prototype.updated_canvas_event = function() {\n",
       "    // Called whenever the canvas gets updated.\n",
       "    this.send_message(\"ack\", {});\n",
       "}\n",
       "\n",
       "// A function to construct a web socket function for onmessage handling.\n",
       "// Called in the figure constructor.\n",
       "mpl.figure.prototype._make_on_message_function = function(fig) {\n",
       "    return function socket_on_message(evt) {\n",
       "        if (evt.data instanceof Blob) {\n",
       "            /* FIXME: We get \"Resource interpreted as Image but\n",
       "             * transferred with MIME type text/plain:\" errors on\n",
       "             * Chrome.  But how to set the MIME type?  It doesn't seem\n",
       "             * to be part of the websocket stream */\n",
       "            evt.data.type = \"image/png\";\n",
       "\n",
       "            /* Free the memory for the previous frames */\n",
       "            if (fig.imageObj.src) {\n",
       "                (window.URL || window.webkitURL).revokeObjectURL(\n",
       "                    fig.imageObj.src);\n",
       "            }\n",
       "\n",
       "            fig.imageObj.src = (window.URL || window.webkitURL).createObjectURL(\n",
       "                evt.data);\n",
       "            fig.updated_canvas_event();\n",
       "            fig.waiting = false;\n",
       "            return;\n",
       "        }\n",
       "        else if (typeof evt.data === 'string' && evt.data.slice(0, 21) == \"data:image/png;base64\") {\n",
       "            fig.imageObj.src = evt.data;\n",
       "            fig.updated_canvas_event();\n",
       "            fig.waiting = false;\n",
       "            return;\n",
       "        }\n",
       "\n",
       "        var msg = JSON.parse(evt.data);\n",
       "        var msg_type = msg['type'];\n",
       "\n",
       "        // Call the  \"handle_{type}\" callback, which takes\n",
       "        // the figure and JSON message as its only arguments.\n",
       "        try {\n",
       "            var callback = fig[\"handle_\" + msg_type];\n",
       "        } catch (e) {\n",
       "            console.log(\"No handler for the '\" + msg_type + \"' message type: \", msg);\n",
       "            return;\n",
       "        }\n",
       "\n",
       "        if (callback) {\n",
       "            try {\n",
       "                // console.log(\"Handling '\" + msg_type + \"' message: \", msg);\n",
       "                callback(fig, msg);\n",
       "            } catch (e) {\n",
       "                console.log(\"Exception inside the 'handler_\" + msg_type + \"' callback:\", e, e.stack, msg);\n",
       "            }\n",
       "        }\n",
       "    };\n",
       "}\n",
       "\n",
       "// from http://stackoverflow.com/questions/1114465/getting-mouse-location-in-canvas\n",
       "mpl.findpos = function(e) {\n",
       "    //this section is from http://www.quirksmode.org/js/events_properties.html\n",
       "    var targ;\n",
       "    if (!e)\n",
       "        e = window.event;\n",
       "    if (e.target)\n",
       "        targ = e.target;\n",
       "    else if (e.srcElement)\n",
       "        targ = e.srcElement;\n",
       "    if (targ.nodeType == 3) // defeat Safari bug\n",
       "        targ = targ.parentNode;\n",
       "\n",
       "    // jQuery normalizes the pageX and pageY\n",
       "    // pageX,Y are the mouse positions relative to the document\n",
       "    // offset() returns the position of the element relative to the document\n",
       "    var x = e.pageX - $(targ).offset().left;\n",
       "    var y = e.pageY - $(targ).offset().top;\n",
       "\n",
       "    return {\"x\": x, \"y\": y};\n",
       "};\n",
       "\n",
       "/*\n",
       " * return a copy of an object with only non-object keys\n",
       " * we need this to avoid circular references\n",
       " * http://stackoverflow.com/a/24161582/3208463\n",
       " */\n",
       "function simpleKeys (original) {\n",
       "  return Object.keys(original).reduce(function (obj, key) {\n",
       "    if (typeof original[key] !== 'object')\n",
       "        obj[key] = original[key]\n",
       "    return obj;\n",
       "  }, {});\n",
       "}\n",
       "\n",
       "mpl.figure.prototype.mouse_event = function(event, name) {\n",
       "    var canvas_pos = mpl.findpos(event)\n",
       "\n",
       "    if (name === 'button_press')\n",
       "    {\n",
       "        this.canvas.focus();\n",
       "        this.canvas_div.focus();\n",
       "    }\n",
       "\n",
       "    var x = canvas_pos.x * mpl.ratio;\n",
       "    var y = canvas_pos.y * mpl.ratio;\n",
       "\n",
       "    this.send_message(name, {x: x, y: y, button: event.button,\n",
       "                             step: event.step,\n",
       "                             guiEvent: simpleKeys(event)});\n",
       "\n",
       "    /* This prevents the web browser from automatically changing to\n",
       "     * the text insertion cursor when the button is pressed.  We want\n",
       "     * to control all of the cursor setting manually through the\n",
       "     * 'cursor' event from matplotlib */\n",
       "    event.preventDefault();\n",
       "    return false;\n",
       "}\n",
       "\n",
       "mpl.figure.prototype._key_event_extra = function(event, name) {\n",
       "    // Handle any extra behaviour associated with a key event\n",
       "}\n",
       "\n",
       "mpl.figure.prototype.key_event = function(event, name) {\n",
       "\n",
       "    // Prevent repeat events\n",
       "    if (name == 'key_press')\n",
       "    {\n",
       "        if (event.which === this._key)\n",
       "            return;\n",
       "        else\n",
       "            this._key = event.which;\n",
       "    }\n",
       "    if (name == 'key_release')\n",
       "        this._key = null;\n",
       "\n",
       "    var value = '';\n",
       "    if (event.ctrlKey && event.which != 17)\n",
       "        value += \"ctrl+\";\n",
       "    if (event.altKey && event.which != 18)\n",
       "        value += \"alt+\";\n",
       "    if (event.shiftKey && event.which != 16)\n",
       "        value += \"shift+\";\n",
       "\n",
       "    value += 'k';\n",
       "    value += event.which.toString();\n",
       "\n",
       "    this._key_event_extra(event, name);\n",
       "\n",
       "    this.send_message(name, {key: value,\n",
       "                             guiEvent: simpleKeys(event)});\n",
       "    return false;\n",
       "}\n",
       "\n",
       "mpl.figure.prototype.toolbar_button_onclick = function(name) {\n",
       "    if (name == 'download') {\n",
       "        this.handle_save(this, null);\n",
       "    } else {\n",
       "        this.send_message(\"toolbar_button\", {name: name});\n",
       "    }\n",
       "};\n",
       "\n",
       "mpl.figure.prototype.toolbar_button_onmouseover = function(tooltip) {\n",
       "    this.message.textContent = tooltip;\n",
       "};\n",
       "mpl.toolbar_items = [[\"Home\", \"Reset original view\", \"fa fa-home icon-home\", \"home\"], [\"Back\", \"Back to  previous view\", \"fa fa-arrow-left icon-arrow-left\", \"back\"], [\"Forward\", \"Forward to next view\", \"fa fa-arrow-right icon-arrow-right\", \"forward\"], [\"\", \"\", \"\", \"\"], [\"Pan\", \"Pan axes with left mouse, zoom with right\", \"fa fa-arrows icon-move\", \"pan\"], [\"Zoom\", \"Zoom to rectangle\", \"fa fa-square-o icon-check-empty\", \"zoom\"], [\"\", \"\", \"\", \"\"], [\"Download\", \"Download plot\", \"fa fa-floppy-o icon-save\", \"download\"]];\n",
       "\n",
       "mpl.extensions = [\"eps\", \"jpeg\", \"pdf\", \"png\", \"ps\", \"raw\", \"svg\", \"tif\"];\n",
       "\n",
       "mpl.default_extension = \"png\";var comm_websocket_adapter = function(comm) {\n",
       "    // Create a \"websocket\"-like object which calls the given IPython comm\n",
       "    // object with the appropriate methods. Currently this is a non binary\n",
       "    // socket, so there is still some room for performance tuning.\n",
       "    var ws = {};\n",
       "\n",
       "    ws.close = function() {\n",
       "        comm.close()\n",
       "    };\n",
       "    ws.send = function(m) {\n",
       "        //console.log('sending', m);\n",
       "        comm.send(m);\n",
       "    };\n",
       "    // Register the callback with on_msg.\n",
       "    comm.on_msg(function(msg) {\n",
       "        //console.log('receiving', msg['content']['data'], msg);\n",
       "        // Pass the mpl event to the overridden (by mpl) onmessage function.\n",
       "        ws.onmessage(msg['content']['data'])\n",
       "    });\n",
       "    return ws;\n",
       "}\n",
       "\n",
       "mpl.mpl_figure_comm = function(comm, msg) {\n",
       "    // This is the function which gets called when the mpl process\n",
       "    // starts-up an IPython Comm through the \"matplotlib\" channel.\n",
       "\n",
       "    var id = msg.content.data.id;\n",
       "    // Get hold of the div created by the display call when the Comm\n",
       "    // socket was opened in Python.\n",
       "    var element = $(\"#\" + id);\n",
       "    var ws_proxy = comm_websocket_adapter(comm)\n",
       "\n",
       "    function ondownload(figure, format) {\n",
       "        window.open(figure.imageObj.src);\n",
       "    }\n",
       "\n",
       "    var fig = new mpl.figure(id, ws_proxy,\n",
       "                           ondownload,\n",
       "                           element.get(0));\n",
       "\n",
       "    // Call onopen now - mpl needs it, as it is assuming we've passed it a real\n",
       "    // web socket which is closed, not our websocket->open comm proxy.\n",
       "    ws_proxy.onopen();\n",
       "\n",
       "    fig.parent_element = element.get(0);\n",
       "    fig.cell_info = mpl.find_output_cell(\"<div id='\" + id + \"'></div>\");\n",
       "    if (!fig.cell_info) {\n",
       "        console.error(\"Failed to find cell for figure\", id, fig);\n",
       "        return;\n",
       "    }\n",
       "\n",
       "    var output_index = fig.cell_info[2]\n",
       "    var cell = fig.cell_info[0];\n",
       "\n",
       "};\n",
       "\n",
       "mpl.figure.prototype.handle_close = function(fig, msg) {\n",
       "    var width = fig.canvas.width/mpl.ratio\n",
       "    fig.root.unbind('remove')\n",
       "\n",
       "    // Update the output cell to use the data from the current canvas.\n",
       "    fig.push_to_output();\n",
       "    var dataURL = fig.canvas.toDataURL();\n",
       "    // Re-enable the keyboard manager in IPython - without this line, in FF,\n",
       "    // the notebook keyboard shortcuts fail.\n",
       "    IPython.keyboard_manager.enable()\n",
       "    $(fig.parent_element).html('<img src=\"' + dataURL + '\" width=\"' + width + '\">');\n",
       "    fig.close_ws(fig, msg);\n",
       "}\n",
       "\n",
       "mpl.figure.prototype.close_ws = function(fig, msg){\n",
       "    fig.send_message('closing', msg);\n",
       "    // fig.ws.close()\n",
       "}\n",
       "\n",
       "mpl.figure.prototype.push_to_output = function(remove_interactive) {\n",
       "    // Turn the data on the canvas into data in the output cell.\n",
       "    var width = this.canvas.width/mpl.ratio\n",
       "    var dataURL = this.canvas.toDataURL();\n",
       "    this.cell_info[1]['text/html'] = '<img src=\"' + dataURL + '\" width=\"' + width + '\">';\n",
       "}\n",
       "\n",
       "mpl.figure.prototype.updated_canvas_event = function() {\n",
       "    // Tell IPython that the notebook contents must change.\n",
       "    IPython.notebook.set_dirty(true);\n",
       "    this.send_message(\"ack\", {});\n",
       "    var fig = this;\n",
       "    // Wait a second, then push the new image to the DOM so\n",
       "    // that it is saved nicely (might be nice to debounce this).\n",
       "    setTimeout(function () { fig.push_to_output() }, 1000);\n",
       "}\n",
       "\n",
       "mpl.figure.prototype._init_toolbar = function() {\n",
       "    var fig = this;\n",
       "\n",
       "    var nav_element = $('<div/>')\n",
       "    nav_element.attr('style', 'width: 100%');\n",
       "    this.root.append(nav_element);\n",
       "\n",
       "    // Define a callback function for later on.\n",
       "    function toolbar_event(event) {\n",
       "        return fig.toolbar_button_onclick(event['data']);\n",
       "    }\n",
       "    function toolbar_mouse_event(event) {\n",
       "        return fig.toolbar_button_onmouseover(event['data']);\n",
       "    }\n",
       "\n",
       "    for(var toolbar_ind in mpl.toolbar_items){\n",
       "        var name = mpl.toolbar_items[toolbar_ind][0];\n",
       "        var tooltip = mpl.toolbar_items[toolbar_ind][1];\n",
       "        var image = mpl.toolbar_items[toolbar_ind][2];\n",
       "        var method_name = mpl.toolbar_items[toolbar_ind][3];\n",
       "\n",
       "        if (!name) { continue; };\n",
       "\n",
       "        var button = $('<button class=\"btn btn-default\" href=\"#\" title=\"' + name + '\"><i class=\"fa ' + image + ' fa-lg\"></i></button>');\n",
       "        button.click(method_name, toolbar_event);\n",
       "        button.mouseover(tooltip, toolbar_mouse_event);\n",
       "        nav_element.append(button);\n",
       "    }\n",
       "\n",
       "    // Add the status bar.\n",
       "    var status_bar = $('<span class=\"mpl-message\" style=\"text-align:right; float: right;\"/>');\n",
       "    nav_element.append(status_bar);\n",
       "    this.message = status_bar[0];\n",
       "\n",
       "    // Add the close button to the window.\n",
       "    var buttongrp = $('<div class=\"btn-group inline pull-right\"></div>');\n",
       "    var button = $('<button class=\"btn btn-mini btn-primary\" href=\"#\" title=\"Stop Interaction\"><i class=\"fa fa-power-off icon-remove icon-large\"></i></button>');\n",
       "    button.click(function (evt) { fig.handle_close(fig, {}); } );\n",
       "    button.mouseover('Stop Interaction', toolbar_mouse_event);\n",
       "    buttongrp.append(button);\n",
       "    var titlebar = this.root.find($('.ui-dialog-titlebar'));\n",
       "    titlebar.prepend(buttongrp);\n",
       "}\n",
       "\n",
       "mpl.figure.prototype._root_extra_style = function(el){\n",
       "    var fig = this\n",
       "    el.on(\"remove\", function(){\n",
       "\tfig.close_ws(fig, {});\n",
       "    });\n",
       "}\n",
       "\n",
       "mpl.figure.prototype._canvas_extra_style = function(el){\n",
       "    // this is important to make the div 'focusable\n",
       "    el.attr('tabindex', 0)\n",
       "    // reach out to IPython and tell the keyboard manager to turn it's self\n",
       "    // off when our div gets focus\n",
       "\n",
       "    // location in version 3\n",
       "    if (IPython.notebook.keyboard_manager) {\n",
       "        IPython.notebook.keyboard_manager.register_events(el);\n",
       "    }\n",
       "    else {\n",
       "        // location in version 2\n",
       "        IPython.keyboard_manager.register_events(el);\n",
       "    }\n",
       "\n",
       "}\n",
       "\n",
       "mpl.figure.prototype._key_event_extra = function(event, name) {\n",
       "    var manager = IPython.notebook.keyboard_manager;\n",
       "    if (!manager)\n",
       "        manager = IPython.keyboard_manager;\n",
       "\n",
       "    // Check for shift+enter\n",
       "    if (event.shiftKey && event.which == 13) {\n",
       "        this.canvas_div.blur();\n",
       "        event.shiftKey = false;\n",
       "        // Send a \"J\" for go to next cell\n",
       "        event.which = 74;\n",
       "        event.keyCode = 74;\n",
       "        manager.command_mode();\n",
       "        manager.handle_keydown(event);\n",
       "    }\n",
       "}\n",
       "\n",
       "mpl.figure.prototype.handle_save = function(fig, msg) {\n",
       "    fig.ondownload(fig, null);\n",
       "}\n",
       "\n",
       "\n",
       "mpl.find_output_cell = function(html_output) {\n",
       "    // Return the cell and output element which can be found *uniquely* in the notebook.\n",
       "    // Note - this is a bit hacky, but it is done because the \"notebook_saving.Notebook\"\n",
       "    // IPython event is triggered only after the cells have been serialised, which for\n",
       "    // our purposes (turning an active figure into a static one), is too late.\n",
       "    var cells = IPython.notebook.get_cells();\n",
       "    var ncells = cells.length;\n",
       "    for (var i=0; i<ncells; i++) {\n",
       "        var cell = cells[i];\n",
       "        if (cell.cell_type === 'code'){\n",
       "            for (var j=0; j<cell.output_area.outputs.length; j++) {\n",
       "                var data = cell.output_area.outputs[j];\n",
       "                if (data.data) {\n",
       "                    // IPython >= 3 moved mimebundle to data attribute of output\n",
       "                    data = data.data;\n",
       "                }\n",
       "                if (data['text/html'] == html_output) {\n",
       "                    return [cell, data, j];\n",
       "                }\n",
       "            }\n",
       "        }\n",
       "    }\n",
       "}\n",
       "\n",
       "// Register the function which deals with the matplotlib target/channel.\n",
       "// The kernel may be null if the page has been refreshed.\n",
       "if (IPython.notebook.kernel != null) {\n",
       "    IPython.notebook.kernel.comm_manager.register_target('matplotlib', mpl.mpl_figure_comm);\n",
       "}\n"
      ],
      "text/plain": [
       "<IPython.core.display.Javascript object>"
      ]
     },
     "metadata": {},
     "output_type": "display_data"
    },
    {
     "data": {
      "text/html": [
       "<img src=\"data:image/png;base64,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\" width=\"973\">"
      ],
      "text/plain": [
       "<IPython.core.display.HTML object>"
      ]
     },
     "metadata": {},
     "output_type": "display_data"
    }
   ],
   "source": [
    "table = df.pivot_table(values='time', columns=['stackheight', \"n_workers\"], index=[\"num_masks\"])\n",
    "cmap = \"RdYlGn_r\"\n",
    "seaborn.heatmap(table, annot=True, cmap=cmap, fmt=\".2f\")\n",
    "plt.show()"
   ]
  },
  {
   "cell_type": "code",
   "execution_count": 28,
   "metadata": {
    "scrolled": false
   },
   "outputs": [
    {
     "data": {
      "application/javascript": [
       "/* Put everything inside the global mpl namespace */\n",
       "window.mpl = {};\n",
       "\n",
       "\n",
       "mpl.get_websocket_type = function() {\n",
       "    if (typeof(WebSocket) !== 'undefined') {\n",
       "        return WebSocket;\n",
       "    } else if (typeof(MozWebSocket) !== 'undefined') {\n",
       "        return MozWebSocket;\n",
       "    } else {\n",
       "        alert('Your browser does not have WebSocket support.' +\n",
       "              'Please try Chrome, Safari or Firefox ≥ 6. ' +\n",
       "              'Firefox 4 and 5 are also supported but you ' +\n",
       "              'have to enable WebSockets in about:config.');\n",
       "    };\n",
       "}\n",
       "\n",
       "mpl.figure = function(figure_id, websocket, ondownload, parent_element) {\n",
       "    this.id = figure_id;\n",
       "\n",
       "    this.ws = websocket;\n",
       "\n",
       "    this.supports_binary = (this.ws.binaryType != undefined);\n",
       "\n",
       "    if (!this.supports_binary) {\n",
       "        var warnings = document.getElementById(\"mpl-warnings\");\n",
       "        if (warnings) {\n",
       "            warnings.style.display = 'block';\n",
       "            warnings.textContent = (\n",
       "                \"This browser does not support binary websocket messages. \" +\n",
       "                    \"Performance may be slow.\");\n",
       "        }\n",
       "    }\n",
       "\n",
       "    this.imageObj = new Image();\n",
       "\n",
       "    this.context = undefined;\n",
       "    this.message = undefined;\n",
       "    this.canvas = undefined;\n",
       "    this.rubberband_canvas = undefined;\n",
       "    this.rubberband_context = undefined;\n",
       "    this.format_dropdown = undefined;\n",
       "\n",
       "    this.image_mode = 'full';\n",
       "\n",
       "    this.root = $('<div/>');\n",
       "    this._root_extra_style(this.root)\n",
       "    this.root.attr('style', 'display: inline-block');\n",
       "\n",
       "    $(parent_element).append(this.root);\n",
       "\n",
       "    this._init_header(this);\n",
       "    this._init_canvas(this);\n",
       "    this._init_toolbar(this);\n",
       "\n",
       "    var fig = this;\n",
       "\n",
       "    this.waiting = false;\n",
       "\n",
       "    this.ws.onopen =  function () {\n",
       "            fig.send_message(\"supports_binary\", {value: fig.supports_binary});\n",
       "            fig.send_message(\"send_image_mode\", {});\n",
       "            if (mpl.ratio != 1) {\n",
       "                fig.send_message(\"set_dpi_ratio\", {'dpi_ratio': mpl.ratio});\n",
       "            }\n",
       "            fig.send_message(\"refresh\", {});\n",
       "        }\n",
       "\n",
       "    this.imageObj.onload = function() {\n",
       "            if (fig.image_mode == 'full') {\n",
       "                // Full images could contain transparency (where diff images\n",
       "                // almost always do), so we need to clear the canvas so that\n",
       "                // there is no ghosting.\n",
       "                fig.context.clearRect(0, 0, fig.canvas.width, fig.canvas.height);\n",
       "            }\n",
       "            fig.context.drawImage(fig.imageObj, 0, 0);\n",
       "        };\n",
       "\n",
       "    this.imageObj.onunload = function() {\n",
       "        fig.ws.close();\n",
       "    }\n",
       "\n",
       "    this.ws.onmessage = this._make_on_message_function(this);\n",
       "\n",
       "    this.ondownload = ondownload;\n",
       "}\n",
       "\n",
       "mpl.figure.prototype._init_header = function() {\n",
       "    var titlebar = $(\n",
       "        '<div class=\"ui-dialog-titlebar ui-widget-header ui-corner-all ' +\n",
       "        'ui-helper-clearfix\"/>');\n",
       "    var titletext = $(\n",
       "        '<div class=\"ui-dialog-title\" style=\"width: 100%; ' +\n",
       "        'text-align: center; padding: 3px;\"/>');\n",
       "    titlebar.append(titletext)\n",
       "    this.root.append(titlebar);\n",
       "    this.header = titletext[0];\n",
       "}\n",
       "\n",
       "\n",
       "\n",
       "mpl.figure.prototype._canvas_extra_style = function(canvas_div) {\n",
       "\n",
       "}\n",
       "\n",
       "\n",
       "mpl.figure.prototype._root_extra_style = function(canvas_div) {\n",
       "\n",
       "}\n",
       "\n",
       "mpl.figure.prototype._init_canvas = function() {\n",
       "    var fig = this;\n",
       "\n",
       "    var canvas_div = $('<div/>');\n",
       "\n",
       "    canvas_div.attr('style', 'position: relative; clear: both; outline: 0');\n",
       "\n",
       "    function canvas_keyboard_event(event) {\n",
       "        return fig.key_event(event, event['data']);\n",
       "    }\n",
       "\n",
       "    canvas_div.keydown('key_press', canvas_keyboard_event);\n",
       "    canvas_div.keyup('key_release', canvas_keyboard_event);\n",
       "    this.canvas_div = canvas_div\n",
       "    this._canvas_extra_style(canvas_div)\n",
       "    this.root.append(canvas_div);\n",
       "\n",
       "    var canvas = $('<canvas/>');\n",
       "    canvas.addClass('mpl-canvas');\n",
       "    canvas.attr('style', \"left: 0; top: 0; z-index: 0; outline: 0\")\n",
       "\n",
       "    this.canvas = canvas[0];\n",
       "    this.context = canvas[0].getContext(\"2d\");\n",
       "\n",
       "    var backingStore = this.context.backingStorePixelRatio ||\n",
       "\tthis.context.webkitBackingStorePixelRatio ||\n",
       "\tthis.context.mozBackingStorePixelRatio ||\n",
       "\tthis.context.msBackingStorePixelRatio ||\n",
       "\tthis.context.oBackingStorePixelRatio ||\n",
       "\tthis.context.backingStorePixelRatio || 1;\n",
       "\n",
       "    mpl.ratio = (window.devicePixelRatio || 1) / backingStore;\n",
       "\n",
       "    var rubberband = $('<canvas/>');\n",
       "    rubberband.attr('style', \"position: absolute; left: 0; top: 0; z-index: 1;\")\n",
       "\n",
       "    var pass_mouse_events = true;\n",
       "\n",
       "    canvas_div.resizable({\n",
       "        start: function(event, ui) {\n",
       "            pass_mouse_events = false;\n",
       "        },\n",
       "        resize: function(event, ui) {\n",
       "            fig.request_resize(ui.size.width, ui.size.height);\n",
       "        },\n",
       "        stop: function(event, ui) {\n",
       "            pass_mouse_events = true;\n",
       "            fig.request_resize(ui.size.width, ui.size.height);\n",
       "        },\n",
       "    });\n",
       "\n",
       "    function mouse_event_fn(event) {\n",
       "        if (pass_mouse_events)\n",
       "            return fig.mouse_event(event, event['data']);\n",
       "    }\n",
       "\n",
       "    rubberband.mousedown('button_press', mouse_event_fn);\n",
       "    rubberband.mouseup('button_release', mouse_event_fn);\n",
       "    // Throttle sequential mouse events to 1 every 20ms.\n",
       "    rubberband.mousemove('motion_notify', mouse_event_fn);\n",
       "\n",
       "    rubberband.mouseenter('figure_enter', mouse_event_fn);\n",
       "    rubberband.mouseleave('figure_leave', mouse_event_fn);\n",
       "\n",
       "    canvas_div.on(\"wheel\", function (event) {\n",
       "        event = event.originalEvent;\n",
       "        event['data'] = 'scroll'\n",
       "        if (event.deltaY < 0) {\n",
       "            event.step = 1;\n",
       "        } else {\n",
       "            event.step = -1;\n",
       "        }\n",
       "        mouse_event_fn(event);\n",
       "    });\n",
       "\n",
       "    canvas_div.append(canvas);\n",
       "    canvas_div.append(rubberband);\n",
       "\n",
       "    this.rubberband = rubberband;\n",
       "    this.rubberband_canvas = rubberband[0];\n",
       "    this.rubberband_context = rubberband[0].getContext(\"2d\");\n",
       "    this.rubberband_context.strokeStyle = \"#000000\";\n",
       "\n",
       "    this._resize_canvas = function(width, height) {\n",
       "        // Keep the size of the canvas, canvas container, and rubber band\n",
       "        // canvas in synch.\n",
       "        canvas_div.css('width', width)\n",
       "        canvas_div.css('height', height)\n",
       "\n",
       "        canvas.attr('width', width * mpl.ratio);\n",
       "        canvas.attr('height', height * mpl.ratio);\n",
       "        canvas.attr('style', 'width: ' + width + 'px; height: ' + height + 'px;');\n",
       "\n",
       "        rubberband.attr('width', width);\n",
       "        rubberband.attr('height', height);\n",
       "    }\n",
       "\n",
       "    // Set the figure to an initial 600x600px, this will subsequently be updated\n",
       "    // upon first draw.\n",
       "    this._resize_canvas(600, 600);\n",
       "\n",
       "    // Disable right mouse context menu.\n",
       "    $(this.rubberband_canvas).bind(\"contextmenu\",function(e){\n",
       "        return false;\n",
       "    });\n",
       "\n",
       "    function set_focus () {\n",
       "        canvas.focus();\n",
       "        canvas_div.focus();\n",
       "    }\n",
       "\n",
       "    window.setTimeout(set_focus, 100);\n",
       "}\n",
       "\n",
       "mpl.figure.prototype._init_toolbar = function() {\n",
       "    var fig = this;\n",
       "\n",
       "    var nav_element = $('<div/>')\n",
       "    nav_element.attr('style', 'width: 100%');\n",
       "    this.root.append(nav_element);\n",
       "\n",
       "    // Define a callback function for later on.\n",
       "    function toolbar_event(event) {\n",
       "        return fig.toolbar_button_onclick(event['data']);\n",
       "    }\n",
       "    function toolbar_mouse_event(event) {\n",
       "        return fig.toolbar_button_onmouseover(event['data']);\n",
       "    }\n",
       "\n",
       "    for(var toolbar_ind in mpl.toolbar_items) {\n",
       "        var name = mpl.toolbar_items[toolbar_ind][0];\n",
       "        var tooltip = mpl.toolbar_items[toolbar_ind][1];\n",
       "        var image = mpl.toolbar_items[toolbar_ind][2];\n",
       "        var method_name = mpl.toolbar_items[toolbar_ind][3];\n",
       "\n",
       "        if (!name) {\n",
       "            // put a spacer in here.\n",
       "            continue;\n",
       "        }\n",
       "        var button = $('<button/>');\n",
       "        button.addClass('ui-button ui-widget ui-state-default ui-corner-all ' +\n",
       "                        'ui-button-icon-only');\n",
       "        button.attr('role', 'button');\n",
       "        button.attr('aria-disabled', 'false');\n",
       "        button.click(method_name, toolbar_event);\n",
       "        button.mouseover(tooltip, toolbar_mouse_event);\n",
       "\n",
       "        var icon_img = $('<span/>');\n",
       "        icon_img.addClass('ui-button-icon-primary ui-icon');\n",
       "        icon_img.addClass(image);\n",
       "        icon_img.addClass('ui-corner-all');\n",
       "\n",
       "        var tooltip_span = $('<span/>');\n",
       "        tooltip_span.addClass('ui-button-text');\n",
       "        tooltip_span.html(tooltip);\n",
       "\n",
       "        button.append(icon_img);\n",
       "        button.append(tooltip_span);\n",
       "\n",
       "        nav_element.append(button);\n",
       "    }\n",
       "\n",
       "    var fmt_picker_span = $('<span/>');\n",
       "\n",
       "    var fmt_picker = $('<select/>');\n",
       "    fmt_picker.addClass('mpl-toolbar-option ui-widget ui-widget-content');\n",
       "    fmt_picker_span.append(fmt_picker);\n",
       "    nav_element.append(fmt_picker_span);\n",
       "    this.format_dropdown = fmt_picker[0];\n",
       "\n",
       "    for (var ind in mpl.extensions) {\n",
       "        var fmt = mpl.extensions[ind];\n",
       "        var option = $(\n",
       "            '<option/>', {selected: fmt === mpl.default_extension}).html(fmt);\n",
       "        fmt_picker.append(option)\n",
       "    }\n",
       "\n",
       "    // Add hover states to the ui-buttons\n",
       "    $( \".ui-button\" ).hover(\n",
       "        function() { $(this).addClass(\"ui-state-hover\");},\n",
       "        function() { $(this).removeClass(\"ui-state-hover\");}\n",
       "    );\n",
       "\n",
       "    var status_bar = $('<span class=\"mpl-message\"/>');\n",
       "    nav_element.append(status_bar);\n",
       "    this.message = status_bar[0];\n",
       "}\n",
       "\n",
       "mpl.figure.prototype.request_resize = function(x_pixels, y_pixels) {\n",
       "    // Request matplotlib to resize the figure. Matplotlib will then trigger a resize in the client,\n",
       "    // which will in turn request a refresh of the image.\n",
       "    this.send_message('resize', {'width': x_pixels, 'height': y_pixels});\n",
       "}\n",
       "\n",
       "mpl.figure.prototype.send_message = function(type, properties) {\n",
       "    properties['type'] = type;\n",
       "    properties['figure_id'] = this.id;\n",
       "    this.ws.send(JSON.stringify(properties));\n",
       "}\n",
       "\n",
       "mpl.figure.prototype.send_draw_message = function() {\n",
       "    if (!this.waiting) {\n",
       "        this.waiting = true;\n",
       "        this.ws.send(JSON.stringify({type: \"draw\", figure_id: this.id}));\n",
       "    }\n",
       "}\n",
       "\n",
       "\n",
       "mpl.figure.prototype.handle_save = function(fig, msg) {\n",
       "    var format_dropdown = fig.format_dropdown;\n",
       "    var format = format_dropdown.options[format_dropdown.selectedIndex].value;\n",
       "    fig.ondownload(fig, format);\n",
       "}\n",
       "\n",
       "\n",
       "mpl.figure.prototype.handle_resize = function(fig, msg) {\n",
       "    var size = msg['size'];\n",
       "    if (size[0] != fig.canvas.width || size[1] != fig.canvas.height) {\n",
       "        fig._resize_canvas(size[0], size[1]);\n",
       "        fig.send_message(\"refresh\", {});\n",
       "    };\n",
       "}\n",
       "\n",
       "mpl.figure.prototype.handle_rubberband = function(fig, msg) {\n",
       "    var x0 = msg['x0'] / mpl.ratio;\n",
       "    var y0 = (fig.canvas.height - msg['y0']) / mpl.ratio;\n",
       "    var x1 = msg['x1'] / mpl.ratio;\n",
       "    var y1 = (fig.canvas.height - msg['y1']) / mpl.ratio;\n",
       "    x0 = Math.floor(x0) + 0.5;\n",
       "    y0 = Math.floor(y0) + 0.5;\n",
       "    x1 = Math.floor(x1) + 0.5;\n",
       "    y1 = Math.floor(y1) + 0.5;\n",
       "    var min_x = Math.min(x0, x1);\n",
       "    var min_y = Math.min(y0, y1);\n",
       "    var width = Math.abs(x1 - x0);\n",
       "    var height = Math.abs(y1 - y0);\n",
       "\n",
       "    fig.rubberband_context.clearRect(\n",
       "        0, 0, fig.canvas.width, fig.canvas.height);\n",
       "\n",
       "    fig.rubberband_context.strokeRect(min_x, min_y, width, height);\n",
       "}\n",
       "\n",
       "mpl.figure.prototype.handle_figure_label = function(fig, msg) {\n",
       "    // Updates the figure title.\n",
       "    fig.header.textContent = msg['label'];\n",
       "}\n",
       "\n",
       "mpl.figure.prototype.handle_cursor = function(fig, msg) {\n",
       "    var cursor = msg['cursor'];\n",
       "    switch(cursor)\n",
       "    {\n",
       "    case 0:\n",
       "        cursor = 'pointer';\n",
       "        break;\n",
       "    case 1:\n",
       "        cursor = 'default';\n",
       "        break;\n",
       "    case 2:\n",
       "        cursor = 'crosshair';\n",
       "        break;\n",
       "    case 3:\n",
       "        cursor = 'move';\n",
       "        break;\n",
       "    }\n",
       "    fig.rubberband_canvas.style.cursor = cursor;\n",
       "}\n",
       "\n",
       "mpl.figure.prototype.handle_message = function(fig, msg) {\n",
       "    fig.message.textContent = msg['message'];\n",
       "}\n",
       "\n",
       "mpl.figure.prototype.handle_draw = function(fig, msg) {\n",
       "    // Request the server to send over a new figure.\n",
       "    fig.send_draw_message();\n",
       "}\n",
       "\n",
       "mpl.figure.prototype.handle_image_mode = function(fig, msg) {\n",
       "    fig.image_mode = msg['mode'];\n",
       "}\n",
       "\n",
       "mpl.figure.prototype.updated_canvas_event = function() {\n",
       "    // Called whenever the canvas gets updated.\n",
       "    this.send_message(\"ack\", {});\n",
       "}\n",
       "\n",
       "// A function to construct a web socket function for onmessage handling.\n",
       "// Called in the figure constructor.\n",
       "mpl.figure.prototype._make_on_message_function = function(fig) {\n",
       "    return function socket_on_message(evt) {\n",
       "        if (evt.data instanceof Blob) {\n",
       "            /* FIXME: We get \"Resource interpreted as Image but\n",
       "             * transferred with MIME type text/plain:\" errors on\n",
       "             * Chrome.  But how to set the MIME type?  It doesn't seem\n",
       "             * to be part of the websocket stream */\n",
       "            evt.data.type = \"image/png\";\n",
       "\n",
       "            /* Free the memory for the previous frames */\n",
       "            if (fig.imageObj.src) {\n",
       "                (window.URL || window.webkitURL).revokeObjectURL(\n",
       "                    fig.imageObj.src);\n",
       "            }\n",
       "\n",
       "            fig.imageObj.src = (window.URL || window.webkitURL).createObjectURL(\n",
       "                evt.data);\n",
       "            fig.updated_canvas_event();\n",
       "            fig.waiting = false;\n",
       "            return;\n",
       "        }\n",
       "        else if (typeof evt.data === 'string' && evt.data.slice(0, 21) == \"data:image/png;base64\") {\n",
       "            fig.imageObj.src = evt.data;\n",
       "            fig.updated_canvas_event();\n",
       "            fig.waiting = false;\n",
       "            return;\n",
       "        }\n",
       "\n",
       "        var msg = JSON.parse(evt.data);\n",
       "        var msg_type = msg['type'];\n",
       "\n",
       "        // Call the  \"handle_{type}\" callback, which takes\n",
       "        // the figure and JSON message as its only arguments.\n",
       "        try {\n",
       "            var callback = fig[\"handle_\" + msg_type];\n",
       "        } catch (e) {\n",
       "            console.log(\"No handler for the '\" + msg_type + \"' message type: \", msg);\n",
       "            return;\n",
       "        }\n",
       "\n",
       "        if (callback) {\n",
       "            try {\n",
       "                // console.log(\"Handling '\" + msg_type + \"' message: \", msg);\n",
       "                callback(fig, msg);\n",
       "            } catch (e) {\n",
       "                console.log(\"Exception inside the 'handler_\" + msg_type + \"' callback:\", e, e.stack, msg);\n",
       "            }\n",
       "        }\n",
       "    };\n",
       "}\n",
       "\n",
       "// from http://stackoverflow.com/questions/1114465/getting-mouse-location-in-canvas\n",
       "mpl.findpos = function(e) {\n",
       "    //this section is from http://www.quirksmode.org/js/events_properties.html\n",
       "    var targ;\n",
       "    if (!e)\n",
       "        e = window.event;\n",
       "    if (e.target)\n",
       "        targ = e.target;\n",
       "    else if (e.srcElement)\n",
       "        targ = e.srcElement;\n",
       "    if (targ.nodeType == 3) // defeat Safari bug\n",
       "        targ = targ.parentNode;\n",
       "\n",
       "    // jQuery normalizes the pageX and pageY\n",
       "    // pageX,Y are the mouse positions relative to the document\n",
       "    // offset() returns the position of the element relative to the document\n",
       "    var x = e.pageX - $(targ).offset().left;\n",
       "    var y = e.pageY - $(targ).offset().top;\n",
       "\n",
       "    return {\"x\": x, \"y\": y};\n",
       "};\n",
       "\n",
       "/*\n",
       " * return a copy of an object with only non-object keys\n",
       " * we need this to avoid circular references\n",
       " * http://stackoverflow.com/a/24161582/3208463\n",
       " */\n",
       "function simpleKeys (original) {\n",
       "  return Object.keys(original).reduce(function (obj, key) {\n",
       "    if (typeof original[key] !== 'object')\n",
       "        obj[key] = original[key]\n",
       "    return obj;\n",
       "  }, {});\n",
       "}\n",
       "\n",
       "mpl.figure.prototype.mouse_event = function(event, name) {\n",
       "    var canvas_pos = mpl.findpos(event)\n",
       "\n",
       "    if (name === 'button_press')\n",
       "    {\n",
       "        this.canvas.focus();\n",
       "        this.canvas_div.focus();\n",
       "    }\n",
       "\n",
       "    var x = canvas_pos.x * mpl.ratio;\n",
       "    var y = canvas_pos.y * mpl.ratio;\n",
       "\n",
       "    this.send_message(name, {x: x, y: y, button: event.button,\n",
       "                             step: event.step,\n",
       "                             guiEvent: simpleKeys(event)});\n",
       "\n",
       "    /* This prevents the web browser from automatically changing to\n",
       "     * the text insertion cursor when the button is pressed.  We want\n",
       "     * to control all of the cursor setting manually through the\n",
       "     * 'cursor' event from matplotlib */\n",
       "    event.preventDefault();\n",
       "    return false;\n",
       "}\n",
       "\n",
       "mpl.figure.prototype._key_event_extra = function(event, name) {\n",
       "    // Handle any extra behaviour associated with a key event\n",
       "}\n",
       "\n",
       "mpl.figure.prototype.key_event = function(event, name) {\n",
       "\n",
       "    // Prevent repeat events\n",
       "    if (name == 'key_press')\n",
       "    {\n",
       "        if (event.which === this._key)\n",
       "            return;\n",
       "        else\n",
       "            this._key = event.which;\n",
       "    }\n",
       "    if (name == 'key_release')\n",
       "        this._key = null;\n",
       "\n",
       "    var value = '';\n",
       "    if (event.ctrlKey && event.which != 17)\n",
       "        value += \"ctrl+\";\n",
       "    if (event.altKey && event.which != 18)\n",
       "        value += \"alt+\";\n",
       "    if (event.shiftKey && event.which != 16)\n",
       "        value += \"shift+\";\n",
       "\n",
       "    value += 'k';\n",
       "    value += event.which.toString();\n",
       "\n",
       "    this._key_event_extra(event, name);\n",
       "\n",
       "    this.send_message(name, {key: value,\n",
       "                             guiEvent: simpleKeys(event)});\n",
       "    return false;\n",
       "}\n",
       "\n",
       "mpl.figure.prototype.toolbar_button_onclick = function(name) {\n",
       "    if (name == 'download') {\n",
       "        this.handle_save(this, null);\n",
       "    } else {\n",
       "        this.send_message(\"toolbar_button\", {name: name});\n",
       "    }\n",
       "};\n",
       "\n",
       "mpl.figure.prototype.toolbar_button_onmouseover = function(tooltip) {\n",
       "    this.message.textContent = tooltip;\n",
       "};\n",
       "mpl.toolbar_items = [[\"Home\", \"Reset original view\", \"fa fa-home icon-home\", \"home\"], [\"Back\", \"Back to  previous view\", \"fa fa-arrow-left icon-arrow-left\", \"back\"], [\"Forward\", \"Forward to next view\", \"fa fa-arrow-right icon-arrow-right\", \"forward\"], [\"\", \"\", \"\", \"\"], [\"Pan\", \"Pan axes with left mouse, zoom with right\", \"fa fa-arrows icon-move\", \"pan\"], [\"Zoom\", \"Zoom to rectangle\", \"fa fa-square-o icon-check-empty\", \"zoom\"], [\"\", \"\", \"\", \"\"], [\"Download\", \"Download plot\", \"fa fa-floppy-o icon-save\", \"download\"]];\n",
       "\n",
       "mpl.extensions = [\"eps\", \"jpeg\", \"pdf\", \"png\", \"ps\", \"raw\", \"svg\", \"tif\"];\n",
       "\n",
       "mpl.default_extension = \"png\";var comm_websocket_adapter = function(comm) {\n",
       "    // Create a \"websocket\"-like object which calls the given IPython comm\n",
       "    // object with the appropriate methods. Currently this is a non binary\n",
       "    // socket, so there is still some room for performance tuning.\n",
       "    var ws = {};\n",
       "\n",
       "    ws.close = function() {\n",
       "        comm.close()\n",
       "    };\n",
       "    ws.send = function(m) {\n",
       "        //console.log('sending', m);\n",
       "        comm.send(m);\n",
       "    };\n",
       "    // Register the callback with on_msg.\n",
       "    comm.on_msg(function(msg) {\n",
       "        //console.log('receiving', msg['content']['data'], msg);\n",
       "        // Pass the mpl event to the overridden (by mpl) onmessage function.\n",
       "        ws.onmessage(msg['content']['data'])\n",
       "    });\n",
       "    return ws;\n",
       "}\n",
       "\n",
       "mpl.mpl_figure_comm = function(comm, msg) {\n",
       "    // This is the function which gets called when the mpl process\n",
       "    // starts-up an IPython Comm through the \"matplotlib\" channel.\n",
       "\n",
       "    var id = msg.content.data.id;\n",
       "    // Get hold of the div created by the display call when the Comm\n",
       "    // socket was opened in Python.\n",
       "    var element = $(\"#\" + id);\n",
       "    var ws_proxy = comm_websocket_adapter(comm)\n",
       "\n",
       "    function ondownload(figure, format) {\n",
       "        window.open(figure.imageObj.src);\n",
       "    }\n",
       "\n",
       "    var fig = new mpl.figure(id, ws_proxy,\n",
       "                           ondownload,\n",
       "                           element.get(0));\n",
       "\n",
       "    // Call onopen now - mpl needs it, as it is assuming we've passed it a real\n",
       "    // web socket which is closed, not our websocket->open comm proxy.\n",
       "    ws_proxy.onopen();\n",
       "\n",
       "    fig.parent_element = element.get(0);\n",
       "    fig.cell_info = mpl.find_output_cell(\"<div id='\" + id + \"'></div>\");\n",
       "    if (!fig.cell_info) {\n",
       "        console.error(\"Failed to find cell for figure\", id, fig);\n",
       "        return;\n",
       "    }\n",
       "\n",
       "    var output_index = fig.cell_info[2]\n",
       "    var cell = fig.cell_info[0];\n",
       "\n",
       "};\n",
       "\n",
       "mpl.figure.prototype.handle_close = function(fig, msg) {\n",
       "    var width = fig.canvas.width/mpl.ratio\n",
       "    fig.root.unbind('remove')\n",
       "\n",
       "    // Update the output cell to use the data from the current canvas.\n",
       "    fig.push_to_output();\n",
       "    var dataURL = fig.canvas.toDataURL();\n",
       "    // Re-enable the keyboard manager in IPython - without this line, in FF,\n",
       "    // the notebook keyboard shortcuts fail.\n",
       "    IPython.keyboard_manager.enable()\n",
       "    $(fig.parent_element).html('<img src=\"' + dataURL + '\" width=\"' + width + '\">');\n",
       "    fig.close_ws(fig, msg);\n",
       "}\n",
       "\n",
       "mpl.figure.prototype.close_ws = function(fig, msg){\n",
       "    fig.send_message('closing', msg);\n",
       "    // fig.ws.close()\n",
       "}\n",
       "\n",
       "mpl.figure.prototype.push_to_output = function(remove_interactive) {\n",
       "    // Turn the data on the canvas into data in the output cell.\n",
       "    var width = this.canvas.width/mpl.ratio\n",
       "    var dataURL = this.canvas.toDataURL();\n",
       "    this.cell_info[1]['text/html'] = '<img src=\"' + dataURL + '\" width=\"' + width + '\">';\n",
       "}\n",
       "\n",
       "mpl.figure.prototype.updated_canvas_event = function() {\n",
       "    // Tell IPython that the notebook contents must change.\n",
       "    IPython.notebook.set_dirty(true);\n",
       "    this.send_message(\"ack\", {});\n",
       "    var fig = this;\n",
       "    // Wait a second, then push the new image to the DOM so\n",
       "    // that it is saved nicely (might be nice to debounce this).\n",
       "    setTimeout(function () { fig.push_to_output() }, 1000);\n",
       "}\n",
       "\n",
       "mpl.figure.prototype._init_toolbar = function() {\n",
       "    var fig = this;\n",
       "\n",
       "    var nav_element = $('<div/>')\n",
       "    nav_element.attr('style', 'width: 100%');\n",
       "    this.root.append(nav_element);\n",
       "\n",
       "    // Define a callback function for later on.\n",
       "    function toolbar_event(event) {\n",
       "        return fig.toolbar_button_onclick(event['data']);\n",
       "    }\n",
       "    function toolbar_mouse_event(event) {\n",
       "        return fig.toolbar_button_onmouseover(event['data']);\n",
       "    }\n",
       "\n",
       "    for(var toolbar_ind in mpl.toolbar_items){\n",
       "        var name = mpl.toolbar_items[toolbar_ind][0];\n",
       "        var tooltip = mpl.toolbar_items[toolbar_ind][1];\n",
       "        var image = mpl.toolbar_items[toolbar_ind][2];\n",
       "        var method_name = mpl.toolbar_items[toolbar_ind][3];\n",
       "\n",
       "        if (!name) { continue; };\n",
       "\n",
       "        var button = $('<button class=\"btn btn-default\" href=\"#\" title=\"' + name + '\"><i class=\"fa ' + image + ' fa-lg\"></i></button>');\n",
       "        button.click(method_name, toolbar_event);\n",
       "        button.mouseover(tooltip, toolbar_mouse_event);\n",
       "        nav_element.append(button);\n",
       "    }\n",
       "\n",
       "    // Add the status bar.\n",
       "    var status_bar = $('<span class=\"mpl-message\" style=\"text-align:right; float: right;\"/>');\n",
       "    nav_element.append(status_bar);\n",
       "    this.message = status_bar[0];\n",
       "\n",
       "    // Add the close button to the window.\n",
       "    var buttongrp = $('<div class=\"btn-group inline pull-right\"></div>');\n",
       "    var button = $('<button class=\"btn btn-mini btn-primary\" href=\"#\" title=\"Stop Interaction\"><i class=\"fa fa-power-off icon-remove icon-large\"></i></button>');\n",
       "    button.click(function (evt) { fig.handle_close(fig, {}); } );\n",
       "    button.mouseover('Stop Interaction', toolbar_mouse_event);\n",
       "    buttongrp.append(button);\n",
       "    var titlebar = this.root.find($('.ui-dialog-titlebar'));\n",
       "    titlebar.prepend(buttongrp);\n",
       "}\n",
       "\n",
       "mpl.figure.prototype._root_extra_style = function(el){\n",
       "    var fig = this\n",
       "    el.on(\"remove\", function(){\n",
       "\tfig.close_ws(fig, {});\n",
       "    });\n",
       "}\n",
       "\n",
       "mpl.figure.prototype._canvas_extra_style = function(el){\n",
       "    // this is important to make the div 'focusable\n",
       "    el.attr('tabindex', 0)\n",
       "    // reach out to IPython and tell the keyboard manager to turn it's self\n",
       "    // off when our div gets focus\n",
       "\n",
       "    // location in version 3\n",
       "    if (IPython.notebook.keyboard_manager) {\n",
       "        IPython.notebook.keyboard_manager.register_events(el);\n",
       "    }\n",
       "    else {\n",
       "        // location in version 2\n",
       "        IPython.keyboard_manager.register_events(el);\n",
       "    }\n",
       "\n",
       "}\n",
       "\n",
       "mpl.figure.prototype._key_event_extra = function(event, name) {\n",
       "    var manager = IPython.notebook.keyboard_manager;\n",
       "    if (!manager)\n",
       "        manager = IPython.keyboard_manager;\n",
       "\n",
       "    // Check for shift+enter\n",
       "    if (event.shiftKey && event.which == 13) {\n",
       "        this.canvas_div.blur();\n",
       "        event.shiftKey = false;\n",
       "        // Send a \"J\" for go to next cell\n",
       "        event.which = 74;\n",
       "        event.keyCode = 74;\n",
       "        manager.command_mode();\n",
       "        manager.handle_keydown(event);\n",
       "    }\n",
       "}\n",
       "\n",
       "mpl.figure.prototype.handle_save = function(fig, msg) {\n",
       "    fig.ondownload(fig, null);\n",
       "}\n",
       "\n",
       "\n",
       "mpl.find_output_cell = function(html_output) {\n",
       "    // Return the cell and output element which can be found *uniquely* in the notebook.\n",
       "    // Note - this is a bit hacky, but it is done because the \"notebook_saving.Notebook\"\n",
       "    // IPython event is triggered only after the cells have been serialised, which for\n",
       "    // our purposes (turning an active figure into a static one), is too late.\n",
       "    var cells = IPython.notebook.get_cells();\n",
       "    var ncells = cells.length;\n",
       "    for (var i=0; i<ncells; i++) {\n",
       "        var cell = cells[i];\n",
       "        if (cell.cell_type === 'code'){\n",
       "            for (var j=0; j<cell.output_area.outputs.length; j++) {\n",
       "                var data = cell.output_area.outputs[j];\n",
       "                if (data.data) {\n",
       "                    // IPython >= 3 moved mimebundle to data attribute of output\n",
       "                    data = data.data;\n",
       "                }\n",
       "                if (data['text/html'] == html_output) {\n",
       "                    return [cell, data, j];\n",
       "                }\n",
       "            }\n",
       "        }\n",
       "    }\n",
       "}\n",
       "\n",
       "// Register the function which deals with the matplotlib target/channel.\n",
       "// The kernel may be null if the page has been refreshed.\n",
       "if (IPython.notebook.kernel != null) {\n",
       "    IPython.notebook.kernel.comm_manager.register_target('matplotlib', mpl.mpl_figure_comm);\n",
       "}\n"
      ],
      "text/plain": [
       "<IPython.core.display.Javascript object>"
      ]
     },
     "metadata": {},
     "output_type": "display_data"
    },
    {
     "data": {
      "text/html": [
       "<img src=\"data:image/png;base64,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\" width=\"640\">"
      ],
      "text/plain": [
       "<IPython.core.display.HTML object>"
      ]
     },
     "metadata": {},
     "output_type": "display_data"
    },
    {
     "data": {
      "text/plain": [
       "<matplotlib.axes._subplots.AxesSubplot at 0x7fb1242a26d8>"
      ]
     },
     "execution_count": 28,
     "metadata": {},
     "output_type": "execute_result"
    }
   ],
   "source": [
    "df.groupby([\"n_workers\"]).mean()[[\"time\"]].plot()"
   ]
  },
  {
   "cell_type": "code",
   "execution_count": 29,
   "metadata": {},
   "outputs": [],
   "source": [
    "df2 = pd.merge(\n",
    "    df[df.stackheight == 4].groupby(\"n_workers\")[\"n_workers\", \"time\"].mean(),\n",
    "    df[df.stackheight == 8].groupby(\"n_workers\")[\"n_workers\", \"time\"].mean(),\n",
    "    on=\"n_workers\",\n",
    ")"
   ]
  },
  {
   "cell_type": "code",
   "execution_count": 30,
   "metadata": {},
   "outputs": [
    {
     "data": {
      "text/html": [
       "<div>\n",
       "<style scoped>\n",
       "    .dataframe tbody tr th:only-of-type {\n",
       "        vertical-align: middle;\n",
       "    }\n",
       "\n",
       "    .dataframe tbody tr th {\n",
       "        vertical-align: top;\n",
       "    }\n",
       "\n",
       "    .dataframe thead th {\n",
       "        text-align: right;\n",
       "    }\n",
       "</style>\n",
       "<table border=\"1\" class=\"dataframe\">\n",
       "  <thead>\n",
       "    <tr style=\"text-align: right;\">\n",
       "      <th></th>\n",
       "      <th>n_workers</th>\n",
       "      <th>time_x</th>\n",
       "      <th>time_y</th>\n",
       "    </tr>\n",
       "  </thead>\n",
       "  <tbody>\n",
       "    <tr>\n",
       "      <th>0</th>\n",
       "      <td>1</td>\n",
       "      <td>4.453551</td>\n",
       "      <td>3.681992</td>\n",
       "    </tr>\n",
       "    <tr>\n",
       "      <th>1</th>\n",
       "      <td>2</td>\n",
       "      <td>2.539447</td>\n",
       "      <td>2.109981</td>\n",
       "    </tr>\n",
       "    <tr>\n",
       "      <th>2</th>\n",
       "      <td>3</td>\n",
       "      <td>2.017684</td>\n",
       "      <td>1.814168</td>\n",
       "    </tr>\n",
       "    <tr>\n",
       "      <th>3</th>\n",
       "      <td>4</td>\n",
       "      <td>1.745492</td>\n",
       "      <td>1.563425</td>\n",
       "    </tr>\n",
       "    <tr>\n",
       "      <th>4</th>\n",
       "      <td>5</td>\n",
       "      <td>1.737665</td>\n",
       "      <td>1.641867</td>\n",
       "    </tr>\n",
       "    <tr>\n",
       "      <th>5</th>\n",
       "      <td>6</td>\n",
       "      <td>1.658920</td>\n",
       "      <td>1.593426</td>\n",
       "    </tr>\n",
       "    <tr>\n",
       "      <th>6</th>\n",
       "      <td>7</td>\n",
       "      <td>1.732919</td>\n",
       "      <td>1.691224</td>\n",
       "    </tr>\n",
       "    <tr>\n",
       "      <th>7</th>\n",
       "      <td>8</td>\n",
       "      <td>1.774129</td>\n",
       "      <td>1.703707</td>\n",
       "    </tr>\n",
       "  </tbody>\n",
       "</table>\n",
       "</div>"
      ],
      "text/plain": [
       "   n_workers    time_x    time_y\n",
       "0          1  4.453551  3.681992\n",
       "1          2  2.539447  2.109981\n",
       "2          3  2.017684  1.814168\n",
       "3          4  1.745492  1.563425\n",
       "4          5  1.737665  1.641867\n",
       "5          6  1.658920  1.593426\n",
       "6          7  1.732919  1.691224\n",
       "7          8  1.774129  1.703707"
      ]
     },
     "execution_count": 30,
     "metadata": {},
     "output_type": "execute_result"
    }
   ],
   "source": [
    "df2"
   ]
  },
  {
   "cell_type": "code",
   "execution_count": 31,
   "metadata": {},
   "outputs": [
    {
     "data": {
      "application/javascript": [
       "/* Put everything inside the global mpl namespace */\n",
       "window.mpl = {};\n",
       "\n",
       "\n",
       "mpl.get_websocket_type = function() {\n",
       "    if (typeof(WebSocket) !== 'undefined') {\n",
       "        return WebSocket;\n",
       "    } else if (typeof(MozWebSocket) !== 'undefined') {\n",
       "        return MozWebSocket;\n",
       "    } else {\n",
       "        alert('Your browser does not have WebSocket support.' +\n",
       "              'Please try Chrome, Safari or Firefox ≥ 6. ' +\n",
       "              'Firefox 4 and 5 are also supported but you ' +\n",
       "              'have to enable WebSockets in about:config.');\n",
       "    };\n",
       "}\n",
       "\n",
       "mpl.figure = function(figure_id, websocket, ondownload, parent_element) {\n",
       "    this.id = figure_id;\n",
       "\n",
       "    this.ws = websocket;\n",
       "\n",
       "    this.supports_binary = (this.ws.binaryType != undefined);\n",
       "\n",
       "    if (!this.supports_binary) {\n",
       "        var warnings = document.getElementById(\"mpl-warnings\");\n",
       "        if (warnings) {\n",
       "            warnings.style.display = 'block';\n",
       "            warnings.textContent = (\n",
       "                \"This browser does not support binary websocket messages. \" +\n",
       "                    \"Performance may be slow.\");\n",
       "        }\n",
       "    }\n",
       "\n",
       "    this.imageObj = new Image();\n",
       "\n",
       "    this.context = undefined;\n",
       "    this.message = undefined;\n",
       "    this.canvas = undefined;\n",
       "    this.rubberband_canvas = undefined;\n",
       "    this.rubberband_context = undefined;\n",
       "    this.format_dropdown = undefined;\n",
       "\n",
       "    this.image_mode = 'full';\n",
       "\n",
       "    this.root = $('<div/>');\n",
       "    this._root_extra_style(this.root)\n",
       "    this.root.attr('style', 'display: inline-block');\n",
       "\n",
       "    $(parent_element).append(this.root);\n",
       "\n",
       "    this._init_header(this);\n",
       "    this._init_canvas(this);\n",
       "    this._init_toolbar(this);\n",
       "\n",
       "    var fig = this;\n",
       "\n",
       "    this.waiting = false;\n",
       "\n",
       "    this.ws.onopen =  function () {\n",
       "            fig.send_message(\"supports_binary\", {value: fig.supports_binary});\n",
       "            fig.send_message(\"send_image_mode\", {});\n",
       "            if (mpl.ratio != 1) {\n",
       "                fig.send_message(\"set_dpi_ratio\", {'dpi_ratio': mpl.ratio});\n",
       "            }\n",
       "            fig.send_message(\"refresh\", {});\n",
       "        }\n",
       "\n",
       "    this.imageObj.onload = function() {\n",
       "            if (fig.image_mode == 'full') {\n",
       "                // Full images could contain transparency (where diff images\n",
       "                // almost always do), so we need to clear the canvas so that\n",
       "                // there is no ghosting.\n",
       "                fig.context.clearRect(0, 0, fig.canvas.width, fig.canvas.height);\n",
       "            }\n",
       "            fig.context.drawImage(fig.imageObj, 0, 0);\n",
       "        };\n",
       "\n",
       "    this.imageObj.onunload = function() {\n",
       "        fig.ws.close();\n",
       "    }\n",
       "\n",
       "    this.ws.onmessage = this._make_on_message_function(this);\n",
       "\n",
       "    this.ondownload = ondownload;\n",
       "}\n",
       "\n",
       "mpl.figure.prototype._init_header = function() {\n",
       "    var titlebar = $(\n",
       "        '<div class=\"ui-dialog-titlebar ui-widget-header ui-corner-all ' +\n",
       "        'ui-helper-clearfix\"/>');\n",
       "    var titletext = $(\n",
       "        '<div class=\"ui-dialog-title\" style=\"width: 100%; ' +\n",
       "        'text-align: center; padding: 3px;\"/>');\n",
       "    titlebar.append(titletext)\n",
       "    this.root.append(titlebar);\n",
       "    this.header = titletext[0];\n",
       "}\n",
       "\n",
       "\n",
       "\n",
       "mpl.figure.prototype._canvas_extra_style = function(canvas_div) {\n",
       "\n",
       "}\n",
       "\n",
       "\n",
       "mpl.figure.prototype._root_extra_style = function(canvas_div) {\n",
       "\n",
       "}\n",
       "\n",
       "mpl.figure.prototype._init_canvas = function() {\n",
       "    var fig = this;\n",
       "\n",
       "    var canvas_div = $('<div/>');\n",
       "\n",
       "    canvas_div.attr('style', 'position: relative; clear: both; outline: 0');\n",
       "\n",
       "    function canvas_keyboard_event(event) {\n",
       "        return fig.key_event(event, event['data']);\n",
       "    }\n",
       "\n",
       "    canvas_div.keydown('key_press', canvas_keyboard_event);\n",
       "    canvas_div.keyup('key_release', canvas_keyboard_event);\n",
       "    this.canvas_div = canvas_div\n",
       "    this._canvas_extra_style(canvas_div)\n",
       "    this.root.append(canvas_div);\n",
       "\n",
       "    var canvas = $('<canvas/>');\n",
       "    canvas.addClass('mpl-canvas');\n",
       "    canvas.attr('style', \"left: 0; top: 0; z-index: 0; outline: 0\")\n",
       "\n",
       "    this.canvas = canvas[0];\n",
       "    this.context = canvas[0].getContext(\"2d\");\n",
       "\n",
       "    var backingStore = this.context.backingStorePixelRatio ||\n",
       "\tthis.context.webkitBackingStorePixelRatio ||\n",
       "\tthis.context.mozBackingStorePixelRatio ||\n",
       "\tthis.context.msBackingStorePixelRatio ||\n",
       "\tthis.context.oBackingStorePixelRatio ||\n",
       "\tthis.context.backingStorePixelRatio || 1;\n",
       "\n",
       "    mpl.ratio = (window.devicePixelRatio || 1) / backingStore;\n",
       "\n",
       "    var rubberband = $('<canvas/>');\n",
       "    rubberband.attr('style', \"position: absolute; left: 0; top: 0; z-index: 1;\")\n",
       "\n",
       "    var pass_mouse_events = true;\n",
       "\n",
       "    canvas_div.resizable({\n",
       "        start: function(event, ui) {\n",
       "            pass_mouse_events = false;\n",
       "        },\n",
       "        resize: function(event, ui) {\n",
       "            fig.request_resize(ui.size.width, ui.size.height);\n",
       "        },\n",
       "        stop: function(event, ui) {\n",
       "            pass_mouse_events = true;\n",
       "            fig.request_resize(ui.size.width, ui.size.height);\n",
       "        },\n",
       "    });\n",
       "\n",
       "    function mouse_event_fn(event) {\n",
       "        if (pass_mouse_events)\n",
       "            return fig.mouse_event(event, event['data']);\n",
       "    }\n",
       "\n",
       "    rubberband.mousedown('button_press', mouse_event_fn);\n",
       "    rubberband.mouseup('button_release', mouse_event_fn);\n",
       "    // Throttle sequential mouse events to 1 every 20ms.\n",
       "    rubberband.mousemove('motion_notify', mouse_event_fn);\n",
       "\n",
       "    rubberband.mouseenter('figure_enter', mouse_event_fn);\n",
       "    rubberband.mouseleave('figure_leave', mouse_event_fn);\n",
       "\n",
       "    canvas_div.on(\"wheel\", function (event) {\n",
       "        event = event.originalEvent;\n",
       "        event['data'] = 'scroll'\n",
       "        if (event.deltaY < 0) {\n",
       "            event.step = 1;\n",
       "        } else {\n",
       "            event.step = -1;\n",
       "        }\n",
       "        mouse_event_fn(event);\n",
       "    });\n",
       "\n",
       "    canvas_div.append(canvas);\n",
       "    canvas_div.append(rubberband);\n",
       "\n",
       "    this.rubberband = rubberband;\n",
       "    this.rubberband_canvas = rubberband[0];\n",
       "    this.rubberband_context = rubberband[0].getContext(\"2d\");\n",
       "    this.rubberband_context.strokeStyle = \"#000000\";\n",
       "\n",
       "    this._resize_canvas = function(width, height) {\n",
       "        // Keep the size of the canvas, canvas container, and rubber band\n",
       "        // canvas in synch.\n",
       "        canvas_div.css('width', width)\n",
       "        canvas_div.css('height', height)\n",
       "\n",
       "        canvas.attr('width', width * mpl.ratio);\n",
       "        canvas.attr('height', height * mpl.ratio);\n",
       "        canvas.attr('style', 'width: ' + width + 'px; height: ' + height + 'px;');\n",
       "\n",
       "        rubberband.attr('width', width);\n",
       "        rubberband.attr('height', height);\n",
       "    }\n",
       "\n",
       "    // Set the figure to an initial 600x600px, this will subsequently be updated\n",
       "    // upon first draw.\n",
       "    this._resize_canvas(600, 600);\n",
       "\n",
       "    // Disable right mouse context menu.\n",
       "    $(this.rubberband_canvas).bind(\"contextmenu\",function(e){\n",
       "        return false;\n",
       "    });\n",
       "\n",
       "    function set_focus () {\n",
       "        canvas.focus();\n",
       "        canvas_div.focus();\n",
       "    }\n",
       "\n",
       "    window.setTimeout(set_focus, 100);\n",
       "}\n",
       "\n",
       "mpl.figure.prototype._init_toolbar = function() {\n",
       "    var fig = this;\n",
       "\n",
       "    var nav_element = $('<div/>')\n",
       "    nav_element.attr('style', 'width: 100%');\n",
       "    this.root.append(nav_element);\n",
       "\n",
       "    // Define a callback function for later on.\n",
       "    function toolbar_event(event) {\n",
       "        return fig.toolbar_button_onclick(event['data']);\n",
       "    }\n",
       "    function toolbar_mouse_event(event) {\n",
       "        return fig.toolbar_button_onmouseover(event['data']);\n",
       "    }\n",
       "\n",
       "    for(var toolbar_ind in mpl.toolbar_items) {\n",
       "        var name = mpl.toolbar_items[toolbar_ind][0];\n",
       "        var tooltip = mpl.toolbar_items[toolbar_ind][1];\n",
       "        var image = mpl.toolbar_items[toolbar_ind][2];\n",
       "        var method_name = mpl.toolbar_items[toolbar_ind][3];\n",
       "\n",
       "        if (!name) {\n",
       "            // put a spacer in here.\n",
       "            continue;\n",
       "        }\n",
       "        var button = $('<button/>');\n",
       "        button.addClass('ui-button ui-widget ui-state-default ui-corner-all ' +\n",
       "                        'ui-button-icon-only');\n",
       "        button.attr('role', 'button');\n",
       "        button.attr('aria-disabled', 'false');\n",
       "        button.click(method_name, toolbar_event);\n",
       "        button.mouseover(tooltip, toolbar_mouse_event);\n",
       "\n",
       "        var icon_img = $('<span/>');\n",
       "        icon_img.addClass('ui-button-icon-primary ui-icon');\n",
       "        icon_img.addClass(image);\n",
       "        icon_img.addClass('ui-corner-all');\n",
       "\n",
       "        var tooltip_span = $('<span/>');\n",
       "        tooltip_span.addClass('ui-button-text');\n",
       "        tooltip_span.html(tooltip);\n",
       "\n",
       "        button.append(icon_img);\n",
       "        button.append(tooltip_span);\n",
       "\n",
       "        nav_element.append(button);\n",
       "    }\n",
       "\n",
       "    var fmt_picker_span = $('<span/>');\n",
       "\n",
       "    var fmt_picker = $('<select/>');\n",
       "    fmt_picker.addClass('mpl-toolbar-option ui-widget ui-widget-content');\n",
       "    fmt_picker_span.append(fmt_picker);\n",
       "    nav_element.append(fmt_picker_span);\n",
       "    this.format_dropdown = fmt_picker[0];\n",
       "\n",
       "    for (var ind in mpl.extensions) {\n",
       "        var fmt = mpl.extensions[ind];\n",
       "        var option = $(\n",
       "            '<option/>', {selected: fmt === mpl.default_extension}).html(fmt);\n",
       "        fmt_picker.append(option)\n",
       "    }\n",
       "\n",
       "    // Add hover states to the ui-buttons\n",
       "    $( \".ui-button\" ).hover(\n",
       "        function() { $(this).addClass(\"ui-state-hover\");},\n",
       "        function() { $(this).removeClass(\"ui-state-hover\");}\n",
       "    );\n",
       "\n",
       "    var status_bar = $('<span class=\"mpl-message\"/>');\n",
       "    nav_element.append(status_bar);\n",
       "    this.message = status_bar[0];\n",
       "}\n",
       "\n",
       "mpl.figure.prototype.request_resize = function(x_pixels, y_pixels) {\n",
       "    // Request matplotlib to resize the figure. Matplotlib will then trigger a resize in the client,\n",
       "    // which will in turn request a refresh of the image.\n",
       "    this.send_message('resize', {'width': x_pixels, 'height': y_pixels});\n",
       "}\n",
       "\n",
       "mpl.figure.prototype.send_message = function(type, properties) {\n",
       "    properties['type'] = type;\n",
       "    properties['figure_id'] = this.id;\n",
       "    this.ws.send(JSON.stringify(properties));\n",
       "}\n",
       "\n",
       "mpl.figure.prototype.send_draw_message = function() {\n",
       "    if (!this.waiting) {\n",
       "        this.waiting = true;\n",
       "        this.ws.send(JSON.stringify({type: \"draw\", figure_id: this.id}));\n",
       "    }\n",
       "}\n",
       "\n",
       "\n",
       "mpl.figure.prototype.handle_save = function(fig, msg) {\n",
       "    var format_dropdown = fig.format_dropdown;\n",
       "    var format = format_dropdown.options[format_dropdown.selectedIndex].value;\n",
       "    fig.ondownload(fig, format);\n",
       "}\n",
       "\n",
       "\n",
       "mpl.figure.prototype.handle_resize = function(fig, msg) {\n",
       "    var size = msg['size'];\n",
       "    if (size[0] != fig.canvas.width || size[1] != fig.canvas.height) {\n",
       "        fig._resize_canvas(size[0], size[1]);\n",
       "        fig.send_message(\"refresh\", {});\n",
       "    };\n",
       "}\n",
       "\n",
       "mpl.figure.prototype.handle_rubberband = function(fig, msg) {\n",
       "    var x0 = msg['x0'] / mpl.ratio;\n",
       "    var y0 = (fig.canvas.height - msg['y0']) / mpl.ratio;\n",
       "    var x1 = msg['x1'] / mpl.ratio;\n",
       "    var y1 = (fig.canvas.height - msg['y1']) / mpl.ratio;\n",
       "    x0 = Math.floor(x0) + 0.5;\n",
       "    y0 = Math.floor(y0) + 0.5;\n",
       "    x1 = Math.floor(x1) + 0.5;\n",
       "    y1 = Math.floor(y1) + 0.5;\n",
       "    var min_x = Math.min(x0, x1);\n",
       "    var min_y = Math.min(y0, y1);\n",
       "    var width = Math.abs(x1 - x0);\n",
       "    var height = Math.abs(y1 - y0);\n",
       "\n",
       "    fig.rubberband_context.clearRect(\n",
       "        0, 0, fig.canvas.width, fig.canvas.height);\n",
       "\n",
       "    fig.rubberband_context.strokeRect(min_x, min_y, width, height);\n",
       "}\n",
       "\n",
       "mpl.figure.prototype.handle_figure_label = function(fig, msg) {\n",
       "    // Updates the figure title.\n",
       "    fig.header.textContent = msg['label'];\n",
       "}\n",
       "\n",
       "mpl.figure.prototype.handle_cursor = function(fig, msg) {\n",
       "    var cursor = msg['cursor'];\n",
       "    switch(cursor)\n",
       "    {\n",
       "    case 0:\n",
       "        cursor = 'pointer';\n",
       "        break;\n",
       "    case 1:\n",
       "        cursor = 'default';\n",
       "        break;\n",
       "    case 2:\n",
       "        cursor = 'crosshair';\n",
       "        break;\n",
       "    case 3:\n",
       "        cursor = 'move';\n",
       "        break;\n",
       "    }\n",
       "    fig.rubberband_canvas.style.cursor = cursor;\n",
       "}\n",
       "\n",
       "mpl.figure.prototype.handle_message = function(fig, msg) {\n",
       "    fig.message.textContent = msg['message'];\n",
       "}\n",
       "\n",
       "mpl.figure.prototype.handle_draw = function(fig, msg) {\n",
       "    // Request the server to send over a new figure.\n",
       "    fig.send_draw_message();\n",
       "}\n",
       "\n",
       "mpl.figure.prototype.handle_image_mode = function(fig, msg) {\n",
       "    fig.image_mode = msg['mode'];\n",
       "}\n",
       "\n",
       "mpl.figure.prototype.updated_canvas_event = function() {\n",
       "    // Called whenever the canvas gets updated.\n",
       "    this.send_message(\"ack\", {});\n",
       "}\n",
       "\n",
       "// A function to construct a web socket function for onmessage handling.\n",
       "// Called in the figure constructor.\n",
       "mpl.figure.prototype._make_on_message_function = function(fig) {\n",
       "    return function socket_on_message(evt) {\n",
       "        if (evt.data instanceof Blob) {\n",
       "            /* FIXME: We get \"Resource interpreted as Image but\n",
       "             * transferred with MIME type text/plain:\" errors on\n",
       "             * Chrome.  But how to set the MIME type?  It doesn't seem\n",
       "             * to be part of the websocket stream */\n",
       "            evt.data.type = \"image/png\";\n",
       "\n",
       "            /* Free the memory for the previous frames */\n",
       "            if (fig.imageObj.src) {\n",
       "                (window.URL || window.webkitURL).revokeObjectURL(\n",
       "                    fig.imageObj.src);\n",
       "            }\n",
       "\n",
       "            fig.imageObj.src = (window.URL || window.webkitURL).createObjectURL(\n",
       "                evt.data);\n",
       "            fig.updated_canvas_event();\n",
       "            fig.waiting = false;\n",
       "            return;\n",
       "        }\n",
       "        else if (typeof evt.data === 'string' && evt.data.slice(0, 21) == \"data:image/png;base64\") {\n",
       "            fig.imageObj.src = evt.data;\n",
       "            fig.updated_canvas_event();\n",
       "            fig.waiting = false;\n",
       "            return;\n",
       "        }\n",
       "\n",
       "        var msg = JSON.parse(evt.data);\n",
       "        var msg_type = msg['type'];\n",
       "\n",
       "        // Call the  \"handle_{type}\" callback, which takes\n",
       "        // the figure and JSON message as its only arguments.\n",
       "        try {\n",
       "            var callback = fig[\"handle_\" + msg_type];\n",
       "        } catch (e) {\n",
       "            console.log(\"No handler for the '\" + msg_type + \"' message type: \", msg);\n",
       "            return;\n",
       "        }\n",
       "\n",
       "        if (callback) {\n",
       "            try {\n",
       "                // console.log(\"Handling '\" + msg_type + \"' message: \", msg);\n",
       "                callback(fig, msg);\n",
       "            } catch (e) {\n",
       "                console.log(\"Exception inside the 'handler_\" + msg_type + \"' callback:\", e, e.stack, msg);\n",
       "            }\n",
       "        }\n",
       "    };\n",
       "}\n",
       "\n",
       "// from http://stackoverflow.com/questions/1114465/getting-mouse-location-in-canvas\n",
       "mpl.findpos = function(e) {\n",
       "    //this section is from http://www.quirksmode.org/js/events_properties.html\n",
       "    var targ;\n",
       "    if (!e)\n",
       "        e = window.event;\n",
       "    if (e.target)\n",
       "        targ = e.target;\n",
       "    else if (e.srcElement)\n",
       "        targ = e.srcElement;\n",
       "    if (targ.nodeType == 3) // defeat Safari bug\n",
       "        targ = targ.parentNode;\n",
       "\n",
       "    // jQuery normalizes the pageX and pageY\n",
       "    // pageX,Y are the mouse positions relative to the document\n",
       "    // offset() returns the position of the element relative to the document\n",
       "    var x = e.pageX - $(targ).offset().left;\n",
       "    var y = e.pageY - $(targ).offset().top;\n",
       "\n",
       "    return {\"x\": x, \"y\": y};\n",
       "};\n",
       "\n",
       "/*\n",
       " * return a copy of an object with only non-object keys\n",
       " * we need this to avoid circular references\n",
       " * http://stackoverflow.com/a/24161582/3208463\n",
       " */\n",
       "function simpleKeys (original) {\n",
       "  return Object.keys(original).reduce(function (obj, key) {\n",
       "    if (typeof original[key] !== 'object')\n",
       "        obj[key] = original[key]\n",
       "    return obj;\n",
       "  }, {});\n",
       "}\n",
       "\n",
       "mpl.figure.prototype.mouse_event = function(event, name) {\n",
       "    var canvas_pos = mpl.findpos(event)\n",
       "\n",
       "    if (name === 'button_press')\n",
       "    {\n",
       "        this.canvas.focus();\n",
       "        this.canvas_div.focus();\n",
       "    }\n",
       "\n",
       "    var x = canvas_pos.x * mpl.ratio;\n",
       "    var y = canvas_pos.y * mpl.ratio;\n",
       "\n",
       "    this.send_message(name, {x: x, y: y, button: event.button,\n",
       "                             step: event.step,\n",
       "                             guiEvent: simpleKeys(event)});\n",
       "\n",
       "    /* This prevents the web browser from automatically changing to\n",
       "     * the text insertion cursor when the button is pressed.  We want\n",
       "     * to control all of the cursor setting manually through the\n",
       "     * 'cursor' event from matplotlib */\n",
       "    event.preventDefault();\n",
       "    return false;\n",
       "}\n",
       "\n",
       "mpl.figure.prototype._key_event_extra = function(event, name) {\n",
       "    // Handle any extra behaviour associated with a key event\n",
       "}\n",
       "\n",
       "mpl.figure.prototype.key_event = function(event, name) {\n",
       "\n",
       "    // Prevent repeat events\n",
       "    if (name == 'key_press')\n",
       "    {\n",
       "        if (event.which === this._key)\n",
       "            return;\n",
       "        else\n",
       "            this._key = event.which;\n",
       "    }\n",
       "    if (name == 'key_release')\n",
       "        this._key = null;\n",
       "\n",
       "    var value = '';\n",
       "    if (event.ctrlKey && event.which != 17)\n",
       "        value += \"ctrl+\";\n",
       "    if (event.altKey && event.which != 18)\n",
       "        value += \"alt+\";\n",
       "    if (event.shiftKey && event.which != 16)\n",
       "        value += \"shift+\";\n",
       "\n",
       "    value += 'k';\n",
       "    value += event.which.toString();\n",
       "\n",
       "    this._key_event_extra(event, name);\n",
       "\n",
       "    this.send_message(name, {key: value,\n",
       "                             guiEvent: simpleKeys(event)});\n",
       "    return false;\n",
       "}\n",
       "\n",
       "mpl.figure.prototype.toolbar_button_onclick = function(name) {\n",
       "    if (name == 'download') {\n",
       "        this.handle_save(this, null);\n",
       "    } else {\n",
       "        this.send_message(\"toolbar_button\", {name: name});\n",
       "    }\n",
       "};\n",
       "\n",
       "mpl.figure.prototype.toolbar_button_onmouseover = function(tooltip) {\n",
       "    this.message.textContent = tooltip;\n",
       "};\n",
       "mpl.toolbar_items = [[\"Home\", \"Reset original view\", \"fa fa-home icon-home\", \"home\"], [\"Back\", \"Back to  previous view\", \"fa fa-arrow-left icon-arrow-left\", \"back\"], [\"Forward\", \"Forward to next view\", \"fa fa-arrow-right icon-arrow-right\", \"forward\"], [\"\", \"\", \"\", \"\"], [\"Pan\", \"Pan axes with left mouse, zoom with right\", \"fa fa-arrows icon-move\", \"pan\"], [\"Zoom\", \"Zoom to rectangle\", \"fa fa-square-o icon-check-empty\", \"zoom\"], [\"\", \"\", \"\", \"\"], [\"Download\", \"Download plot\", \"fa fa-floppy-o icon-save\", \"download\"]];\n",
       "\n",
       "mpl.extensions = [\"eps\", \"jpeg\", \"pdf\", \"png\", \"ps\", \"raw\", \"svg\", \"tif\"];\n",
       "\n",
       "mpl.default_extension = \"png\";var comm_websocket_adapter = function(comm) {\n",
       "    // Create a \"websocket\"-like object which calls the given IPython comm\n",
       "    // object with the appropriate methods. Currently this is a non binary\n",
       "    // socket, so there is still some room for performance tuning.\n",
       "    var ws = {};\n",
       "\n",
       "    ws.close = function() {\n",
       "        comm.close()\n",
       "    };\n",
       "    ws.send = function(m) {\n",
       "        //console.log('sending', m);\n",
       "        comm.send(m);\n",
       "    };\n",
       "    // Register the callback with on_msg.\n",
       "    comm.on_msg(function(msg) {\n",
       "        //console.log('receiving', msg['content']['data'], msg);\n",
       "        // Pass the mpl event to the overridden (by mpl) onmessage function.\n",
       "        ws.onmessage(msg['content']['data'])\n",
       "    });\n",
       "    return ws;\n",
       "}\n",
       "\n",
       "mpl.mpl_figure_comm = function(comm, msg) {\n",
       "    // This is the function which gets called when the mpl process\n",
       "    // starts-up an IPython Comm through the \"matplotlib\" channel.\n",
       "\n",
       "    var id = msg.content.data.id;\n",
       "    // Get hold of the div created by the display call when the Comm\n",
       "    // socket was opened in Python.\n",
       "    var element = $(\"#\" + id);\n",
       "    var ws_proxy = comm_websocket_adapter(comm)\n",
       "\n",
       "    function ondownload(figure, format) {\n",
       "        window.open(figure.imageObj.src);\n",
       "    }\n",
       "\n",
       "    var fig = new mpl.figure(id, ws_proxy,\n",
       "                           ondownload,\n",
       "                           element.get(0));\n",
       "\n",
       "    // Call onopen now - mpl needs it, as it is assuming we've passed it a real\n",
       "    // web socket which is closed, not our websocket->open comm proxy.\n",
       "    ws_proxy.onopen();\n",
       "\n",
       "    fig.parent_element = element.get(0);\n",
       "    fig.cell_info = mpl.find_output_cell(\"<div id='\" + id + \"'></div>\");\n",
       "    if (!fig.cell_info) {\n",
       "        console.error(\"Failed to find cell for figure\", id, fig);\n",
       "        return;\n",
       "    }\n",
       "\n",
       "    var output_index = fig.cell_info[2]\n",
       "    var cell = fig.cell_info[0];\n",
       "\n",
       "};\n",
       "\n",
       "mpl.figure.prototype.handle_close = function(fig, msg) {\n",
       "    var width = fig.canvas.width/mpl.ratio\n",
       "    fig.root.unbind('remove')\n",
       "\n",
       "    // Update the output cell to use the data from the current canvas.\n",
       "    fig.push_to_output();\n",
       "    var dataURL = fig.canvas.toDataURL();\n",
       "    // Re-enable the keyboard manager in IPython - without this line, in FF,\n",
       "    // the notebook keyboard shortcuts fail.\n",
       "    IPython.keyboard_manager.enable()\n",
       "    $(fig.parent_element).html('<img src=\"' + dataURL + '\" width=\"' + width + '\">');\n",
       "    fig.close_ws(fig, msg);\n",
       "}\n",
       "\n",
       "mpl.figure.prototype.close_ws = function(fig, msg){\n",
       "    fig.send_message('closing', msg);\n",
       "    // fig.ws.close()\n",
       "}\n",
       "\n",
       "mpl.figure.prototype.push_to_output = function(remove_interactive) {\n",
       "    // Turn the data on the canvas into data in the output cell.\n",
       "    var width = this.canvas.width/mpl.ratio\n",
       "    var dataURL = this.canvas.toDataURL();\n",
       "    this.cell_info[1]['text/html'] = '<img src=\"' + dataURL + '\" width=\"' + width + '\">';\n",
       "}\n",
       "\n",
       "mpl.figure.prototype.updated_canvas_event = function() {\n",
       "    // Tell IPython that the notebook contents must change.\n",
       "    IPython.notebook.set_dirty(true);\n",
       "    this.send_message(\"ack\", {});\n",
       "    var fig = this;\n",
       "    // Wait a second, then push the new image to the DOM so\n",
       "    // that it is saved nicely (might be nice to debounce this).\n",
       "    setTimeout(function () { fig.push_to_output() }, 1000);\n",
       "}\n",
       "\n",
       "mpl.figure.prototype._init_toolbar = function() {\n",
       "    var fig = this;\n",
       "\n",
       "    var nav_element = $('<div/>')\n",
       "    nav_element.attr('style', 'width: 100%');\n",
       "    this.root.append(nav_element);\n",
       "\n",
       "    // Define a callback function for later on.\n",
       "    function toolbar_event(event) {\n",
       "        return fig.toolbar_button_onclick(event['data']);\n",
       "    }\n",
       "    function toolbar_mouse_event(event) {\n",
       "        return fig.toolbar_button_onmouseover(event['data']);\n",
       "    }\n",
       "\n",
       "    for(var toolbar_ind in mpl.toolbar_items){\n",
       "        var name = mpl.toolbar_items[toolbar_ind][0];\n",
       "        var tooltip = mpl.toolbar_items[toolbar_ind][1];\n",
       "        var image = mpl.toolbar_items[toolbar_ind][2];\n",
       "        var method_name = mpl.toolbar_items[toolbar_ind][3];\n",
       "\n",
       "        if (!name) { continue; };\n",
       "\n",
       "        var button = $('<button class=\"btn btn-default\" href=\"#\" title=\"' + name + '\"><i class=\"fa ' + image + ' fa-lg\"></i></button>');\n",
       "        button.click(method_name, toolbar_event);\n",
       "        button.mouseover(tooltip, toolbar_mouse_event);\n",
       "        nav_element.append(button);\n",
       "    }\n",
       "\n",
       "    // Add the status bar.\n",
       "    var status_bar = $('<span class=\"mpl-message\" style=\"text-align:right; float: right;\"/>');\n",
       "    nav_element.append(status_bar);\n",
       "    this.message = status_bar[0];\n",
       "\n",
       "    // Add the close button to the window.\n",
       "    var buttongrp = $('<div class=\"btn-group inline pull-right\"></div>');\n",
       "    var button = $('<button class=\"btn btn-mini btn-primary\" href=\"#\" title=\"Stop Interaction\"><i class=\"fa fa-power-off icon-remove icon-large\"></i></button>');\n",
       "    button.click(function (evt) { fig.handle_close(fig, {}); } );\n",
       "    button.mouseover('Stop Interaction', toolbar_mouse_event);\n",
       "    buttongrp.append(button);\n",
       "    var titlebar = this.root.find($('.ui-dialog-titlebar'));\n",
       "    titlebar.prepend(buttongrp);\n",
       "}\n",
       "\n",
       "mpl.figure.prototype._root_extra_style = function(el){\n",
       "    var fig = this\n",
       "    el.on(\"remove\", function(){\n",
       "\tfig.close_ws(fig, {});\n",
       "    });\n",
       "}\n",
       "\n",
       "mpl.figure.prototype._canvas_extra_style = function(el){\n",
       "    // this is important to make the div 'focusable\n",
       "    el.attr('tabindex', 0)\n",
       "    // reach out to IPython and tell the keyboard manager to turn it's self\n",
       "    // off when our div gets focus\n",
       "\n",
       "    // location in version 3\n",
       "    if (IPython.notebook.keyboard_manager) {\n",
       "        IPython.notebook.keyboard_manager.register_events(el);\n",
       "    }\n",
       "    else {\n",
       "        // location in version 2\n",
       "        IPython.keyboard_manager.register_events(el);\n",
       "    }\n",
       "\n",
       "}\n",
       "\n",
       "mpl.figure.prototype._key_event_extra = function(event, name) {\n",
       "    var manager = IPython.notebook.keyboard_manager;\n",
       "    if (!manager)\n",
       "        manager = IPython.keyboard_manager;\n",
       "\n",
       "    // Check for shift+enter\n",
       "    if (event.shiftKey && event.which == 13) {\n",
       "        this.canvas_div.blur();\n",
       "        event.shiftKey = false;\n",
       "        // Send a \"J\" for go to next cell\n",
       "        event.which = 74;\n",
       "        event.keyCode = 74;\n",
       "        manager.command_mode();\n",
       "        manager.handle_keydown(event);\n",
       "    }\n",
       "}\n",
       "\n",
       "mpl.figure.prototype.handle_save = function(fig, msg) {\n",
       "    fig.ondownload(fig, null);\n",
       "}\n",
       "\n",
       "\n",
       "mpl.find_output_cell = function(html_output) {\n",
       "    // Return the cell and output element which can be found *uniquely* in the notebook.\n",
       "    // Note - this is a bit hacky, but it is done because the \"notebook_saving.Notebook\"\n",
       "    // IPython event is triggered only after the cells have been serialised, which for\n",
       "    // our purposes (turning an active figure into a static one), is too late.\n",
       "    var cells = IPython.notebook.get_cells();\n",
       "    var ncells = cells.length;\n",
       "    for (var i=0; i<ncells; i++) {\n",
       "        var cell = cells[i];\n",
       "        if (cell.cell_type === 'code'){\n",
       "            for (var j=0; j<cell.output_area.outputs.length; j++) {\n",
       "                var data = cell.output_area.outputs[j];\n",
       "                if (data.data) {\n",
       "                    // IPython >= 3 moved mimebundle to data attribute of output\n",
       "                    data = data.data;\n",
       "                }\n",
       "                if (data['text/html'] == html_output) {\n",
       "                    return [cell, data, j];\n",
       "                }\n",
       "            }\n",
       "        }\n",
       "    }\n",
       "}\n",
       "\n",
       "// Register the function which deals with the matplotlib target/channel.\n",
       "// The kernel may be null if the page has been refreshed.\n",
       "if (IPython.notebook.kernel != null) {\n",
       "    IPython.notebook.kernel.comm_manager.register_target('matplotlib', mpl.mpl_figure_comm);\n",
       "}\n"
      ],
      "text/plain": [
       "<IPython.core.display.Javascript object>"
      ]
     },
     "metadata": {},
     "output_type": "display_data"
    },
    {
     "data": {
      "text/html": [
       "<img src=\"data:image/png;base64,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\" width=\"640\">"
      ],
      "text/plain": [
       "<IPython.core.display.HTML object>"
      ]
     },
     "metadata": {},
     "output_type": "display_data"
    },
    {
     "data": {
      "text/plain": [
       "<matplotlib.axes._subplots.AxesSubplot at 0x7fb1243d6470>"
      ]
     },
     "execution_count": 31,
     "metadata": {},
     "output_type": "execute_result"
    }
   ],
   "source": [
    "df2.set_index('n_workers').plot()"
   ]
  },
  {
   "cell_type": "code",
   "execution_count": 32,
   "metadata": {},
   "outputs": [
    {
     "data": {
      "text/plain": [
       "240"
      ]
     },
     "execution_count": 32,
     "metadata": {},
     "output_type": "execute_result"
    }
   ],
   "source": [
    "len(results)"
   ]
  }
 ],
 "metadata": {
  "kernelspec": {
   "display_name": "Python 3",
   "language": "python",
   "name": "python3"
  },
  "language_info": {
   "codemirror_mode": {
    "name": "ipython",
    "version": 3
   },
   "file_extension": ".py",
   "mimetype": "text/x-python",
   "name": "python",
   "nbconvert_exporter": "python",
   "pygments_lexer": "ipython3",
   "version": "3.6.5"
  }
 },
 "nbformat": 4,
 "nbformat_minor": 2
}
